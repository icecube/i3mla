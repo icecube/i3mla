{
 "cells": [
  {
   "cell_type": "markdown",
   "id": "446fef16-6cdd-4878-824c-aac746fc8d1a",
   "metadata": {},
   "source": [
    "## Simple point source analysis in 3ML+i3mla for IceCube"
   ]
  },
  {
   "cell_type": "markdown",
   "id": "4d7fb4ee-3cae-4d87-85f3-4fe04e03ac81",
   "metadata": {},
   "source": [
    "Step 0 . If you are on cvmfs, run \\\n",
    "eval $(/cvmfs/icecube.opensciencegrid.org/py3-v4.2.1//setup.sh)\\\n",
    "pip install --user --upgrade importlib-metadata==6.0.0\\\n",
    "python -m pip install --user git+https://github.com/threeML/threeML.git@v2.4.0 \\\n",
    "python -m pip install --user git+https://github.com/icecube/i3mla.git@v1p4 \\\n",
    "to setup the environment"
   ]
  },
  {
   "cell_type": "markdown",
   "id": "8e452af9-b996-414e-9375-27d635104107",
   "metadata": {},
   "source": [
    "### Import the needed package"
   ]
  },
  {
   "cell_type": "markdown",
   "id": "ec91f220-1161-4f19-b708-70420d99e229",
   "metadata": {},
   "source": [
    "For this PS analysis, we will need numpy, threeML, astromodels and i3mla"
   ]
  },
  {
   "cell_type": "code",
   "execution_count": 1,
   "id": "29d45e4a-69bf-446a-90d6-4aac3d6f8c34",
   "metadata": {},
   "outputs": [
    {
     "name": "stderr",
     "output_type": "stream",
     "text": [
      "<frozen importlib._bootstrap>:228: RuntimeWarning: scipy._lib.messagestream.MessageStream size changed, may indicate binary incompatibility. Expected 56 from C header, got 64 from PyObject\n"
     ]
    },
    {
     "name": "stdout",
     "output_type": "stream",
     "text": [
      "Welcome to JupyROOT 6.24/06\n"
     ]
    },
    {
     "data": {
      "text/html": [
       "<pre style=\"white-space:pre;overflow-x:auto;line-height:normal;font-family:Menlo,'DejaVu Sans Mono',consolas,'Courier New',monospace\"><span style=\"color: #00ff00; text-decoration-color: #00ff00\">11:15:24 </span><span style=\"color: #af5fd7; text-decoration-color: #af5fd7\">WARNING </span> <span style=\"color: #c6c6c6; text-decoration-color: #c6c6c6; font-weight: bold\"> The naima package is not available. Models that depend on it will not be         </span><a href=\"file:///data/disk01/home/jasonfan/miniconda3/envs/mladev/lib/python3.9/site-packages/astromodels/functions/functions_1D/functions.py\" target=\"_blank\"><span style=\"color: #7f7f7f; text-decoration-color: #7f7f7f\">functions.py</span></a><span style=\"color: #7f7f7f; text-decoration-color: #7f7f7f\">:</span><a href=\"file:///data/disk01/home/jasonfan/miniconda3/envs/mladev/lib/python3.9/site-packages/astromodels/functions/functions_1D/functions.py#50\" target=\"_blank\"><span style=\"color: #7f7f7f; text-decoration-color: #7f7f7f\">50</span></a>\n",
       "<span style=\"color: #00ff00; text-decoration-color: #00ff00\">         </span>         <span style=\"color: #c6c6c6; text-decoration-color: #c6c6c6; font-weight: bold\">available                                                                         </span><span style=\"color: #7f7f7f; text-decoration-color: #7f7f7f\">               </span>\n",
       "</pre>\n"
      ],
      "text/plain": [
       "\u001b[38;5;46m11:15:24\u001b[0m\u001b[38;5;46m \u001b[0m\u001b[38;5;134mWARNING \u001b[0m \u001b[1;38;5;251m The naima package is not available. Models that depend on it will not be        \u001b[0m\u001b[1;38;5;251m \u001b[0m\u001b]8;id=577209;file:///data/disk01/home/jasonfan/miniconda3/envs/mladev/lib/python3.9/site-packages/astromodels/functions/functions_1D/functions.py\u001b\\\u001b[2mfunctions.py\u001b[0m\u001b]8;;\u001b\\\u001b[2m:\u001b[0m\u001b]8;id=225027;file:///data/disk01/home/jasonfan/miniconda3/envs/mladev/lib/python3.9/site-packages/astromodels/functions/functions_1D/functions.py#50\u001b\\\u001b[2m50\u001b[0m\u001b]8;;\u001b\\\n",
       "\u001b[38;5;46m         \u001b[0m         \u001b[1;38;5;251mavailable                                                                        \u001b[0m\u001b[1;38;5;251m \u001b[0m\u001b[2m               \u001b[0m\n"
      ]
     },
     "metadata": {},
     "output_type": "display_data"
    },
    {
     "data": {
      "text/html": [
       "<pre style=\"white-space:pre;overflow-x:auto;line-height:normal;font-family:Menlo,'DejaVu Sans Mono',consolas,'Courier New',monospace\"><span style=\"color: #00ff00; text-decoration-color: #00ff00\">         </span><span style=\"color: #af5fd7; text-decoration-color: #af5fd7\">WARNING </span> <span style=\"color: #c6c6c6; text-decoration-color: #c6c6c6; font-weight: bold\"> The GSL library or the pygsl wrapper cannot be loaded. Models that depend on it  </span><a href=\"file:///data/disk01/home/jasonfan/miniconda3/envs/mladev/lib/python3.9/site-packages/astromodels/functions/functions_1D/functions.py\" target=\"_blank\"><span style=\"color: #7f7f7f; text-decoration-color: #7f7f7f\">functions.py</span></a><span style=\"color: #7f7f7f; text-decoration-color: #7f7f7f\">:</span><a href=\"file:///data/disk01/home/jasonfan/miniconda3/envs/mladev/lib/python3.9/site-packages/astromodels/functions/functions_1D/functions.py#71\" target=\"_blank\"><span style=\"color: #7f7f7f; text-decoration-color: #7f7f7f\">71</span></a>\n",
       "<span style=\"color: #00ff00; text-decoration-color: #00ff00\">         </span>         <span style=\"color: #c6c6c6; text-decoration-color: #c6c6c6; font-weight: bold\">will not be available.                                                            </span><span style=\"color: #7f7f7f; text-decoration-color: #7f7f7f\">               </span>\n",
       "</pre>\n"
      ],
      "text/plain": [
       "\u001b[38;5;46m        \u001b[0m\u001b[38;5;46m \u001b[0m\u001b[38;5;134mWARNING \u001b[0m \u001b[1;38;5;251m The GSL library or the pygsl wrapper cannot be loaded. Models that depend on it \u001b[0m\u001b[1;38;5;251m \u001b[0m\u001b]8;id=321484;file:///data/disk01/home/jasonfan/miniconda3/envs/mladev/lib/python3.9/site-packages/astromodels/functions/functions_1D/functions.py\u001b\\\u001b[2mfunctions.py\u001b[0m\u001b]8;;\u001b\\\u001b[2m:\u001b[0m\u001b]8;id=647308;file:///data/disk01/home/jasonfan/miniconda3/envs/mladev/lib/python3.9/site-packages/astromodels/functions/functions_1D/functions.py#71\u001b\\\u001b[2m71\u001b[0m\u001b]8;;\u001b\\\n",
       "\u001b[38;5;46m         \u001b[0m         \u001b[1;38;5;251mwill not be available.                                                           \u001b[0m\u001b[1;38;5;251m \u001b[0m\u001b[2m               \u001b[0m\n"
      ]
     },
     "metadata": {},
     "output_type": "display_data"
    },
    {
     "data": {
      "text/html": [
       "<pre style=\"white-space:pre;overflow-x:auto;line-height:normal;font-family:Menlo,'DejaVu Sans Mono',consolas,'Courier New',monospace\"><span style=\"color: #00ff00; text-decoration-color: #00ff00\">11:15:25 </span><span style=\"color: #af5fd7; text-decoration-color: #af5fd7\">WARNING </span> <span style=\"color: #c6c6c6; text-decoration-color: #c6c6c6; font-weight: bold\"> The ebltable package is not available. Models that depend on it will not be     </span><a href=\"file:///data/disk01/home/jasonfan/miniconda3/envs/mladev/lib/python3.9/site-packages/astromodels/functions/functions_1D/absorption.py\" target=\"_blank\"><span style=\"color: #7f7f7f; text-decoration-color: #7f7f7f\">absorption.py</span></a><span style=\"color: #7f7f7f; text-decoration-color: #7f7f7f\">:</span><a href=\"file:///data/disk01/home/jasonfan/miniconda3/envs/mladev/lib/python3.9/site-packages/astromodels/functions/functions_1D/absorption.py#36\" target=\"_blank\"><span style=\"color: #7f7f7f; text-decoration-color: #7f7f7f\">36</span></a>\n",
       "<span style=\"color: #00ff00; text-decoration-color: #00ff00\">         </span>         <span style=\"color: #c6c6c6; text-decoration-color: #c6c6c6; font-weight: bold\">available                                                                        </span><span style=\"color: #7f7f7f; text-decoration-color: #7f7f7f\">                </span>\n",
       "</pre>\n"
      ],
      "text/plain": [
       "\u001b[38;5;46m11:15:25\u001b[0m\u001b[38;5;46m \u001b[0m\u001b[38;5;134mWARNING \u001b[0m \u001b[1;38;5;251m The ebltable package is not available. Models that depend on it will not be    \u001b[0m\u001b[1;38;5;251m \u001b[0m\u001b]8;id=509713;file:///data/disk01/home/jasonfan/miniconda3/envs/mladev/lib/python3.9/site-packages/astromodels/functions/functions_1D/absorption.py\u001b\\\u001b[2mabsorption.py\u001b[0m\u001b]8;;\u001b\\\u001b[2m:\u001b[0m\u001b]8;id=566748;file:///data/disk01/home/jasonfan/miniconda3/envs/mladev/lib/python3.9/site-packages/astromodels/functions/functions_1D/absorption.py#36\u001b\\\u001b[2m36\u001b[0m\u001b]8;;\u001b\\\n",
       "\u001b[38;5;46m         \u001b[0m         \u001b[1;38;5;251mavailable                                                                       \u001b[0m\u001b[1;38;5;251m \u001b[0m\u001b[2m                \u001b[0m\n"
      ]
     },
     "metadata": {},
     "output_type": "display_data"
    },
    {
     "data": {
      "text/html": [
       "<pre style=\"white-space:pre;overflow-x:auto;line-height:normal;font-family:Menlo,'DejaVu Sans Mono',consolas,'Courier New',monospace\"><span style=\"color: #00ff00; text-decoration-color: #00ff00\">11:15:27 </span><span style=\"color: #00ffaf; text-decoration-color: #00ffaf\">INFO    </span> <span style=\"color: #c6c6c6; text-decoration-color: #c6c6c6; font-weight: bold\"> Starting 3ML!                                                                     </span><a href=\"file:///data/disk01/home/jasonfan/miniconda3/envs/mladev/lib/python3.9/site-packages/threeML/__init__.py\" target=\"_blank\"><span style=\"color: #7f7f7f; text-decoration-color: #7f7f7f\">__init__.py</span></a><span style=\"color: #7f7f7f; text-decoration-color: #7f7f7f\">:</span><a href=\"file:///data/disk01/home/jasonfan/miniconda3/envs/mladev/lib/python3.9/site-packages/threeML/__init__.py#35\" target=\"_blank\"><span style=\"color: #7f7f7f; text-decoration-color: #7f7f7f\">35</span></a>\n",
       "</pre>\n"
      ],
      "text/plain": [
       "\u001b[38;5;46m11:15:27\u001b[0m\u001b[38;5;46m \u001b[0m\u001b[38;5;49mINFO    \u001b[0m \u001b[1;38;5;251m Starting 3ML!                                                                    \u001b[0m\u001b[1;38;5;251m \u001b[0m\u001b]8;id=847610;file:///data/disk01/home/jasonfan/miniconda3/envs/mladev/lib/python3.9/site-packages/threeML/__init__.py\u001b\\\u001b[2m__init__.py\u001b[0m\u001b]8;;\u001b\\\u001b[2m:\u001b[0m\u001b]8;id=672853;file:///data/disk01/home/jasonfan/miniconda3/envs/mladev/lib/python3.9/site-packages/threeML/__init__.py#35\u001b\\\u001b[2m35\u001b[0m\u001b]8;;\u001b\\\n"
      ]
     },
     "metadata": {},
     "output_type": "display_data"
    },
    {
     "data": {
      "text/html": [
       "<pre style=\"white-space:pre;overflow-x:auto;line-height:normal;font-family:Menlo,'DejaVu Sans Mono',consolas,'Courier New',monospace\"><span style=\"color: #00ff00; text-decoration-color: #00ff00\">         </span><span style=\"color: #af5fd7; text-decoration-color: #af5fd7\">WARNING </span> <span style=\"color: #c6c6c6; text-decoration-color: #c6c6c6; font-weight: bold\"> WARNINGs here are </span><span style=\"color: #800000; text-decoration-color: #800000; font-weight: bold\">NOT</span><span style=\"color: #c6c6c6; text-decoration-color: #c6c6c6; font-weight: bold\"> errors                                                      </span><a href=\"file:///data/disk01/home/jasonfan/miniconda3/envs/mladev/lib/python3.9/site-packages/threeML/__init__.py\" target=\"_blank\"><span style=\"color: #7f7f7f; text-decoration-color: #7f7f7f\">__init__.py</span></a><span style=\"color: #7f7f7f; text-decoration-color: #7f7f7f\">:</span><a href=\"file:///data/disk01/home/jasonfan/miniconda3/envs/mladev/lib/python3.9/site-packages/threeML/__init__.py#36\" target=\"_blank\"><span style=\"color: #7f7f7f; text-decoration-color: #7f7f7f\">36</span></a>\n",
       "</pre>\n"
      ],
      "text/plain": [
       "\u001b[38;5;46m        \u001b[0m\u001b[38;5;46m \u001b[0m\u001b[38;5;134mWARNING \u001b[0m \u001b[1;38;5;251m WARNINGs here are \u001b[0m\u001b[1;31mNOT\u001b[0m\u001b[1;38;5;251m errors                                                     \u001b[0m\u001b[1;38;5;251m \u001b[0m\u001b]8;id=179865;file:///data/disk01/home/jasonfan/miniconda3/envs/mladev/lib/python3.9/site-packages/threeML/__init__.py\u001b\\\u001b[2m__init__.py\u001b[0m\u001b]8;;\u001b\\\u001b[2m:\u001b[0m\u001b]8;id=1191;file:///data/disk01/home/jasonfan/miniconda3/envs/mladev/lib/python3.9/site-packages/threeML/__init__.py#36\u001b\\\u001b[2m36\u001b[0m\u001b]8;;\u001b\\\n"
      ]
     },
     "metadata": {},
     "output_type": "display_data"
    },
    {
     "data": {
      "text/html": [
       "<pre style=\"white-space:pre;overflow-x:auto;line-height:normal;font-family:Menlo,'DejaVu Sans Mono',consolas,'Courier New',monospace\"><span style=\"color: #00ff00; text-decoration-color: #00ff00\">         </span><span style=\"color: #af5fd7; text-decoration-color: #af5fd7\">WARNING </span> <span style=\"color: #c6c6c6; text-decoration-color: #c6c6c6; font-weight: bold\"> but are inform you about optional packages that can be installed                  </span><a href=\"file:///data/disk01/home/jasonfan/miniconda3/envs/mladev/lib/python3.9/site-packages/threeML/__init__.py\" target=\"_blank\"><span style=\"color: #7f7f7f; text-decoration-color: #7f7f7f\">__init__.py</span></a><span style=\"color: #7f7f7f; text-decoration-color: #7f7f7f\">:</span><a href=\"file:///data/disk01/home/jasonfan/miniconda3/envs/mladev/lib/python3.9/site-packages/threeML/__init__.py#37\" target=\"_blank\"><span style=\"color: #7f7f7f; text-decoration-color: #7f7f7f\">37</span></a>\n",
       "</pre>\n"
      ],
      "text/plain": [
       "\u001b[38;5;46m        \u001b[0m\u001b[38;5;46m \u001b[0m\u001b[38;5;134mWARNING \u001b[0m \u001b[1;38;5;251m but are inform you about optional packages that can be installed                 \u001b[0m\u001b[1;38;5;251m \u001b[0m\u001b]8;id=23205;file:///data/disk01/home/jasonfan/miniconda3/envs/mladev/lib/python3.9/site-packages/threeML/__init__.py\u001b\\\u001b[2m__init__.py\u001b[0m\u001b]8;;\u001b\\\u001b[2m:\u001b[0m\u001b]8;id=583829;file:///data/disk01/home/jasonfan/miniconda3/envs/mladev/lib/python3.9/site-packages/threeML/__init__.py#37\u001b\\\u001b[2m37\u001b[0m\u001b]8;;\u001b\\\n"
      ]
     },
     "metadata": {},
     "output_type": "display_data"
    },
    {
     "data": {
      "text/html": [
       "<pre style=\"white-space:pre;overflow-x:auto;line-height:normal;font-family:Menlo,'DejaVu Sans Mono',consolas,'Courier New',monospace\"><span style=\"color: #00ff00; text-decoration-color: #00ff00\">         </span><span style=\"color: #af5fd7; text-decoration-color: #af5fd7\">WARNING </span> <span style=\"color: #c6c6c6; text-decoration-color: #c6c6c6; font-weight: bold\"> </span><span style=\"color: #800000; text-decoration-color: #800000; font-weight: bold\"> to disable these messages, turn off start_warning in your config file</span><span style=\"color: #c6c6c6; text-decoration-color: #c6c6c6; font-weight: bold\">            </span><a href=\"file:///data/disk01/home/jasonfan/miniconda3/envs/mladev/lib/python3.9/site-packages/threeML/__init__.py\" target=\"_blank\"><span style=\"color: #7f7f7f; text-decoration-color: #7f7f7f\">__init__.py</span></a><span style=\"color: #7f7f7f; text-decoration-color: #7f7f7f\">:</span><a href=\"file:///data/disk01/home/jasonfan/miniconda3/envs/mladev/lib/python3.9/site-packages/threeML/__init__.py#40\" target=\"_blank\"><span style=\"color: #7f7f7f; text-decoration-color: #7f7f7f\">40</span></a>\n",
       "</pre>\n"
      ],
      "text/plain": [
       "\u001b[38;5;46m        \u001b[0m\u001b[38;5;46m \u001b[0m\u001b[38;5;134mWARNING \u001b[0m \u001b[1;38;5;251m \u001b[0m\u001b[1;31m to disable these messages, turn off start_warning in your config file\u001b[0m\u001b[1;38;5;251m           \u001b[0m\u001b[1;38;5;251m \u001b[0m\u001b]8;id=437029;file:///data/disk01/home/jasonfan/miniconda3/envs/mladev/lib/python3.9/site-packages/threeML/__init__.py\u001b\\\u001b[2m__init__.py\u001b[0m\u001b]8;;\u001b\\\u001b[2m:\u001b[0m\u001b]8;id=804184;file:///data/disk01/home/jasonfan/miniconda3/envs/mladev/lib/python3.9/site-packages/threeML/__init__.py#40\u001b\\\u001b[2m40\u001b[0m\u001b]8;;\u001b\\\n"
      ]
     },
     "metadata": {},
     "output_type": "display_data"
    },
    {
     "data": {
      "text/html": [
       "<pre style=\"white-space:pre;overflow-x:auto;line-height:normal;font-family:Menlo,'DejaVu Sans Mono',consolas,'Courier New',monospace\"><span style=\"color: #00ff00; text-decoration-color: #00ff00\">         </span><span style=\"color: #af5fd7; text-decoration-color: #af5fd7\">WARNING </span> <span style=\"color: #c6c6c6; text-decoration-color: #c6c6c6; font-weight: bold\"> no display variable set. using backend for graphics without display (agg)         </span><a href=\"file:///data/disk01/home/jasonfan/miniconda3/envs/mladev/lib/python3.9/site-packages/threeML/__init__.py\" target=\"_blank\"><span style=\"color: #7f7f7f; text-decoration-color: #7f7f7f\">__init__.py</span></a><span style=\"color: #7f7f7f; text-decoration-color: #7f7f7f\">:</span><a href=\"file:///data/disk01/home/jasonfan/miniconda3/envs/mladev/lib/python3.9/site-packages/threeML/__init__.py#46\" target=\"_blank\"><span style=\"color: #7f7f7f; text-decoration-color: #7f7f7f\">46</span></a>\n",
       "</pre>\n"
      ],
      "text/plain": [
       "\u001b[38;5;46m        \u001b[0m\u001b[38;5;46m \u001b[0m\u001b[38;5;134mWARNING \u001b[0m \u001b[1;38;5;251m no display variable set. using backend for graphics without display \u001b[0m\u001b[1;38;5;251m(\u001b[0m\u001b[1;38;5;251magg\u001b[0m\u001b[1;38;5;251m)\u001b[0m\u001b[1;38;5;251m        \u001b[0m\u001b[1;38;5;251m \u001b[0m\u001b]8;id=126708;file:///data/disk01/home/jasonfan/miniconda3/envs/mladev/lib/python3.9/site-packages/threeML/__init__.py\u001b\\\u001b[2m__init__.py\u001b[0m\u001b]8;;\u001b\\\u001b[2m:\u001b[0m\u001b]8;id=93214;file:///data/disk01/home/jasonfan/miniconda3/envs/mladev/lib/python3.9/site-packages/threeML/__init__.py#46\u001b\\\u001b[2m46\u001b[0m\u001b]8;;\u001b\\\n"
      ]
     },
     "metadata": {},
     "output_type": "display_data"
    },
    {
     "data": {
      "text/html": [
       "<pre style=\"white-space:pre;overflow-x:auto;line-height:normal;font-family:Menlo,'DejaVu Sans Mono',consolas,'Courier New',monospace\"><span style=\"color: #00ff00; text-decoration-color: #00ff00\">         </span><span style=\"color: #af5fd7; text-decoration-color: #af5fd7\">WARNING </span> <span style=\"color: #c6c6c6; text-decoration-color: #c6c6c6; font-weight: bold\"> Multinest minimizer not available                                           </span><a href=\"file:///data/disk01/home/jasonfan/miniconda3/envs/mladev/lib/python3.9/site-packages/threeML/minimizer/minimization.py\" target=\"_blank\"><span style=\"color: #7f7f7f; text-decoration-color: #7f7f7f\">minimization.py</span></a><span style=\"color: #7f7f7f; text-decoration-color: #7f7f7f\">:</span><a href=\"file:///data/disk01/home/jasonfan/miniconda3/envs/mladev/lib/python3.9/site-packages/threeML/minimizer/minimization.py#1357\" target=\"_blank\"><span style=\"color: #7f7f7f; text-decoration-color: #7f7f7f\">1357</span></a>\n",
       "</pre>\n"
      ],
      "text/plain": [
       "\u001b[38;5;46m        \u001b[0m\u001b[38;5;46m \u001b[0m\u001b[38;5;134mWARNING \u001b[0m \u001b[1;38;5;251m Multinest minimizer not available                                          \u001b[0m\u001b[1;38;5;251m \u001b[0m\u001b]8;id=781059;file:///data/disk01/home/jasonfan/miniconda3/envs/mladev/lib/python3.9/site-packages/threeML/minimizer/minimization.py\u001b\\\u001b[2mminimization.py\u001b[0m\u001b]8;;\u001b\\\u001b[2m:\u001b[0m\u001b]8;id=95952;file:///data/disk01/home/jasonfan/miniconda3/envs/mladev/lib/python3.9/site-packages/threeML/minimizer/minimization.py#1357\u001b\\\u001b[2m1357\u001b[0m\u001b]8;;\u001b\\\n"
      ]
     },
     "metadata": {},
     "output_type": "display_data"
    },
    {
     "data": {
      "text/html": [
       "<pre style=\"white-space:pre;overflow-x:auto;line-height:normal;font-family:Menlo,'DejaVu Sans Mono',consolas,'Courier New',monospace\"><span style=\"color: #00ff00; text-decoration-color: #00ff00\">         </span><span style=\"color: #af5fd7; text-decoration-color: #af5fd7\">WARNING </span> <span style=\"color: #c6c6c6; text-decoration-color: #c6c6c6; font-weight: bold\"> PyGMO is not available                                                      </span><a href=\"file:///data/disk01/home/jasonfan/miniconda3/envs/mladev/lib/python3.9/site-packages/threeML/minimizer/minimization.py\" target=\"_blank\"><span style=\"color: #7f7f7f; text-decoration-color: #7f7f7f\">minimization.py</span></a><span style=\"color: #7f7f7f; text-decoration-color: #7f7f7f\">:</span><a href=\"file:///data/disk01/home/jasonfan/miniconda3/envs/mladev/lib/python3.9/site-packages/threeML/minimizer/minimization.py#1369\" target=\"_blank\"><span style=\"color: #7f7f7f; text-decoration-color: #7f7f7f\">1369</span></a>\n",
       "</pre>\n"
      ],
      "text/plain": [
       "\u001b[38;5;46m        \u001b[0m\u001b[38;5;46m \u001b[0m\u001b[38;5;134mWARNING \u001b[0m \u001b[1;38;5;251m PyGMO is not available                                                     \u001b[0m\u001b[1;38;5;251m \u001b[0m\u001b]8;id=673193;file:///data/disk01/home/jasonfan/miniconda3/envs/mladev/lib/python3.9/site-packages/threeML/minimizer/minimization.py\u001b\\\u001b[2mminimization.py\u001b[0m\u001b]8;;\u001b\\\u001b[2m:\u001b[0m\u001b]8;id=698294;file:///data/disk01/home/jasonfan/miniconda3/envs/mladev/lib/python3.9/site-packages/threeML/minimizer/minimization.py#1369\u001b\\\u001b[2m1369\u001b[0m\u001b]8;;\u001b\\\n"
      ]
     },
     "metadata": {},
     "output_type": "display_data"
    },
    {
     "name": "stderr",
     "output_type": "stream",
     "text": [
      "\n",
      "WARNING UserWarning: Robust OAS shrunk covariance estimator from `sklearn` is not available. Defaulting to MLE estimator from `numpy`.\n",
      "\n"
     ]
    },
    {
     "data": {
      "text/html": [
       "<pre style=\"white-space:pre;overflow-x:auto;line-height:normal;font-family:Menlo,'DejaVu Sans Mono',consolas,'Courier New',monospace\"><span style=\"color: #00ff00; text-decoration-color: #00ff00\">11:15:28 </span><span style=\"color: #af5fd7; text-decoration-color: #af5fd7\">WARNING </span> <span style=\"color: #c6c6c6; text-decoration-color: #c6c6c6; font-weight: bold\"> The cthreeML package is not installed. You will not be able to use plugins which  </span><a href=\"file:///data/disk01/home/jasonfan/miniconda3/envs/mladev/lib/python3.9/site-packages/threeML/__init__.py\" target=\"_blank\"><span style=\"color: #7f7f7f; text-decoration-color: #7f7f7f\">__init__.py</span></a><span style=\"color: #7f7f7f; text-decoration-color: #7f7f7f\">:</span><a href=\"file:///data/disk01/home/jasonfan/miniconda3/envs/mladev/lib/python3.9/site-packages/threeML/__init__.py#94\" target=\"_blank\"><span style=\"color: #7f7f7f; text-decoration-color: #7f7f7f\">94</span></a>\n",
       "<span style=\"color: #00ff00; text-decoration-color: #00ff00\">         </span>         <span style=\"color: #c6c6c6; text-decoration-color: #c6c6c6; font-weight: bold\">require the C/C++ interface (currently HAWC)                                       </span><span style=\"color: #7f7f7f; text-decoration-color: #7f7f7f\">              </span>\n",
       "</pre>\n"
      ],
      "text/plain": [
       "\u001b[38;5;46m11:15:28\u001b[0m\u001b[38;5;46m \u001b[0m\u001b[38;5;134mWARNING \u001b[0m \u001b[1;38;5;251m The cthreeML package is not installed. You will not be able to use plugins which \u001b[0m\u001b[1;38;5;251m \u001b[0m\u001b]8;id=322608;file:///data/disk01/home/jasonfan/miniconda3/envs/mladev/lib/python3.9/site-packages/threeML/__init__.py\u001b\\\u001b[2m__init__.py\u001b[0m\u001b]8;;\u001b\\\u001b[2m:\u001b[0m\u001b]8;id=237850;file:///data/disk01/home/jasonfan/miniconda3/envs/mladev/lib/python3.9/site-packages/threeML/__init__.py#94\u001b\\\u001b[2m94\u001b[0m\u001b]8;;\u001b\\\n",
       "\u001b[38;5;46m         \u001b[0m         \u001b[1;38;5;251mrequire the C/C++ interface \u001b[0m\u001b[1;38;5;251m(\u001b[0m\u001b[1;38;5;251mcurrently HAWC\u001b[0m\u001b[1;38;5;251m)\u001b[0m\u001b[1;38;5;251m                                      \u001b[0m\u001b[1;38;5;251m \u001b[0m\u001b[2m              \u001b[0m\n"
      ]
     },
     "metadata": {},
     "output_type": "display_data"
    },
    {
     "data": {
      "text/html": [
       "<pre style=\"white-space:pre;overflow-x:auto;line-height:normal;font-family:Menlo,'DejaVu Sans Mono',consolas,'Courier New',monospace\"><span style=\"color: #00ff00; text-decoration-color: #00ff00\">         </span><span style=\"color: #af5fd7; text-decoration-color: #af5fd7\">WARNING </span> <span style=\"color: #c6c6c6; text-decoration-color: #c6c6c6; font-weight: bold\"> Could not import plugin HAWCLike.py. Do you have the relative instrument         </span><a href=\"file:///data/disk01/home/jasonfan/miniconda3/envs/mladev/lib/python3.9/site-packages/threeML/__init__.py\" target=\"_blank\"><span style=\"color: #7f7f7f; text-decoration-color: #7f7f7f\">__init__.py</span></a><span style=\"color: #7f7f7f; text-decoration-color: #7f7f7f\">:</span><a href=\"file:///data/disk01/home/jasonfan/miniconda3/envs/mladev/lib/python3.9/site-packages/threeML/__init__.py#144\" target=\"_blank\"><span style=\"color: #7f7f7f; text-decoration-color: #7f7f7f\">144</span></a>\n",
       "<span style=\"color: #00ff00; text-decoration-color: #00ff00\">         </span>         <span style=\"color: #c6c6c6; text-decoration-color: #c6c6c6; font-weight: bold\">software installed and configured?                                                </span><span style=\"color: #7f7f7f; text-decoration-color: #7f7f7f\">               </span>\n",
       "</pre>\n"
      ],
      "text/plain": [
       "\u001b[38;5;46m        \u001b[0m\u001b[38;5;46m \u001b[0m\u001b[38;5;134mWARNING \u001b[0m \u001b[1;38;5;251m Could not import plugin HAWCLike.py. Do you have the relative instrument        \u001b[0m\u001b[1;38;5;251m \u001b[0m\u001b]8;id=185293;file:///data/disk01/home/jasonfan/miniconda3/envs/mladev/lib/python3.9/site-packages/threeML/__init__.py\u001b\\\u001b[2m__init__.py\u001b[0m\u001b]8;;\u001b\\\u001b[2m:\u001b[0m\u001b]8;id=71816;file:///data/disk01/home/jasonfan/miniconda3/envs/mladev/lib/python3.9/site-packages/threeML/__init__.py#144\u001b\\\u001b[2m144\u001b[0m\u001b]8;;\u001b\\\n",
       "\u001b[38;5;46m         \u001b[0m         \u001b[1;38;5;251msoftware installed and configured?                                               \u001b[0m\u001b[1;38;5;251m \u001b[0m\u001b[2m               \u001b[0m\n"
      ]
     },
     "metadata": {},
     "output_type": "display_data"
    },
    {
     "data": {
      "text/html": [
       "<pre style=\"white-space:pre;overflow-x:auto;line-height:normal;font-family:Menlo,'DejaVu Sans Mono',consolas,'Courier New',monospace\"><span style=\"color: #00ff00; text-decoration-color: #00ff00\">         </span><span style=\"color: #af5fd7; text-decoration-color: #af5fd7\">WARNING </span> <span style=\"color: #c6c6c6; text-decoration-color: #c6c6c6; font-weight: bold\"> Could not import plugin FermiLATLike.py. Do you have the relative instrument     </span><a href=\"file:///data/disk01/home/jasonfan/miniconda3/envs/mladev/lib/python3.9/site-packages/threeML/__init__.py\" target=\"_blank\"><span style=\"color: #7f7f7f; text-decoration-color: #7f7f7f\">__init__.py</span></a><span style=\"color: #7f7f7f; text-decoration-color: #7f7f7f\">:</span><a href=\"file:///data/disk01/home/jasonfan/miniconda3/envs/mladev/lib/python3.9/site-packages/threeML/__init__.py#144\" target=\"_blank\"><span style=\"color: #7f7f7f; text-decoration-color: #7f7f7f\">144</span></a>\n",
       "<span style=\"color: #00ff00; text-decoration-color: #00ff00\">         </span>         <span style=\"color: #c6c6c6; text-decoration-color: #c6c6c6; font-weight: bold\">software installed and configured?                                                </span><span style=\"color: #7f7f7f; text-decoration-color: #7f7f7f\">               </span>\n",
       "</pre>\n"
      ],
      "text/plain": [
       "\u001b[38;5;46m        \u001b[0m\u001b[38;5;46m \u001b[0m\u001b[38;5;134mWARNING \u001b[0m \u001b[1;38;5;251m Could not import plugin FermiLATLike.py. Do you have the relative instrument    \u001b[0m\u001b[1;38;5;251m \u001b[0m\u001b]8;id=990532;file:///data/disk01/home/jasonfan/miniconda3/envs/mladev/lib/python3.9/site-packages/threeML/__init__.py\u001b\\\u001b[2m__init__.py\u001b[0m\u001b]8;;\u001b\\\u001b[2m:\u001b[0m\u001b]8;id=607315;file:///data/disk01/home/jasonfan/miniconda3/envs/mladev/lib/python3.9/site-packages/threeML/__init__.py#144\u001b\\\u001b[2m144\u001b[0m\u001b]8;;\u001b\\\n",
       "\u001b[38;5;46m         \u001b[0m         \u001b[1;38;5;251msoftware installed and configured?                                               \u001b[0m\u001b[1;38;5;251m \u001b[0m\u001b[2m               \u001b[0m\n"
      ]
     },
     "metadata": {},
     "output_type": "display_data"
    },
    {
     "data": {
      "text/html": [
       "<pre style=\"white-space:pre;overflow-x:auto;line-height:normal;font-family:Menlo,'DejaVu Sans Mono',consolas,'Courier New',monospace\"><span style=\"color: #00ff00; text-decoration-color: #00ff00\">11:15:28 </span><span style=\"color: #af5fd7; text-decoration-color: #af5fd7\">WARNING </span> <span style=\"color: #c6c6c6; text-decoration-color: #c6c6c6; font-weight: bold\"> No fermitools installed                                              </span><a href=\"file:///data/disk01/home/jasonfan/miniconda3/envs/mladev/lib/python3.9/site-packages/threeML/utils/data_builders/fermi/lat_transient_builder.py\" target=\"_blank\"><span style=\"color: #7f7f7f; text-decoration-color: #7f7f7f\">lat_transient_builder.py</span></a><span style=\"color: #7f7f7f; text-decoration-color: #7f7f7f\">:</span><a href=\"file:///data/disk01/home/jasonfan/miniconda3/envs/mladev/lib/python3.9/site-packages/threeML/utils/data_builders/fermi/lat_transient_builder.py#44\" target=\"_blank\"><span style=\"color: #7f7f7f; text-decoration-color: #7f7f7f\">44</span></a>\n",
       "</pre>\n"
      ],
      "text/plain": [
       "\u001b[38;5;46m11:15:28\u001b[0m\u001b[38;5;46m \u001b[0m\u001b[38;5;134mWARNING \u001b[0m \u001b[1;38;5;251m No fermitools installed                                             \u001b[0m\u001b[1;38;5;251m \u001b[0m\u001b]8;id=178852;file:///data/disk01/home/jasonfan/miniconda3/envs/mladev/lib/python3.9/site-packages/threeML/utils/data_builders/fermi/lat_transient_builder.py\u001b\\\u001b[2mlat_transient_builder.py\u001b[0m\u001b]8;;\u001b\\\u001b[2m:\u001b[0m\u001b]8;id=375603;file:///data/disk01/home/jasonfan/miniconda3/envs/mladev/lib/python3.9/site-packages/threeML/utils/data_builders/fermi/lat_transient_builder.py#44\u001b\\\u001b[2m44\u001b[0m\u001b]8;;\u001b\\\n"
      ]
     },
     "metadata": {},
     "output_type": "display_data"
    },
    {
     "data": {
      "text/html": [
       "<pre style=\"white-space:pre;overflow-x:auto;line-height:normal;font-family:Menlo,'DejaVu Sans Mono',consolas,'Courier New',monospace\"><span style=\"color: #00ff00; text-decoration-color: #00ff00\">         </span><span style=\"color: #af5fd7; text-decoration-color: #af5fd7\">WARNING </span> <span style=\"color: #c6c6c6; text-decoration-color: #c6c6c6; font-weight: bold\"> Env. variable OMP_NUM_THREADS is not set. Please set it to </span><span style=\"color: #c0c0c0; text-decoration-color: #c0c0c0; font-weight: bold\">1</span><span style=\"color: #c6c6c6; text-decoration-color: #c6c6c6; font-weight: bold\"> for optimal         </span><a href=\"file:///data/disk01/home/jasonfan/miniconda3/envs/mladev/lib/python3.9/site-packages/threeML/__init__.py\" target=\"_blank\"><span style=\"color: #7f7f7f; text-decoration-color: #7f7f7f\">__init__.py</span></a><span style=\"color: #7f7f7f; text-decoration-color: #7f7f7f\">:</span><a href=\"file:///data/disk01/home/jasonfan/miniconda3/envs/mladev/lib/python3.9/site-packages/threeML/__init__.py#387\" target=\"_blank\"><span style=\"color: #7f7f7f; text-decoration-color: #7f7f7f\">387</span></a>\n",
       "<span style=\"color: #00ff00; text-decoration-color: #00ff00\">         </span>         <span style=\"color: #c6c6c6; text-decoration-color: #c6c6c6; font-weight: bold\">performances in 3ML                                                               </span><span style=\"color: #7f7f7f; text-decoration-color: #7f7f7f\">               </span>\n",
       "</pre>\n"
      ],
      "text/plain": [
       "\u001b[38;5;46m        \u001b[0m\u001b[38;5;46m \u001b[0m\u001b[38;5;134mWARNING \u001b[0m \u001b[1;38;5;251m Env. variable OMP_NUM_THREADS is not set. Please set it to \u001b[0m\u001b[1;37m1\u001b[0m\u001b[1;38;5;251m for optimal        \u001b[0m\u001b[1;38;5;251m \u001b[0m\u001b]8;id=48641;file:///data/disk01/home/jasonfan/miniconda3/envs/mladev/lib/python3.9/site-packages/threeML/__init__.py\u001b\\\u001b[2m__init__.py\u001b[0m\u001b]8;;\u001b\\\u001b[2m:\u001b[0m\u001b]8;id=872887;file:///data/disk01/home/jasonfan/miniconda3/envs/mladev/lib/python3.9/site-packages/threeML/__init__.py#387\u001b\\\u001b[2m387\u001b[0m\u001b]8;;\u001b\\\n",
       "\u001b[38;5;46m         \u001b[0m         \u001b[1;38;5;251mperformances in 3ML                                                              \u001b[0m\u001b[1;38;5;251m \u001b[0m\u001b[2m               \u001b[0m\n"
      ]
     },
     "metadata": {},
     "output_type": "display_data"
    },
    {
     "data": {
      "text/html": [
       "<pre style=\"white-space:pre;overflow-x:auto;line-height:normal;font-family:Menlo,'DejaVu Sans Mono',consolas,'Courier New',monospace\"><span style=\"color: #00ff00; text-decoration-color: #00ff00\">         </span><span style=\"color: #af5fd7; text-decoration-color: #af5fd7\">WARNING </span> <span style=\"color: #c6c6c6; text-decoration-color: #c6c6c6; font-weight: bold\"> Env. variable MKL_NUM_THREADS is not set. Please set it to </span><span style=\"color: #c0c0c0; text-decoration-color: #c0c0c0; font-weight: bold\">1</span><span style=\"color: #c6c6c6; text-decoration-color: #c6c6c6; font-weight: bold\"> for optimal         </span><a href=\"file:///data/disk01/home/jasonfan/miniconda3/envs/mladev/lib/python3.9/site-packages/threeML/__init__.py\" target=\"_blank\"><span style=\"color: #7f7f7f; text-decoration-color: #7f7f7f\">__init__.py</span></a><span style=\"color: #7f7f7f; text-decoration-color: #7f7f7f\">:</span><a href=\"file:///data/disk01/home/jasonfan/miniconda3/envs/mladev/lib/python3.9/site-packages/threeML/__init__.py#387\" target=\"_blank\"><span style=\"color: #7f7f7f; text-decoration-color: #7f7f7f\">387</span></a>\n",
       "<span style=\"color: #00ff00; text-decoration-color: #00ff00\">         </span>         <span style=\"color: #c6c6c6; text-decoration-color: #c6c6c6; font-weight: bold\">performances in 3ML                                                               </span><span style=\"color: #7f7f7f; text-decoration-color: #7f7f7f\">               </span>\n",
       "</pre>\n"
      ],
      "text/plain": [
       "\u001b[38;5;46m        \u001b[0m\u001b[38;5;46m \u001b[0m\u001b[38;5;134mWARNING \u001b[0m \u001b[1;38;5;251m Env. variable MKL_NUM_THREADS is not set. Please set it to \u001b[0m\u001b[1;37m1\u001b[0m\u001b[1;38;5;251m for optimal        \u001b[0m\u001b[1;38;5;251m \u001b[0m\u001b]8;id=304506;file:///data/disk01/home/jasonfan/miniconda3/envs/mladev/lib/python3.9/site-packages/threeML/__init__.py\u001b\\\u001b[2m__init__.py\u001b[0m\u001b]8;;\u001b\\\u001b[2m:\u001b[0m\u001b]8;id=742147;file:///data/disk01/home/jasonfan/miniconda3/envs/mladev/lib/python3.9/site-packages/threeML/__init__.py#387\u001b\\\u001b[2m387\u001b[0m\u001b]8;;\u001b\\\n",
       "\u001b[38;5;46m         \u001b[0m         \u001b[1;38;5;251mperformances in 3ML                                                              \u001b[0m\u001b[1;38;5;251m \u001b[0m\u001b[2m               \u001b[0m\n"
      ]
     },
     "metadata": {},
     "output_type": "display_data"
    },
    {
     "data": {
      "text/html": [
       "<pre style=\"white-space:pre;overflow-x:auto;line-height:normal;font-family:Menlo,'DejaVu Sans Mono',consolas,'Courier New',monospace\"><span style=\"color: #00ff00; text-decoration-color: #00ff00\">         </span><span style=\"color: #af5fd7; text-decoration-color: #af5fd7\">WARNING </span> <span style=\"color: #c6c6c6; text-decoration-color: #c6c6c6; font-weight: bold\"> Env. variable NUMEXPR_NUM_THREADS is not set. Please set it to </span><span style=\"color: #c0c0c0; text-decoration-color: #c0c0c0; font-weight: bold\">1</span><span style=\"color: #c6c6c6; text-decoration-color: #c6c6c6; font-weight: bold\"> for optimal     </span><a href=\"file:///data/disk01/home/jasonfan/miniconda3/envs/mladev/lib/python3.9/site-packages/threeML/__init__.py\" target=\"_blank\"><span style=\"color: #7f7f7f; text-decoration-color: #7f7f7f\">__init__.py</span></a><span style=\"color: #7f7f7f; text-decoration-color: #7f7f7f\">:</span><a href=\"file:///data/disk01/home/jasonfan/miniconda3/envs/mladev/lib/python3.9/site-packages/threeML/__init__.py#387\" target=\"_blank\"><span style=\"color: #7f7f7f; text-decoration-color: #7f7f7f\">387</span></a>\n",
       "<span style=\"color: #00ff00; text-decoration-color: #00ff00\">         </span>         <span style=\"color: #c6c6c6; text-decoration-color: #c6c6c6; font-weight: bold\">performances in 3ML                                                               </span><span style=\"color: #7f7f7f; text-decoration-color: #7f7f7f\">               </span>\n",
       "</pre>\n"
      ],
      "text/plain": [
       "\u001b[38;5;46m        \u001b[0m\u001b[38;5;46m \u001b[0m\u001b[38;5;134mWARNING \u001b[0m \u001b[1;38;5;251m Env. variable NUMEXPR_NUM_THREADS is not set. Please set it to \u001b[0m\u001b[1;37m1\u001b[0m\u001b[1;38;5;251m for optimal    \u001b[0m\u001b[1;38;5;251m \u001b[0m\u001b]8;id=547669;file:///data/disk01/home/jasonfan/miniconda3/envs/mladev/lib/python3.9/site-packages/threeML/__init__.py\u001b\\\u001b[2m__init__.py\u001b[0m\u001b]8;;\u001b\\\u001b[2m:\u001b[0m\u001b]8;id=515147;file:///data/disk01/home/jasonfan/miniconda3/envs/mladev/lib/python3.9/site-packages/threeML/__init__.py#387\u001b\\\u001b[2m387\u001b[0m\u001b]8;;\u001b\\\n",
       "\u001b[38;5;46m         \u001b[0m         \u001b[1;38;5;251mperformances in 3ML                                                              \u001b[0m\u001b[1;38;5;251m \u001b[0m\u001b[2m               \u001b[0m\n"
      ]
     },
     "metadata": {},
     "output_type": "display_data"
    }
   ],
   "source": [
    "import os, sys, glob, abc\n",
    "import numpy as np\n",
    "import mla\n",
    "import mla.threeml\n",
    "import astromodels\n",
    "import threeML\n",
    "import warnings\n",
    "import numpy.lib.recfunctions as rf\n",
    "def read(filelist): #use to read data and append sindec field\n",
    "    data = []\n",
    "\n",
    "    for f in sorted(filelist):\n",
    "        x = np.load(f)\n",
    "        if len(data) == 0: data = x.copy()\n",
    "        else: data = np.concatenate([data, x])\n",
    "\n",
    "    try:\n",
    "        data=rf.append_fields(data, 'sindec',\n",
    "                              np.sin(data['dec']),\n",
    "                              usemask=False)\n",
    "    except:\n",
    "        pass\n",
    "    return data"
   ]
  },
  {
   "cell_type": "markdown",
   "id": "30283f5b-7b3a-4e16-95a1-2987897f2d8c",
   "metadata": {},
   "source": [
    "### Setting data path and source injection details"
   ]
  },
  {
   "cell_type": "code",
   "execution_count": 2,
   "id": "23dad51a-b749-49e0-9a01-97e876a1cb07",
   "metadata": {},
   "outputs": [],
   "source": [
    "DATA_PATH = \"/data/i3store/users/analyses/ps_tracks/version-004-p02/\" #change it if you are not in umd cluster\n",
    "source_name = \"Crab\" #gamma-ray folks love the crab\n",
    "inject_ra = 83.6279 #in degree here\n",
    "inject_dec = 22.0243 #in degree here\n"
   ]
  },
  {
   "cell_type": "markdown",
   "id": "1596e640-76b2-4c40-a4eb-82c64962b0d0",
   "metadata": {},
   "source": [
    "### Setting the injection spectrum"
   ]
  },
  {
   "cell_type": "code",
   "execution_count": 3,
   "id": "21d2a63e-010a-406b-a9e7-a8207a726fb6",
   "metadata": {},
   "outputs": [],
   "source": [
    "injection_spectrum=threeML.Log_parabola()\n",
    "#notice that the ra and dec don't matter, it is only for the spectrum\n",
    "injection_source=mla.threeml.IceCubeLike.NeutrinoPointSource(source_name, ra=inject_ra, dec=inject_dec, spectral_shape=injection_spectrum)\n",
    "\n",
    "injection_spectrum.alpha  = -2.79 #HAWC result\n",
    "injection_spectrum.beta  = 0.1 #HAWC result\n",
    "injection_spectrum.piv = 3.5 * threeML.u.TeV #match HAWC 7 TeV gamma-ray pivot\n",
    "#Notice we don't care about flux here since we are injecting fix number of neutrino\n",
    "injection_model=threeML.Model(injection_source)\n",
    "injection_spectrum.set_units(threeML.u.keV,threeML.u.keV**-1*threeML.u.second**-1*threeML.u.cm**-2) #Fixing the unit help the calculation "
   ]
  },
  {
   "cell_type": "code",
   "execution_count": 4,
   "id": "243b64e7-27b0-4836-95ec-7aa283223ce6",
   "metadata": {},
   "outputs": [],
   "source": [
    "inject_spectrum = mla.threeml.IceCubeLike.Spectrum(injection_model) #Setting for injection"
   ]
  },
  {
   "cell_type": "markdown",
   "id": "e1e9c8a8-253c-4f72-b57e-fae4446b80f0",
   "metadata": {},
   "source": [
    "### Setting the config for i3mla"
   ]
  },
  {
   "cell_type": "code",
   "execution_count": 5,
   "id": "c87e2064-e2a8-408e-ae9a-873a0daa1414",
   "metadata": {},
   "outputs": [],
   "source": [
    "config = mla.generate_default_config([\n",
    "    mla.threeml.data_handlers.ThreeMLDataHandler,\n",
    "    mla.PointSource,\n",
    "    mla.SpatialTermFactory,\n",
    "    mla.threeml.sob_terms.ThreeMLPSIRFEnergyTermFactory,\n",
    "    mla.TimeTermFactory, #We don't use time here, but I kept it for illurastion \n",
    "    mla.LLHTestStatisticFactory \n",
    "])\n",
    "config['PointSource']['name'] = source_name\n",
    "config['PointSource']['ra'] = np.deg2rad(inject_ra) #again, only for injection\n",
    "config['PointSource']['dec'] = np.deg2rad(inject_dec)#only for injection\n",
    "config['ThreeMLDataHandler']['dec_bandwidth (rad)'] = np.deg2rad(1)\n",
    "config['ThreeMLDataHandler']['dec_cut_location']=np.deg2rad(inject_dec)# only for injection\n",
    "config['ThreeMLDataHandler']['flux_unit_conversion'] =1e6 #keV to GeV(This is the default, but I want to show it here)\n",
    "config['ThreeMLPSIRFEnergyTermFactory']['Energy_convesion(ToGeV)'] =1e6 #keV to GeV(This is the default, but I want to show it here)\n",
    "#Notice the above two unit need to match the converion in 3ML\n",
    "source = mla.PointSource(config['PointSource'])"
   ]
  },
  {
   "cell_type": "markdown",
   "id": "bffe9b35-d52f-45c2-ace6-f770b569836f",
   "metadata": {},
   "source": [
    "### loading all the data(here use all IC86, IC79, IC59 and IC40)"
   ]
  },
  {
   "cell_type": "markdown",
   "id": "02690019-fb79-4f51-b023-961a6541f074",
   "metadata": {},
   "source": [
    "#### First is IC86"
   ]
  },
  {
   "cell_type": "code",
   "execution_count": 6,
   "id": "d6671b4d-5de1-4907-8805-14dc9a1db470",
   "metadata": {},
   "outputs": [],
   "source": [
    "# Read in all of the MC files \n",
    "sim_files = DATA_PATH + \"/IC86*MC*npy\"\n",
    "sim = np.load([i for i in glob.glob(sim_files) if \"2011\" not in i][0])\n",
    "#sim = mla.trimsim(sim,0.3)\n",
    "sim=rf.append_fields(sim, 'sindec',\n",
    "                     np.sin(sim['dec']),\n",
    "                     usemask=False)\n",
    "\n",
    "\n",
    "# Read in all of the data files\n",
    "data_files = DATA_PATH + \"/IC86_*exp.npy\"\n",
    "listofdata = []\n",
    "data = read([i for i in glob.glob(data_files)])\n",
    "\n",
    "\n",
    "# Set the angular error floor to 0.2 degrees\n",
    "data['angErr'][data['angErr']<np.deg2rad(0.2)] = np.deg2rad(0.2)\n",
    "sim['angErr'][sim['angErr']<np.deg2rad(0.2)] = np.deg2rad(0.2)\n",
    "#np.random.seed(2) #for reproduce\n",
    "data['ra'] = np.random.uniform(0, 2*np.pi, size=len(data))\n",
    "grlfile = DATA_PATH + \"/GRL/IC86*_exp.npy\"\n",
    "grl = read([i for i in glob.glob(grlfile)])\n",
    "livetime = np.sum(grl['livetime'])\n",
    "bkg_days = np.sort(grl['stop'])[-1]-np.sort(grl['start'])[0]\n",
    "#background_time_profile = mla.time_profiles.UniformProfile({'start':np.sort(grl['start'])[0], 'length':bkg_days}) #Change it if you want to do dependent\n",
    "#inject_signal_time_profile = mla.time_profiles.UniformProfile({'start':np.sort(grl['start'])[0], 'length':bkg_days}) #Change it if you want to do dependent\n",
    "if 'sindec' not in data.dtype.names:\n",
    "    data = rf.append_fields(\n",
    "        data,\n",
    "        'sindec',\n",
    "        np.sin(data['dec']),\n",
    "        usemask=False,\n",
    "    )\n",
    "if 'sindec' not in sim.dtype.names:\n",
    "    sim = rf.append_fields(\n",
    "        sim,\n",
    "        'sindec',\n",
    "        np.sin(sim['dec']),\n",
    "        usemask=False,\n",
    "    )\n"
   ]
  },
  {
   "cell_type": "markdown",
   "id": "b831f267-47e6-467a-98e7-05ce729a10d5",
   "metadata": {},
   "source": [
    "#### Create all the needed i3mla objects"
   ]
  },
  {
   "cell_type": "code",
   "execution_count": 7,
   "id": "eed053d1-32f7-47b1-910a-d1a81d2aeee0",
   "metadata": {},
   "outputs": [
    {
     "name": "stderr",
     "output_type": "stream",
     "text": [
      "\n",
      "WARNING VisibleDeprecationWarning: Creating an ndarray from ragged nested sequences (which is a list-or-tuple of lists-or-tuples-or ndarrays with different lengths or shapes) is deprecated. If you meant to do this, you must specify 'dtype=object' when creating the ndarray.\n",
      "\n",
      "\n",
      "WARNING RuntimeWarning: invalid value encountered in true_divide\n",
      "\n"
     ]
    }
   ],
   "source": [
    "data_handler = mla.threeml.data_handlers.ThreeMLDataHandler(\n",
    "    config['ThreeMLDataHandler'], sim, (data, grl))\n",
    "data_handler.injection_spectrum = inject_spectrum\n",
    "\n",
    "\n",
    "spatial_term_factory = mla.SpatialTermFactory(config['SpatialTermFactory'], data_handler, source)\n",
    "energy_term_factory = mla.threeml.sob_terms.ThreeMLPSIRFEnergyTermFactory(config['ThreeMLPSIRFEnergyTermFactory'], data_handler,source)\n",
    "llh_factory = mla.LLHTestStatisticFactory(config['LLHTestStatisticFactory'],[spatial_term_factory,energy_term_factory])#,time_term_factory])\n",
    "icecube=mla.threeml.IceCubeLike.IceCubeLike(source_name,data,data_handler,llh_factory,source,verbose=False,livetime = livetime)"
   ]
  },
  {
   "cell_type": "markdown",
   "id": "eee71d80-5dcb-463c-9578-97deeda47463",
   "metadata": {},
   "source": [
    "#### Repeat for all other data"
   ]
  },
  {
   "cell_type": "code",
   "execution_count": 8,
   "id": "34acbdbf-0ad0-4f83-9285-14952e650b3f",
   "metadata": {},
   "outputs": [
    {
     "name": "stderr",
     "output_type": "stream",
     "text": [
      "\n",
      "WARNING RuntimeWarning: invalid value encountered in true_divide\n",
      "\n",
      "\n",
      "WARNING RuntimeWarning: invalid value encountered in true_divide\n",
      "\n",
      "\n",
      "WARNING RuntimeWarning: invalid value encountered in true_divide\n",
      "\n"
     ]
    }
   ],
   "source": [
    "# Read in all of the MC files \n",
    "sim_files = DATA_PATH + \"/IC79*MC*npy\"\n",
    "sim = np.load([i for i in glob.glob(sim_files)][0])\n",
    "#n_keep = int(0.5*len(sim)) #server don't have that much memory for me to \n",
    "#sim = np.random.choice(sim, n_keep)\n",
    "sim=rf.append_fields(sim, 'sindec',\n",
    "                     np.sin(sim['dec']),\n",
    "                     usemask=False)\n",
    "# Read in all of the data files\n",
    "data_files = DATA_PATH + \"/IC79_*exp.npy\"\n",
    "listofdata = []\n",
    "data = read([i for i in glob.glob(data_files)])\n",
    "\n",
    "\n",
    "# Set the angular error floor to 0.2 degrees\n",
    "data['angErr'][data['angErr']<np.deg2rad(0.2)] = np.deg2rad(0.2)\n",
    "sim['angErr'][sim['angErr']<np.deg2rad(0.2)] = np.deg2rad(0.2)\n",
    "#np.random.seed(2) #for reproduce\n",
    "data['ra'] = np.random.uniform(0, 2*np.pi, size=len(data))\n",
    "grlfile = DATA_PATH + \"/GRL/IC79*_exp.npy\"\n",
    "grl = read([i for i in glob.glob(grlfile)])\n",
    "livetime = np.sum(grl['livetime'])\n",
    "bkg_days = np.sort(grl['stop'])[-1]-np.sort(grl['start'])[0]\n",
    "background_time_profile = mla.time_profiles.UniformProfile({'start':np.sort(grl['start'])[0], 'length':bkg_days})\n",
    "inject_signal_time_profile = mla.time_profiles.UniformProfile({'start':np.sort(grl['start'])[0], 'length':bkg_days})\n",
    "if 'sindec' not in data.dtype.names:\n",
    "    data = rf.append_fields(\n",
    "        data,\n",
    "        'sindec',\n",
    "        np.sin(data['dec']),\n",
    "        usemask=False,\n",
    "    )\n",
    "if 'sindec' not in sim.dtype.names:\n",
    "    sim = rf.append_fields(\n",
    "        sim,\n",
    "        'sindec',\n",
    "        np.sin(sim['dec']),\n",
    "        usemask=False,\n",
    "    )\n",
    "\n",
    "\n",
    "data_handler_79 = mla.threeml.data_handlers.ThreeMLDataHandler(\n",
    "    config['ThreeMLDataHandler'], sim, (data, grl))\n",
    "data_handler_79.injection_spectrum = inject_spectrum\n",
    "\n",
    "spatial_term_factory_79 = mla.SpatialTermFactory(config['SpatialTermFactory'], data_handler_79, source)\n",
    "energy_term_factory_79 = mla.threeml.sob_terms.ThreeMLPSIRFEnergyTermFactory(config['ThreeMLPSIRFEnergyTermFactory'], data_handler_79,source)\n",
    "llh_factory_79 = mla.LLHTestStatisticFactory(config['LLHTestStatisticFactory'],[spatial_term_factory_79,energy_term_factory_79])#,time_term_factory_79])\n",
    "icecube_79=mla.threeml.IceCubeLike.IceCubeLike(\"temp_79\",data,data_handler_79,llh_factory_79,source,verbose=False,livetime = livetime)\n",
    "               \n",
    "#Loading all the data , MC and good run list\n",
    "\n",
    "# Read in all of the MC files \n",
    "sim_files = DATA_PATH + \"/IC59*MC*npy\"\n",
    "sim = np.load([i for i in glob.glob(sim_files)][0])\n",
    "#n_keep = int(0.5*len(sim)) #server don't have that much memory for me to \n",
    "#sim = np.random.choice(sim, n_keep)\n",
    "sim=rf.append_fields(sim, 'sindec',\n",
    "                     np.sin(sim['dec']),\n",
    "                     usemask=False)\n",
    "\n",
    "\n",
    "# Read in all of the data files\n",
    "data_files = DATA_PATH + \"/IC59_*exp.npy\"\n",
    "listofdata = []\n",
    "data = read([i for i in glob.glob(data_files)])\n",
    "\n",
    "\n",
    "# Set the angular error floor to 0.2 degrees\n",
    "data['angErr'][data['angErr']<np.deg2rad(0.2)] = np.deg2rad(0.2)\n",
    "sim['angErr'][sim['angErr']<np.deg2rad(0.2)] = np.deg2rad(0.2)\n",
    "#np.random.seed(3) #for reproduce\n",
    "data['ra'] = np.random.uniform(0, 2*np.pi, size=len(data))\n",
    "grlfile = DATA_PATH + \"/GRL/IC59*_exp.npy\"\n",
    "grl = read([i for i in glob.glob(grlfile)])\n",
    "livetime = np.sum(grl['livetime'])\n",
    "bkg_days = np.sort(grl['stop'])[-1]-np.sort(grl['start'])[0]\n",
    "background_time_profile = mla.time_profiles.UniformProfile({'start':np.sort(grl['start'])[0], 'length':bkg_days})\n",
    "inject_signal_time_profile = mla.time_profiles.UniformProfile({'start':np.sort(grl['start'])[0], 'length':bkg_days})\n",
    "if 'sindec' not in data.dtype.names:\n",
    "    data = rf.append_fields(\n",
    "        data,\n",
    "        'sindec',\n",
    "        np.sin(data['dec']),\n",
    "        usemask=False,\n",
    "    )\n",
    "if 'sindec' not in sim.dtype.names:\n",
    "    sim = rf.append_fields(\n",
    "        sim,\n",
    "        'sindec',\n",
    "        np.sin(sim['dec']),\n",
    "        usemask=False,\n",
    "    )\n",
    "\n",
    "\n",
    "data_handler_59 = mla.threeml.data_handlers.ThreeMLDataHandler(\n",
    "    config['ThreeMLDataHandler'], sim, (data, grl))\n",
    "data_handler_59.injection_spectrum = inject_spectrum\n",
    "\n",
    "spatial_term_factory_59 = mla.SpatialTermFactory(config['SpatialTermFactory'], data_handler_59, source)\n",
    "energy_term_factory_59 = mla.threeml.sob_terms.ThreeMLPSIRFEnergyTermFactory(config['ThreeMLPSIRFEnergyTermFactory'], data_handler_59,source)\n",
    "llh_factory_59 = mla.LLHTestStatisticFactory(config['LLHTestStatisticFactory'],[spatial_term_factory_59,energy_term_factory_59])#,time_term_factory_59])\n",
    "icecube_59=mla.threeml.IceCubeLike.IceCubeLike(\"temp_59\",data,data_handler_59,llh_factory_59,source,verbose=False,livetime = livetime)               \n",
    "        \n",
    "#Loading all the data , MC and good run list\n",
    "\n",
    "# Read in all of the MC files \n",
    "sim_files = DATA_PATH + \"/IC40*MC*npy\"\n",
    "sim = np.load([i for i in glob.glob(sim_files)][0])\n",
    "#n_keep = int(0.5*len(sim)) #server don't have that much memory for me to \n",
    "#sim = np.random.choice(sim, n_keep)\n",
    "sim=rf.append_fields(sim, 'sindec',\n",
    "                     np.sin(sim['dec']),\n",
    "                     usemask=False)\n",
    "\n",
    "\n",
    "# Read in all of the data files\n",
    "data_files = DATA_PATH + \"/IC40_*exp.npy\"\n",
    "listofdata = []\n",
    "data = read([i for i in glob.glob(data_files)])\n",
    "\n",
    "\n",
    "# Set the angular error floor to 0.2 degrees\n",
    "data['angErr'][data['angErr']<np.deg2rad(0.2)] = np.deg2rad(0.2)\n",
    "sim['angErr'][sim['angErr']<np.deg2rad(0.2)] = np.deg2rad(0.2)\n",
    "#np.random.seed(2) #for reproduce\n",
    "data['ra'] = np.random.uniform(0, 2*np.pi, size=len(data))\n",
    "grlfile = DATA_PATH + \"/GRL/IC40*_exp.npy\"\n",
    "grl = read([i for i in glob.glob(grlfile)])\n",
    "livetime = np.sum(grl['livetime'])\n",
    "bkg_days = np.sort(grl['stop'])[-1]-np.sort(grl['start'])[0]\n",
    "background_time_profile = mla.time_profiles.UniformProfile({'start':np.sort(grl['start'])[0], 'length':bkg_days})\n",
    "inject_signal_time_profile = mla.time_profiles.UniformProfile({'start':np.sort(grl['start'])[0], 'length':bkg_days})\n",
    "if 'sindec' not in data.dtype.names:\n",
    "    data = rf.append_fields(\n",
    "        data,\n",
    "        'sindec',\n",
    "        np.sin(data['dec']),\n",
    "        usemask=False,\n",
    "    )\n",
    "if 'sindec' not in sim.dtype.names:\n",
    "    sim = rf.append_fields(\n",
    "        sim,\n",
    "        'sindec',\n",
    "        np.sin(sim['dec']),\n",
    "        usemask=False,\n",
    "    )\n",
    "\n",
    "\n",
    "data_handler_40 = mla.threeml.data_handlers.ThreeMLDataHandler(\n",
    "    config['ThreeMLDataHandler'], sim, (data, grl))\n",
    "data_handler_40.injection_spectrum = inject_spectrum\n",
    "\n",
    "spatial_term_factory_40 = mla.SpatialTermFactory(config['SpatialTermFactory'], data_handler_40, source)\n",
    "energy_term_factory_40 = mla.threeml.sob_terms.ThreeMLPSIRFEnergyTermFactory(config['ThreeMLPSIRFEnergyTermFactory'], data_handler_40,source)\n",
    "llh_factory_40 = mla.LLHTestStatisticFactory(config['LLHTestStatisticFactory'],[spatial_term_factory_40,energy_term_factory_40])#,time_term_factory_40])\n",
    "icecube_40=mla.threeml.IceCubeLike.IceCubeLike(\"temp_40\",data,data_handler_40,llh_factory_40,source,verbose=False,livetime = livetime)   "
   ]
  },
  {
   "cell_type": "markdown",
   "id": "5640070f-709f-4334-bfaf-267370f60ef1",
   "metadata": {},
   "source": [
    "#### Then combine all IceCubeLike objecti into icecube_analysis object"
   ]
  },
  {
   "cell_type": "code",
   "execution_count": 9,
   "id": "9219c645-f835-422b-9c7e-bdcc67fc1bec",
   "metadata": {},
   "outputs": [
    {
     "name": "stderr",
     "output_type": "stream",
     "text": [
      "\n",
      "WARNING VisibleDeprecationWarning: Creating an ndarray from ragged nested sequences (which is a list-or-tuple of lists-or-tuples-or ndarrays with different lengths or shapes) is deprecated. If you meant to do this, you must specify 'dtype=object' when creating the ndarray.\n",
      "\n"
     ]
    }
   ],
   "source": [
    "analysislist = mla.threeml.IceCubeLike.icecube_analysis([icecube,icecube_79,icecube_59,icecube_40])\n"
   ]
  },
  {
   "cell_type": "markdown",
   "id": "ab63270f-a60d-4b74-b818-f50f026e2806",
   "metadata": {},
   "source": [
    "### Source hypothesis"
   ]
  },
  {
   "cell_type": "code",
   "execution_count": 10,
   "id": "aa309594-fe29-41b3-9bb9-16a1c6f10991",
   "metadata": {},
   "outputs": [],
   "source": [
    "#Setting the source hypothesis\n",
    "#Here I will use the same as injection\n",
    "#Setting the source hypothesis\n",
    "#Here I will use the same as injection\n",
    "hypo_spectrum=threeML.Log_parabola()\n",
    "hypo_source=mla.threeml.IceCubeLike.NeutrinoPointSource(source_name, ra=inject_ra, dec=inject_dec, spectral_shape=hypo_spectrum) \n",
    "hypo_spectrum.piv = 3.5 * threeML.u.TeV #match HAWC 7 TeV gamma-ray pivot\n",
    "hypo_spectrum.alpha = -2\n",
    "hypo_spectrum.alpha.bounds = (-5.0, -1.0)\n",
    "hypo_spectrum.beta = 0\n",
    "hypo_spectrum.beta.bounds = (-1., 2.)\n",
    "hypo_spectrum.K.fix = True #Instead we will use newton method\n",
    "hypo_spectrum.set_units(threeML.u.keV,threeML.u.keV**-1*threeML.u.second**-1*threeML.u.cm**-2) #Fixing the unit help the calculation \n",
    "model=threeML.Model(hypo_source)\n",
    "analysislist.newton_flux_norm = True #We will not fit the flux with 3ML to speed up"
   ]
  },
  {
   "cell_type": "markdown",
   "id": "e1bbcc9d-7ac2-4f57-99dd-e01b7bb64b3c",
   "metadata": {},
   "source": [
    "### Background trial"
   ]
  },
  {
   "cell_type": "markdown",
   "id": "23714b87-4dd5-4b81-9e3e-7c509b64f918",
   "metadata": {},
   "source": [
    "Now we have everything we need, we could start to do a background trial"
   ]
  },
  {
   "cell_type": "code",
   "execution_count": 11,
   "id": "6998a81b-97e3-4113-825e-1940106b10a4",
   "metadata": {},
   "outputs": [],
   "source": [
    "analysislist.newton_flux_norm = True #We will not fit the flux with 3ML to speed up\n",
    "hypo_spectrum.K.fix = True #Instead we will use newton method"
   ]
  },
  {
   "cell_type": "code",
   "execution_count": 12,
   "id": "1f519e6e-ce6b-427a-b822-e5ff8667266c",
   "metadata": {},
   "outputs": [
    {
     "data": {
      "text/html": [
       "<pre style=\"white-space:pre;overflow-x:auto;line-height:normal;font-family:Menlo,'DejaVu Sans Mono',consolas,'Courier New',monospace\"><span style=\"color: #00ff00; text-decoration-color: #00ff00\">11:17:48 </span><span style=\"color: #00ffaf; text-decoration-color: #00ffaf\">INFO    </span> <span style=\"color: #c6c6c6; text-decoration-color: #c6c6c6; font-weight: bold\"> set the minimizer to minuit                                             </span><a href=\"file:///data/disk01/home/jasonfan/miniconda3/envs/mladev/lib/python3.9/site-packages/threeML/classicMLE/joint_likelihood.py\" target=\"_blank\"><span style=\"color: #7f7f7f; text-decoration-color: #7f7f7f\">joint_likelihood.py</span></a><span style=\"color: #7f7f7f; text-decoration-color: #7f7f7f\">:</span><a href=\"file:///data/disk01/home/jasonfan/miniconda3/envs/mladev/lib/python3.9/site-packages/threeML/classicMLE/joint_likelihood.py#1042\" target=\"_blank\"><span style=\"color: #7f7f7f; text-decoration-color: #7f7f7f\">1042</span></a>\n",
       "</pre>\n"
      ],
      "text/plain": [
       "\u001b[38;5;46m11:17:48\u001b[0m\u001b[38;5;46m \u001b[0m\u001b[38;5;49mINFO    \u001b[0m \u001b[1;38;5;251m set the minimizer to minuit                                            \u001b[0m\u001b[1;38;5;251m \u001b[0m\u001b]8;id=715313;file:///data/disk01/home/jasonfan/miniconda3/envs/mladev/lib/python3.9/site-packages/threeML/classicMLE/joint_likelihood.py\u001b\\\u001b[2mjoint_likelihood.py\u001b[0m\u001b]8;;\u001b\\\u001b[2m:\u001b[0m\u001b]8;id=864623;file:///data/disk01/home/jasonfan/miniconda3/envs/mladev/lib/python3.9/site-packages/threeML/classicMLE/joint_likelihood.py#1042\u001b\\\u001b[2m1042\u001b[0m\u001b]8;;\u001b\\\n"
      ]
     },
     "metadata": {},
     "output_type": "display_data"
    },
    {
     "data": {
      "text/html": [
       "<pre style=\"white-space:pre;overflow-x:auto;line-height:normal;font-family:Menlo,'DejaVu Sans Mono',consolas,'Courier New',monospace\"><span style=\"color: #00ff00; text-decoration-color: #00ff00\">         </span><span style=\"color: #00ffaf; text-decoration-color: #00ffaf\">INFO    </span> <span style=\"color: #c6c6c6; text-decoration-color: #c6c6c6; font-weight: bold\"> set the minimizer to SCIPY                                              </span><a href=\"file:///data/disk01/home/jasonfan/miniconda3/envs/mladev/lib/python3.9/site-packages/threeML/classicMLE/joint_likelihood.py\" target=\"_blank\"><span style=\"color: #7f7f7f; text-decoration-color: #7f7f7f\">joint_likelihood.py</span></a><span style=\"color: #7f7f7f; text-decoration-color: #7f7f7f\">:</span><a href=\"file:///data/disk01/home/jasonfan/miniconda3/envs/mladev/lib/python3.9/site-packages/threeML/classicMLE/joint_likelihood.py#1059\" target=\"_blank\"><span style=\"color: #7f7f7f; text-decoration-color: #7f7f7f\">1059</span></a>\n",
       "</pre>\n"
      ],
      "text/plain": [
       "\u001b[38;5;46m        \u001b[0m\u001b[38;5;46m \u001b[0m\u001b[38;5;49mINFO    \u001b[0m \u001b[1;38;5;251m set the minimizer to SCIPY                                             \u001b[0m\u001b[1;38;5;251m \u001b[0m\u001b]8;id=294729;file:///data/disk01/home/jasonfan/miniconda3/envs/mladev/lib/python3.9/site-packages/threeML/classicMLE/joint_likelihood.py\u001b\\\u001b[2mjoint_likelihood.py\u001b[0m\u001b]8;;\u001b\\\u001b[2m:\u001b[0m\u001b]8;id=256552;file:///data/disk01/home/jasonfan/miniconda3/envs/mladev/lib/python3.9/site-packages/threeML/classicMLE/joint_likelihood.py#1059\u001b\\\u001b[2m1059\u001b[0m\u001b]8;;\u001b\\\n"
      ]
     },
     "metadata": {},
     "output_type": "display_data"
    },
    {
     "data": {
      "text/html": [
       "<pre style=\"white-space:pre;overflow-x:auto;line-height:normal;font-family:Menlo,'DejaVu Sans Mono',consolas,'Courier New',monospace\"><span style=\"color: #00ff00; text-decoration-color: #00ff00\">11:17:50 </span><span style=\"color: #af5fd7; text-decoration-color: #af5fd7\">WARNING </span> <span style=\"color: #c6c6c6; text-decoration-color: #c6c6c6; font-weight: bold\"> get_number_of_data_points not implemented, values for statistical        </span><a href=\"file:///data/disk01/home/jasonfan/miniconda3/envs/mladev/lib/python3.9/site-packages/threeML/plugin_prototype.py\" target=\"_blank\"><span style=\"color: #7f7f7f; text-decoration-color: #7f7f7f\">plugin_prototype.py</span></a><span style=\"color: #7f7f7f; text-decoration-color: #7f7f7f\">:</span><a href=\"file:///data/disk01/home/jasonfan/miniconda3/envs/mladev/lib/python3.9/site-packages/threeML/plugin_prototype.py#128\" target=\"_blank\"><span style=\"color: #7f7f7f; text-decoration-color: #7f7f7f\">128</span></a>\n",
       "<span style=\"color: #00ff00; text-decoration-color: #00ff00\">         </span>         <span style=\"color: #c6c6c6; text-decoration-color: #c6c6c6; font-weight: bold\">measurements such as AIC or BIC are unreliable                            </span><span style=\"color: #7f7f7f; text-decoration-color: #7f7f7f\">                       </span>\n",
       "</pre>\n"
      ],
      "text/plain": [
       "\u001b[38;5;46m11:17:50\u001b[0m\u001b[38;5;46m \u001b[0m\u001b[38;5;134mWARNING \u001b[0m \u001b[1;38;5;251m get_number_of_data_points not implemented, values for statistical       \u001b[0m\u001b[1;38;5;251m \u001b[0m\u001b]8;id=204239;file:///data/disk01/home/jasonfan/miniconda3/envs/mladev/lib/python3.9/site-packages/threeML/plugin_prototype.py\u001b\\\u001b[2mplugin_prototype.py\u001b[0m\u001b]8;;\u001b\\\u001b[2m:\u001b[0m\u001b]8;id=186078;file:///data/disk01/home/jasonfan/miniconda3/envs/mladev/lib/python3.9/site-packages/threeML/plugin_prototype.py#128\u001b\\\u001b[2m128\u001b[0m\u001b]8;;\u001b\\\n",
       "\u001b[38;5;46m         \u001b[0m         \u001b[1;38;5;251mmeasurements such as AIC or BIC are unreliable                           \u001b[0m\u001b[1;38;5;251m \u001b[0m\u001b[2m                       \u001b[0m\n"
      ]
     },
     "metadata": {},
     "output_type": "display_data"
    },
    {
     "data": {
      "text/plain": [
       "(                                          value  negative_error  \\\n",
       " Crab.spectrum.main.Log_parabola.alpha -1.000050             0.0   \n",
       " Crab.spectrum.main.Log_parabola.beta   0.248109             0.0   \n",
       " \n",
       "                                        positive_error  error unit  \n",
       " Crab.spectrum.main.Log_parabola.alpha             0.0    0.0       \n",
       " Crab.spectrum.main.Log_parabola.beta              0.0    0.0       ,\n",
       "          -log(likelihood)\n",
       " combine         -0.301334\n",
       " total           -0.301334)"
      ]
     },
     "execution_count": 12,
     "metadata": {},
     "output_type": "execute_result"
    }
   ],
   "source": [
    "warnings.filterwarnings(\"ignore\")\n",
    "analysislist.injection(poisson=True) #Inject no signal, only scrambling background\n",
    "IceCubedata = threeML.DataList(analysislist)\n",
    "jl = threeML.JointLikelihood(model, IceCubedata)\n",
    "jl.set_minimizer('scipy') #scipy is faster if you are only interested in shape, not flux norm\n",
    "jl.fit(quiet=True,compute_covariance=False)"
   ]
  },
  {
   "cell_type": "markdown",
   "id": "801758d3-e36e-4078-bc69-410c9c6640d1",
   "metadata": {},
   "source": [
    "### Signal trial"
   ]
  },
  {
   "cell_type": "code",
   "execution_count": 13,
   "id": "09d8ecd1-b616-4d24-8f32-de33b24b8b6e",
   "metadata": {},
   "outputs": [],
   "source": [
    "#Setting the source hypothesis\n",
    "#Here I will use the same as injection\n",
    "hypo_spectrum=threeML.Log_parabola()\n",
    "hypo_source=mla.threeml.IceCubeLike.NeutrinoPointSource(source_name, ra=inject_ra, dec=inject_dec, spectral_shape=hypo_spectrum) \n",
    "hypo_spectrum.piv = 3.5 * threeML.u.TeV #match HAWC 7 TeV gamma-ray pivot\n",
    "hypo_spectrum.alpha = -2\n",
    "hypo_spectrum.alpha.bounds = (-5.0, -1.0)\n",
    "hypo_spectrum.beta = 0\n",
    "hypo_spectrum.beta.bounds = (-1., 2.)\n",
    "hypo_spectrum.K.fix = True #Instead we will use newton method\n",
    "hypo_spectrum.set_units(threeML.u.keV,threeML.u.keV**-1*threeML.u.second**-1*threeML.u.cm**-2) #Fixing the unit help the calculation \n",
    "model=threeML.Model(hypo_source)\n",
    "analysislist.newton_flux_norm = True #We will not fit the flux with 3ML to speed up\n"
   ]
  },
  {
   "cell_type": "markdown",
   "id": "0bbebf31-7d17-4df6-8d3b-68f101f37d1c",
   "metadata": {},
   "source": [
    "Let try to inject 50 neutrinos, it is close to 5 sigma discovery level of the crab based on the spectrum"
   ]
  },
  {
   "cell_type": "code",
   "execution_count": 14,
   "id": "64b25403-2f2b-4199-8ff0-2a0df53d1a81",
   "metadata": {},
   "outputs": [
    {
     "data": {
      "text/html": [
       "<pre style=\"white-space:pre;overflow-x:auto;line-height:normal;font-family:Menlo,'DejaVu Sans Mono',consolas,'Courier New',monospace\"><span style=\"color: #00ff00; text-decoration-color: #00ff00\">11:17:52 </span><span style=\"color: #00ffaf; text-decoration-color: #00ffaf\">INFO    </span> <span style=\"color: #c6c6c6; text-decoration-color: #c6c6c6; font-weight: bold\"> set the minimizer to minuit                                             </span><a href=\"file:///data/disk01/home/jasonfan/miniconda3/envs/mladev/lib/python3.9/site-packages/threeML/classicMLE/joint_likelihood.py\" target=\"_blank\"><span style=\"color: #7f7f7f; text-decoration-color: #7f7f7f\">joint_likelihood.py</span></a><span style=\"color: #7f7f7f; text-decoration-color: #7f7f7f\">:</span><a href=\"file:///data/disk01/home/jasonfan/miniconda3/envs/mladev/lib/python3.9/site-packages/threeML/classicMLE/joint_likelihood.py#1042\" target=\"_blank\"><span style=\"color: #7f7f7f; text-decoration-color: #7f7f7f\">1042</span></a>\n",
       "</pre>\n"
      ],
      "text/plain": [
       "\u001b[38;5;46m11:17:52\u001b[0m\u001b[38;5;46m \u001b[0m\u001b[38;5;49mINFO    \u001b[0m \u001b[1;38;5;251m set the minimizer to minuit                                            \u001b[0m\u001b[1;38;5;251m \u001b[0m\u001b]8;id=935860;file:///data/disk01/home/jasonfan/miniconda3/envs/mladev/lib/python3.9/site-packages/threeML/classicMLE/joint_likelihood.py\u001b\\\u001b[2mjoint_likelihood.py\u001b[0m\u001b]8;;\u001b\\\u001b[2m:\u001b[0m\u001b]8;id=955797;file:///data/disk01/home/jasonfan/miniconda3/envs/mladev/lib/python3.9/site-packages/threeML/classicMLE/joint_likelihood.py#1042\u001b\\\u001b[2m1042\u001b[0m\u001b]8;;\u001b\\\n"
      ]
     },
     "metadata": {},
     "output_type": "display_data"
    },
    {
     "data": {
      "text/html": [
       "<pre style=\"white-space:pre;overflow-x:auto;line-height:normal;font-family:Menlo,'DejaVu Sans Mono',consolas,'Courier New',monospace\"><span style=\"color: #00ff00; text-decoration-color: #00ff00\">         </span><span style=\"color: #00ffaf; text-decoration-color: #00ffaf\">INFO    </span> <span style=\"color: #c6c6c6; text-decoration-color: #c6c6c6; font-weight: bold\"> set the minimizer to SCIPY                                              </span><a href=\"file:///data/disk01/home/jasonfan/miniconda3/envs/mladev/lib/python3.9/site-packages/threeML/classicMLE/joint_likelihood.py\" target=\"_blank\"><span style=\"color: #7f7f7f; text-decoration-color: #7f7f7f\">joint_likelihood.py</span></a><span style=\"color: #7f7f7f; text-decoration-color: #7f7f7f\">:</span><a href=\"file:///data/disk01/home/jasonfan/miniconda3/envs/mladev/lib/python3.9/site-packages/threeML/classicMLE/joint_likelihood.py#1059\" target=\"_blank\"><span style=\"color: #7f7f7f; text-decoration-color: #7f7f7f\">1059</span></a>\n",
       "</pre>\n"
      ],
      "text/plain": [
       "\u001b[38;5;46m        \u001b[0m\u001b[38;5;46m \u001b[0m\u001b[38;5;49mINFO    \u001b[0m \u001b[1;38;5;251m set the minimizer to SCIPY                                             \u001b[0m\u001b[1;38;5;251m \u001b[0m\u001b]8;id=758915;file:///data/disk01/home/jasonfan/miniconda3/envs/mladev/lib/python3.9/site-packages/threeML/classicMLE/joint_likelihood.py\u001b\\\u001b[2mjoint_likelihood.py\u001b[0m\u001b]8;;\u001b\\\u001b[2m:\u001b[0m\u001b]8;id=707225;file:///data/disk01/home/jasonfan/miniconda3/envs/mladev/lib/python3.9/site-packages/threeML/classicMLE/joint_likelihood.py#1059\u001b\\\u001b[2m1059\u001b[0m\u001b]8;;\u001b\\\n"
      ]
     },
     "metadata": {},
     "output_type": "display_data"
    },
    {
     "data": {
      "text/html": [
       "<pre style=\"white-space:pre;overflow-x:auto;line-height:normal;font-family:Menlo,'DejaVu Sans Mono',consolas,'Courier New',monospace\"><span style=\"color: #00ff00; text-decoration-color: #00ff00\">11:17:55 </span><span style=\"color: #af5fd7; text-decoration-color: #af5fd7\">WARNING </span> <span style=\"color: #c6c6c6; text-decoration-color: #c6c6c6; font-weight: bold\"> get_number_of_data_points not implemented, values for statistical        </span><a href=\"file:///data/disk01/home/jasonfan/miniconda3/envs/mladev/lib/python3.9/site-packages/threeML/plugin_prototype.py\" target=\"_blank\"><span style=\"color: #7f7f7f; text-decoration-color: #7f7f7f\">plugin_prototype.py</span></a><span style=\"color: #7f7f7f; text-decoration-color: #7f7f7f\">:</span><a href=\"file:///data/disk01/home/jasonfan/miniconda3/envs/mladev/lib/python3.9/site-packages/threeML/plugin_prototype.py#128\" target=\"_blank\"><span style=\"color: #7f7f7f; text-decoration-color: #7f7f7f\">128</span></a>\n",
       "<span style=\"color: #00ff00; text-decoration-color: #00ff00\">         </span>         <span style=\"color: #c6c6c6; text-decoration-color: #c6c6c6; font-weight: bold\">measurements such as AIC or BIC are unreliable                            </span><span style=\"color: #7f7f7f; text-decoration-color: #7f7f7f\">                       </span>\n",
       "</pre>\n"
      ],
      "text/plain": [
       "\u001b[38;5;46m11:17:55\u001b[0m\u001b[38;5;46m \u001b[0m\u001b[38;5;134mWARNING \u001b[0m \u001b[1;38;5;251m get_number_of_data_points not implemented, values for statistical       \u001b[0m\u001b[1;38;5;251m \u001b[0m\u001b]8;id=319077;file:///data/disk01/home/jasonfan/miniconda3/envs/mladev/lib/python3.9/site-packages/threeML/plugin_prototype.py\u001b\\\u001b[2mplugin_prototype.py\u001b[0m\u001b]8;;\u001b\\\u001b[2m:\u001b[0m\u001b]8;id=148020;file:///data/disk01/home/jasonfan/miniconda3/envs/mladev/lib/python3.9/site-packages/threeML/plugin_prototype.py#128\u001b\\\u001b[2m128\u001b[0m\u001b]8;;\u001b\\\n",
       "\u001b[38;5;46m         \u001b[0m         \u001b[1;38;5;251mmeasurements such as AIC or BIC are unreliable                           \u001b[0m\u001b[1;38;5;251m \u001b[0m\u001b[2m                       \u001b[0m\n"
      ]
     },
     "metadata": {},
     "output_type": "display_data"
    },
    {
     "data": {
      "text/html": [
       "<pre style=\"white-space:pre;overflow-x:auto;line-height:normal;font-family:Menlo,'DejaVu Sans Mono',consolas,'Courier New',monospace\"><span style=\"color: #00ff00; text-decoration-color: #00ff00\">         </span><span style=\"color: #af5fd7; text-decoration-color: #af5fd7\">WARNING </span> <span style=\"color: #c6c6c6; text-decoration-color: #c6c6c6; font-weight: bold\"> </span><span style=\"color: #c0c0c0; text-decoration-color: #c0c0c0; font-weight: bold\">57.199999999999996</span><span style=\"color: #c6c6c6; text-decoration-color: #c6c6c6; font-weight: bold\"> percent of samples have been thrown away because     </span><a href=\"file:///data/disk01/home/jasonfan/miniconda3/envs/mladev/lib/python3.9/site-packages/threeML/analysis_results.py\" target=\"_blank\"><span style=\"color: #7f7f7f; text-decoration-color: #7f7f7f\">analysis_results.py</span></a><span style=\"color: #7f7f7f; text-decoration-color: #7f7f7f\">:</span><a href=\"file:///data/disk01/home/jasonfan/miniconda3/envs/mladev/lib/python3.9/site-packages/threeML/analysis_results.py#1737\" target=\"_blank\"><span style=\"color: #7f7f7f; text-decoration-color: #7f7f7f\">1737</span></a>\n",
       "<span style=\"color: #00ff00; text-decoration-color: #00ff00\">         </span>         <span style=\"color: #c6c6c6; text-decoration-color: #c6c6c6; font-weight: bold\">they failed the constraints on the parameters. This results might not be </span><span style=\"color: #7f7f7f; text-decoration-color: #7f7f7f\">                        </span>\n",
       "<span style=\"color: #00ff00; text-decoration-color: #00ff00\">         </span>         <span style=\"color: #c6c6c6; text-decoration-color: #c6c6c6; font-weight: bold\">suitable for error propagation. Enlarge the boundaries until you loose   </span><span style=\"color: #7f7f7f; text-decoration-color: #7f7f7f\">                        </span>\n",
       "<span style=\"color: #00ff00; text-decoration-color: #00ff00\">         </span>         <span style=\"color: #c6c6c6; text-decoration-color: #c6c6c6; font-weight: bold\">less than </span><span style=\"color: #c0c0c0; text-decoration-color: #c0c0c0; font-weight: bold\">1</span><span style=\"color: #c6c6c6; text-decoration-color: #c6c6c6; font-weight: bold\"> percent of the samples.                                      </span><span style=\"color: #7f7f7f; text-decoration-color: #7f7f7f\">                        </span>\n",
       "</pre>\n"
      ],
      "text/plain": [
       "\u001b[38;5;46m        \u001b[0m\u001b[38;5;46m \u001b[0m\u001b[38;5;134mWARNING \u001b[0m \u001b[1;38;5;251m \u001b[0m\u001b[1;37m57.199999999999996\u001b[0m\u001b[1;38;5;251m percent of samples have been thrown away because    \u001b[0m\u001b[1;38;5;251m \u001b[0m\u001b]8;id=284347;file:///data/disk01/home/jasonfan/miniconda3/envs/mladev/lib/python3.9/site-packages/threeML/analysis_results.py\u001b\\\u001b[2manalysis_results.py\u001b[0m\u001b]8;;\u001b\\\u001b[2m:\u001b[0m\u001b]8;id=178007;file:///data/disk01/home/jasonfan/miniconda3/envs/mladev/lib/python3.9/site-packages/threeML/analysis_results.py#1737\u001b\\\u001b[2m1737\u001b[0m\u001b]8;;\u001b\\\n",
       "\u001b[38;5;46m         \u001b[0m         \u001b[1;38;5;251mthey failed the constraints on the parameters. This results might not be\u001b[0m\u001b[1;38;5;251m \u001b[0m\u001b[2m                        \u001b[0m\n",
       "\u001b[38;5;46m         \u001b[0m         \u001b[1;38;5;251msuitable for error propagation. Enlarge the boundaries until you loose  \u001b[0m\u001b[1;38;5;251m \u001b[0m\u001b[2m                        \u001b[0m\n",
       "\u001b[38;5;46m         \u001b[0m         \u001b[1;38;5;251mless than \u001b[0m\u001b[1;37m1\u001b[0m\u001b[1;38;5;251m percent of the samples.                                     \u001b[0m\u001b[1;38;5;251m \u001b[0m\u001b[2m                        \u001b[0m\n"
      ]
     },
     "metadata": {},
     "output_type": "display_data"
    },
    {
     "data": {
      "text/plain": [
       "(                                          value  negative_error  \\\n",
       " Crab.spectrum.main.Log_parabola.alpha -2.758362       -1.284259   \n",
       " Crab.spectrum.main.Log_parabola.beta   0.179336       -0.713355   \n",
       " \n",
       "                                        positive_error     error unit  \n",
       " Crab.spectrum.main.Log_parabola.alpha        1.177538  1.230899       \n",
       " Crab.spectrum.main.Log_parabola.beta         0.904531  0.808943       ,\n",
       "          -log(likelihood)\n",
       " combine         -0.822253\n",
       " total           -0.822253)"
      ]
     },
     "execution_count": 14,
     "metadata": {},
     "output_type": "execute_result"
    }
   ],
   "source": [
    "\n",
    "analysislist.injection(n_signal=50,poisson=True) #Inject signal+scrambling background\n",
    "IceCubedata = threeML.DataList(analysislist)\n",
    "jl = threeML.JointLikelihood(model, IceCubedata)\n",
    "jl.set_minimizer('scipy')\n",
    "jl.fit(quiet=True,compute_covariance=True)"
   ]
  },
  {
   "cell_type": "markdown",
   "id": "3c9987f3-a5c9-4f7d-aaba-1172e74e9264",
   "metadata": {},
   "source": [
    "In i3mla, the -log(likelihood) is actually the difference between the -log(likelihood) of signal+background hypothesis and -log(likelihood) of background-only hypothesis. It is valid because -log(likelihood) of background-only is a constant. To get the TS, simply multiply the -log(likelihood) by -2. Sometime the fit fails, try again with compute_covariance turn off."
   ]
  },
  {
   "cell_type": "code",
   "execution_count": 15,
   "id": "293bc86b-ae7e-4a6b-bcf1-6454f47c1b21",
   "metadata": {},
   "outputs": [
    {
     "name": "stdout",
     "output_type": "stream",
     "text": [
      "1.6445060091223858 11.518377016028808\n"
     ]
    }
   ],
   "source": [
    "TS = analysislist.get_log_like() * 2\n",
    "best_ns = analysislist.get_current_fit_ns()\n",
    "print(TS,best_ns)"
   ]
  },
  {
   "cell_type": "markdown",
   "id": "2da17e8b-28ca-4b7d-99b2-4e2ede492225",
   "metadata": {},
   "source": [
    "To convert the best-fit ns to flux base on the injection spectrum, we can do"
   ]
  },
  {
   "cell_type": "code",
   "execution_count": 16,
   "id": "4a9a0d9e-2f4c-4bab-96f1-52dd485eda25",
   "metadata": {},
   "outputs": [
    {
     "name": "stdout",
     "output_type": "stream",
     "text": [
      "9.961878775391675e-14\n"
     ]
    }
   ],
   "source": [
    "flux_norm_keV = analysislist.cal_injection_fluxnorm(best_ns) * injection_spectrum.K.value #the result is in keV\n",
    "flux_norm_TeV = flux_norm_keV*1e9\n",
    "print(flux_norm_TeV) #in TeV"
   ]
  },
  {
   "cell_type": "markdown",
   "id": "7f751176-2056-409c-967a-90def6cdbb0e",
   "metadata": {},
   "source": [
    "### Joint fit with a general spectrum"
   ]
  },
  {
   "cell_type": "markdown",
   "id": "41b87c18-89b7-4418-bc65-519d2c1ddc13",
   "metadata": {},
   "source": [
    "In this part of the code, I will show how to joint-fit the IceCube data with a general spectrum object. It is very similar to joint-fit with other experimental data"
   ]
  },
  {
   "cell_type": "markdown",
   "id": "e8c06920-3ec8-49c3-a7c9-af0f6a1f9009",
   "metadata": {},
   "source": [
    "#### Creating Synthetic Data"
   ]
  },
  {
   "cell_type": "code",
   "execution_count": 17,
   "id": "e4bb6a76-4c01-4e2b-80a2-d4c49dbfbfdc",
   "metadata": {},
   "outputs": [
    {
     "data": {
      "text/html": [
       "<pre style=\"white-space:pre;overflow-x:auto;line-height:normal;font-family:Menlo,'DejaVu Sans Mono',consolas,'Courier New',monospace\"><span style=\"color: #00ff00; text-decoration-color: #00ff00\">         </span><span style=\"color: #00ffaf; text-decoration-color: #00ffaf\">INFO    </span> <span style=\"color: #c6c6c6; text-decoration-color: #c6c6c6; font-weight: bold\"> Using Gaussian statistic (equivalent to chi^</span><span style=\"color: #c0c0c0; text-decoration-color: #c0c0c0; font-weight: bold\">2</span><span style=\"color: #c6c6c6; text-decoration-color: #c6c6c6; font-weight: bold\">) with the provided errors.            </span><a href=\"file:///data/disk01/home/jasonfan/miniconda3/envs/mladev/lib/python3.9/site-packages/threeML/plugins/XYLike.py\" target=\"_blank\"><span style=\"color: #7f7f7f; text-decoration-color: #7f7f7f\">XYLike.py</span></a><span style=\"color: #7f7f7f; text-decoration-color: #7f7f7f\">:</span><a href=\"file:///data/disk01/home/jasonfan/miniconda3/envs/mladev/lib/python3.9/site-packages/threeML/plugins/XYLike.py#89\" target=\"_blank\"><span style=\"color: #7f7f7f; text-decoration-color: #7f7f7f\">89</span></a>\n",
       "</pre>\n"
      ],
      "text/plain": [
       "\u001b[38;5;46m        \u001b[0m\u001b[38;5;46m \u001b[0m\u001b[38;5;49mINFO    \u001b[0m \u001b[1;38;5;251m Using Gaussian statistic \u001b[0m\u001b[1;38;5;251m(\u001b[0m\u001b[1;38;5;251mequivalent to chi^\u001b[0m\u001b[1;37m2\u001b[0m\u001b[1;38;5;251m)\u001b[0m\u001b[1;38;5;251m with the provided errors.           \u001b[0m\u001b[1;38;5;251m \u001b[0m\u001b]8;id=574985;file:///data/disk01/home/jasonfan/miniconda3/envs/mladev/lib/python3.9/site-packages/threeML/plugins/XYLike.py\u001b\\\u001b[2mXYLike.py\u001b[0m\u001b]8;;\u001b\\\u001b[2m:\u001b[0m\u001b]8;id=758698;file:///data/disk01/home/jasonfan/miniconda3/envs/mladev/lib/python3.9/site-packages/threeML/plugins/XYLike.py#89\u001b\\\u001b[2m89\u001b[0m\u001b]8;;\u001b\\\n"
      ]
     },
     "metadata": {},
     "output_type": "display_data"
    },
    {
     "data": {
      "text/html": [
       "<pre style=\"white-space:pre;overflow-x:auto;line-height:normal;font-family:Menlo,'DejaVu Sans Mono',consolas,'Courier New',monospace\"><span style=\"color: #00ff00; text-decoration-color: #00ff00\">11:17:57 </span><span style=\"color: #00ffaf; text-decoration-color: #00ffaf\">INFO    </span> <span style=\"color: #c6c6c6; text-decoration-color: #c6c6c6; font-weight: bold\"> Using Gaussian statistic (equivalent to chi^</span><span style=\"color: #c0c0c0; text-decoration-color: #c0c0c0; font-weight: bold\">2</span><span style=\"color: #c6c6c6; text-decoration-color: #c6c6c6; font-weight: bold\">) with the provided errors.            </span><a href=\"file:///data/disk01/home/jasonfan/miniconda3/envs/mladev/lib/python3.9/site-packages/threeML/plugins/XYLike.py\" target=\"_blank\"><span style=\"color: #7f7f7f; text-decoration-color: #7f7f7f\">XYLike.py</span></a><span style=\"color: #7f7f7f; text-decoration-color: #7f7f7f\">:</span><a href=\"file:///data/disk01/home/jasonfan/miniconda3/envs/mladev/lib/python3.9/site-packages/threeML/plugins/XYLike.py#89\" target=\"_blank\"><span style=\"color: #7f7f7f; text-decoration-color: #7f7f7f\">89</span></a>\n",
       "</pre>\n"
      ],
      "text/plain": [
       "\u001b[38;5;46m11:17:57\u001b[0m\u001b[38;5;46m \u001b[0m\u001b[38;5;49mINFO    \u001b[0m \u001b[1;38;5;251m Using Gaussian statistic \u001b[0m\u001b[1;38;5;251m(\u001b[0m\u001b[1;38;5;251mequivalent to chi^\u001b[0m\u001b[1;37m2\u001b[0m\u001b[1;38;5;251m)\u001b[0m\u001b[1;38;5;251m with the provided errors.           \u001b[0m\u001b[1;38;5;251m \u001b[0m\u001b]8;id=681061;file:///data/disk01/home/jasonfan/miniconda3/envs/mladev/lib/python3.9/site-packages/threeML/plugins/XYLike.py\u001b\\\u001b[2mXYLike.py\u001b[0m\u001b]8;;\u001b\\\u001b[2m:\u001b[0m\u001b]8;id=432269;file:///data/disk01/home/jasonfan/miniconda3/envs/mladev/lib/python3.9/site-packages/threeML/plugins/XYLike.py#89\u001b\\\u001b[2m89\u001b[0m\u001b]8;;\u001b\\\n"
      ]
     },
     "metadata": {},
     "output_type": "display_data"
    },
    {
     "data": {
      "image/png": "[encoded data removed]",
      "text/plain": [
       "<Figure size 640x480 with 1 Axes>"
      ]
     },
     "metadata": {},
     "output_type": "display_data"
    }
   ],
   "source": [
    "%matplotlib inline\n",
    "# Assuming the gamma-ray data come from Hadronic interaction, then the model with has the same spectral shape and K, but double the pivot energy\n",
    "\n",
    "gamma_inject_spectrum=threeML.Log_parabola()\n",
    "#notice that the ra and dec don't matter, it is only for the spectrum\n",
    "gamma_injection_source=mla.threeml.IceCubeLike.NeutrinoPointSource(source_name, ra=inject_ra, dec=inject_dec, spectral_shape=gamma_inject_spectrum)\n",
    "\n",
    "gamma_inject_spectrum.alpha  = -2.79 #HAWC result\n",
    "gamma_inject_spectrum.beta  = 0.1 #HAWC result\n",
    "gamma_inject_spectrum.piv = 7 * threeML.u.TeV \n",
    "gamma_inject_spectrum.K = 2.35e-13 * threeML.u.TeV**-1*threeML.u.second**-1*threeML.u.cm**-2 #HAWC result\n",
    "gamma_inject_spectrum.set_units(threeML.u.keV,threeML.u.keV**-1*threeML.u.second**-1*threeML.u.cm**-2) #Fixing the unit help the calculation \n",
    "\n",
    "generating_function = gamma_inject_spectrum\n",
    "\n",
    "# set up the x grig points\n",
    "x_points = np.logspace(8, 12, 50)\n",
    "\n",
    "# call the from_function classmethod\n",
    "xyl_generator = threeML.XYLike.from_function(\n",
    "    \"sim_data\",\n",
    "    function=generating_function,\n",
    "    x=x_points,\n",
    "    yerr=0.3 * generating_function(x_points),\n",
    ")\n",
    "\n",
    "\n",
    "fig = xyl_generator.plot(x_scale=\"log\", y_scale=\"log\")"
   ]
  },
  {
   "cell_type": "markdown",
   "id": "0c635fc6-7cdf-4168-9407-96b7606c9e57",
   "metadata": {},
   "source": [
    "Now we have Synthetic gamma-ray Data and the plugin object(xyl_generator is also the plugin object). We can define a model connecting the gamma-ray and neutrino. In here, I assume all the flux are hadronic so the shape will be the same and flux norm will be the same(while pivot is different)"
   ]
  },
  {
   "cell_type": "code",
   "execution_count": 18,
   "id": "edc0e4c0-296d-4188-8c53-5bf1196a4d3e",
   "metadata": {},
   "outputs": [],
   "source": [
    "#for the gamma-ray\n",
    "hypo_gamma_spectrum=threeML.Log_parabola()\n",
    "hypo_gamma_source=threeML.PointSource(source_name, ra=inject_ra, dec=inject_dec, spectral_shape=hypo_gamma_spectrum) \n",
    "hypo_gamma_spectrum.piv = 7 * threeML.u.TeV #match HAWC 7 TeV gamma-ray pivot\n",
    "hypo_gamma_spectrum.alpha = -2\n",
    "hypo_gamma_spectrum.alpha.bounds = (-5.0, -1.0)\n",
    "hypo_gamma_spectrum.beta = 0\n",
    "hypo_gamma_spectrum.beta.bounds = (-1., 2.)\n",
    "hypo_gamma_spectrum.K.fix = False #Here we also fit the flux\n",
    "hypo_gamma_spectrum.set_units(threeML.u.keV,threeML.u.keV**-1*threeML.u.second**-1*threeML.u.cm**-2) #Fixing the unit help the calculation \n"
   ]
  },
  {
   "cell_type": "code",
   "execution_count": 19,
   "id": "8a71e4c1-98e3-47c5-93cb-5398819f1968",
   "metadata": {},
   "outputs": [],
   "source": [
    "#for the neutrino\n",
    "hypo_spectrum=threeML.Log_parabola()\n",
    "hypo_source=mla.threeml.IceCubeLike.NeutrinoPointSource(source_name+\"_nu\", ra=inject_ra, dec=inject_dec, spectral_shape=hypo_spectrum) \n",
    "hypo_spectrum.piv = 3.5 * threeML.u.TeV #match HAWC 7 TeV gamma-ray pivot\n",
    "hypo_spectrum.alpha = -2\n",
    "hypo_spectrum.alpha.bounds = (-5.0, -1.0)\n",
    "hypo_spectrum.beta = 0\n",
    "hypo_spectrum.beta.bounds = (-1., 2.)\n",
    "hypo_spectrum.K.fix = False #Here we also fit the flux\n",
    "hypo_spectrum.set_units(threeML.u.keV,threeML.u.keV**-1*threeML.u.second**-1*threeML.u.cm**-2) #Fixing the unit help the calculation "
   ]
  },
  {
   "cell_type": "code",
   "execution_count": 20,
   "id": "78115b10-5284-4df1-a2f4-bae1d7634580",
   "metadata": {},
   "outputs": [],
   "source": [
    "#Link everything\n",
    "model=threeML.Model(hypo_source)\n",
    "model.add_source(hypo_gamma_source)\n",
    "model.link(model.sources[source_name+\"_nu\"].spectrum.main.shape.alpha, \n",
    "       model.sources[source_name].spectrum.main.shape.alpha)\n",
    "model.link(model.sources[source_name+\"_nu\"].spectrum.main.shape.beta, \n",
    "       model.sources[source_name].spectrum.main.shape.beta)\n",
    "model.link(model.sources[source_name+\"_nu\"].spectrum.main.shape.K, \n",
    "       model.sources[source_name].spectrum.main.shape.K)"
   ]
  },
  {
   "cell_type": "code",
   "execution_count": 21,
   "id": "8d85f325-9967-46b9-86ad-cc89723d090b",
   "metadata": {},
   "outputs": [
    {
     "name": "stdout",
     "output_type": "stream",
     "text": [
      "We should inject:\n",
      "27.17176921106792\n"
     ]
    }
   ],
   "source": [
    "#Let us calculate how much neutrino we should inject to match the flux of the gamma rays\n",
    "ns_inject= analysislist.cal_injection_ns(gamma_inject_spectrum.K.value*1e6) \n",
    "print(\"We should inject:\")\n",
    "print(ns_inject)"
   ]
  },
  {
   "cell_type": "markdown",
   "id": "503fde5b-5fe6-4080-9af0-8fb3ff540885",
   "metadata": {},
   "source": [
    "#### Ok we can do the analysis now"
   ]
  },
  {
   "cell_type": "code",
   "execution_count": 22,
   "id": "ea08a9c5-0a32-4617-9f76-ae508c2ac21f",
   "metadata": {},
   "outputs": [
    {
     "data": {
      "text/html": [
       "<pre style=\"white-space:pre;overflow-x:auto;line-height:normal;font-family:Menlo,'DejaVu Sans Mono',consolas,'Courier New',monospace\"><span style=\"color: #00ff00; text-decoration-color: #00ff00\">11:17:59 </span><span style=\"color: #00ffaf; text-decoration-color: #00ffaf\">INFO    </span> <span style=\"color: #c6c6c6; text-decoration-color: #c6c6c6; font-weight: bold\"> set the minimizer to minuit                                             </span><a href=\"file:///data/disk01/home/jasonfan/miniconda3/envs/mladev/lib/python3.9/site-packages/threeML/classicMLE/joint_likelihood.py\" target=\"_blank\"><span style=\"color: #7f7f7f; text-decoration-color: #7f7f7f\">joint_likelihood.py</span></a><span style=\"color: #7f7f7f; text-decoration-color: #7f7f7f\">:</span><a href=\"file:///data/disk01/home/jasonfan/miniconda3/envs/mladev/lib/python3.9/site-packages/threeML/classicMLE/joint_likelihood.py#1042\" target=\"_blank\"><span style=\"color: #7f7f7f; text-decoration-color: #7f7f7f\">1042</span></a>\n",
       "</pre>\n"
      ],
      "text/plain": [
       "\u001b[38;5;46m11:17:59\u001b[0m\u001b[38;5;46m \u001b[0m\u001b[38;5;49mINFO    \u001b[0m \u001b[1;38;5;251m set the minimizer to minuit                                            \u001b[0m\u001b[1;38;5;251m \u001b[0m\u001b]8;id=801327;file:///data/disk01/home/jasonfan/miniconda3/envs/mladev/lib/python3.9/site-packages/threeML/classicMLE/joint_likelihood.py\u001b\\\u001b[2mjoint_likelihood.py\u001b[0m\u001b]8;;\u001b\\\u001b[2m:\u001b[0m\u001b]8;id=703617;file:///data/disk01/home/jasonfan/miniconda3/envs/mladev/lib/python3.9/site-packages/threeML/classicMLE/joint_likelihood.py#1042\u001b\\\u001b[2m1042\u001b[0m\u001b]8;;\u001b\\\n"
      ]
     },
     "metadata": {},
     "output_type": "display_data"
    },
    {
     "data": {
      "text/html": [
       "<pre style=\"white-space:pre;overflow-x:auto;line-height:normal;font-family:Menlo,'DejaVu Sans Mono',consolas,'Courier New',monospace\"><span style=\"color: #00ff00; text-decoration-color: #00ff00\">         </span><span style=\"color: #00ffaf; text-decoration-color: #00ffaf\">INFO    </span> <span style=\"color: #c6c6c6; text-decoration-color: #c6c6c6; font-weight: bold\"> set the minimizer to MINUIT                                             </span><a href=\"file:///data/disk01/home/jasonfan/miniconda3/envs/mladev/lib/python3.9/site-packages/threeML/classicMLE/joint_likelihood.py\" target=\"_blank\"><span style=\"color: #7f7f7f; text-decoration-color: #7f7f7f\">joint_likelihood.py</span></a><span style=\"color: #7f7f7f; text-decoration-color: #7f7f7f\">:</span><a href=\"file:///data/disk01/home/jasonfan/miniconda3/envs/mladev/lib/python3.9/site-packages/threeML/classicMLE/joint_likelihood.py#1059\" target=\"_blank\"><span style=\"color: #7f7f7f; text-decoration-color: #7f7f7f\">1059</span></a>\n",
       "</pre>\n"
      ],
      "text/plain": [
       "\u001b[38;5;46m        \u001b[0m\u001b[38;5;46m \u001b[0m\u001b[38;5;49mINFO    \u001b[0m \u001b[1;38;5;251m set the minimizer to MINUIT                                            \u001b[0m\u001b[1;38;5;251m \u001b[0m\u001b]8;id=368867;file:///data/disk01/home/jasonfan/miniconda3/envs/mladev/lib/python3.9/site-packages/threeML/classicMLE/joint_likelihood.py\u001b\\\u001b[2mjoint_likelihood.py\u001b[0m\u001b]8;;\u001b\\\u001b[2m:\u001b[0m\u001b]8;id=141174;file:///data/disk01/home/jasonfan/miniconda3/envs/mladev/lib/python3.9/site-packages/threeML/classicMLE/joint_likelihood.py#1059\u001b\\\u001b[2m1059\u001b[0m\u001b]8;;\u001b\\\n"
      ]
     },
     "metadata": {},
     "output_type": "display_data"
    },
    {
     "data": {
      "text/html": [
       "<pre style=\"white-space:pre;overflow-x:auto;line-height:normal;font-family:Menlo,'DejaVu Sans Mono',consolas,'Courier New',monospace\"><span style=\"color: #00ff00; text-decoration-color: #00ff00\">11:18:14 </span><span style=\"color: #af5fd7; text-decoration-color: #af5fd7\">WARNING </span> <span style=\"color: #c6c6c6; text-decoration-color: #c6c6c6; font-weight: bold\"> get_number_of_data_points not implemented, values for statistical        </span><a href=\"file:///data/disk01/home/jasonfan/miniconda3/envs/mladev/lib/python3.9/site-packages/threeML/plugin_prototype.py\" target=\"_blank\"><span style=\"color: #7f7f7f; text-decoration-color: #7f7f7f\">plugin_prototype.py</span></a><span style=\"color: #7f7f7f; text-decoration-color: #7f7f7f\">:</span><a href=\"file:///data/disk01/home/jasonfan/miniconda3/envs/mladev/lib/python3.9/site-packages/threeML/plugin_prototype.py#128\" target=\"_blank\"><span style=\"color: #7f7f7f; text-decoration-color: #7f7f7f\">128</span></a>\n",
       "<span style=\"color: #00ff00; text-decoration-color: #00ff00\">         </span>         <span style=\"color: #c6c6c6; text-decoration-color: #c6c6c6; font-weight: bold\">measurements such as AIC or BIC are unreliable                            </span><span style=\"color: #7f7f7f; text-decoration-color: #7f7f7f\">                       </span>\n",
       "</pre>\n"
      ],
      "text/plain": [
       "\u001b[38;5;46m11:18:14\u001b[0m\u001b[38;5;46m \u001b[0m\u001b[38;5;134mWARNING \u001b[0m \u001b[1;38;5;251m get_number_of_data_points not implemented, values for statistical       \u001b[0m\u001b[1;38;5;251m \u001b[0m\u001b]8;id=325431;file:///data/disk01/home/jasonfan/miniconda3/envs/mladev/lib/python3.9/site-packages/threeML/plugin_prototype.py\u001b\\\u001b[2mplugin_prototype.py\u001b[0m\u001b]8;;\u001b\\\u001b[2m:\u001b[0m\u001b]8;id=465088;file:///data/disk01/home/jasonfan/miniconda3/envs/mladev/lib/python3.9/site-packages/threeML/plugin_prototype.py#128\u001b\\\u001b[2m128\u001b[0m\u001b]8;;\u001b\\\n",
       "\u001b[38;5;46m         \u001b[0m         \u001b[1;38;5;251mmeasurements such as AIC or BIC are unreliable                           \u001b[0m\u001b[1;38;5;251m \u001b[0m\u001b[2m                       \u001b[0m\n"
      ]
     },
     "metadata": {},
     "output_type": "display_data"
    },
    {
     "data": {
      "text/plain": [
       "(                                              value  negative_error  \\\n",
       " Crab.spectrum.main.Log_parabola.K      2.436171e-22   -1.459157e-23   \n",
       " Crab.spectrum.main.Log_parabola.alpha -2.782062e+00   -1.584028e-02   \n",
       " Crab.spectrum.main.Log_parabola.beta   9.884621e-02   -6.048198e-03   \n",
       " \n",
       "                                        positive_error         error  \\\n",
       " Crab.spectrum.main.Log_parabola.K        1.487150e-23  1.473154e-23   \n",
       " Crab.spectrum.main.Log_parabola.alpha    1.529385e-02  1.556707e-02   \n",
       " Crab.spectrum.main.Log_parabola.beta     6.121894e-03  6.085046e-03   \n",
       " \n",
       "                                                   unit  \n",
       " Crab.spectrum.main.Log_parabola.K      1 / (cm2 keV s)  \n",
       " Crab.spectrum.main.Log_parabola.alpha                   \n",
       " Crab.spectrum.main.Log_parabola.beta                    ,\n",
       "           -log(likelihood)\n",
       " combine          -5.217871\n",
       " sim_data         23.898381\n",
       " total            18.680510)"
      ]
     },
     "execution_count": 22,
     "metadata": {},
     "output_type": "execute_result"
    }
   ],
   "source": [
    "analysislist.newton_flux_norm=False\n",
    "analysislist.injection(n_signal=ns_inject,poisson=True) #Inject signal+scrambling background\n",
    "IceCubedata = threeML.DataList(analysislist,xyl_generator)\n",
    "jl = threeML.JointLikelihood(model, IceCubedata)\n",
    "jl.set_minimizer('minuit')\n",
    "jl.fit(quiet=True,compute_covariance=True)"
   ]
  },
  {
   "cell_type": "markdown",
   "id": "eb47a745-2a02-4e41-a357-e431f5848e1b",
   "metadata": {},
   "source": [
    "We can calculate the TS and best-fit ns on the IceCube again"
   ]
  },
  {
   "cell_type": "code",
   "execution_count": 23,
   "id": "fd005f37-62a0-463f-80f5-5a9ee622e7ed",
   "metadata": {},
   "outputs": [
    {
     "name": "stdout",
     "output_type": "stream",
     "text": [
      "10.435742473338077 31.367863080642085\n"
     ]
    }
   ],
   "source": [
    "TS = analysislist.get_log_like() * 2\n",
    "best_ns = analysislist.get_current_fit_ns()\n",
    "print(TS,best_ns)"
   ]
  },
  {
   "cell_type": "markdown",
   "id": "f0a628e7-ce07-4bc2-a6ad-bcd3e169ec51",
   "metadata": {},
   "source": [
    "and the best-fit flux "
   ]
  },
  {
   "cell_type": "code",
   "execution_count": 24,
   "id": "3a7facda-1de0-48bd-a758-9d670163df16",
   "metadata": {},
   "outputs": [
    {
     "name": "stdout",
     "output_type": "stream",
     "text": [
      "2.436171163428898e-13\n"
     ]
    }
   ],
   "source": [
    "print(model.Crab_nu.spectrum.main.Log_parabola.K.value * 1e9)"
   ]
  },
  {
   "cell_type": "markdown",
   "id": "a564c820-6275-4545-b91b-36506dbaf370",
   "metadata": {},
   "source": [
    "We underestimated the true Flux, but we have a relative weak signal so it is fine."
   ]
  },
  {
   "cell_type": "markdown",
   "id": "0663dd6e-72c1-4184-aca9-62d7948a262f",
   "metadata": {},
   "source": [
    "#### Alternative, we can fit the shape only and let the flux float"
   ]
  },
  {
   "cell_type": "code",
   "execution_count": 28,
   "id": "081067bc-1459-4cb4-975f-9f206ef20ffd",
   "metadata": {},
   "outputs": [],
   "source": [
    "#for the gamma-ray\n",
    "hypo_gamma_spectrum=threeML.Log_parabola()\n",
    "hypo_gamma_source=threeML.PointSource(source_name, ra=inject_ra, dec=inject_dec, spectral_shape=hypo_gamma_spectrum) \n",
    "hypo_gamma_spectrum.piv = 7 * threeML.u.TeV #match HAWC 7 TeV gamma-ray pivot\n",
    "hypo_gamma_spectrum.alpha = -2\n",
    "hypo_gamma_spectrum.alpha.bounds = (-5.0, -1.0)\n",
    "hypo_gamma_spectrum.beta = 0\n",
    "hypo_gamma_spectrum.beta.bounds = (-1., 2.)\n",
    "hypo_gamma_spectrum.K.fix = False #Here we also fit the flux\n",
    "hypo_gamma_spectrum.set_units(threeML.u.keV,threeML.u.keV**-1*threeML.u.second**-1*threeML.u.cm**-2) #Fixing the unit help the calculation \n",
    "#for the neutrino\n",
    "hypo_spectrum=threeML.Log_parabola()\n",
    "hypo_source=mla.threeml.IceCubeLike.NeutrinoPointSource(source_name+\"_nu\", ra=inject_ra, dec=inject_dec, spectral_shape=hypo_spectrum) \n",
    "hypo_spectrum.piv = 3.5 * threeML.u.TeV #match HAWC 7 TeV gamma-ray pivot\n",
    "hypo_spectrum.alpha = -2\n",
    "hypo_spectrum.alpha.bounds = (-5.0, -1.0)\n",
    "hypo_spectrum.beta = 0\n",
    "hypo_spectrum.beta.bounds = (-1., 2.)\n",
    "hypo_spectrum.K.fix = True #Here we don't fit the flux in 3ML\n",
    "hypo_spectrum.set_units(threeML.u.keV,threeML.u.keV**-1*threeML.u.second**-1*threeML.u.cm**-2) #Fixing the unit help the calculation \n",
    "#Line everything\n",
    "model=threeML.Model(hypo_source)\n",
    "model.add_source(hypo_gamma_source)\n",
    "model.link(model.sources[source_name+\"_nu\"].spectrum.main.shape.alpha, \n",
    "       model.sources[source_name].spectrum.main.shape.alpha)\n",
    "model.link(model.sources[source_name+\"_nu\"].spectrum.main.shape.beta, \n",
    "       model.sources[source_name].spectrum.main.shape.beta)\n"
   ]
  },
  {
   "cell_type": "code",
   "execution_count": 29,
   "id": "15cfcddf-9755-4324-8674-9666ffe5baca",
   "metadata": {},
   "outputs": [
    {
     "data": {
      "text/html": [
       "<pre style=\"white-space:pre;overflow-x:auto;line-height:normal;font-family:Menlo,'DejaVu Sans Mono',consolas,'Courier New',monospace\"><span style=\"color: #00ff00; text-decoration-color: #00ff00\">11:44:19 </span><span style=\"color: #00ffaf; text-decoration-color: #00ffaf\">INFO    </span> <span style=\"color: #c6c6c6; text-decoration-color: #c6c6c6; font-weight: bold\"> set the minimizer to minuit                                             </span><a href=\"file:///data/disk01/home/jasonfan/miniconda3/envs/mladev/lib/python3.9/site-packages/threeML/classicMLE/joint_likelihood.py\" target=\"_blank\"><span style=\"color: #7f7f7f; text-decoration-color: #7f7f7f\">joint_likelihood.py</span></a><span style=\"color: #7f7f7f; text-decoration-color: #7f7f7f\">:</span><a href=\"file:///data/disk01/home/jasonfan/miniconda3/envs/mladev/lib/python3.9/site-packages/threeML/classicMLE/joint_likelihood.py#1042\" target=\"_blank\"><span style=\"color: #7f7f7f; text-decoration-color: #7f7f7f\">1042</span></a>\n",
       "</pre>\n"
      ],
      "text/plain": [
       "\u001b[38;5;46m11:44:19\u001b[0m\u001b[38;5;46m \u001b[0m\u001b[38;5;49mINFO    \u001b[0m \u001b[1;38;5;251m set the minimizer to minuit                                            \u001b[0m\u001b[1;38;5;251m \u001b[0m\u001b]8;id=43049;file:///data/disk01/home/jasonfan/miniconda3/envs/mladev/lib/python3.9/site-packages/threeML/classicMLE/joint_likelihood.py\u001b\\\u001b[2mjoint_likelihood.py\u001b[0m\u001b]8;;\u001b\\\u001b[2m:\u001b[0m\u001b]8;id=307471;file:///data/disk01/home/jasonfan/miniconda3/envs/mladev/lib/python3.9/site-packages/threeML/classicMLE/joint_likelihood.py#1042\u001b\\\u001b[2m1042\u001b[0m\u001b]8;;\u001b\\\n"
      ]
     },
     "metadata": {},
     "output_type": "display_data"
    },
    {
     "data": {
      "text/html": [
       "<pre style=\"white-space:pre;overflow-x:auto;line-height:normal;font-family:Menlo,'DejaVu Sans Mono',consolas,'Courier New',monospace\"><span style=\"color: #00ff00; text-decoration-color: #00ff00\">         </span><span style=\"color: #00ffaf; text-decoration-color: #00ffaf\">INFO    </span> <span style=\"color: #c6c6c6; text-decoration-color: #c6c6c6; font-weight: bold\"> set the minimizer to SCIPY                                              </span><a href=\"file:///data/disk01/home/jasonfan/miniconda3/envs/mladev/lib/python3.9/site-packages/threeML/classicMLE/joint_likelihood.py\" target=\"_blank\"><span style=\"color: #7f7f7f; text-decoration-color: #7f7f7f\">joint_likelihood.py</span></a><span style=\"color: #7f7f7f; text-decoration-color: #7f7f7f\">:</span><a href=\"file:///data/disk01/home/jasonfan/miniconda3/envs/mladev/lib/python3.9/site-packages/threeML/classicMLE/joint_likelihood.py#1059\" target=\"_blank\"><span style=\"color: #7f7f7f; text-decoration-color: #7f7f7f\">1059</span></a>\n",
       "</pre>\n"
      ],
      "text/plain": [
       "\u001b[38;5;46m        \u001b[0m\u001b[38;5;46m \u001b[0m\u001b[38;5;49mINFO    \u001b[0m \u001b[1;38;5;251m set the minimizer to SCIPY                                             \u001b[0m\u001b[1;38;5;251m \u001b[0m\u001b]8;id=173992;file:///data/disk01/home/jasonfan/miniconda3/envs/mladev/lib/python3.9/site-packages/threeML/classicMLE/joint_likelihood.py\u001b\\\u001b[2mjoint_likelihood.py\u001b[0m\u001b]8;;\u001b\\\u001b[2m:\u001b[0m\u001b]8;id=862559;file:///data/disk01/home/jasonfan/miniconda3/envs/mladev/lib/python3.9/site-packages/threeML/classicMLE/joint_likelihood.py#1059\u001b\\\u001b[2m1059\u001b[0m\u001b]8;;\u001b\\\n"
      ]
     },
     "metadata": {},
     "output_type": "display_data"
    },
    {
     "data": {
      "text/html": [
       "<pre style=\"white-space:pre;overflow-x:auto;line-height:normal;font-family:Menlo,'DejaVu Sans Mono',consolas,'Courier New',monospace\"><span style=\"color: #00ff00; text-decoration-color: #00ff00\">11:44:22 </span><span style=\"color: #af5fd7; text-decoration-color: #af5fd7\">WARNING </span> <span style=\"color: #c6c6c6; text-decoration-color: #c6c6c6; font-weight: bold\"> Covariance matrix is NOT semi-positive definite. Cannot estimate errors.     </span><a href=\"file:///data/disk01/home/jasonfan/miniconda3/envs/mladev/lib/python3.9/site-packages/threeML/minimizer/minimization.py\" target=\"_blank\"><span style=\"color: #7f7f7f; text-decoration-color: #7f7f7f\">minimization.py</span></a><span style=\"color: #7f7f7f; text-decoration-color: #7f7f7f\">:</span><a href=\"file:///data/disk01/home/jasonfan/miniconda3/envs/mladev/lib/python3.9/site-packages/threeML/minimizer/minimization.py#893\" target=\"_blank\"><span style=\"color: #7f7f7f; text-decoration-color: #7f7f7f\">893</span></a>\n",
       "<span style=\"color: #00ff00; text-decoration-color: #00ff00\">         </span>         <span style=\"color: #c6c6c6; text-decoration-color: #c6c6c6; font-weight: bold\">This can happen for many reasons, the most common being one or more           </span><span style=\"color: #7f7f7f; text-decoration-color: #7f7f7f\">                   </span>\n",
       "<span style=\"color: #00ff00; text-decoration-color: #00ff00\">         </span>         <span style=\"color: #c6c6c6; text-decoration-color: #c6c6c6; font-weight: bold\">unconstrained parameters                                                      </span><span style=\"color: #7f7f7f; text-decoration-color: #7f7f7f\">                   </span>\n",
       "</pre>\n"
      ],
      "text/plain": [
       "\u001b[38;5;46m11:44:22\u001b[0m\u001b[38;5;46m \u001b[0m\u001b[38;5;134mWARNING \u001b[0m \u001b[1;38;5;251m Covariance matrix is NOT semi-positive definite. Cannot estimate errors.    \u001b[0m\u001b[1;38;5;251m \u001b[0m\u001b]8;id=566675;file:///data/disk01/home/jasonfan/miniconda3/envs/mladev/lib/python3.9/site-packages/threeML/minimizer/minimization.py\u001b\\\u001b[2mminimization.py\u001b[0m\u001b]8;;\u001b\\\u001b[2m:\u001b[0m\u001b]8;id=202070;file:///data/disk01/home/jasonfan/miniconda3/envs/mladev/lib/python3.9/site-packages/threeML/minimizer/minimization.py#893\u001b\\\u001b[2m893\u001b[0m\u001b]8;;\u001b\\\n",
       "\u001b[38;5;46m         \u001b[0m         \u001b[1;38;5;251mThis can happen for many reasons, the most common being one or more          \u001b[0m\u001b[1;38;5;251m \u001b[0m\u001b[2m                   \u001b[0m\n",
       "\u001b[38;5;46m         \u001b[0m         \u001b[1;38;5;251munconstrained parameters                                                     \u001b[0m\u001b[1;38;5;251m \u001b[0m\u001b[2m                   \u001b[0m\n"
      ]
     },
     "metadata": {},
     "output_type": "display_data"
    },
    {
     "data": {
      "text/html": [
       "<pre style=\"white-space:pre;overflow-x:auto;line-height:normal;font-family:Menlo,'DejaVu Sans Mono',consolas,'Courier New',monospace\"><span style=\"color: #00ff00; text-decoration-color: #00ff00\">         </span><span style=\"color: #af5fd7; text-decoration-color: #af5fd7\">WARNING </span> <span style=\"color: #c6c6c6; text-decoration-color: #c6c6c6; font-weight: bold\"> Negative element on diagonal of covariance matrix                            </span><a href=\"file:///data/disk01/home/jasonfan/miniconda3/envs/mladev/lib/python3.9/site-packages/threeML/minimizer/minimization.py\" target=\"_blank\"><span style=\"color: #7f7f7f; text-decoration-color: #7f7f7f\">minimization.py</span></a><span style=\"color: #7f7f7f; text-decoration-color: #7f7f7f\">:</span><a href=\"file:///data/disk01/home/jasonfan/miniconda3/envs/mladev/lib/python3.9/site-packages/threeML/minimizer/minimization.py#726\" target=\"_blank\"><span style=\"color: #7f7f7f; text-decoration-color: #7f7f7f\">726</span></a>\n",
       "</pre>\n"
      ],
      "text/plain": [
       "\u001b[38;5;46m        \u001b[0m\u001b[38;5;46m \u001b[0m\u001b[38;5;134mWARNING \u001b[0m \u001b[1;38;5;251m Negative element on diagonal of covariance matrix                           \u001b[0m\u001b[1;38;5;251m \u001b[0m\u001b]8;id=497057;file:///data/disk01/home/jasonfan/miniconda3/envs/mladev/lib/python3.9/site-packages/threeML/minimizer/minimization.py\u001b\\\u001b[2mminimization.py\u001b[0m\u001b]8;;\u001b\\\u001b[2m:\u001b[0m\u001b]8;id=930649;file:///data/disk01/home/jasonfan/miniconda3/envs/mladev/lib/python3.9/site-packages/threeML/minimizer/minimization.py#726\u001b\\\u001b[2m726\u001b[0m\u001b]8;;\u001b\\\n"
      ]
     },
     "metadata": {},
     "output_type": "display_data"
    },
    {
     "data": {
      "text/html": [
       "<pre style=\"white-space:pre;overflow-x:auto;line-height:normal;font-family:Menlo,'DejaVu Sans Mono',consolas,'Courier New',monospace\"><span style=\"color: #00ff00; text-decoration-color: #00ff00\">11:44:23 </span><span style=\"color: #af5fd7; text-decoration-color: #af5fd7\">WARNING </span> <span style=\"color: #c6c6c6; text-decoration-color: #c6c6c6; font-weight: bold\"> get_number_of_data_points not implemented, values for statistical        </span><a href=\"file:///data/disk01/home/jasonfan/miniconda3/envs/mladev/lib/python3.9/site-packages/threeML/plugin_prototype.py\" target=\"_blank\"><span style=\"color: #7f7f7f; text-decoration-color: #7f7f7f\">plugin_prototype.py</span></a><span style=\"color: #7f7f7f; text-decoration-color: #7f7f7f\">:</span><a href=\"file:///data/disk01/home/jasonfan/miniconda3/envs/mladev/lib/python3.9/site-packages/threeML/plugin_prototype.py#128\" target=\"_blank\"><span style=\"color: #7f7f7f; text-decoration-color: #7f7f7f\">128</span></a>\n",
       "<span style=\"color: #00ff00; text-decoration-color: #00ff00\">         </span>         <span style=\"color: #c6c6c6; text-decoration-color: #c6c6c6; font-weight: bold\">measurements such as AIC or BIC are unreliable                            </span><span style=\"color: #7f7f7f; text-decoration-color: #7f7f7f\">                       </span>\n",
       "</pre>\n"
      ],
      "text/plain": [
       "\u001b[38;5;46m11:44:23\u001b[0m\u001b[38;5;46m \u001b[0m\u001b[38;5;134mWARNING \u001b[0m \u001b[1;38;5;251m get_number_of_data_points not implemented, values for statistical       \u001b[0m\u001b[1;38;5;251m \u001b[0m\u001b]8;id=242257;file:///data/disk01/home/jasonfan/miniconda3/envs/mladev/lib/python3.9/site-packages/threeML/plugin_prototype.py\u001b\\\u001b[2mplugin_prototype.py\u001b[0m\u001b]8;;\u001b\\\u001b[2m:\u001b[0m\u001b]8;id=798464;file:///data/disk01/home/jasonfan/miniconda3/envs/mladev/lib/python3.9/site-packages/threeML/plugin_prototype.py#128\u001b\\\u001b[2m128\u001b[0m\u001b]8;;\u001b\\\n",
       "\u001b[38;5;46m         \u001b[0m         \u001b[1;38;5;251mmeasurements such as AIC or BIC are unreliable                           \u001b[0m\u001b[1;38;5;251m \u001b[0m\u001b[2m                       \u001b[0m\n"
      ]
     },
     "metadata": {},
     "output_type": "display_data"
    },
    {
     "data": {
      "text/html": [
       "<pre style=\"white-space:pre;overflow-x:auto;line-height:normal;font-family:Menlo,'DejaVu Sans Mono',consolas,'Courier New',monospace\"><span style=\"color: #00ff00; text-decoration-color: #00ff00\">         </span><span style=\"color: #af5fd7; text-decoration-color: #af5fd7\">WARNING </span> <span style=\"color: #c6c6c6; text-decoration-color: #c6c6c6; font-weight: bold\"> </span><span style=\"color: #c0c0c0; text-decoration-color: #c0c0c0; font-weight: bold\">97.32</span><span style=\"color: #c6c6c6; text-decoration-color: #c6c6c6; font-weight: bold\"> percent of samples have been thrown away because they failed the  </span><a href=\"file:///data/disk01/home/jasonfan/miniconda3/envs/mladev/lib/python3.9/site-packages/threeML/analysis_results.py\" target=\"_blank\"><span style=\"color: #7f7f7f; text-decoration-color: #7f7f7f\">analysis_results.py</span></a><span style=\"color: #7f7f7f; text-decoration-color: #7f7f7f\">:</span><a href=\"file:///data/disk01/home/jasonfan/miniconda3/envs/mladev/lib/python3.9/site-packages/threeML/analysis_results.py#1737\" target=\"_blank\"><span style=\"color: #7f7f7f; text-decoration-color: #7f7f7f\">1737</span></a>\n",
       "<span style=\"color: #00ff00; text-decoration-color: #00ff00\">         </span>         <span style=\"color: #c6c6c6; text-decoration-color: #c6c6c6; font-weight: bold\">constraints on the parameters. This results might not be suitable for    </span><span style=\"color: #7f7f7f; text-decoration-color: #7f7f7f\">                        </span>\n",
       "<span style=\"color: #00ff00; text-decoration-color: #00ff00\">         </span>         <span style=\"color: #c6c6c6; text-decoration-color: #c6c6c6; font-weight: bold\">error propagation. Enlarge the boundaries until you loose less than </span><span style=\"color: #c0c0c0; text-decoration-color: #c0c0c0; font-weight: bold\">1</span><span style=\"color: #c6c6c6; text-decoration-color: #c6c6c6; font-weight: bold\">    </span><span style=\"color: #7f7f7f; text-decoration-color: #7f7f7f\">                        </span>\n",
       "<span style=\"color: #00ff00; text-decoration-color: #00ff00\">         </span>         <span style=\"color: #c6c6c6; text-decoration-color: #c6c6c6; font-weight: bold\">percent of the samples.                                                  </span><span style=\"color: #7f7f7f; text-decoration-color: #7f7f7f\">                        </span>\n",
       "</pre>\n"
      ],
      "text/plain": [
       "\u001b[38;5;46m        \u001b[0m\u001b[38;5;46m \u001b[0m\u001b[38;5;134mWARNING \u001b[0m \u001b[1;38;5;251m \u001b[0m\u001b[1;37m97.32\u001b[0m\u001b[1;38;5;251m percent of samples have been thrown away because they failed the \u001b[0m\u001b[1;38;5;251m \u001b[0m\u001b]8;id=724462;file:///data/disk01/home/jasonfan/miniconda3/envs/mladev/lib/python3.9/site-packages/threeML/analysis_results.py\u001b\\\u001b[2manalysis_results.py\u001b[0m\u001b]8;;\u001b\\\u001b[2m:\u001b[0m\u001b]8;id=675660;file:///data/disk01/home/jasonfan/miniconda3/envs/mladev/lib/python3.9/site-packages/threeML/analysis_results.py#1737\u001b\\\u001b[2m1737\u001b[0m\u001b]8;;\u001b\\\n",
       "\u001b[38;5;46m         \u001b[0m         \u001b[1;38;5;251mconstraints on the parameters. This results might not be suitable for   \u001b[0m\u001b[1;38;5;251m \u001b[0m\u001b[2m                        \u001b[0m\n",
       "\u001b[38;5;46m         \u001b[0m         \u001b[1;38;5;251merror propagation. Enlarge the boundaries until you loose less than \u001b[0m\u001b[1;37m1\u001b[0m\u001b[1;38;5;251m   \u001b[0m\u001b[1;38;5;251m \u001b[0m\u001b[2m                        \u001b[0m\n",
       "\u001b[38;5;46m         \u001b[0m         \u001b[1;38;5;251mpercent of the samples.                                                 \u001b[0m\u001b[1;38;5;251m \u001b[0m\u001b[2m                        \u001b[0m\n"
      ]
     },
     "metadata": {},
     "output_type": "display_data"
    },
    {
     "data": {
      "text/plain": [
       "(                                              value  negative_error  \\\n",
       " Crab.spectrum.main.Log_parabola.K      1.003729e-30    6.714316e-26   \n",
       " Crab.spectrum.main.Log_parabola.alpha -1.000050e+00   -3.115075e+00   \n",
       " Crab.spectrum.main.Log_parabola.beta   2.848068e-01   -7.083825e-01   \n",
       " \n",
       "                                        positive_error     error  \\\n",
       " Crab.spectrum.main.Log_parabola.K            0.001745  0.000873   \n",
       " Crab.spectrum.main.Log_parabola.alpha       -0.561421  1.276827   \n",
       " Crab.spectrum.main.Log_parabola.beta        -0.083473  0.312455   \n",
       " \n",
       "                                                   unit  \n",
       " Crab.spectrum.main.Log_parabola.K      1 / (cm2 keV s)  \n",
       " Crab.spectrum.main.Log_parabola.alpha                   \n",
       " Crab.spectrum.main.Log_parabola.beta                    ,\n",
       "           -log(likelihood)\n",
       " combine          -2.327887\n",
       " sim_data        329.705973\n",
       " total           327.378086)"
      ]
     },
     "execution_count": 29,
     "metadata": {},
     "output_type": "execute_result"
    }
   ],
   "source": [
    "analysislist.newton_flux_norm=True\n",
    "analysislist.injection(n_signal=ns_inject,poisson=True) #Inject signal+scrambling background\n",
    "IceCubedata = threeML.DataList(analysislist,xyl_generator)\n",
    "jl = threeML.JointLikelihood(model, IceCubedata)\n",
    "jl.set_minimizer('scipy')\n",
    "jl.fit(quiet=True,compute_covariance=True)"
   ]
  },
  {
   "cell_type": "code",
   "execution_count": null,
   "id": "4d5584ea-eb8e-48ed-b8f3-19e3e80584fe",
   "metadata": {},
   "outputs": [],
   "source": []
  }
 ],
 "metadata": {
  "kernelspec": {
   "display_name": "Python [conda env:mladev]",
   "language": "python",
   "name": "conda-env-mladev-py"
  },
  "language_info": {
   "codemirror_mode": {
    "name": "ipython",
    "version": 3
   },
   "file_extension": ".py",
   "mimetype": "text/x-python",
   "name": "python",
   "nbconvert_exporter": "python",
   "pygments_lexer": "ipython3",
   "version": "3.9.13"
  }
 },
 "nbformat": 4,
 "nbformat_minor": 5
}
