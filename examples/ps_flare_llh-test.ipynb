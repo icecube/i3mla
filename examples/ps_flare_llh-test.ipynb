{
 "cells": [
  {
   "cell_type": "code",
   "execution_count": 1,
   "metadata": {},
   "outputs": [
    {
     "name": "stdout",
     "output_type": "stream",
     "text": [
      "/home/jevans96/umd_icecube_analysis_tutorial\n"
     ]
    }
   ],
   "source": [
    "cd .."
   ]
  },
  {
   "cell_type": "code",
   "execution_count": 2,
   "metadata": {},
   "outputs": [],
   "source": [
    "__author__ = 'John Evans'\n",
    "__copyright__ = ''\n",
    "__credits__ = ['John Evans', 'Jason Fan', 'Michael Larson']\n",
    "__license__ = 'Apache License 2.0'\n",
    "__version__ = '0.0.1'\n",
    "__maintainer__ = 'John Evans'\n",
    "__email__ = 'jevans96@umd.edu'\n",
    "__status__ = 'Development'\n",
    "\n",
    "\"\"\"\n",
    "Docstring\n",
    "\"\"\"\n",
    "\n",
    "import numpy as np\n",
    "from i3pubtools import tools\n",
    "from i3pubtools import time_profiles\n",
    "from i3pubtools.llhs import ps_flare_llh\n",
    "# from test import test_data\n",
    "import glob\n",
    "from scipy import stats\n",
    "from matplotlib import pyplot as plt\n",
    "import cProfile\n",
    "\n",
    "np.random.seed(0)"
   ]
  },
  {
   "cell_type": "code",
   "execution_count": 3,
   "metadata": {},
   "outputs": [
    {
     "name": "stdout",
     "output_type": "stream",
     "text": [
      "Events available in simulation: 11595414\n",
      "Keys available in simulation:\n",
      "['angErr', 'azi', 'dec', 'event', 'logE', 'ow', 'ra', 'run', 'subevent', 'time', 'trueDec', 'trueE', 'trueRa', 'zen']\n",
      "\n",
      "Events available in data: 1000\n",
      "Keys available in data:\n",
      "['angErr', 'azi', 'dec', 'event', 'logE', 'ra', 'run', 'subevent', 'time', 'zen']\n"
     ]
    }
   ],
   "source": [
    "# Load in both the simulation and the data\n",
    "\n",
    "# # Where is the dataset stored?\n",
    "dataset = '/data/mjlarson/data/'\n",
    "\n",
    "# Read in all of the data files\n",
    "data_files = dataset + '/IC86_*exp.npy'\n",
    "data = tools.read(glob.glob(data_files))\n",
    "\n",
    "# Read in all of the MC files \n",
    "sim_files = dataset + '/IC86*MC*npy'\n",
    "sim = tools.read(glob.glob(sim_files))\n",
    "\n",
    "# trim data\n",
    "data = data[:1000]\n",
    "\n",
    "# data_size = 10000\n",
    "# sim_size = 100000\n",
    "\n",
    "# data = test_data.get_random_data(data_size)\n",
    "# sim = test_data.get_random_sim(sim_size)\n",
    "\n",
    "# Set the angular error floor to 0.2 degrees\n",
    "data['angErr'][data['angErr']<np.deg2rad(0.2)] = np.deg2rad(0.2)\n",
    "sim['angErr'][sim['angErr']<np.deg2rad(0.2)] = np.deg2rad(0.2)\n",
    "\n",
    "\n",
    "# Show the possible keys available here:\n",
    "print('Events available in simulation: {}'.format(len(sim)))\n",
    "print('Keys available in simulation:')\n",
    "print(sorted(sim.dtype.names))\n",
    "print()\n",
    "\n",
    "print('Events available in data: {}'.format(len(data)))\n",
    "print('Keys available in data:')\n",
    "print(sorted(data.dtype.names))"
   ]
  },
  {
   "cell_type": "code",
   "execution_count": 4,
   "metadata": {},
   "outputs": [
    {
     "name": "stdout",
     "output_type": "stream",
     "text": [
      "Keys available in the GoodRunList:\n",
      "['events', 'livetime', 'run', 'start', 'stop']\n",
      "55694.99047453704\n",
      "58309.08234953694\n"
     ]
    }
   ],
   "source": [
    "# # Also load in the 'GoodRunList' (GRL), a file that tells\n",
    "# # us when the detector was taking good data. \n",
    "grl_files = dataset + '/GRL/IC86_*exp.npy'\n",
    "grl = tools.read(glob.glob(grl_files))\n",
    "# grl = test_data.get_random_grl(data)\n",
    "\n",
    "\n",
    "# Show the keys available in the GRL\n",
    "print('Keys available in the GoodRunList:')\n",
    "print(sorted(grl.dtype.names))\n",
    "print(np.min(grl['start']))\n",
    "print(np.max(grl['stop']))\n",
    "gammas = np.arange(-4.25, -0.5, 0.25)\n",
    "bins   = np.array([np.linspace(-1, 1, 51), # sin(dec)\n",
    "                   np.linspace(1, 8, 51)]) # logE"
   ]
  },
  {
   "cell_type": "code",
   "execution_count": 5,
   "metadata": {},
   "outputs": [],
   "source": [
    "# Try this with a gaussian signal + uniform background.\n",
    "outfile = './test/test_outputs/ps_flare_llh-test.npy'\n",
    "infile = './test/test_outputs/ps_flare_llh-test.npy'\n",
    "\n",
    "args = (data, sim, grl, gammas, bins)\n",
    "\n",
    "kwargs = {\n",
    "    'source': {'ra':np.pi/2, 'dec':np.pi/6},\n",
    "    'signal_time_profile': time_profiles.GaussProfile(56102.5, 0.01), \n",
    "    'background_time_profile': time_profiles.UniformProfile(56102.48, 56102.52),\n",
    "}"
   ]
  },
  {
   "cell_type": "code",
   "execution_count": 6,
   "metadata": {},
   "outputs": [
    {
     "name": "stderr",
     "output_type": "stream",
     "text": [
      "  0%|          | 0/15 [00:00<?, ?it/s]/home/jevans96/umd_icecube_analysis_tutorial/i3pubtools/llhs/ps_flare_llh.py:128: RuntimeWarning: divide by zero encountered in true_divide\n",
      "  ratio = sig_h / bg_h\n",
      "/home/jevans96/umd_icecube_analysis_tutorial/i3pubtools/llhs/ps_flare_llh.py:128: RuntimeWarning: invalid value encountered in true_divide\n",
      "  ratio = sig_h / bg_h\n",
      "/home/jevans96/umd_icecube_analysis_tutorial/i3pubtools/llhs/ps_flare_llh.py:134: RuntimeWarning: invalid value encountered in greater\n",
      "  good = np.isfinite(values) & (values>0)\n",
      "100%|██████████| 15/15 [01:08<00:00,  4.58s/it]\n"
     ]
    }
   ],
   "source": [
    "# Run this block once\n",
    "\n",
    "#cProfile.run('ps_flare_llh.PsFlareLLH(*args, outfile = outfile, **kwargs)')\n",
    "llh_object = ps_flare_llh.PsFlareLLH(*args, outfile = outfile, **kwargs)"
   ]
  },
  {
   "cell_type": "code",
   "execution_count": 7,
   "metadata": {},
   "outputs": [],
   "source": [
    "# Afterwards, run this one to save time\n",
    "llh_object = ps_flare_llh.PsFlareLLH(*args, infile = infile, **kwargs)"
   ]
  },
  {
   "cell_type": "code",
   "execution_count": 8,
   "metadata": {},
   "outputs": [
    {
     "name": "stdout",
     "output_type": "stream",
     "text": [
      "number of background events: 7429\n",
      "number of signal events: 65\n",
      "Got 7494 events for this trial\n",
      "Times:\n",
      "[(120157, 61672949, 0, 2.40144145,  0.88088172, 3.56915858, 2.45125344, 56044.09129653, 3.12386818, 0.04109117)\n",
      " (120160, 27485236, 0, 4.79832993,  0.63183663, 0.40303192, 2.20204638, 56044.09129745, 3.09296079, 0.0090418 )\n",
      " (120030, 49317620, 0, 1.52999572,  0.86583423, 0.23929013, 2.43761692, 56044.09130193, 3.21394864, 0.02522637)\n",
      " ...\n",
      " (120159, 29633456, 0, 5.46655076, -0.95248871, 1.34707644, 0.618721  , 56044.1028685 , 5.69406458, 0.00768739)\n",
      " (120159, 71272093, 0, 5.34703583, -0.91099765, 1.20152134, 0.65873879, 56044.10286919, 4.88118446, 0.00349066)\n",
      " (120159, 22327869, 0, 1.92805355, -0.96269831, 2.05720157, 0.60924264, 56044.10287004, 5.36902592, 0.00349066)]\n"
     ]
    }
   ],
   "source": [
    "thousand_seconds = (1000.0)/(24*3600.)\n",
    "llh_object.background_time_profile = time_profiles.UniformProfile(56044.0912963, 56044.0912963+thousand_seconds)\n",
    "llh_object.signal_time_profile = llh_object.background_time_profile\n",
    "\n",
    "# Produce a single trial. Here, we pass a 'seed'\n",
    "# value to the function so that we can reproduce\n",
    "# the trial later if we want to. If you want it to\n",
    "# be random, set seed=None.\n",
    "seed = 0\n",
    "flux_norm = 1e-10\n",
    "#cProfile.run('llh_object.produce_trial(flux_norm=flux_norm, random_seed=seed)')\n",
    "#%timeit llh_object.produce_trial(flux_norm=flux_norm, random_seed=seed)\n",
    "trial = llh_object.produce_trial(flux_norm=flux_norm, random_seed=seed, verbose=True)\n",
    "print('Got {} events for this trial'.format(len(trial)))\n",
    "\n",
    "print('Times:')\n",
    "print(trial)"
   ]
  },
  {
   "cell_type": "code",
   "execution_count": 9,
   "metadata": {},
   "outputs": [
    {
     "name": "stdout",
     "output_type": "stream",
     "text": [
      "{'ts': nan, 'ns': 50.0, 'gamma': -2.0, 'uniform_tp_start': 56044.0912965318, 'uniform_tp_end': 56044.1028700378}\n"
     ]
    }
   ],
   "source": [
    "# Run the function with our test trial. Make sure\n",
    "# you understand what's getting returned!\n",
    "ns = 50\n",
    "gamma = -2\n",
    "#%timeit llh_object.evaluate_ts(trial, ns=ns, gamma=gamma)\n",
    "#cProfile.run('llh_object.evaluate_ts(trial, ns=ns, gamma=gamma)')\n",
    "bestfit = llh_object.evaluate_ts(trial, ns=ns, gamma=gamma)\n",
    "print(bestfit)"
   ]
  },
  {
   "cell_type": "code",
   "execution_count": null,
   "metadata": {
    "scrolled": true
   },
   "outputs": [],
   "source": [
    "# Run trials for a few different values of N. These settings should\n",
    "# exactly mimic your previous script\n",
    "thousand_seconds = (1000.0)/(24*3600.)\n",
    "llh_object.background_time_profile = time_profiles.UniformProfile(56044.0912963, 56044.0912963+thousand_seconds)\n",
    "llh_object.signal_time_profile = llh_object.background_time_profile\n",
    "\n",
    "background_fits = llh_object.produce_n_trials(1000, test_ns=0.1)\n",
    "signal_16_fits = llh_object.produce_n_trials(1000, flux_norm=1e-11, test_ns=0.1)\n",
    "signal_15_fits = llh_object.produce_n_trials(1000, flux_norm=1e-10, test_ns=0.1)\n",
    "signal_14_fits = llh_object.produce_n_trials(1000, flux_norm=1e-9, test_ns=0.1)"
   ]
  },
  {
   "cell_type": "code",
   "execution_count": null,
   "metadata": {},
   "outputs": [],
   "source": [
    "# Plot the signal and background LLHs\n",
    "fig, ax = plt.subplots(figsize=(10,6))\n",
    "bins = np.linspace(0, 500, 50)\n",
    "\n",
    "ax.hist(background_fits['ts'],\n",
    "        bins = bins,\n",
    "        weights = np.ones(background_fits.shape[0])/len(background_fits),\n",
    "        histtype = 'step',\n",
    "        color = 'k',\n",
    "        linewidth = 3,\n",
    "        alpha=0.5,\n",
    "        label = r'N = 0')\n",
    "\n",
    "ax.hist(signal_16_fits['ts'],\n",
    "        bins = bins,\n",
    "        weights = np.ones(signal_16_fits.shape[0])/len(signal_16_fits),\n",
    "        histtype = 'step',\n",
    "        linewidth = 3,\n",
    "        alpha = 0.7,\n",
    "        label = r'N = $10^{-16}$')\n",
    "\n",
    "ax.hist(signal_15_fits['ts'],\n",
    "        bins = bins,\n",
    "        weights = np.ones(signal_15_fits.shape[0])/len(signal_15_fits),\n",
    "        histtype = 'step',\n",
    "        linewidth = 3,\n",
    "        alpha = 0.7,\n",
    "        label = r'N = $10^{-15}$')\n",
    "\n",
    "ax.hist(signal_14_fits['ts'],\n",
    "        bins = bins,\n",
    "        weights = np.ones(signal_14_fits.shape[0])/len(signal_14_fits),\n",
    "        histtype = 'step',\n",
    "        linewidth = 3,\n",
    "        alpha = 0.7,\n",
    "        label = r'N = $10^{-14}$')\n",
    "\n",
    "ax.legend(loc='upper right', fontsize=16,)\n",
    "\n",
    "ax.grid(alpha=0.25)\n",
    "ax.set_yscale('log')\n",
    "ax.set_xlabel('TS', fontsize=16)\n",
    "ax.set_ylabel('Fraction of Trials', fontsize=16)\n",
    "ax.tick_params(which='both', labelsize=16)"
   ]
  },
  {
   "cell_type": "code",
   "execution_count": null,
   "metadata": {},
   "outputs": [],
   "source": [
    "# Try it again, but using a gaussian signal this time.\n",
    "# WARNING: The gaussian time profile is kind of hacked\n",
    "# together and may not give the most reliable results.\n",
    "# Use with caution!\n",
    "thousand_seconds = (1000.0)/(24*3600.)\n",
    "llh_object.background_time_profile = time_profiles.UniformProfile(56044.0912963, 56044.0912963+thousand_seconds)\n",
    "llh_object.signal_time_profile = time_profiles.GaussProfile(56044.0912963 + thousand_seconds/2, thousand_seconds/10)\n",
    "\n",
    "background_fits = llh_object.produce_n_trials(1000, test_ns=0.1)\n",
    "signal_16_fits = llh_object.produce_n_trials(1000, flux_norm=1e-16, test_ns=0.1)\n",
    "signal_15_fits = llh_object.produce_n_trials(1000, flux_norm=1e-15, test_ns=0.1)\n",
    "signal_14_fits = llh_object.produce_n_trials(1000, flux_norm=1e-14, test_ns=0.1)"
   ]
  },
  {
   "cell_type": "code",
   "execution_count": null,
   "metadata": {},
   "outputs": [],
   "source": [
    "# Plot the signal and background LLHs\n",
    "fig, ax = plt.subplots(figsize=(10,6))\n",
    "bins = np.linspace(0, 500, 50)\n",
    "\n",
    "ax.hist(background_fits['ts'],\n",
    "        bins = bins,\n",
    "        weights = np.ones(background_fits.shape[0])/len(background_fits),\n",
    "        histtype = 'step',\n",
    "        color = 'k',\n",
    "        linewidth = 3,\n",
    "        alpha=0.5,\n",
    "        label = r'N = 0')\n",
    "\n",
    "ax.hist(signal_16_fits['ts'],\n",
    "        bins = bins,\n",
    "        weights = np.ones(signal_16_fits.shape[0])/len(signal_16_fits),\n",
    "        histtype = 'step',\n",
    "        linewidth = 3,\n",
    "        alpha = 0.7,\n",
    "        label = r'N = $10^{-16}$')\n",
    "\n",
    "ax.hist(signal_15_fits['ts'],\n",
    "        bins = bins,\n",
    "        weights = np.ones(signal_15_fits.shape[0])/len(signal_15_fits),\n",
    "        histtype = 'step',\n",
    "        linewidth = 3,\n",
    "        alpha = 0.7,\n",
    "        label = r'N = $10^{-15}$')\n",
    "\n",
    "ax.hist(signal_14_fits['ts'],\n",
    "        bins = bins,\n",
    "        weights = np.ones(signal_14_fits.shape[0])/len(signal_14_fits),\n",
    "        histtype = 'step',\n",
    "        linewidth = 3,\n",
    "        alpha = 0.7,\n",
    "        label = r'N = $10^{-14}$')\n",
    "\n",
    "ax.legend(loc='upper right', fontsize=16,)\n",
    "\n",
    "ax.grid(alpha=0.25)\n",
    "ax.set_yscale('log')\n",
    "ax.set_xlabel('TS', fontsize=16)\n",
    "ax.set_ylabel('Fraction of Trials', fontsize=16)\n",
    "ax.tick_params(which='both', labelsize=16)"
   ]
  },
  {
   "cell_type": "code",
   "execution_count": null,
   "metadata": {},
   "outputs": [],
   "source": [
    "thousand_seconds = (50000.0)/(24*3600.)\n",
    "# means  = [56044.0912963 + thousand_seconds/5,56044.0912963 + thousand_seconds/3,\n",
    "#           56044.0912963 + thousand_seconds/4,56044.0912963 + thousand_seconds/5,\n",
    "#           56044.0912963 + 3*thousand_seconds/4]\n",
    "# sigmas = [thousand_seconds/10,thousand_seconds/11,\n",
    "#           thousand_seconds/8,thousand_seconds/5,\n",
    "#           thousand_seconds/20]\n",
    "llh_object.background_time_profile = time_profiles.UniformProfile(56044.0912963, 56044.0912963+thousand_seconds)\n",
    "# llh_object.signal_time_profile = n_gauss_profile(means, sigmas)\n",
    "llh_object.signal_time_profile = time_profiles.GaussProfile(56044.0912963 + thousand_seconds/2, thousand_seconds/10)\n",
    "\n",
    "trial = llh_object.produce_trial(flux_norm=1e-14)"
   ]
  },
  {
   "cell_type": "code",
   "execution_count": null,
   "metadata": {},
   "outputs": [],
   "source": [
    "counts, bins, _ = plt.hist(trial['time'], bins = len(trial)//5)"
   ]
  },
  {
   "cell_type": "code",
   "execution_count": null,
   "metadata": {},
   "outputs": [],
   "source": [
    "from sklearn.cluster import DBSCAN"
   ]
  },
  {
   "cell_type": "code",
   "execution_count": null,
   "metadata": {},
   "outputs": [],
   "source": [
    "X = trial['time'].reshape(-1, 1)\n",
    "db = DBSCAN(eps=.01, min_samples=2).fit(X)\n",
    "core_samples_mask = np.zeros_like(db.labels_, dtype=bool)\n",
    "core_samples_mask[db.core_sample_indices_] = True"
   ]
  },
  {
   "cell_type": "code",
   "execution_count": null,
   "metadata": {},
   "outputs": [],
   "source": [
    "labels = db.labels_\n",
    "unique_labels = set(labels)\n",
    "colors = [plt.cm.Spectral(each)\n",
    "          for each in np.linspace(0, 1, len(unique_labels))]"
   ]
  },
  {
   "cell_type": "code",
   "execution_count": null,
   "metadata": {},
   "outputs": [],
   "source": [
    "for k, col in zip(unique_labels, colors):\n",
    "    class_member_mask = (labels == k)\n",
    "\n",
    "    xy = X[class_member_mask & core_samples_mask]\n",
    "    \n",
    "    plt.hist(xy, bins = bins)"
   ]
  },
  {
   "cell_type": "code",
   "execution_count": null,
   "metadata": {},
   "outputs": [],
   "source": []
  }
 ],
 "metadata": {
  "kernelspec": {
   "display_name": "Python 3",
   "language": "python",
   "name": "python3"
  },
  "language_info": {
   "codemirror_mode": {
    "name": "ipython",
    "version": 3
   },
   "file_extension": ".py",
   "mimetype": "text/x-python",
   "name": "python",
   "nbconvert_exporter": "python",
   "pygments_lexer": "ipython3",
   "version": "3.7.6"
  }
 },
 "nbformat": 4,
 "nbformat_minor": 4
}
