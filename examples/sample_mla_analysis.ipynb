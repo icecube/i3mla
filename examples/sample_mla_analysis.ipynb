{
 "cells": [
  {
   "cell_type": "markdown",
   "metadata": {},
   "source": [
    "While in development, MLA is not available via pip, so to import it, you need to add the location of the repository on GitHub to the python path.\n",
    "\n",
    "Run this once, then restart the kernel"
   ]
  },
  {
   "cell_type": "code",
   "execution_count": 13,
   "metadata": {},
   "outputs": [
    {
     "name": "stdout",
     "output_type": "stream",
     "text": [
      "Found existing installation: mla-thejevans 0.0.1\n",
      "Uninstalling mla-thejevans-0.0.1:\n",
      "  Successfully uninstalled mla-thejevans-0.0.1\n",
      "Defaulting to user installation because normal site-packages is not writeable\n",
      "Collecting git+https://github.com/thejevans/mla.git@flare-stack\n",
      "  Cloning https://github.com/thejevans/mla.git (to revision flare-stack) to /tmp/pip-req-build-6ca69q8v\n",
      "  Running command git clone --filter=blob:none --quiet https://github.com/thejevans/mla.git /tmp/pip-req-build-6ca69q8v\n",
      "  Running command git checkout -b flare-stack --track origin/flare-stack\n",
      "  Switched to a new branch 'flare-stack'\n",
      "  Branch 'flare-stack' set up to track remote branch 'flare-stack' from 'origin'.\n",
      "  Resolved https://github.com/thejevans/mla.git to commit d967ce03f3238b476a8b70ec73523879c03fd690\n",
      "  Preparing metadata (setup.py) ... \u001b[?25ldone\n",
      "\u001b[?25hRequirement already satisfied: numba in /usr/lib/python3/dist-packages (0.55.1)\n",
      "Requirement already satisfied: numpy in /usr/lib/python3/dist-packages (from mla-thejevans==0.0.1) (1.21.5)\n",
      "Requirement already satisfied: scipy in /usr/lib/python3/dist-packages (from mla-thejevans==0.0.1) (1.8.0)\n",
      "Building wheels for collected packages: mla-thejevans\n",
      "  Building wheel for mla-thejevans (setup.py) ... \u001b[?25ldone\n",
      "\u001b[?25h  Created wheel for mla-thejevans: filename=mla_thejevans-0.0.1-py3-none-any.whl size=41082 sha256=5c3e897e895fe150392dc8b5ce829f1827a89a0c2dadb5b38a187fe9574f2441\n",
      "  Stored in directory: /tmp/pip-ephem-wheel-cache-71s9_vj0/wheels/8e/63/8a/aa8e5665184f6fbcef00e255ab8844c79f9992905509ad1988\n",
      "Successfully built mla-thejevans\n",
      "Installing collected packages: mla-thejevans\n",
      "Successfully installed mla-thejevans-0.0.1\n"
     ]
    }
   ],
   "source": [
    "import sys\n",
    "!{sys.executable} -m pip uninstall -y mla-thejevans\n",
    "!{sys.executable} -m pip install numba git+https://github.com/thejevans/mla.git@flare-stack"
   ]
  },
  {
   "cell_type": "code",
   "execution_count": 1,
   "metadata": {},
   "outputs": [],
   "source": [
    "import json\n",
    "\n",
    "import matplotlib.pyplot as plt\n",
    "import mla\n",
    "import numpy as np"
   ]
  },
  {
   "cell_type": "markdown",
   "metadata": {},
   "source": [
    "For this example, we'll just use one year of data"
   ]
  },
  {
   "cell_type": "code",
   "execution_count": 2,
   "metadata": {},
   "outputs": [],
   "source": [
    "# CONSTANTS\n",
    "DATA_DIR = '/data/mjlarson/version-004-p01/'\n",
    "DATA_FILE_NAME = 'IC86_2012_exp.npy'\n",
    "SIM_FILE_NAME = 'IC86_2016_MC.npy'\n",
    "\n",
    "DATA_FILE = DATA_DIR + '/' + DATA_FILE_NAME\n",
    "SIM_FILE = DATA_DIR + '/' + SIM_FILE_NAME\n",
    "GRL_FILE = DATA_DIR + '/GRL/' + DATA_FILE_NAME"
   ]
  },
  {
   "cell_type": "markdown",
   "metadata": {},
   "source": [
    "Let's load in our event data and see what it looks like"
   ]
  },
  {
   "cell_type": "code",
   "execution_count": 3,
   "metadata": {},
   "outputs": [
    {
     "name": "stdout",
     "output_type": "stream",
     "text": [
      "data_np.dtype.names = ('run', 'event', 'subevent', 'ra', 'dec', 'azi', 'zen', 'time', 'logE', 'angErr')\n",
      "\n",
      "len(data_np) = 116897\n",
      "\n",
      "[(120028,  839634, 0, 4.64491964, -0.99387321, 3.35139177, 0.57682579, 56043.42668248, 4.86349265, 0.00260412)\n",
      " (120028, 1578865, 0, 3.01202852,  0.02389263, 5.0057937 , 1.59350929, 56043.42980643, 3.07246761, 0.00635448)\n",
      " (120028, 2116382, 0, 2.75532733,  0.14988575, 5.27674119, 1.71960492, 56043.43207568, 3.46363712, 0.01092795)\n",
      " ...\n",
      " (122275, 8273253, 0, 2.12753894,  0.01541207, 5.86127356, 1.58555405, 56414.40950511, 3.35575262, 0.00471234)\n",
      " (122275, 8753212, 0, 5.02908201,  1.10426143, 2.97497898, 2.67531515, 56414.41155752, 3.55747872, 0.01335417)\n",
      " (122275, 9211233, 0, 4.55031389, -0.57089879, 3.46286981, 0.99965481, 56414.4135139 , 4.79049354, 0.0091625 )]\n",
      "\n",
      "--------------------------------------------------------------------------------\n",
      "\n",
      "sim_np.dtype.names = ('run', 'event', 'subevent', 'ra', 'dec', 'azi', 'zen', 'time', 'logE', 'angErr', 'trueRa', 'trueDec', 'trueAzi', 'trueZen', 'trueE', 'ow')\n",
      "\n",
      "len(sim_np) = 12009752\n",
      "\n",
      "--------------------------------------------------------------------------------\n",
      "\n",
      "grl.dtype.names = ('run', 'start', 'stop', 'livetime', 'events')\n",
      "\n",
      "[(120028., 56043.4231382, 56043.7565186, 0.3333804, 121)\n",
      " (120029., 56043.7572158, 56044.0905961, 0.3333803, 125)\n",
      " (120030., 56044.0913072, 56044.4245757, 0.3332685, 110) ...\n",
      " (122273., 56413.7054599, 56414.0388477, 0.3333878, 118)\n",
      " (122274., 56414.0397903, 56414.3731738, 0.3333835, 113)\n",
      " (122275., 56414.3741814, 56414.4149049, 0.0407235,   9)]\n"
     ]
    }
   ],
   "source": [
    "data_np = np.load(DATA_FILE)\n",
    "print(f'{data_np.dtype.names = }\\n\\n{len(data_np) = }\\n\\n{data_np}\\n\\n{80 * \"-\"}\\n')\n",
    "\n",
    "sim_np = np.load(SIM_FILE)\n",
    "print(f'{sim_np.dtype.names = }\\n\\n{len(sim_np) = }\\n\\n{80 * \"-\"}\\n')\n",
    "\n",
    "grl = np.load(GRL_FILE)\n",
    "print(f'{grl.dtype.names = }\\n\\n{grl}')"
   ]
  },
  {
   "cell_type": "markdown",
   "metadata": {},
   "source": [
    "`i3mla` is a software package that takes the data, sim, and GRL, and allows you to perform different analyses. For this example, we'll be doing a time-integrated point-source search.\n",
    "\n",
    "The workflow for `i3mla` is:\n",
    "1. build components for analysis file for your analysis type\n",
    "1. compile the components into an analysis file\n",
    "1. run randomized trials to calculate our sensitivity for your analysis\n",
    "1. compare the real data to randomized trials to see if what we see is significant\n",
    "\n",
    "We will be building a `SingleSourceLLHAnalysis` which needs:\n",
    "- a `test_statistic_factory` to tell it what your likelihood looks like\n",
    "- an `injector` to tell it how to build randomized trials of events\n",
    "- a `source` to tell it where you expect signal events to come from\n",
    "- a `trial_generator` to actually generate randomized trials\n",
    "\n",
    "Before we go about building these components, there are a lot of possible configuration parameters that go into an analysis like this. `i3mla` has a way to generate a configuration dictionary so that you can start with reasonable defaults and edit as you like. Our first order of business will be to generate the configuaration for our analysis components."
   ]
  },
  {
   "cell_type": "code",
   "execution_count": 4,
   "metadata": {},
   "outputs": [
    {
     "name": "stdout",
     "output_type": "stream",
     "text": [
      "{\n",
      "    \"data handler\": {\n",
      "        \"class\": \"NuSourcesDataHandler\",\n",
      "        \"args\": {\n",
      "            \"norm_energy\": 1000.0,\n",
      "            \"assumed_gamma\": -2,\n",
      "            \"dec_cut_loc\": null,\n",
      "            \"dec_band\": null,\n",
      "            \"sin_dec_bins\": 30,\n",
      "            \"dec_spline_kwargs\": {\n",
      "                \"bbox\": [\n",
      "                    -1,\n",
      "                    1\n",
      "                ],\n",
      "                \"s\": 1.5e-05,\n",
      "                \"ext\": 3\n",
      "            }\n",
      "        }\n",
      "    },\n",
      "    \"energy term\": {\n",
      "        \"class\": \"SplineMapEnergyTermFactory\",\n",
      "        \"args\": {\n",
      "            \"name\": \"SoBTerm\",\n",
      "            \"init_gamma\": -2,\n",
      "            \"sin_dec_bins\": 50,\n",
      "            \"log_energy_bins\": 50,\n",
      "            \"log_energy_bounds\": [\n",
      "                1,\n",
      "                8\n",
      "            ],\n",
      "            \"gamma_bins\": 50,\n",
      "            \"gamma_bounds\": [\n",
      "                -3.75,\n",
      "                -0.5\n",
      "            ],\n",
      "            \"norm_bghist_by_dec_band\": false,\n",
      "            \"sob_spline_kwargs\": {\n",
      "                \"k\": 3,\n",
      "                \"s\": 0,\n",
      "                \"ext\": \"raise\"\n",
      "            },\n",
      "            \"energy_spline_kwargs\": {\n",
      "                \"k\": 1,\n",
      "                \"s\": 0,\n",
      "                \"ext\": 3\n",
      "            }\n",
      "        }\n",
      "    },\n",
      "    \"spatial term\": {\n",
      "        \"class\": \"SpatialTermFactory\",\n",
      "        \"args\": {\n",
      "            \"name\": \"SpatialTerm\"\n",
      "        }\n",
      "    },\n",
      "    \"PSO J0309+27\": {\n",
      "        \"class\": \"PointSource\",\n",
      "        \"args\": {\n",
      "            \"ra\": NaN,\n",
      "            \"dec\": NaN\n",
      "        }\n",
      "    },\n",
      "    \"test statistic\": {\n",
      "        \"class\": \"LLHTestStatisticFactory\",\n",
      "        \"args\": {\n",
      "            \"newton_precision\": 0,\n",
      "            \"newton_iterations\": 20,\n",
      "            \"gridsearch_size\": 5,\n",
      "            \"minimization_algorithm\": \"L-BFGS-B\"\n",
      "        }\n",
      "    },\n",
      "    \"trial generator\": {\n",
      "        \"class\": \"SingleSourceTrialGenerator\",\n",
      "        \"args\": {\n",
      "            \"random_seed\": null,\n",
      "            \"fixed_ns\": false\n",
      "        }\n",
      "    }\n",
      "}\n"
     ]
    }
   ],
   "source": [
    "config = mla.generate_default_config([\n",
    "    (mla.NuSourcesDataHandler, 'data handler'),\n",
    "    (mla.SplineMapEnergyTermFactory, 'energy term'),\n",
    "    (mla.SpatialTermFactory, 'spatial term'),\n",
    "    (mla.PointSource, 'PSO J0309+27'),\n",
    "    (mla.LLHTestStatisticFactory, 'test statistic'),\n",
    "    (mla.SingleSourceTrialGenerator, 'trial generator'),\n",
    "])\n",
    "print(json.dumps(config, indent=4))"
   ]
  },
  {
   "cell_type": "markdown",
   "metadata": {},
   "source": [
    "As you can see, there are quite a few options. A few need to be changed before we move forward, but the majority can be left alone."
   ]
  },
  {
   "cell_type": "code",
   "execution_count": 5,
   "metadata": {},
   "outputs": [],
   "source": [
    "#  PSO J0309+27 - the most distant known blazar...z=6.1\n",
    "# https://en.wikipedia.org/wiki/PSO_J030947.49%2B271757.31\n",
    "#RA 03h 09m 47.49s\n",
    "#DEC+27° 17′ 57.31″\n",
    "\n",
    "source_dec = mla.dec_to_rad(1, 27, 17, 57.31)\n",
    "\n",
    "config['PSO J0309+27']['args']['ra'] = mla.ra_to_rad(3, 9, 47.49)\n",
    "config['PSO J0309+27']['args']['dec'] = source_dec\n",
    "\n",
    "# To speed up computation, let's cut away simulation events that are more than\n",
    "# 2 degrees from our source declination\n",
    "config['data handler']['args']['dec_band'] = np.deg2rad(2)\n",
    "config['data handler']['args']['dec_cut_loc'] = source_dec"
   ]
  },
  {
   "cell_type": "markdown",
   "metadata": {},
   "source": [
    "`i3mla` wants the event data in it's own internal format, so lets convert it"
   ]
  },
  {
   "cell_type": "code",
   "execution_count": 6,
   "metadata": {},
   "outputs": [
    {
     "name": "stderr",
     "output_type": "stream",
     "text": [
      "/home/jevans96/.local/lib/python3.10/site-packages/mla/events.py:74: UserWarning: Dtype of 'run' in input structured array is int64. Converting to uint64.\n",
      "  warnings.warn(''.join([\n",
      "/home/jevans96/.local/lib/python3.10/site-packages/mla/events.py:74: UserWarning: Dtype of 'event' in input structured array is int64. Converting to uint64.\n",
      "  warnings.warn(''.join([\n",
      "/home/jevans96/.local/lib/python3.10/site-packages/mla/events.py:74: UserWarning: Dtype of 'subevent' in input structured array is int64. Converting to uint64.\n",
      "  warnings.warn(''.join([\n"
     ]
    }
   ],
   "source": [
    "data = mla.Events.from_nusources_events(data_np)\n",
    "sim = mla.SimEvents.from_nusources_events(sim_np)"
   ]
  },
  {
   "cell_type": "markdown",
   "metadata": {},
   "source": [
    "Now, let's use the configuration to build the analysis components. We'll start with the `PointSource`, and `NuSourcesDataHandler` because they only depend on the configuration and the data files. From the `NuSourcesDataHandler` object we can build our `injector`. "
   ]
  },
  {
   "cell_type": "code",
   "execution_count": 7,
   "metadata": {},
   "outputs": [],
   "source": [
    "source = mla.PointSource(**config['PSO J0309+27']['args'])\n",
    "\n",
    "data_handler = mla.NuSourcesDataHandler(\n",
    "    **config['data handler']['args'], sim=sim, data=data, grl=grl)\n",
    "\n",
    "injector = data_handler.build_injector()"
   ]
  },
  {
   "cell_type": "markdown",
   "metadata": {},
   "source": [
    "Next, we can build our likelihood by first building our likelihood terms: `SplineMapEnergyTermFactory` and `SpatialTermFactory`, then use them to build our likelihood object `LLHTestStatisticFactory`."
   ]
  },
  {
   "cell_type": "code",
   "execution_count": 8,
   "metadata": {},
   "outputs": [],
   "source": [
    "spline_map_energy_term_factory = mla.SplineMapEnergyTermFactory(\n",
    "    **config['energy term']['args'], data_handler=data_handler)\n",
    "\n",
    "spatial_term_factory = mla.SpatialTermFactory(\n",
    "    **config['spatial term']['args'], injector=injector, source=source)\n",
    "\n",
    "test_statistic_factory = mla.LLHTestStatisticFactory(\n",
    "    **config['test statistic']['args'],\n",
    "    sob_term_factories=[spline_map_energy_term_factory, spatial_term_factory],\n",
    ")"
   ]
  },
  {
   "cell_type": "markdown",
   "metadata": {},
   "source": [
    "Finally, we can make our `SingleSourceTrialGenerator` and put it all together in a `SingleSourceLLHAnalysis` object. This object can be saved via `pickle` to use later if needed and it has everything we need to do our analysis going forward."
   ]
  },
  {
   "cell_type": "code",
   "execution_count": 9,
   "metadata": {},
   "outputs": [],
   "source": [
    "trial_generator = mla.SingleSourceTrialGenerator(\n",
    "    **config['trial generator']['args'], injector=injector, source=source)\n",
    "\n",
    "analysis = mla.SingleSourceLLHAnalysis(\n",
    "    injector=injector,\n",
    "    source=source,\n",
    "    test_statistic_factory=test_statistic_factory,\n",
    "    trial_generator=trial_generator,\n",
    ")"
   ]
  },
  {
   "cell_type": "markdown",
   "metadata": {},
   "source": [
    "Now that you have an `Analysis`, you can start on your analysis! The most basic thing you can do is produce a randomized trial of events from your `trial_generator`. After that, you can minimize the test statistic (maximize the likelihood) for that trial, so let's do that."
   ]
  },
  {
   "cell_type": "code",
   "execution_count": 10,
   "metadata": {},
   "outputs": [
    {
     "name": "stdout",
     "output_type": "stream",
     "text": [
      "len(trial) = 116509\n",
      "Events(_ints=array([[ 120028,  120028,  120028, ...,   21002,   21220,   21002],\n",
      "       [ 839634, 1578865, 1578865, ...,   28978,      68,   36191],\n",
      "       [      0,       0,       0, ...,       0,       0,       0]],\n",
      "      dtype=uint64), _floats=array([[ 5.60479679e-01,  3.49430359e+00,  2.60445388e+00, ...,\n",
      "         8.24996259e-01,  8.33590537e-01,  8.24660044e-01],\n",
      "       [-9.93873210e-01,  2.38926296e-02,  2.38926296e-02, ...,\n",
      "         4.76999205e-01,  5.08626192e-01,  4.80345501e-01],\n",
      "       [ 3.35139177e+00,  5.00579370e+00,  5.00579370e+00, ...,\n",
      "         4.68005386e+00,  3.38822011e+00,  3.57108261e+00],\n",
      "       ...,\n",
      "       [ 4.86349265e+00,  3.07246761e+00,  3.07246761e+00, ...,\n",
      "         3.81144148e+00,  3.22467613e+00,  3.53659895e+00],\n",
      "       [ 2.60411954e-03,  6.35447559e-03,  6.35447559e-03, ...,\n",
      "         2.32716685e-03,  5.80782718e-03,  3.40606348e-03],\n",
      "       [-8.38144893e-01,  2.38903565e-02,  2.38903565e-02, ...,\n",
      "         4.59115411e-01,  4.86977804e-01,  4.62085605e-01]]))\n"
     ]
    },
    {
     "data": {
      "image/png": "[encoded data removed]",
      "text/plain": [
       "<Figure size 432x288 with 1 Axes>"
      ]
     },
     "metadata": {
      "needs_background": "light"
     },
     "output_type": "display_data"
    },
    {
     "name": "stdout",
     "output_type": "stream",
     "text": [
      "params = Params(value_array=array([ 0., -2.]), key_idx_map={'ns': 0, 'gamma': 1}, bounds={'ns': (0, inf), 'gamma': (-3.75, -0.5)})\n"
     ]
    }
   ],
   "source": [
    "trial = analysis.produce_trial(n_signal=np.sqrt(10) * 1e-15)\n",
    "\n",
    "print(f'{len(trial) = }\\n{trial}')\n",
    "\n",
    "# Plot the trial events\n",
    "plt.scatter(trial.ra, trial.logE)\n",
    "plt.xlabel('Right Ascension')\n",
    "plt.ylabel(r'$log_{10}E$')\n",
    "plt.show()\n",
    "\n",
    "# to minimize the test statistic, you need to generate a parameter object\n",
    "# this will be used by the test statistic object to calculate the likelihood\n",
    "# and by the minimizer to tweak and find the minimum\n",
    "params = analysis.generate_params()\n",
    "print(f'{params = }')"
   ]
  },
  {
   "cell_type": "markdown",
   "metadata": {},
   "source": [
    "This next bit you wouldn't normally do, but lets evaluate the test statistic without any minimizing and take a look at the signal-over-background histogram of the events in the trial."
   ]
  },
  {
   "cell_type": "code",
   "execution_count": 11,
   "metadata": {},
   "outputs": [
    {
     "data": {
      "image/png": "[encoded data removed]",
      "text/plain": [
       "<Figure size 1152x720 with 1 Axes>"
      ]
     },
     "metadata": {
      "needs_background": "light"
     },
     "output_type": "display_data"
    }
   ],
   "source": [
    "test_statistic = analysis.test_statistic_factory(params, trial)\n",
    "\n",
    "plt.figure(figsize=(16,10))\n",
    "plt.hist(test_statistic._calculate_sob(),bins=50)\n",
    "plt.yscale('log')"
   ]
  },
  {
   "cell_type": "markdown",
   "metadata": {},
   "source": [
    "Now lets use our analysis object to minimize the test statistic for the trial, fitting the `gamma` parameter."
   ]
  },
  {
   "cell_type": "code",
   "execution_count": 12,
   "metadata": {},
   "outputs": [
    {
     "name": "stdout",
     "output_type": "stream",
     "text": [
      "{\n",
      "    \"ts\": -19.80870828221806,\n",
      "    \"ns\": 5.312442177101373,\n",
      "    \"gamma\": -1.9544601050562307\n",
      "}\n"
     ]
    }
   ],
   "source": [
    "best_fit = analysis.minimize_trial(trial, params, ['gamma'])\n",
    "print(json.dumps(best_fit, indent=4))"
   ]
  },
  {
   "cell_type": "markdown",
   "metadata": {},
   "source": [
    "Now, lets use `produce_and_minimize` to do the same with 10 trials:"
   ]
  },
  {
   "cell_type": "code",
   "execution_count": 13,
   "metadata": {},
   "outputs": [
    {
     "name": "stdout",
     "output_type": "stream",
     "text": [
      "[\n",
      "    {\n",
      "        \"ts\": -9.116667891866168,\n",
      "        \"ns\": 12.784496491821063,\n",
      "        \"gamma\": -3.75\n",
      "    },\n",
      "    {\n",
      "        \"ts\": -5.547306791323209,\n",
      "        \"ns\": 5.169308405954777,\n",
      "        \"gamma\": -2.1066483710360813\n",
      "    },\n",
      "    {\n",
      "        \"ts\": -0.0,\n",
      "        \"ns\": 0.0,\n",
      "        \"gamma\": -3.75\n",
      "    },\n",
      "    {\n",
      "        \"ts\": -13.271874153607957,\n",
      "        \"ns\": 2.50703875065678,\n",
      "        \"gamma\": -0.5\n",
      "    },\n",
      "    {\n",
      "        \"ts\": -0.0,\n",
      "        \"ns\": 0.0,\n",
      "        \"gamma\": -3.75\n",
      "    },\n",
      "    {\n",
      "        \"ts\": -10.01277836889544,\n",
      "        \"ns\": 1.3615919143172992,\n",
      "        \"gamma\": -0.5\n",
      "    },\n",
      "    {\n",
      "        \"ts\": -7.651800205782392,\n",
      "        \"ns\": 1.2242380351993645,\n",
      "        \"gamma\": -0.5\n",
      "    },\n",
      "    {\n",
      "        \"ts\": -8.045350190908408,\n",
      "        \"ns\": 1.3129157942825678,\n",
      "        \"gamma\": -0.5\n",
      "    },\n",
      "    {\n",
      "        \"ts\": -4.696030546626613,\n",
      "        \"ns\": 10.031262297283147,\n",
      "        \"gamma\": -2.9046584223271683\n",
      "    },\n",
      "    {\n",
      "        \"ts\": -1.8792747250836097,\n",
      "        \"ns\": 6.887720856979629,\n",
      "        \"gamma\": -3.75\n",
      "    }\n",
      "]\n"
     ]
    }
   ],
   "source": [
    "results = [\n",
    "    analysis.produce_and_minimize(analysis.generate_params(), 'gamma', 1e-15)\n",
    "    for _ in range(10)\n",
    "]\n",
    "print(json.dumps(results, indent=4))"
   ]
  },
  {
   "cell_type": "code",
   "execution_count": 14,
   "metadata": {},
   "outputs": [
    {
     "name": "stdout",
     "output_type": "stream",
     "text": [
      "neg_ts = [9.116667891866168, 5.547306791323209, 0.0, 13.271874153607957, 0.0, 10.01277836889544, 7.651800205782392, 8.045350190908408, 4.696030546626613, 1.8792747250836097]\n",
      "\n",
      "ns = [12.784496491821063, 5.169308405954777, 0.0, 2.50703875065678, 0.0, 1.3615919143172992, 1.2242380351993645, 1.3129157942825678, 10.031262297283147, 6.887720856979629]\n",
      "\n",
      "np.mean(neg_ts) = 6.02210828740938, np.mean(ns) = 4.127857254649462\n"
     ]
    }
   ],
   "source": [
    "neg_ts = [-trial['ts'] for trial in results]\n",
    "ns = [trial['ns'] for trial in results]\n",
    "print(f'{neg_ts = }\\n\\n{ns = }\\n\\n{np.mean(neg_ts) = }, {np.mean(ns) = }')"
   ]
  },
  {
   "cell_type": "code",
   "execution_count": 15,
   "metadata": {},
   "outputs": [
    {
     "name": "stdout",
     "output_type": "stream",
     "text": [
      "Producing 100 trials n_inj = ~50\n",
      "Producing 100 trials n_inj = ~20\n",
      "Producing 100 trials n_inj = ~5\n",
      "Producing 100 trials n_inj = ~1\n",
      "Producing 500 bg only trials\n"
     ]
    }
   ],
   "source": [
    "# Produce and minimize 100 trials, then plot the ts distribution\n",
    "\n",
    "print(\"Producing 100 trials n_inj = ~50\")\n",
    "best_fit_arr_50 = [\n",
    "    analysis.produce_and_minimize(analysis.generate_params(), 'gamma', 3e-14)\n",
    "    for _ in range(100)\n",
    "]\n",
    "\n",
    "print(\"Producing 100 trials n_inj = ~20\")\n",
    "best_fit_20 = [\n",
    "    analysis.produce_and_minimize(analysis.generate_params(), 'gamma', 1e-14)\n",
    "    for _ in range(100)\n",
    "]\n",
    "\n",
    "print(\"Producing 100 trials n_inj = ~5\")\n",
    "best_fit_5 = [\n",
    "    analysis.produce_and_minimize(analysis.generate_params(), 'gamma', 2e-15)\n",
    "    for _ in range(100)\n",
    "]\n",
    "\n",
    "print(\"Producing 100 trials n_inj = ~1\")\n",
    "best_fit_1 = [\n",
    "    analysis.produce_and_minimize(analysis.generate_params(), 'gamma', 1e-16)\n",
    "    for _ in range(100)\n",
    "]\n",
    "\n",
    "print(\"Producing 500 bg only trials\")\n",
    "best_fit_bg = [\n",
    "    analysis.produce_and_minimize(analysis.generate_params(), 'gamma', 0)\n",
    "    for _ in range(500)\n",
    "]"
   ]
  },
  {
   "cell_type": "code",
   "execution_count": 16,
   "metadata": {},
   "outputs": [],
   "source": [
    "ts_bg, ns_bg = zip(*[(-trial['ts'], trial['ns']) for trial in best_fit_bg])\n",
    "ts_50, ns_50 = zip(*[(-trial['ts'], trial['ns']) for trial in best_fit_arr_50])\n",
    "ts_20, ns_20 = zip(*[(-trial['ts'], trial['ns']) for trial in best_fit_20])\n",
    "ts_5, ns_5 = zip(*[(-trial['ts'], trial['ns']) for trial in best_fit_5])\n",
    "ts_1, ns_1 = zip(*[(-trial['ts'], trial['ns']) for trial in best_fit_1])"
   ]
  },
  {
   "cell_type": "code",
   "execution_count": 17,
   "metadata": {},
   "outputs": [
    {
     "data": {
      "image/png": "[encoded data removed]",
      "text/plain": [
       "<Figure size 720x432 with 1 Axes>"
      ]
     },
     "metadata": {
      "needs_background": "light"
     },
     "output_type": "display_data"
    }
   ],
   "source": [
    "# Plot the signal and background LLHs\n",
    "fig, ax = plt.subplots(figsize=(10,6))\n",
    "bins = np.linspace(-5, 394, 50)\n",
    "\n",
    "ax.hist(ts_bg,\n",
    "        bins = bins,\n",
    "        weights = np.ones_like(ts_bg)/len(ts_bg),\n",
    "        histtype = 'step',\n",
    "        color = 'k',\n",
    "        linewidth = 3,\n",
    "        alpha=0.5,\n",
    "        label = r'N = 0',\n",
    "       )\n",
    "\n",
    "ax.hist(ts_50,\n",
    "        bins = bins,\n",
    "        weights = np.ones_like(ts_50)/len(ts_50),\n",
    "        histtype = 'step',\n",
    "        linewidth = 3,\n",
    "        alpha = 0.7,\n",
    "        label = r'N = $3 \\times 10^{-14}$')\n",
    "\n",
    "ax.hist(ts_20,\n",
    "        bins = bins,\n",
    "        weights = np.ones_like(ts_20)/len(ts_20),\n",
    "        histtype = 'step',\n",
    "        linewidth = 3,\n",
    "        alpha = 0.7,\n",
    "        label = r'N = $1 \\times 10^{-14}$')\n",
    "\n",
    "ax.hist(ts_5,\n",
    "        bins = bins,\n",
    "        weights = np.ones_like(ts_5)/len(ts_5),\n",
    "        histtype = 'step',\n",
    "        linewidth = 3,\n",
    "        alpha = 0.7,\n",
    "        label = r'N = $2 \\times 10^{-15}$')\n",
    "\n",
    "ax.hist(ts_1,\n",
    "        bins = bins,\n",
    "        weights = np.ones_like(ts_1)/len(ts_1),\n",
    "        histtype = 'step',\n",
    "        linewidth = 3,\n",
    "        alpha = 0.7,\n",
    "        label = r'N = $1 \\times 10^{-16}$')\n",
    "\n",
    "ax.legend(loc='upper right', fontsize=16,)\n",
    "plt.yscale('log')\n",
    "ax.grid(alpha=0.25)\n",
    "#ax.set_xlim(bins.min(), bins.max())\n",
    "ax.set_xlabel(\"TS\", fontsize=16)\n",
    "ax.set_ylabel(\"Fraction of Trials\", fontsize=16)\n",
    "ax.tick_params(which='both', labelsize=16)"
   ]
  },
  {
   "cell_type": "code",
   "execution_count": 18,
   "metadata": {},
   "outputs": [
    {
     "data": {
      "image/png": "[encoded data removed]",
      "text/plain": [
       "<Figure size 720x432 with 1 Axes>"
      ]
     },
     "metadata": {
      "needs_background": "light"
     },
     "output_type": "display_data"
    }
   ],
   "source": [
    "# Plot the best fit ns\n",
    "fig, ax = plt.subplots(figsize=(10,6))\n",
    "bins = np.linspace(-1, 69, 70)\n",
    "\n",
    "ax.hist(ns_bg,\n",
    "        bins = bins,\n",
    "        weights = np.ones_like(ns_bg)/len(ns_bg),\n",
    "        histtype = 'step',\n",
    "        color = 'k',\n",
    "        linewidth = 3,\n",
    "        alpha=0.5,\n",
    "        label = r'N = 0',\n",
    "       )\n",
    "\n",
    "ax.hist(ns_50,\n",
    "        bins = bins,\n",
    "        weights = np.ones_like(ns_50)/len(ns_50),\n",
    "        histtype = 'step',\n",
    "        linewidth = 3,\n",
    "        alpha = 0.7,\n",
    "        label = r'N = $3 \\times 10^{-14}$')\n",
    "\n",
    "ax.hist(ns_20,\n",
    "        bins = bins,\n",
    "        weights = np.ones_like(ns_20)/len(ns_20),\n",
    "        histtype = 'step',\n",
    "        linewidth = 3,\n",
    "        alpha = 0.7,\n",
    "        label = r'N = $1 \\times 10^{-14}$')\n",
    "\n",
    "ax.hist(ns_5,\n",
    "        bins = bins,\n",
    "        weights = np.ones_like(ns_5)/len(ns_5),\n",
    "        histtype = 'step',\n",
    "        linewidth = 3,\n",
    "        alpha = 0.7,\n",
    "        label = r'N = $2 \\times 10^{-15}$')\n",
    "ax.hist(ns_1,\n",
    "        bins = bins,\n",
    "        weights = np.ones_like(ns_1)/len(ns_1),\n",
    "        histtype = 'step',\n",
    "        linewidth = 3,\n",
    "        alpha = 0.7,\n",
    "        label = r'N = $1 \\times 10^{-16}$')\n",
    "\n",
    "ax.legend(loc='upper right', fontsize=16,)\n",
    "plt.yscale('log')\n",
    "ax.grid(alpha=0.25)\n",
    "#ax.set_xlim(bins.min(), bins.max())\n",
    "ax.set_xlabel(\"NS\", fontsize=16)\n",
    "ax.set_ylabel(\"Fraction of Trials\", fontsize=16)\n",
    "ax.tick_params(which='both', labelsize=16)"
   ]
  },
  {
   "cell_type": "markdown",
   "metadata": {},
   "source": [
    "\n",
    "Starting to setup an analysis\n",
    "* background only TS distributions.\n",
    "* signal injections (flux vs. n_injected above)\n",
    "* find point where you make \"discovery\" and are \"sensitive\"\n",
    "* then look at real data.  What is your TS, where does it land relative to these distributions?  Did you discovery anything?"
   ]
  },
  {
   "cell_type": "code",
   "execution_count": 19,
   "metadata": {},
   "outputs": [
    {
     "name": "stdout",
     "output_type": "stream",
     "text": [
      "{\n",
      "    \"ts\": -0.0,\n",
      "    \"ns\": 0.0,\n",
      "    \"gamma\": -3.75\n",
      "}\n"
     ]
    }
   ],
   "source": [
    "# calculate the unblinded TS\n",
    "true_res = analysis.minimize_trial(data, analysis.generate_params(), ['gamma'])\n",
    "print(json.dumps(true_res, indent=4))"
   ]
  },
  {
   "cell_type": "code",
   "execution_count": 20,
   "metadata": {},
   "outputs": [
    {
     "data": {
      "image/png": "[encoded data removed]",
      "text/plain": [
       "<Figure size 720x432 with 1 Axes>"
      ]
     },
     "metadata": {
      "needs_background": "light"
     },
     "output_type": "display_data"
    }
   ],
   "source": [
    "# Plot the unblinded TS\n",
    "fig, ax = plt.subplots(figsize=(10,6))\n",
    "bins = np.linspace(-1, 29, 30)\n",
    "\n",
    "ax.hist(ts_bg,\n",
    "        bins = bins,\n",
    "        weights = np.ones_like(ts_bg)/len(ts_bg),\n",
    "        histtype = 'step',\n",
    "        color = 'k',\n",
    "        linewidth = 3,\n",
    "        alpha=0.5,\n",
    "        label = r'N = 0 (500 trials)',\n",
    "       )\n",
    "\n",
    "ax.hist(ts_5,\n",
    "        bins = bins,\n",
    "        weights = np.ones_like(ts_5)/len(ts_5),\n",
    "        histtype = 'step',\n",
    "        linewidth = 3,\n",
    "        alpha = 0.7,\n",
    "        label = r'N = $2 \\times 10^{-15}$ (100 trials)')\n",
    "\n",
    "ax.hist(ts_1,\n",
    "        bins = bins,\n",
    "        weights = np.ones_like(ts_1)/len(ts_1),\n",
    "        histtype = 'step',\n",
    "        linewidth = 3,\n",
    "        alpha = 0.7,\n",
    "        label = r'N = $1 \\times 10^{-16}$ (100 trials)')\n",
    "\n",
    "ax.vlines(-true_res['ts'], 0, 2.0, label = r'Unblinded value: {}'.format(round(-true_res['ts'],2)),colors=['green'])\n",
    "ax.legend(loc='upper right', fontsize=16,)\n",
    "plt.yscale('log')\n",
    "ax.grid(alpha=0.25)\n",
    "#ax.set_xlim(bins.min(), bins.max())\n",
    "ax.set_xlabel(\"TS\", fontsize=16)\n",
    "ax.set_ylabel(\"Fraction of Trials\", fontsize=16)\n",
    "ax.tick_params(which='both', labelsize=16)"
   ]
  },
  {
   "cell_type": "code",
   "execution_count": null,
   "metadata": {},
   "outputs": [],
   "source": []
  }
 ],
 "metadata": {
  "kernelspec": {
   "display_name": "Python 3 (ipykernel)",
   "language": "python",
   "name": "python3"
  },
  "language_info": {
   "codemirror_mode": {
    "name": "ipython",
    "version": 3
   },
   "file_extension": ".py",
   "mimetype": "text/x-python",
   "name": "python",
   "nbconvert_exporter": "python",
   "pygments_lexer": "ipython3",
   "version": "3.10.6"
  }
 },
 "nbformat": 4,
 "nbformat_minor": 4
}
