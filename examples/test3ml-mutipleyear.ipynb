{
 "cells": [
  {
   "cell_type": "code",
   "execution_count": 1,
   "id": "e33cebca-39c1-4b5e-9790-16a969abdb4d",
   "metadata": {},
   "outputs": [
    {
     "name": "stdout",
     "output_type": "stream",
     "text": [
      "[\u001b[35mWARNING \u001b[0m]\u001b[35m The naima package is not available. Models that depend on it will not be available\u001b[0m\n",
      "[\u001b[35mWARNING \u001b[0m]\u001b[35m The GSL library or the pygsl wrapper cannot be loaded. Models that depend on it will not be available.\u001b[0m\n",
      "[\u001b[35mWARNING \u001b[0m]\u001b[35m The ebltable package is not available. Models that depend on it will not be available\u001b[0m\n",
      "[\u001b[32mINFO    \u001b[0m]\u001b[32m Starting 3ML!\u001b[0m\n",
      "[\u001b[35mWARNING \u001b[0m]\u001b[35m no display variable set. using backend for graphics without display (agg)\u001b[0m\n",
      "[\u001b[32mINFO    \u001b[0m]\u001b[32m Starting 3ML!\u001b[0m\n",
      "[\u001b[35mWARNING \u001b[0m]\u001b[35m no display variable set. using backend for graphics without display (agg)\u001b[0m\n",
      "[\u001b[35mWARNING \u001b[0m]\u001b[35m ROOT minimizer not available\u001b[0m\n",
      "[\u001b[35mWARNING \u001b[0m]\u001b[35m Multinest minimizer not available\u001b[0m\n",
      "[\u001b[35mWARNING \u001b[0m]\u001b[35m PyGMO is not available\u001b[0m\n",
      "[\u001b[35mWARNING \u001b[0m]\u001b[35m The cthreeML package is not installed. You will not be able to use plugins which require the C/C++ interface (currently HAWC)\u001b[0m\n",
      "[\u001b[35mWARNING \u001b[0m]\u001b[35m Could not import plugin FermiLATLike.py. Do you have the relative instrument software installed and configured?\u001b[0m\n",
      "[\u001b[35mWARNING \u001b[0m]\u001b[35m Could not import plugin HAWCLike.py. Do you have the relative instrument software installed and configured?\u001b[0m\n",
      "[\u001b[35mWARNING \u001b[0m]\u001b[35m Env. variable OMP_NUM_THREADS is not set. Please set it to 1 for optimal performances in 3ML\u001b[0m\n",
      "[\u001b[35mWARNING \u001b[0m]\u001b[35m Env. variable MKL_NUM_THREADS is not set. Please set it to 1 for optimal performances in 3ML\u001b[0m\n",
      "[\u001b[35mWARNING \u001b[0m]\u001b[35m Env. variable NUMEXPR_NUM_THREADS is not set. Please set it to 1 for optimal performances in 3ML\u001b[0m\n"
     ]
    }
   ],
   "source": [
    "import os, sys, glob, abc\n",
    "import numpy as np\n",
    "%matplotlib inline\n",
    "from matplotlib import pyplot as plt, colors\n",
    "from multiprocessing import Pool\n",
    "import mla\n",
    "from mla.threeml import spectral\n",
    "import imp\n",
    "import astromodels\n",
    "import threeML\n",
    "import pickle\n",
    "from functools import partial\n",
    "from mla.threeml.IceCubeLike import IceCubeLike\n",
    "from threeML import *\n",
    "import numpy.lib.recfunctions as rf\n",
    "def read(filelist):\n",
    "    data = []\n",
    "\n",
    "    for f in sorted(filelist):\n",
    "        x = np.load(f)\n",
    "        if len(data) == 0: data = x.copy()\n",
    "        else: data = np.concatenate([data, x])\n",
    "\n",
    "    try:\n",
    "        data=rf.append_fields(data, 'sindec',\n",
    "                              np.sin(data['dec']),\n",
    "                              usemask=False)\n",
    "    except:\n",
    "        pass\n",
    "    return data\n"
   ]
  },
  {
   "cell_type": "code",
   "execution_count": 2,
   "id": "69468450-c148-4064-ba77-f8c236fce1f7",
   "metadata": {},
   "outputs": [
    {
     "name": "stderr",
     "output_type": "stream",
     "text": [
      "\n",
      "WARNING RuntimeWarning: invalid value encountered in true_divide\n",
      "\n"
     ]
    }
   ],
   "source": [
    "#Loading all the data , MC and good run list\n",
    "DATA_PATH = \"/data/i3store/users/mjlarson/ps_tracks/version-004-p00\"\n",
    "\n",
    "# Read in all of the MC files \n",
    "sim_files = DATA_PATH + \"/IC86*MC*npy\"\n",
    "sim = np.load([i for i in glob.glob(sim_files) if \"2011\" not in i][0])\n",
    "n_keep = int(0.5*len(sim)) #server don't have that much memory for me to \n",
    "sim = np.random.choice(sim, n_keep)\n",
    "sim=rf.append_fields(sim, 'sindec',\n",
    "                     np.sin(sim['dec']),\n",
    "                     usemask=False)\n",
    "\n",
    "\n",
    "# Read in all of the data files\n",
    "data_files = DATA_PATH + \"/IC86_*exp.npy\"\n",
    "listofdata = []\n",
    "data = read([i for i in glob.glob(data_files)])\n",
    "\n",
    "\n",
    "# Set the angular error floor to 0.2 degrees\n",
    "#data['angErr'][data['angErr']<np.deg2rad(0.2)] = np.deg2rad(0.2)\n",
    "sim['angErr'][sim['angErr']<np.deg2rad(0.2)] = np.deg2rad(0.2)\n",
    "np.random.seed(2) #for reproduce\n",
    "data['ra'] = np.random.uniform(0, 2*np.pi, size=len(data))\n",
    "grlfile = DATA_PATH + \"/GRL/IC86*_exp.npy\"\n",
    "grl = read([i for i in glob.glob(grlfile)])\n",
    "livetime = np.sum(grl['livetime'])\n",
    "bkg_days = grl['stop'][-1]-grl['start'][0]\n",
    "background_time_profile = mla.time_profiles.UniformProfile({'start':grl['start'][0], 'length':bkg_days})\n",
    "inject_signal_time_profile = mla.time_profiles.UniformProfile({'start':grl['start'][0], 'length':bkg_days})\n",
    "if 'sindec' not in data.dtype.names:\n",
    "    data = rf.append_fields(\n",
    "        data,\n",
    "        'sindec',\n",
    "        np.sin(data['dec']),\n",
    "        usemask=False,\n",
    "    )\n",
    "if 'sindec' not in sim.dtype.names:\n",
    "    sim = rf.append_fields(\n",
    "        sim,\n",
    "        'sindec',\n",
    "        np.sin(sim['dec']),\n",
    "        usemask=False,\n",
    "    )\n",
    "config = mla.generate_default_config([\n",
    "    mla.threeml.data_handlers.ThreeMLDataHandler,\n",
    "    mla.PointSource,\n",
    "    mla.SpatialTermFactory,\n",
    "    mla.threeml.sob_terms.ThreeMLPSEnergyTermFactory,\n",
    "    mla.TimeTermFactory,\n",
    "    mla.LLHTestStatisticFactory\n",
    "])\n",
    "config['PointSource']['name'] = 'TXS0506+056'\n",
    "config['PointSource']['ra'] = mla.ra_to_rad(5, 9, 25.9645434784)\n",
    "config['PointSource']['dec'] = mla.dec_to_rad(1, 5, 41, 35.333636817)\n",
    "config['ThreeMLDataHandler']['dec_bandwidth (rad)'] = np.deg2rad(3)\n",
    "config['ThreeMLDataHandler']['dec_cut_location']=mla.dec_to_rad(1, 5, 41, 35.333636817)\n",
    "source = mla.PointSource(config['PointSource'])\n",
    "\n",
    "data_handler = mla.threeml.data_handlers.ThreeMLDataHandler(\n",
    "    config['ThreeMLDataHandler'], sim, (data, grl),background_time_profile=background_time_profile,signal_time_profile=inject_signal_time_profile)\n",
    "spatial_term_factory = mla.SpatialTermFactory(config['SpatialTermFactory'], data_handler, source)\n",
    "energy_term_factory = mla.threeml.sob_terms.ThreeMLPSEnergyTermFactory(config['ThreeMLPSEnergyTermFactory'], data_handler,source)\n",
    "time_term_factory = mla.TimeTermFactory(config['TimeTermFactory'],background_time_profile,inject_signal_time_profile)\n",
    "llh_factory = mla.LLHTestStatisticFactory(config['LLHTestStatisticFactory'],[spatial_term_factory,energy_term_factory,time_term_factory])\n",
    "icecube=IceCubeLike(\"txs\",data,data_handler,llh_factory,source,verbose=False)"
   ]
  },
  {
   "cell_type": "code",
   "execution_count": 3,
   "id": "4fedb50a-64a8-42f4-83f2-941c84af46a5",
   "metadata": {},
   "outputs": [
    {
     "name": "stderr",
     "output_type": "stream",
     "text": [
      "\n",
      "WARNING RuntimeWarning: invalid value encountered in true_divide\n",
      "\n"
     ]
    }
   ],
   "source": [
    "#Loading all the data , MC and good run list\n",
    "DATA_PATH = \"/data/i3store/users/mjlarson/ps_tracks/version-004-p00\"\n",
    "\n",
    "# Read in all of the MC files \n",
    "sim_files = DATA_PATH + \"/IC79*MC*npy\"\n",
    "sim = np.load([i for i in glob.glob(sim_files)][0])\n",
    "#n_keep = int(0.5*len(sim)) #server don't have that much memory for me to \n",
    "#sim = np.random.choice(sim, n_keep)\n",
    "sim=rf.append_fields(sim, 'sindec',\n",
    "                     np.sin(sim['dec']),\n",
    "                     usemask=False)\n",
    "\n",
    "\n",
    "# Read in all of the data files\n",
    "data_files = DATA_PATH + \"/IC79_*exp.npy\"\n",
    "listofdata = []\n",
    "data = read([i for i in glob.glob(data_files)])\n",
    "\n",
    "\n",
    "# Set the angular error floor to 0.2 degrees\n",
    "#data['angErr'][data['angErr']<np.deg2rad(0.2)] = np.deg2rad(0.2)\n",
    "sim['angErr'][sim['angErr']<np.deg2rad(0.2)] = np.deg2rad(0.2)\n",
    "np.random.seed(2) #for reproduce\n",
    "data['ra'] = np.random.uniform(0, 2*np.pi, size=len(data))\n",
    "grlfile = DATA_PATH + \"/GRL/IC79*_exp.npy\"\n",
    "grl = read([i for i in glob.glob(grlfile)])\n",
    "livetime = np.sum(grl['livetime'])\n",
    "bkg_days = grl['stop'][-1]-grl['start'][0]\n",
    "background_time_profile = mla.time_profiles.UniformProfile({'start':grl['start'][0], 'length':bkg_days})\n",
    "inject_signal_time_profile = mla.time_profiles.UniformProfile({'start':grl['start'][0], 'length':bkg_days})\n",
    "if 'sindec' not in data.dtype.names:\n",
    "    data = rf.append_fields(\n",
    "        data,\n",
    "        'sindec',\n",
    "        np.sin(data['dec']),\n",
    "        usemask=False,\n",
    "    )\n",
    "if 'sindec' not in sim.dtype.names:\n",
    "    sim = rf.append_fields(\n",
    "        sim,\n",
    "        'sindec',\n",
    "        np.sin(sim['dec']),\n",
    "        usemask=False,\n",
    "    )\n",
    "config = mla.generate_default_config([\n",
    "    mla.threeml.data_handlers.ThreeMLDataHandler,\n",
    "    mla.PointSource,\n",
    "    mla.SpatialTermFactory,\n",
    "    mla.threeml.sob_terms.ThreeMLPSEnergyTermFactory,\n",
    "    mla.TimeTermFactory,\n",
    "    mla.LLHTestStatisticFactory\n",
    "])\n",
    "config['PointSource']['name'] = 'TXS0506+056'\n",
    "config['PointSource']['ra'] = mla.ra_to_rad(5, 9, 25.9645434784)\n",
    "config['PointSource']['dec'] = mla.dec_to_rad(1, 5, 41, 35.333636817)\n",
    "config['ThreeMLDataHandler']['dec_bandwidth (rad)'] = np.deg2rad(3)\n",
    "config['ThreeMLDataHandler']['dec_cut_location']=mla.dec_to_rad(1, 5, 41, 35.333636817)\n",
    "source = mla.PointSource(config['PointSource'])\n",
    "\n",
    "data_handler_79 = mla.threeml.data_handlers.ThreeMLDataHandler(\n",
    "    config['ThreeMLDataHandler'], sim, (data, grl),background_time_profile=background_time_profile,signal_time_profile=inject_signal_time_profile)\n",
    "spatial_term_factory_79 = mla.SpatialTermFactory(config['SpatialTermFactory'], data_handler_79, source)\n",
    "energy_term_factory_79 = mla.threeml.sob_terms.ThreeMLPSEnergyTermFactory(config['ThreeMLPSEnergyTermFactory'], data_handler_79,source)\n",
    "time_term_factory_79 = mla.TimeTermFactory(config['TimeTermFactory'],background_time_profile,inject_signal_time_profile)\n",
    "llh_factory_79 = mla.LLHTestStatisticFactory(config['LLHTestStatisticFactory'],[spatial_term_factory_79,energy_term_factory_79,time_term_factory_79])\n",
    "icecube_79=IceCubeLike(\"txs_79\",data,data_handler_79,llh_factory_79,source,verbose=False)"
   ]
  },
  {
   "cell_type": "code",
   "execution_count": 4,
   "id": "69f4e31b-e187-4ef2-a58e-a82ab26ccb71",
   "metadata": {},
   "outputs": [
    {
     "name": "stderr",
     "output_type": "stream",
     "text": [
      "\n",
      "WARNING RuntimeWarning: invalid value encountered in true_divide\n",
      "\n"
     ]
    }
   ],
   "source": [
    "#Loading all the data , MC and good run list\n",
    "DATA_PATH = \"/data/i3store/users/mjlarson/ps_tracks/version-004-p00\"\n",
    "\n",
    "# Read in all of the MC files \n",
    "sim_files = DATA_PATH + \"/IC59*MC*npy\"\n",
    "sim = np.load([i for i in glob.glob(sim_files)][0])\n",
    "#n_keep = int(0.5*len(sim)) #server don't have that much memory for me to \n",
    "#sim = np.random.choice(sim, n_keep)\n",
    "sim=rf.append_fields(sim, 'sindec',\n",
    "                     np.sin(sim['dec']),\n",
    "                     usemask=False)\n",
    "\n",
    "\n",
    "# Read in all of the data files\n",
    "data_files = DATA_PATH + \"/IC59_*exp.npy\"\n",
    "listofdata = []\n",
    "data = read([i for i in glob.glob(data_files)])\n",
    "\n",
    "\n",
    "# Set the angular error floor to 0.2 degrees\n",
    "#data['angErr'][data['angErr']<np.deg2rad(0.2)] = np.deg2rad(0.2)\n",
    "sim['angErr'][sim['angErr']<np.deg2rad(0.2)] = np.deg2rad(0.2)\n",
    "np.random.seed(3) #for reproduce\n",
    "data['ra'] = np.random.uniform(0, 2*np.pi, size=len(data))\n",
    "grlfile = DATA_PATH + \"/GRL/IC59*_exp.npy\"\n",
    "grl = read([i for i in glob.glob(grlfile)])\n",
    "livetime = np.sum(grl['livetime'])\n",
    "bkg_days = grl['stop'][-1]-grl['start'][0]\n",
    "background_time_profile = mla.time_profiles.UniformProfile({'start':grl['start'][0], 'length':bkg_days})\n",
    "inject_signal_time_profile = mla.time_profiles.UniformProfile({'start':grl['start'][0], 'length':bkg_days})\n",
    "if 'sindec' not in data.dtype.names:\n",
    "    data = rf.append_fields(\n",
    "        data,\n",
    "        'sindec',\n",
    "        np.sin(data['dec']),\n",
    "        usemask=False,\n",
    "    )\n",
    "if 'sindec' not in sim.dtype.names:\n",
    "    sim = rf.append_fields(\n",
    "        sim,\n",
    "        'sindec',\n",
    "        np.sin(sim['dec']),\n",
    "        usemask=False,\n",
    "    )\n",
    "config = mla.generate_default_config([\n",
    "    mla.threeml.data_handlers.ThreeMLDataHandler,\n",
    "    mla.PointSource,\n",
    "    mla.SpatialTermFactory,\n",
    "    mla.threeml.sob_terms.ThreeMLPSEnergyTermFactory,\n",
    "    mla.TimeTermFactory,\n",
    "    mla.LLHTestStatisticFactory\n",
    "])\n",
    "config['PointSource']['name'] = 'TXS0506+056'\n",
    "config['PointSource']['ra'] = mla.ra_to_rad(5, 9, 25.9645434784)\n",
    "config['PointSource']['dec'] = mla.dec_to_rad(1, 5, 41, 35.333636817)\n",
    "config['ThreeMLDataHandler']['dec_bandwidth (rad)'] = np.deg2rad(3)\n",
    "config['ThreeMLDataHandler']['dec_cut_location']=mla.dec_to_rad(1, 5, 41, 35.333636817)\n",
    "source = mla.PointSource(config['PointSource'])\n",
    "\n",
    "data_handler_59 = mla.threeml.data_handlers.ThreeMLDataHandler(\n",
    "    config['ThreeMLDataHandler'], sim, (data, grl),background_time_profile=background_time_profile,signal_time_profile=inject_signal_time_profile)\n",
    "spatial_term_factory_59 = mla.SpatialTermFactory(config['SpatialTermFactory'], data_handler_59, source)\n",
    "energy_term_factory_59 = mla.threeml.sob_terms.ThreeMLPSEnergyTermFactory(config['ThreeMLPSEnergyTermFactory'], data_handler_59,source)\n",
    "time_term_factory_59 = mla.TimeTermFactory(config['TimeTermFactory'],background_time_profile,inject_signal_time_profile)\n",
    "llh_factory_59 = mla.LLHTestStatisticFactory(config['LLHTestStatisticFactory'],[spatial_term_factory_59,energy_term_factory_59,time_term_factory_59])\n",
    "icecube_59=IceCubeLike(\"txs_59\",data,data_handler_59,llh_factory_59,source,verbose=False)"
   ]
  },
  {
   "cell_type": "code",
   "execution_count": 5,
   "id": "ad0c01f9-8cb3-4343-94da-ab6693b4163d",
   "metadata": {},
   "outputs": [
    {
     "name": "stderr",
     "output_type": "stream",
     "text": [
      "\n",
      "WARNING RuntimeWarning: invalid value encountered in true_divide\n",
      "\n"
     ]
    }
   ],
   "source": [
    "#Loading all the data , MC and good run list\n",
    "DATA_PATH = \"/data/i3store/users/mjlarson/ps_tracks/version-004-p00\"\n",
    "\n",
    "# Read in all of the MC files \n",
    "sim_files = DATA_PATH + \"/IC40*MC*npy\"\n",
    "sim = np.load([i for i in glob.glob(sim_files)][0])\n",
    "#n_keep = int(0.5*len(sim)) #server don't have that much memory for me to \n",
    "#sim = np.random.choice(sim, n_keep)\n",
    "sim=rf.append_fields(sim, 'sindec',\n",
    "                     np.sin(sim['dec']),\n",
    "                     usemask=False)\n",
    "\n",
    "\n",
    "# Read in all of the data files\n",
    "data_files = DATA_PATH + \"/IC40_*exp.npy\"\n",
    "listofdata = []\n",
    "data = read([i for i in glob.glob(data_files)])\n",
    "\n",
    "\n",
    "# Set the angular error floor to 0.2 degrees\n",
    "#data['angErr'][data['angErr']<np.deg2rad(0.2)] = np.deg2rad(0.2)\n",
    "sim['angErr'][sim['angErr']<np.deg2rad(0.2)] = np.deg2rad(0.2)\n",
    "np.random.seed(2) #for reproduce\n",
    "data['ra'] = np.random.uniform(0, 2*np.pi, size=len(data))\n",
    "grlfile = DATA_PATH + \"/GRL/IC40*_exp.npy\"\n",
    "grl = read([i for i in glob.glob(grlfile)])\n",
    "livetime = np.sum(grl['livetime'])\n",
    "bkg_days = grl['stop'][-1]-grl['start'][0]\n",
    "background_time_profile = mla.time_profiles.UniformProfile({'start':grl['start'][0], 'length':bkg_days})\n",
    "inject_signal_time_profile = mla.time_profiles.UniformProfile({'start':grl['start'][0], 'length':bkg_days})\n",
    "if 'sindec' not in data.dtype.names:\n",
    "    data = rf.append_fields(\n",
    "        data,\n",
    "        'sindec',\n",
    "        np.sin(data['dec']),\n",
    "        usemask=False,\n",
    "    )\n",
    "if 'sindec' not in sim.dtype.names:\n",
    "    sim = rf.append_fields(\n",
    "        sim,\n",
    "        'sindec',\n",
    "        np.sin(sim['dec']),\n",
    "        usemask=False,\n",
    "    )\n",
    "config = mla.generate_default_config([\n",
    "    mla.threeml.data_handlers.ThreeMLDataHandler,\n",
    "    mla.PointSource,\n",
    "    mla.SpatialTermFactory,\n",
    "    mla.threeml.sob_terms.ThreeMLPSEnergyTermFactory,\n",
    "    mla.TimeTermFactory,\n",
    "    mla.LLHTestStatisticFactory\n",
    "])\n",
    "config['PointSource']['name'] = 'TXS0506+056'\n",
    "config['PointSource']['ra'] = mla.ra_to_rad(5, 9, 25.9645434784)\n",
    "config['PointSource']['dec'] = mla.dec_to_rad(1, 5, 41, 35.333636817)\n",
    "config['ThreeMLDataHandler']['dec_bandwidth (rad)'] = np.deg2rad(3)\n",
    "config['ThreeMLDataHandler']['dec_cut_location']=mla.dec_to_rad(1, 5, 41, 35.333636817)\n",
    "source = mla.PointSource(config['PointSource'])\n",
    "\n",
    "data_handler_40 = mla.threeml.data_handlers.ThreeMLDataHandler(\n",
    "    config['ThreeMLDataHandler'], sim, (data, grl),background_time_profile=background_time_profile,signal_time_profile=inject_signal_time_profile)\n",
    "spatial_term_factory_40 = mla.SpatialTermFactory(config['SpatialTermFactory'], data_handler_40, source)\n",
    "energy_term_factory_40 = mla.threeml.sob_terms.ThreeMLPSEnergyTermFactory(config['ThreeMLPSEnergyTermFactory'], data_handler_40,source)\n",
    "time_term_factory_40 = mla.TimeTermFactory(config['TimeTermFactory'],background_time_profile,inject_signal_time_profile)\n",
    "llh_factory_40 = mla.LLHTestStatisticFactory(config['LLHTestStatisticFactory'],[spatial_term_factory_40,energy_term_factory_40,time_term_factory_40])\n",
    "icecube_40=IceCubeLike(\"txs_40\",data,data_handler_40,llh_factory_40,source,verbose=False)"
   ]
  },
  {
   "cell_type": "code",
   "execution_count": null,
   "id": "2ca48abb-a6e2-4dfc-af0c-29a2bb5d1909",
   "metadata": {},
   "outputs": [],
   "source": []
  },
  {
   "cell_type": "code",
   "execution_count": 6,
   "id": "efc371fe-4396-4d9e-bfae-790743899231",
   "metadata": {},
   "outputs": [
    {
     "name": "stderr",
     "output_type": "stream",
     "text": [
      "\n",
      "WARNING RuntimeWarning: invalid value encountered in true_divide\n",
      "\n"
     ]
    }
   ],
   "source": [
    "#Loading all the data , MC and good run list\n",
    "DATA_PATH = \"/data/i3store/users/mjlarson/ps_tracks/version-004-p00\"\n",
    "\n",
    "# Read in all of the MC files \n",
    "sim_files = DATA_PATH + \"/IC59*MC*npy\"\n",
    "sim = np.load([i for i in glob.glob(sim_files)][0])\n",
    "#n_keep = int(0.5*len(sim)) #server don't have that much memory for me to \n",
    "#sim = np.random.choice(sim, n_keep)\n",
    "sim=rf.append_fields(sim, 'sindec',\n",
    "                     np.sin(sim['dec']),\n",
    "                     usemask=False)\n",
    "\n",
    "\n",
    "# Read in all of the data files\n",
    "data_files = DATA_PATH + \"/IC59_*exp.npy\"\n",
    "listofdata = []\n",
    "data = read([i for i in glob.glob(data_files)])\n",
    "\n",
    "\n",
    "# Set the angular error floor to 0.2 degrees\n",
    "#data['angErr'][data['angErr']<np.deg2rad(0.2)] = np.deg2rad(0.2)\n",
    "sim['angErr'][sim['angErr']<np.deg2rad(0.2)] = np.deg2rad(0.2)\n",
    "#np.random.seed(3) #for reproduce\n",
    "data['ra'] = np.random.uniform(0, 2*np.pi, size=len(data))\n",
    "grlfile = DATA_PATH + \"/GRL/IC59*_exp.npy\"\n",
    "grl = read([i for i in glob.glob(grlfile)])\n",
    "livetime = np.sum(grl['livetime'])\n",
    "bkg_days = grl['stop'][-1]-grl['start'][0]\n",
    "background_time_profile = mla.time_profiles.UniformProfile({'start':grl['start'][0], 'length':bkg_days})\n",
    "inject_signal_time_profile = mla.time_profiles.UniformProfile({'start':grl['start'][0], 'length':bkg_days})\n",
    "if 'sindec' not in data.dtype.names:\n",
    "    data = rf.append_fields(\n",
    "        data,\n",
    "        'sindec',\n",
    "        np.sin(data['dec']),\n",
    "        usemask=False,\n",
    "    )\n",
    "if 'sindec' not in sim.dtype.names:\n",
    "    sim = rf.append_fields(\n",
    "        sim,\n",
    "        'sindec',\n",
    "        np.sin(sim['dec']),\n",
    "        usemask=False,\n",
    "    )\n",
    "config = mla.generate_default_config([\n",
    "    mla.threeml.data_handlers.ThreeMLDataHandler,\n",
    "    mla.PointSource,\n",
    "    mla.SpatialTermFactory,\n",
    "    mla.threeml.sob_terms.ThreeMLPSEnergyTermFactory,\n",
    "    mla.TimeTermFactory,\n",
    "    mla.LLHTestStatisticFactory\n",
    "])\n",
    "config['PointSource']['name'] = 'TXS0506+056'\n",
    "config['PointSource']['ra'] = mla.ra_to_rad(5, 9, 25.9645434784)\n",
    "config['PointSource']['dec'] = mla.dec_to_rad(1, 5, 41, 35.333636817)\n",
    "config['ThreeMLDataHandler']['dec_bandwidth (rad)'] = np.deg2rad(3)\n",
    "config['ThreeMLDataHandler']['dec_cut_location']=mla.dec_to_rad(1, 5, 41, 35.333636817)\n",
    "source = mla.PointSource(config['PointSource'])\n",
    "\n",
    "data_handler_59 = mla.threeml.data_handlers.ThreeMLDataHandler(\n",
    "    config['ThreeMLDataHandler'], sim, (data, grl),background_time_profile=background_time_profile,signal_time_profile=inject_signal_time_profile)\n",
    "spatial_term_factory_59 = mla.SpatialTermFactory(config['SpatialTermFactory'], data_handler_59, source)\n",
    "energy_term_factory_59 = mla.threeml.sob_terms.ThreeMLPSEnergyTermFactory(config['ThreeMLPSEnergyTermFactory'], data_handler_59,source)\n",
    "time_term_factory_59 = mla.TimeTermFactory(config['TimeTermFactory'],background_time_profile,inject_signal_time_profile)\n",
    "llh_factory_59 = mla.LLHTestStatisticFactory(config['LLHTestStatisticFactory'],[spatial_term_factory_59,energy_term_factory_59,time_term_factory_59])\n",
    "icecube_59=IceCubeLike(\"txs_59\",data,data_handler_59,llh_factory_59,source,verbose=False)"
   ]
  },
  {
   "cell_type": "code",
   "execution_count": 7,
   "id": "457c9450-2440-4301-944f-cdc334e1152d",
   "metadata": {},
   "outputs": [
    {
     "name": "stdout",
     "output_type": "stream",
     "text": [
      "[\u001b[35mWARNING \u001b[0m]\u001b[35m We have set the min_value of Powerlaw.K to 1e-99 because there was a postive transform\u001b[0m\n",
      "[\u001b[35mWARNING \u001b[0m]\u001b[35m The current value of the parameter K (1.0) was above the new maximum 1e-15.\u001b[0m\n"
     ]
    }
   ],
   "source": [
    "TXS_sp = astromodels.Powerlaw(piv=100e3) #In GeV.Setting a pivot energy is important\n",
    "#otherwise the minimizer will not find the current flux norm and spectral index minimum(as they are correlated)\n",
    "TXS_sp.K.bounds = (1e-50,1e-15)\n",
    "TXS_sp.index.bounds = (-4,-1)\n",
    "TXS_sp.K = 1e-19\n",
    "TXS_sp.index = -2\n",
    "TXS = mla.threeml.IceCubeLike.NeutrinoPointSource(\"TXS\", ra=77.3583, dec=5.6931, spectral_shape=TXS_sp)\n",
    "model = astromodels.Model(TXS)"
   ]
  },
  {
   "cell_type": "code",
   "execution_count": 8,
   "id": "bbff0bc3-43aa-4e57-8df7-2dab104e62f0",
   "metadata": {},
   "outputs": [
    {
     "name": "stdout",
     "output_type": "stream",
     "text": [
      "[\u001b[32mINFO    \u001b[0m]\u001b[32m set the minimizer to minuit\u001b[0m\n",
      "[\u001b[32mINFO    \u001b[0m]\u001b[32m set the minimizer to MINUIT\u001b[0m\n"
     ]
    }
   ],
   "source": [
    "import warnings\n",
    "warnings.filterwarnings(\"ignore\")\n",
    "icecube.verbose=False\n",
    "icecube_79.verbose=False\n",
    "icecube_59.verbose=False\n",
    "icecube_40.verbose=False\n",
    "IceCubedata = threeML.DataList(icecube,icecube_79,icecube_59,icecube_40)\n",
    "#IceCubedata = threeML.DataList(icecube_59)\n",
    "jl = threeML.JointLikelihood(model, IceCubedata)\n",
    "jl.set_minimizer(\"minuit\");\n",
    "\n",
    "\n"
   ]
  },
  {
   "cell_type": "code",
   "execution_count": 9,
   "id": "886137f6-da9d-427d-98ab-18b3d030c65a",
   "metadata": {},
   "outputs": [
    {
     "name": "stdout",
     "output_type": "stream",
     "text": [
      "[\u001b[35mWARNING \u001b[0m]\u001b[35m 96.7 percent of samples have been thrown away because they failed the constraints on the parameters. This results might not be suitable for error propagation. Enlarge the boundaries until you loose less than 1 percent of the samples.\u001b[0m\n",
      "[\u001b[35mWARNING \u001b[0m]\u001b[35m The current value of the parameter K (1.0) was above the new maximum 1e-15.\u001b[0m\n",
      "--- 47.14252424240112 seconds ---\n"
     ]
    }
   ],
   "source": [
    "import time\n",
    "#data['ra'] = np.random.uniform(0, 2*np.pi, size=len(data))\n",
    "#icecube_59.update_data(data)\n",
    "start_time = time.time()\n",
    "jl.fit(quiet=True) #take a while to run, it is 3 years of data. Sometime the minimizer will fail.\n",
    "print(\"--- %s seconds ---\" % (time.time() - start_time))"
   ]
  },
  {
   "cell_type": "code",
   "execution_count": 10,
   "id": "55e45937-8fad-444a-abae-2850994758de",
   "metadata": {},
   "outputs": [
    {
     "data": {
      "text/plain": [
       "-3.0958490601021814e-05"
      ]
     },
     "execution_count": 10,
     "metadata": {},
     "output_type": "execute_result"
    }
   ],
   "source": [
    "jl.current_minimum"
   ]
  },
  {
   "cell_type": "code",
   "execution_count": 11,
   "id": "7b725c88-f96e-4943-8f22-91fbaeb119e4",
   "metadata": {},
   "outputs": [
    {
     "name": "stdout",
     "output_type": "stream",
     "text": [
      "Best fit values:\n",
      "\n"
     ]
    },
    {
     "data": {
      "text/html": [
       "<div>\n",
       "<style scoped>\n",
       "    .dataframe tbody tr th:only-of-type {\n",
       "        vertical-align: middle;\n",
       "    }\n",
       "\n",
       "    .dataframe tbody tr th {\n",
       "        vertical-align: top;\n",
       "    }\n",
       "\n",
       "    .dataframe thead th {\n",
       "        text-align: right;\n",
       "    }\n",
       "</style>\n",
       "<table border=\"1\" class=\"dataframe\">\n",
       "  <thead>\n",
       "    <tr style=\"text-align: right;\">\n",
       "      <th></th>\n",
       "      <th>result</th>\n",
       "      <th>unit</th>\n",
       "    </tr>\n",
       "    <tr>\n",
       "      <th>parameter</th>\n",
       "      <th></th>\n",
       "      <th></th>\n",
       "    </tr>\n",
       "  </thead>\n",
       "  <tbody>\n",
       "    <tr>\n",
       "      <th>TXS.spectrum.main.Powerlaw.K</th>\n",
       "      <td>(3.3 -3.3 +7) x 10^23</td>\n",
       "      <td>1 / (cm2 keV s)</td>\n",
       "    </tr>\n",
       "    <tr>\n",
       "      <th>TXS.spectrum.main.Powerlaw.index</th>\n",
       "      <td>-4 +/- 9</td>\n",
       "      <td></td>\n",
       "    </tr>\n",
       "  </tbody>\n",
       "</table>\n",
       "</div>"
      ],
      "text/plain": [
       "                                                 result             unit\n",
       "parameter                                                               \n",
       "TXS.spectrum.main.Powerlaw.K      (3.3 -3.3 +7) x 10^23  1 / (cm2 keV s)\n",
       "TXS.spectrum.main.Powerlaw.index               -4 +/- 9                 "
      ]
     },
     "metadata": {},
     "output_type": "display_data"
    },
    {
     "name": "stdout",
     "output_type": "stream",
     "text": [
      "\n",
      "Correlation matrix:\n",
      "\n"
     ]
    },
    {
     "data": {
      "text/html": [
       "<div><table id=\"table140217731060592\">\n",
       "<tr><td>1.00</td><td>0.34</td></tr>\n",
       "<tr><td>0.34</td><td>1.00</td></tr>\n",
       "</table></div>"
      ],
      "text/plain": [
       "1.00 0.34\n",
       "0.34 1.00"
      ]
     },
     "metadata": {},
     "output_type": "display_data"
    },
    {
     "name": "stdout",
     "output_type": "stream",
     "text": [
      "\n",
      "Values of -log(likelihood) at the minimum:\n",
      "\n"
     ]
    },
    {
     "data": {
      "text/html": [
       "<div>\n",
       "<style scoped>\n",
       "    .dataframe tbody tr th:only-of-type {\n",
       "        vertical-align: middle;\n",
       "    }\n",
       "\n",
       "    .dataframe tbody tr th {\n",
       "        vertical-align: top;\n",
       "    }\n",
       "\n",
       "    .dataframe thead th {\n",
       "        text-align: right;\n",
       "    }\n",
       "</style>\n",
       "<table border=\"1\" class=\"dataframe\">\n",
       "  <thead>\n",
       "    <tr style=\"text-align: right;\">\n",
       "      <th></th>\n",
       "      <th>-log(likelihood)</th>\n",
       "    </tr>\n",
       "  </thead>\n",
       "  <tbody>\n",
       "    <tr>\n",
       "      <th>total</th>\n",
       "      <td>-0.000031</td>\n",
       "    </tr>\n",
       "    <tr>\n",
       "      <th>txs</th>\n",
       "      <td>0.006715</td>\n",
       "    </tr>\n",
       "    <tr>\n",
       "      <th>txs_40</th>\n",
       "      <td>0.000336</td>\n",
       "    </tr>\n",
       "    <tr>\n",
       "      <th>txs_59</th>\n",
       "      <td>-0.002191</td>\n",
       "    </tr>\n",
       "    <tr>\n",
       "      <th>txs_79</th>\n",
       "      <td>-0.004891</td>\n",
       "    </tr>\n",
       "  </tbody>\n",
       "</table>\n",
       "</div>"
      ],
      "text/plain": [
       "        -log(likelihood)\n",
       "total          -0.000031\n",
       "txs             0.006715\n",
       "txs_40          0.000336\n",
       "txs_59         -0.002191\n",
       "txs_79         -0.004891"
      ]
     },
     "metadata": {},
     "output_type": "display_data"
    },
    {
     "name": "stdout",
     "output_type": "stream",
     "text": [
      "\n",
      "Values of statistical measures:\n",
      "\n"
     ]
    },
    {
     "data": {
      "text/html": [
       "<div>\n",
       "<style scoped>\n",
       "    .dataframe tbody tr th:only-of-type {\n",
       "        vertical-align: middle;\n",
       "    }\n",
       "\n",
       "    .dataframe tbody tr th {\n",
       "        vertical-align: top;\n",
       "    }\n",
       "\n",
       "    .dataframe thead th {\n",
       "        text-align: right;\n",
       "    }\n",
       "</style>\n",
       "<table border=\"1\" class=\"dataframe\">\n",
       "  <thead>\n",
       "    <tr style=\"text-align: right;\">\n",
       "      <th></th>\n",
       "      <th>statistical measures</th>\n",
       "    </tr>\n",
       "  </thead>\n",
       "  <tbody>\n",
       "    <tr>\n",
       "      <th>AIC</th>\n",
       "      <td>3.999947</td>\n",
       "    </tr>\n",
       "    <tr>\n",
       "      <th>BIC</th>\n",
       "      <td>28.261176</td>\n",
       "    </tr>\n",
       "  </tbody>\n",
       "</table>\n",
       "</div>"
      ],
      "text/plain": [
       "     statistical measures\n",
       "AIC              3.999947\n",
       "BIC             28.261176"
      ]
     },
     "metadata": {},
     "output_type": "display_data"
    }
   ],
   "source": [
    "jl.results.display()"
   ]
  },
  {
   "cell_type": "code",
   "execution_count": 12,
   "id": "82466ea3-8c96-4643-a702-2355b454ae6d",
   "metadata": {},
   "outputs": [],
   "source": [
    "analysislist = mla.threeml.IceCubeLike.icecube_analysis([icecube,icecube_79,icecube_59,icecube_40])"
   ]
  },
  {
   "cell_type": "code",
   "execution_count": 19,
   "id": "95fe1235-8919-4fde-8f57-f13621889c53",
   "metadata": {},
   "outputs": [
    {
     "name": "stdout",
     "output_type": "stream",
     "text": [
      "[\u001b[35mWARNING \u001b[0m]\u001b[35m We have set the min_value of Powerlaw.K to 1e-99 because there was a postive transform\u001b[0m\n",
      "[\u001b[35mWARNING \u001b[0m]\u001b[35m The current value of the parameter K (1.0) was above the new maximum 1e-15.\u001b[0m\n",
      "[\u001b[32mINFO    \u001b[0m]\u001b[32m set the minimizer to minuit\u001b[0m\n",
      "[\u001b[32mINFO    \u001b[0m]\u001b[32m set the minimizer to MINUIT\u001b[0m\n"
     ]
    }
   ],
   "source": [
    "analysislist.injection(n_signal=30,poisson=True)\n",
    "TXS_sp = astromodels.Powerlaw(piv=100e3) #In GeV.Setting a pivot energy is important\n",
    "#otherwise the minimizer will not find the current flux norm and spectral index minimum(as they are correlated)\n",
    "TXS_sp.K.bounds = (1e-50,1e-15)\n",
    "TXS_sp.index.bounds = (-4,-1)\n",
    "TXS_sp.K = 1e-19\n",
    "TXS_sp.index = -2\n",
    "TXS =  mla.threeml.IceCubeLike.NeutrinoPointSource(\"TXS\", ra=77.3583, dec=5.6931, spectral_shape=TXS_sp)\n",
    "model = astromodels.Model(TXS)\n",
    "import warnings\n",
    "warnings.filterwarnings(\"ignore\")\n",
    "icecube.verbose=False\n",
    "icecube_79.verbose=False\n",
    "icecube_59.verbose=False\n",
    "icecube_40.verbose=False\n",
    "IceCubedata = threeML.DataList(icecube,icecube_79,icecube_59,icecube_40)\n",
    "#IceCubedata = threeML.DataList(icecube_59)\n",
    "jl = threeML.JointLikelihood(model, IceCubedata)\n",
    "jl.set_minimizer(\"minuit\");\n",
    "\n"
   ]
  },
  {
   "cell_type": "code",
   "execution_count": 20,
   "id": "50aeed31-21e2-46fe-b4da-2ed60c06cffe",
   "metadata": {},
   "outputs": [
    {
     "name": "stdout",
     "output_type": "stream",
     "text": [
      "[\u001b[35mWARNING \u001b[0m]\u001b[35m The current value of the parameter K (1.0) was above the new maximum 1e-15.\u001b[0m\n",
      "--- 46.93133854866028 seconds ---\n"
     ]
    }
   ],
   "source": [
    "start_time = time.time()\n",
    "jl.fit(quiet=True) \n",
    "print(\"--- %s seconds ---\" % (time.time() - start_time))"
   ]
  },
  {
   "cell_type": "code",
   "execution_count": 21,
   "id": "199e1927-8de5-4de3-9294-c8838a4f5f54",
   "metadata": {},
   "outputs": [
    {
     "name": "stdout",
     "output_type": "stream",
     "text": [
      "Best fit values:\n",
      "\n"
     ]
    },
    {
     "data": {
      "text/html": [
       "<div>\n",
       "<style scoped>\n",
       "    .dataframe tbody tr th:only-of-type {\n",
       "        vertical-align: middle;\n",
       "    }\n",
       "\n",
       "    .dataframe tbody tr th {\n",
       "        vertical-align: top;\n",
       "    }\n",
       "\n",
       "    .dataframe thead th {\n",
       "        text-align: right;\n",
       "    }\n",
       "</style>\n",
       "<table border=\"1\" class=\"dataframe\">\n",
       "  <thead>\n",
       "    <tr style=\"text-align: right;\">\n",
       "      <th></th>\n",
       "      <th>result</th>\n",
       "      <th>unit</th>\n",
       "    </tr>\n",
       "    <tr>\n",
       "      <th>parameter</th>\n",
       "      <th></th>\n",
       "      <th></th>\n",
       "    </tr>\n",
       "  </thead>\n",
       "  <tbody>\n",
       "    <tr>\n",
       "      <th>TXS.spectrum.main.Powerlaw.K</th>\n",
       "      <td>(2.7 -0.4 +0.5) x 10^-25</td>\n",
       "      <td>1 / (cm2 keV s)</td>\n",
       "    </tr>\n",
       "    <tr>\n",
       "      <th>TXS.spectrum.main.Powerlaw.index</th>\n",
       "      <td>-2.19 +/- 0.11</td>\n",
       "      <td></td>\n",
       "    </tr>\n",
       "  </tbody>\n",
       "</table>\n",
       "</div>"
      ],
      "text/plain": [
       "                                                    result             unit\n",
       "parameter                                                                  \n",
       "TXS.spectrum.main.Powerlaw.K      (2.7 -0.4 +0.5) x 10^-25  1 / (cm2 keV s)\n",
       "TXS.spectrum.main.Powerlaw.index            -2.19 +/- 0.11                 "
      ]
     },
     "metadata": {},
     "output_type": "display_data"
    },
    {
     "name": "stdout",
     "output_type": "stream",
     "text": [
      "\n",
      "Correlation matrix:\n",
      "\n"
     ]
    },
    {
     "data": {
      "text/html": [
       "<div><table id=\"table140217730992448\">\n",
       "<tr><td>1.00</td><td>0.13</td></tr>\n",
       "<tr><td>0.13</td><td>1.00</td></tr>\n",
       "</table></div>"
      ],
      "text/plain": [
       "1.00 0.13\n",
       "0.13 1.00"
      ]
     },
     "metadata": {},
     "output_type": "display_data"
    },
    {
     "name": "stdout",
     "output_type": "stream",
     "text": [
      "\n",
      "Values of -log(likelihood) at the minimum:\n",
      "\n"
     ]
    },
    {
     "data": {
      "text/html": [
       "<div>\n",
       "<style scoped>\n",
       "    .dataframe tbody tr th:only-of-type {\n",
       "        vertical-align: middle;\n",
       "    }\n",
       "\n",
       "    .dataframe tbody tr th {\n",
       "        vertical-align: top;\n",
       "    }\n",
       "\n",
       "    .dataframe thead th {\n",
       "        text-align: right;\n",
       "    }\n",
       "</style>\n",
       "<table border=\"1\" class=\"dataframe\">\n",
       "  <thead>\n",
       "    <tr style=\"text-align: right;\">\n",
       "      <th></th>\n",
       "      <th>-log(likelihood)</th>\n",
       "    </tr>\n",
       "  </thead>\n",
       "  <tbody>\n",
       "    <tr>\n",
       "      <th>total</th>\n",
       "      <td>-52.781682</td>\n",
       "    </tr>\n",
       "    <tr>\n",
       "      <th>txs</th>\n",
       "      <td>-43.320410</td>\n",
       "    </tr>\n",
       "    <tr>\n",
       "      <th>txs_40</th>\n",
       "      <td>-6.843299</td>\n",
       "    </tr>\n",
       "    <tr>\n",
       "      <th>txs_59</th>\n",
       "      <td>0.206401</td>\n",
       "    </tr>\n",
       "    <tr>\n",
       "      <th>txs_79</th>\n",
       "      <td>-2.824374</td>\n",
       "    </tr>\n",
       "  </tbody>\n",
       "</table>\n",
       "</div>"
      ],
      "text/plain": [
       "        -log(likelihood)\n",
       "total         -52.781682\n",
       "txs           -43.320410\n",
       "txs_40         -6.843299\n",
       "txs_59          0.206401\n",
       "txs_79         -2.824374"
      ]
     },
     "metadata": {},
     "output_type": "display_data"
    },
    {
     "name": "stdout",
     "output_type": "stream",
     "text": [
      "\n",
      "Values of statistical measures:\n",
      "\n"
     ]
    },
    {
     "data": {
      "text/html": [
       "<div>\n",
       "<style scoped>\n",
       "    .dataframe tbody tr th:only-of-type {\n",
       "        vertical-align: middle;\n",
       "    }\n",
       "\n",
       "    .dataframe tbody tr th {\n",
       "        vertical-align: top;\n",
       "    }\n",
       "\n",
       "    .dataframe thead th {\n",
       "        text-align: right;\n",
       "    }\n",
       "</style>\n",
       "<table border=\"1\" class=\"dataframe\">\n",
       "  <thead>\n",
       "    <tr style=\"text-align: right;\">\n",
       "      <th></th>\n",
       "      <th>statistical measures</th>\n",
       "    </tr>\n",
       "  </thead>\n",
       "  <tbody>\n",
       "    <tr>\n",
       "      <th>AIC</th>\n",
       "      <td>-101.563356</td>\n",
       "    </tr>\n",
       "    <tr>\n",
       "      <th>BIC</th>\n",
       "      <td>-77.302733</td>\n",
       "    </tr>\n",
       "  </tbody>\n",
       "</table>\n",
       "</div>"
      ],
      "text/plain": [
       "     statistical measures\n",
       "AIC           -101.563356\n",
       "BIC            -77.302733"
      ]
     },
     "metadata": {},
     "output_type": "display_data"
    }
   ],
   "source": [
    "jl.results.display()"
   ]
  },
  {
   "cell_type": "code",
   "execution_count": null,
   "id": "0c89fc4c-5589-4f78-83a9-4b08bf59349b",
   "metadata": {},
   "outputs": [],
   "source": []
  }
 ],
 "metadata": {
  "kernelspec": {
   "display_name": "Python [conda env:mladev]",
   "language": "python",
   "name": "conda-env-mladev-py"
  },
  "language_info": {
   "codemirror_mode": {
    "name": "ipython",
    "version": 3
   },
   "file_extension": ".py",
   "mimetype": "text/x-python",
   "name": "python",
   "nbconvert_exporter": "python",
   "pygments_lexer": "ipython3",
   "version": "3.9.6"
  }
 },
 "nbformat": 4,
 "nbformat_minor": 5
}
