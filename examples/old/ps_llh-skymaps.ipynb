{
 "cells": [
  {
   "cell_type": "code",
   "execution_count": 1,
   "metadata": {},
   "outputs": [
    {
     "name": "stdout",
     "output_type": "stream",
     "text": [
      "/home/jevans96/umd_icecube_analysis_tutorial\n"
     ]
    }
   ],
   "source": [
    "cd .."
   ]
  },
  {
   "cell_type": "code",
   "execution_count": 2,
   "metadata": {},
   "outputs": [],
   "source": [
    "__author__ = 'John Evans'\n",
    "__copyright__ = ''\n",
    "__credits__ = ['John Evans', 'Jason Fan', 'Michael Larson']\n",
    "__license__ = 'Apache License 2.0'\n",
    "__version__ = '0.0.1'\n",
    "__maintainer__ = 'John Evans'\n",
    "__email__ = 'jevans96@umd.edu'\n",
    "__status__ = 'Development'\n",
    "\n",
    "\"\"\"\n",
    "Docstring\n",
    "\"\"\"\n",
    "from typing import Optional\n",
    "\n",
    "import numpy as np\n",
    "import healpy as hp\n",
    "from i3pubtools import tools\n",
    "from i3pubtools import sources\n",
    "from i3pubtools.llhs import ps_llh\n",
    "# from test import test_data\n",
    "import glob\n",
    "import time\n",
    "import itertools\n",
    "from scipy import stats\n",
    "from matplotlib import pyplot as plt\n",
    "import cProfile\n",
    "\n",
    "np.random.seed(0)"
   ]
  },
  {
   "cell_type": "code",
   "execution_count": 3,
   "metadata": {},
   "outputs": [
    {
     "name": "stdout",
     "output_type": "stream",
     "text": [
      "Events available in simulation: 11595414\n",
      "Keys available in simulation:\n",
      "['angErr', 'azi', 'dec', 'event', 'logE', 'ow', 'ra', 'run', 'subevent', 'time', 'trueDec', 'trueE', 'trueRa', 'zen']\n",
      "\n",
      "Events available in data: 1000\n",
      "Keys available in data:\n",
      "['angErr', 'azi', 'dec', 'event', 'logE', 'ra', 'run', 'subevent', 'time', 'zen']\n"
     ]
    }
   ],
   "source": [
    "# Load in both the simulation and the data\n",
    "\n",
    "# # Where is the dataset stored?\n",
    "dataset = '/data/mjlarson/data/'\n",
    "\n",
    "# Read in all of the data files\n",
    "data_files = dataset + '/IC86_*exp.npy'\n",
    "data = tools.read(glob.glob(data_files))\n",
    "\n",
    "# Read in all of the MC files \n",
    "sim_files = dataset + '/IC86*MC*npy'\n",
    "sim = tools.read(glob.glob(sim_files))\n",
    "\n",
    "# trim data\n",
    "data = data[:1000]\n",
    "\n",
    "# data_size = 10000\n",
    "# sim_size = 100000\n",
    "\n",
    "# data = test_data.get_random_data(data_size)\n",
    "# sim = test_data.get_random_sim(sim_size)\n",
    "\n",
    "# Set the angular error floor to 0.2 degrees\n",
    "data['angErr'][data['angErr']<np.deg2rad(0.2)] = np.deg2rad(0.2)\n",
    "sim['angErr'][sim['angErr']<np.deg2rad(0.2)] = np.deg2rad(0.2)\n",
    "\n",
    "\n",
    "# Show the possible keys available here:\n",
    "print('Events available in simulation: {}'.format(len(sim)))\n",
    "print('Keys available in simulation:')\n",
    "print(sorted(sim.dtype.names))\n",
    "print()\n",
    "\n",
    "print('Events available in data: {}'.format(len(data)))\n",
    "print('Keys available in data:')\n",
    "print(sorted(data.dtype.names))"
   ]
  },
  {
   "cell_type": "code",
   "execution_count": 4,
   "metadata": {},
   "outputs": [
    {
     "name": "stdout",
     "output_type": "stream",
     "text": [
      "Keys available in the GoodRunList:\n",
      "['events', 'livetime', 'run', 'start', 'stop']\n",
      "55694.99047453704\n",
      "58309.08234953694\n"
     ]
    }
   ],
   "source": [
    "# # Also load in the 'GoodRunList' (GRL), a file that tells\n",
    "# # us when the detector was taking good data. \n",
    "grl_files = dataset + '/GRL/IC86_*exp.npy'\n",
    "grl = tools.read(glob.glob(grl_files))\n",
    "# grl = test_data.get_random_grl(data)\n",
    "\n",
    "\n",
    "# Show the keys available in the GRL\n",
    "print('Keys available in the GoodRunList:')\n",
    "print(sorted(grl.dtype.names))\n",
    "print(np.min(grl['start']))\n",
    "print(np.max(grl['stop']))\n",
    "gammas = np.arange(-4.25, -0.5, 0.25)\n",
    "bins   = np.array([np.linspace(-1, 1, 51), # sin(dec)\n",
    "                   np.linspace(1, 8, 51)]) # logE"
   ]
  },
  {
   "cell_type": "code",
   "execution_count": 5,
   "metadata": {},
   "outputs": [],
   "source": [
    "# Try this with a gaussian signal + uniform background.\n",
    "outfile = './test/test_outputs/ps_llh-test.npy'\n",
    "infile = './test/test_outputs/ps_llh-test.npy'\n",
    "\n",
    "args = (data, sim, grl, gammas, bins)\n",
    "\n",
    "kwargs = {'source': {'ra':np.pi/2, 'dec':np.pi/6}}"
   ]
  },
  {
   "cell_type": "code",
   "execution_count": null,
   "metadata": {},
   "outputs": [],
   "source": [
    "# Run this block once\n",
    "\n",
    "#cProfile.run('ps_llh.PsFlareLLH(*args, outfile = outfile, **kwargs)')\n",
    "llh_object = ps_llh.PsLLH(*args, outfile = outfile, **kwargs)"
   ]
  },
  {
   "cell_type": "code",
   "execution_count": 6,
   "metadata": {},
   "outputs": [],
   "source": [
    "# Afterwards, run this one to save time\n",
    "llh_object = ps_llh.PsLLH(*args, infile = infile, **kwargs)"
   ]
  },
  {
   "cell_type": "code",
   "execution_count": 7,
   "metadata": {},
   "outputs": [
    {
     "name": "stdout",
     "output_type": "stream",
     "text": [
      "number of background events: 7429\n",
      "number of signal events: 25\n",
      "Got 7429 events for this trial\n",
      "Times:\n",
      "[(120028,  839634, 0, 4.01747511, -0.99286837, 3.35256417, 0.57782915, 56043.42668248, 4.94667356, 0.00349066)\n",
      " (120028,  839634, 0, 1.82202897, -0.99286837, 3.35256417, 0.57782915, 56043.42668248, 4.94667356, 0.00349066)\n",
      " (120028,  839634, 0, 0.15700388, -0.99286837, 3.35256417, 0.57782915, 56043.42668248, 4.94667356, 0.00349066)\n",
      " ...\n",
      " (120165, 1676923, 0, 2.16234462,  0.42893458, 1.90703768, 2.00076047, 56064.45676784, 3.51292094, 0.02860901)\n",
      " (120165, 1676923, 0, 2.58828939,  0.42893458, 1.90703768, 2.00076047, 56064.45676784, 3.51292094, 0.02860901)\n",
      " (120165, 1676923, 0, 1.22216895,  0.42893458, 1.90703768, 2.00076047, 56064.45676784, 3.51292094, 0.02860901)]\n"
     ]
    }
   ],
   "source": [
    "# Produce a single trial. Here, we pass a 'seed'\n",
    "# value to the function so that we can reproduce\n",
    "# the trial later if we want to. If you want it to\n",
    "# be random, set seed=None.\n",
    "seed = 0\n",
    "flux_norm = 1e-10\n",
    "#cProfile.run('llh_object.produce_trial(flux_norm=flux_norm, random_seed=seed)')\n",
    "#%timeit llh_object.produce_trial(flux_norm=flux_norm, random_seed=seed)\n",
    "trial = llh_object.produce_trial(flux_norm=flux_norm, random_seed=seed, verbose=True)\n",
    "print('Got {} events for this trial'.format(len(trial)))\n",
    "\n",
    "print('Times:')\n",
    "print(trial)"
   ]
  },
  {
   "cell_type": "code",
   "execution_count": 18,
   "metadata": {},
   "outputs": [],
   "source": [
    "def plot_skymap(\n",
    "    events: np.ndarray,\n",
    "    outdir: Optional[str],\n",
    "    title: str = '',\n",
    "    nside: int = 32,\n",
    "    hist_type: str = 'counts',\n",
    "    verbose: bool = False,\n",
    ") -> None:\n",
    "    \"\"\"Function info...\n",
    "    \n",
    "    More function info...\n",
    "    \n",
    "    Args:\n",
    "        events:\n",
    "        outdir:\n",
    "        title:\n",
    "        nside:\n",
    "        verbose:\n",
    "    \"\"\"\n",
    "    npix = hp.nside2npix(nside)\n",
    "    theta = np.pi/2 - events['dec']\n",
    "    phi = events['ra']\n",
    "    indices = hp.ang2pix(nside, theta, phi)\n",
    "    hpx_map = np.zeros(npix, dtype=int)\n",
    "    if hist_type == 'counts':\n",
    "        idx, counts = np.unique(indices, return_counts=True)\n",
    "        hpx_map[idx] = counts\n",
    "        title = '_'.join([title, 'counts'])\n",
    "    else: # if hist_type == 'ts'\n",
    "        title = '_'.join([title, 'ts'])\n",
    "        for idx in np.unique(indices):\n",
    "            hpx_map[idx] = np.sum(np.where(indices == idx, events['ts'], 0))\n",
    "            \n",
    "    hp.mollview(hpx_map, title=title)\n",
    "    \n",
    "    if outdir is not None:\n",
    "        outfile_prefix = ''.join([outdir, title])\n",
    "        plt.savefig('_'.join([outfile_prefix, f'{nside}_plot.pdf']))\n",
    "    \n",
    "    if verbose:\n",
    "        plt.show()\n",
    "    \n",
    "    plt.close()"
   ]
  },
  {
   "cell_type": "code",
   "execution_count": 9,
   "metadata": {},
   "outputs": [
    {
     "name": "stdout",
     "output_type": "stream",
     "text": [
      "{'crab_nebula': {'ra': 1.4596726677614609, 'dec': 0.3842255081802917}, 'txs': {'ra': 1.3501550420509332, 'dec': 0.09936418146033345}, 'm77': {'ra': 0.709823297846581, 'dec': -0.00023193486504280206}, 'mgro1908': {'ra': 5.008658620910728, 'dec': 0.10940790341598898}, 'sag_a_star': {'ra': 4.649850989853494, 'dec': -0.50628180298921}, 'mag_l': {'ra': 1.411862281785163, 'dec': -1.217473812275889}, 'mag_s': {'ra': 0.23015075069631893, 'dec': -1.2710990535434146}}\n",
      "Generating trial: Source = crab_nebula, N = 1e-10\n",
      "number of background events: 7429\n",
      "number of signal events: 25\n",
      "Calculating ts...done\n",
      "Generating trial: Source = crab_nebula, N = 1e-09\n",
      "number of background events: 7429\n",
      "number of signal events: 285\n",
      "Calculating ts...done\n",
      "Generating trial: Source = crab_nebula, N = 1e-08\n",
      "number of background events: 7429\n",
      "number of signal events: 2966\n",
      "Calculating ts...done\n",
      "Generating trial: Source = txs, N = 1e-10\n",
      "number of background events: 7429\n",
      "number of signal events: 25\n",
      "Calculating ts...done\n",
      "Generating trial: Source = txs, N = 1e-09\n",
      "number of background events: 7429\n",
      "number of signal events: 285\n",
      "Calculating ts...done\n",
      "Generating trial: Source = txs, N = 1e-08\n",
      "number of background events: 7429\n",
      "number of signal events: 2966\n",
      "Calculating ts...done\n",
      "Generating trial: Source = m77, N = 1e-10\n",
      "number of background events: 7429\n",
      "number of signal events: 25\n",
      "Calculating ts...done\n",
      "Generating trial: Source = m77, N = 1e-09\n",
      "number of background events: 7429\n",
      "number of signal events: 285\n",
      "Calculating ts...done\n",
      "Generating trial: Source = m77, N = 1e-08\n",
      "number of background events: 7429\n",
      "number of signal events: 2966\n",
      "Calculating ts...done\n",
      "Generating trial: Source = mgro1908, N = 1e-10\n",
      "number of background events: 7429\n",
      "number of signal events: 25\n",
      "Calculating ts...done\n",
      "Generating trial: Source = mgro1908, N = 1e-09\n",
      "number of background events: 7429\n",
      "number of signal events: 285\n",
      "Calculating ts...done\n",
      "Generating trial: Source = mgro1908, N = 1e-08\n",
      "number of background events: 7429\n",
      "number of signal events: 2966\n",
      "Calculating ts...done\n",
      "Generating trial: Source = sag_a_star, N = 1e-10\n",
      "number of background events: 7429\n",
      "number of signal events: 25\n",
      "Calculating ts...done\n",
      "Generating trial: Source = sag_a_star, N = 1e-09\n",
      "number of background events: 7429\n",
      "number of signal events: 285\n",
      "Calculating ts...done\n",
      "Generating trial: Source = sag_a_star, N = 1e-08\n",
      "number of background events: 7429\n",
      "number of signal events: 2966\n",
      "Calculating ts...done\n",
      "Generating trial: Source = mag_l, N = 1e-10\n",
      "number of background events: 7429\n",
      "number of signal events: 25\n",
      "Calculating ts...done\n",
      "Generating trial: Source = mag_l, N = 1e-09\n",
      "number of background events: 7429\n",
      "number of signal events: 285\n",
      "Calculating ts...done\n",
      "Generating trial: Source = mag_l, N = 1e-08\n",
      "number of background events: 7429\n",
      "number of signal events: 2966\n",
      "Calculating ts...done\n",
      "Generating trial: Source = mag_s, N = 1e-10\n",
      "number of background events: 7429\n",
      "number of signal events: 25\n",
      "Calculating ts...done\n",
      "Generating trial: Source = mag_s, N = 1e-09\n",
      "number of background events: 7429\n",
      "number of signal events: 285\n",
      "Calculating ts...done\n",
      "Generating trial: Source = mag_s, N = 1e-08\n",
      "number of background events: 7429\n",
      "number of signal events: 2966\n",
      "Calculating ts...done\n",
      "Generating background trial:\n",
      "number of background events: 7429\n",
      "number of signal events: 0\n",
      "Calculating ts...done\n"
     ]
    }
   ],
   "source": [
    "source_dict = sources.sources\n",
    "flux_norms = np.logspace(-10, -8, 3)\n",
    "seed = 0\n",
    "outdir = './test/test_outputs/'\n",
    "\n",
    "print(source_dict)\n",
    "\n",
    "for (name, source), flux_norm in itertools.product(source_dict.items(), flux_norms):\n",
    "    llh_object.source = source\n",
    "    print(f'Generating trial: Source = {name}, N = {flux_norm}')\n",
    "    trial = llh_object.produce_trial(flux_norm=flux_norm, random_seed=seed, verbose=True)\n",
    "    print('Calculating ts...', end='')\n",
    "    best_fit = llh_object.evaluate_ts(trial)\n",
    "    ts = llh_object.get_individual_ts(trial, best_fit['ns'], best_fit['gamma'])\n",
    "    print('done')\n",
    "    title = f'{name}_N-{flux_norm}_{time.perf_counter()}'\n",
    "    np.save(''.join([outdir, title, '_trial.npy']), ts)\n",
    "\n",
    "print('Generating background trial:')\n",
    "trial = llh_object.produce_trial(flux_norm=0, random_seed=seed, verbose=True)\n",
    "print('Calculating ts...', end='')\n",
    "best_fit = llh_object.evaluate_ts(trial)\n",
    "ts = llh_object.get_individual_ts(trial, best_fit['ns'], best_fit['gamma'])\n",
    "print('done')\n",
    "title = f'Background_{time.perf_counter()}'\n",
    "np.save(''.join([outdir, title, '_trial.npy']), ts)"
   ]
  },
  {
   "cell_type": "code",
   "execution_count": 14,
   "metadata": {},
   "outputs": [],
   "source": [
    "trial_files = ''.join([outdir, '*_trial.npy'])\n",
    "nside = 64\n",
    "for f in glob.glob(trial_files):\n",
    "    events = np.load(f)\n",
    "    title = f.split('/')[-1]\n",
    "    plot_skymap(trial, outdir=outdir, title=title, nside=nside, hist_type='counts')"
   ]
  },
  {
   "cell_type": "code",
   "execution_count": 19,
   "metadata": {},
   "outputs": [],
   "source": [
    "for f in glob.glob(trial_files):\n",
    "    ts = np.load(f)\n",
    "    title = f.split('/')[-1]\n",
    "    plot_skymap(ts, outdir=outdir, title=title, nside=nside, hist_type='ts')"
   ]
  },
  {
   "cell_type": "code",
   "execution_count": null,
   "metadata": {},
   "outputs": [],
   "source": []
  }
 ],
 "metadata": {
  "kernelspec": {
   "display_name": "Python 3",
   "language": "python",
   "name": "python3"
  },
  "language_info": {
   "codemirror_mode": {
    "name": "ipython",
    "version": 3
   },
   "file_extension": ".py",
   "mimetype": "text/x-python",
   "name": "python",
   "nbconvert_exporter": "python",
   "pygments_lexer": "ipython3",
   "version": "3.7.6"
  }
 },
 "nbformat": 4,
 "nbformat_minor": 4
}
