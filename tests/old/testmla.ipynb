{
 "cells": [
  {
   "cell_type": "code",
   "execution_count": 6,
   "metadata": {},
   "outputs": [],
   "source": [
    "import numpy as np\n",
    "import os, sys, glob, abc\n",
    "%matplotlib inline\n",
    "from matplotlib import pyplot as plt, colors\n",
    "import mla.core\n",
    "from mla.spectral import *\n",
    "def read(filelist):\n",
    "    data = []\n",
    "    for f in sorted(filelist):\n",
    "        x = np.load(f)\n",
    "        if len(data) == 0: data = x.copy()\n",
    "        else: data = np.concatenate([data, x])\n",
    "    return data\n",
    "\n",
    "# Where is the dataset stored?\n",
    "dataset = \"/data/i3store/users/mjlarson/student_data\"\n",
    "\n",
    "# Read in all of the data files\n",
    "data_files = dataset + \"/IC86_*exp.npy\"\n",
    "data = read(glob.glob(data_files))\n",
    "\n",
    "# Read in all of the MC files \n",
    "sim_files = dataset + \"/IC86*MC*npy\"\n",
    "sim = read(glob.glob(sim_files))\n",
    "\n",
    "# Set the angular error floor to 0.2 degrees\n",
    "#data['angErr'][data['angErr']<np.deg2rad(0.2)] = np.deg2rad(0.2)\n",
    "#sim['angErr'][sim['angErr']<np.deg2rad(0.2)] = np.deg2rad(0.2)\n",
    "\n",
    "data['ra']=np.random.uniform(0,2*np.pi,size=len(data))"
   ]
  },
  {
   "cell_type": "code",
   "execution_count": 7,
   "metadata": {},
   "outputs": [],
   "source": [
    "# from mla.spectral import *\n",
    "# from mla import injection\n",
    "# sp= PowerLaw(1,1e-15,2)\n",
    "# dec = 22.0145*np.pi/180\n",
    "# ra = 83.63*np.pi/180\n",
    "# inj = injection.PSinjector(sp,sim)\n",
    "# inj.set_source_location(ra,dec)\n",
    "# sample=inj.sample_nevents(15)\n",
    "# background = np.random.choice(data, 30).copy()\n",
    "# background['time']=0.5\n",
    "# import numpy.lib.recfunctions as rf\n",
    "# sample = rf.drop_fields(sample, [n for n in sample.dtype.names \\\n",
    "#      if not n in background.dtype.names])\n",
    "# injected = np.concatenate([background,sample])\n",
    "# np.save(\"testdata.npy\",injected)"
   ]
  },
  {
   "cell_type": "code",
   "execution_count": 50,
   "metadata": {},
   "outputs": [],
   "source": [
    "from imp import reload\n",
    "import scipy.optimize\n",
    "reload(mla.core)\n",
    "\n",
    "sp= PowerLaw(1000,1e-15,2)\n",
    "testdata=np.load(\"test3.npy\")\n",
    "testdata['time']=0.5\n",
    "import warnings\n",
    "warnings.filterwarnings(\"ignore\")\n",
    "test=mla.core.LLH_point_source(np.radians(83.63) ,np.radians(22.0145) , testdata , sim , \"PowerLaw\", background = data , \\\n",
    "                              )"
   ]
  },
  {
   "cell_type": "code",
   "execution_count": 52,
   "metadata": {},
   "outputs": [
    {
     "data": {
      "text/plain": [
       "(-2.6895095337468753, 77.93372640190165, 258.79452207181066)"
      ]
     },
     "execution_count": 52,
     "metadata": {},
     "output_type": "execute_result"
    }
   ],
   "source": [
    "test.get_fit_result()"
   ]
  },
  {
   "cell_type": "code",
   "execution_count": 53,
   "metadata": {},
   "outputs": [],
   "source": [
    "gamma=np.linspace(-1.5,-3.5,30)\n",
    "ns=np.linspace(70,120,50)\n",
    "result=[]\n",
    "for i in gamma:\n",
    "    test.update_energy_weight(gamma=i)\n",
    "    for j in ns:\n",
    "        temp=test.eval_llh_ns(j)\n",
    "        result.append([i,j,temp[0],temp[1]])"
   ]
  },
  {
   "cell_type": "code",
   "execution_count": 54,
   "metadata": {},
   "outputs": [
    {
     "data": {
      "image/png": "[encoded data removed]",
      "text/plain": [
       "<Figure size 432x360 with 2 Axes>"
      ]
     },
     "metadata": {
      "needs_background": "light"
     },
     "output_type": "display_data"
    }
   ],
   "source": [
    "%matplotlib inline\n",
    "import matplotlib.pyplot as plt\n",
    "result=np.array(result)\n",
    "x=result[:,0]\n",
    "y=result[:,1]\n",
    "z=result[:,3]\n",
    "\n",
    "## Equivalently, we could do that all in one line with:\n",
    "# x,y,z = np.genfromtxt('eye_.txt', delimiter=',', usecols=(0,1,2))\n",
    "z[z<0]=0\n",
    "x=np.unique(x)\n",
    "y=np.unique(y)\n",
    "X,Y = np.meshgrid(x,y)\n",
    "\n",
    "Z=z.reshape(len(y),len(x))\n",
    "index=result[np.argmax(result[:,3])]\n",
    "fig, ax = plt.subplots(figsize = (6,5))\n",
    "plt.pcolormesh(X,np.flip(Y),Z)\n",
    "plt.colorbar()\n",
    "plt.scatter(index[0],index[1],label=\"Best fit\")\n",
    "plt.title(\"ns vs Spectral index\",fontsize=14)\n",
    "plt.xlabel(r\"Spectral index\",fontsize=14)\n",
    "plt.ylabel(\"ns\",fontsize=14)\n",
    "plt.legend()\n",
    "plt.show()"
   ]
  },
  {
   "cell_type": "code",
   "execution_count": 23,
   "metadata": {},
   "outputs": [],
   "source": [
    "ratio,bins=mla.core.create_interpolated_ratio(data,sim,gamma=-2)"
   ]
  },
  {
   "cell_type": "code",
   "execution_count": 32,
   "metadata": {},
   "outputs": [
    {
     "data": {
      "text/plain": [
       "array([ 0.06834721,  0.06834721,  0.06834721,  0.06834721,  0.06834721,\n",
       "        0.06834721,  0.06834721,  0.06834721,  0.09175646,  0.11516571,\n",
       "        0.13857495,  0.33046875,  0.33504445,  0.45546043,  0.42545713,\n",
       "        0.39545384,  0.36545054,  0.22987788,  0.22954305,  0.38466284,\n",
       "        0.95551027,  0.4529306 ,  0.47995544,  0.47805385,  0.52651339,\n",
       "        0.47107771,  0.44226963,  0.49554312,  0.55701129,  0.77454839,\n",
       "        0.89894442,  1.17193596,  1.81531367,  2.69509971,  2.21822784,\n",
       "        4.25270507,  6.33030198, 10.28319062, 16.46696607, 15.05100584,\n",
       "       11.42466628,  8.18559532, 11.73961776, 15.45919242, 19.32838536,\n",
       "       14.90131941, 10.47425346, 10.47425346, 10.47425346, 10.47425346,\n",
       "       10.47425346, 10.47425346, 10.47425346, 10.47425346, 10.47425346,\n",
       "       10.47425346, 10.47425346, 10.47425346, 10.47425346, 10.47425346,\n",
       "       10.47425346, 10.47425346, 10.47425346, 10.47425346, 10.47425346,\n",
       "       10.47425346, 10.47425346, 10.47425346, 10.47425346, 10.47425346,\n",
       "       10.47425346, 10.47425346, 10.47425346, 10.47425346, 10.47425346,\n",
       "       10.47425346, 10.47425346, 10.47425346, 10.47425346, 10.47425346,\n",
       "       10.47425346, 10.47425346, 10.47425346, 10.47425346, 10.47425346,\n",
       "       10.47425346, 10.47425346, 10.47425346, 10.47425346, 10.47425346,\n",
       "       10.47425346, 10.47425346, 10.47425346, 10.47425346, 10.47425346,\n",
       "       10.47425346, 10.47425346, 10.47425346, 10.47425346])"
      ]
     },
     "execution_count": 32,
     "metadata": {},
     "output_type": "execute_result"
    }
   ],
   "source": [
    "ratio[68,:]"
   ]
  },
  {
   "cell_type": "code",
   "execution_count": null,
   "metadata": {},
   "outputs": [],
   "source": []
  }
 ],
 "metadata": {
  "kernelspec": {
   "display_name": "i3",
   "language": "python",
   "name": "i3"
  },
  "language_info": {
   "codemirror_mode": {
    "name": "ipython",
    "version": 3
   },
   "file_extension": ".py",
   "mimetype": "text/x-python",
   "name": "python",
   "nbconvert_exporter": "python",
   "pygments_lexer": "ipython3",
   "version": "3.6.7"
  }
 },
 "nbformat": 4,
 "nbformat_minor": 4
}
