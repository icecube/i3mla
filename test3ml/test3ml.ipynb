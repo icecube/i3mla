{
 "cells": [
  {
   "cell_type": "code",
   "execution_count": 1,
   "metadata": {},
   "outputs": [],
   "source": [
    "import numpy as np\n",
    "import os, sys, glob, abc\n",
    "\n",
    "def read(filelist):\n",
    "    data = []\n",
    "    for f in sorted(filelist):\n",
    "        x = np.load(f)\n",
    "        if len(data) == 0: data = x.copy()\n",
    "        else: data = np.concatenate([data, x])\n",
    "    return data\n",
    "\n",
    "# Where is the dataset stored?\n",
    "dataset = \"/data/i3store/users/mjlarson/student_data\"\n",
    "\n",
    "# Read in all of the data files\n",
    "data_files = dataset + \"/IC86_*exp.npy\"\n",
    "data = read(glob.glob(data_files))\n",
    "\n",
    "# Read in all of the MC files \n",
    "sim_files = dataset + \"/IC86*MC*npy\"\n",
    "sim = read(glob.glob(sim_files))\n",
    "\n",
    "# Set the angular error floor to 0.2 degrees\n",
    "data['angErr'][data['angErr']<np.deg2rad(0.2)] = np.deg2rad(0.2)\n",
    "sim['angErr'][sim['angErr']<np.deg2rad(0.2)] = np.deg2rad(0.2)\n",
    "\n",
    "data['ra']=np.random.uniform(0,2*np.pi,size=len(data))"
   ]
  },
  {
   "cell_type": "code",
   "execution_count": 2,
   "metadata": {},
   "outputs": [
    {
     "name": "stderr",
     "output_type": "stream",
     "text": [
      "/data/disk01/home/jasonfan/threeML/threeML/__init__.py:12: UserWarning: No DISPLAY variable set. Using backend for graphics without display (Agg)\n",
      "  warnings.warn(\"No DISPLAY variable set. Using backend for graphics without display (Agg)\")\n",
      "/data/disk01/home/jasonfan/miniconda3/envs/p3/lib/python3.6/site-packages/astromodels/core/parameter.py:555: UserWarning: We have set the min_value of K to 1e-99 because there was a postive transform\n",
      "  warnings.warn('We have set the min_value of %s to 1e-99 because there was a postive transform' % self.path)\n",
      "/data/disk01/home/jasonfan/miniconda3/envs/p3/lib/python3.6/site-packages/astromodels/core/parameter.py:555: UserWarning: We have set the min_value of xc to 1e-99 because there was a postive transform\n",
      "  warnings.warn('We have set the min_value of %s to 1e-99 because there was a postive transform' % self.path)\n",
      "\n",
      "Bad key \"text.kerning_factor\" on line 4 in\n",
      "/data/disk01/home/jasonfan/miniconda3/envs/p3/lib/python3.6/site-packages/matplotlib/mpl-data/stylelib/_classic_test_patch.mplstyle.\n",
      "You probably need to get an updated matplotlibrc file from\n",
      "http://github.com/matplotlib/matplotlib/blob/master/matplotlibrc.template\n",
      "or from the matplotlib source distribution\n",
      "\n",
      "WARNING UserWarning: Using default configuration from /data/disk01/home/jasonfan/threeML/threeML/data/threeML_config.yml. You might want to copy it to /data/disk01/home/jasonfan/.threeML/threeML_config.yml to customize it and avoid this warning.\n",
      "\n",
      "\n",
      "WARNING RuntimeWarning: numpy.ufunc size changed, may indicate binary incompatibility. Expected 192 from C header, got 216 from PyObject\n",
      "\n",
      "INFO:keyring.backend:Loading KWallet\n",
      "INFO:keyring.backend:Loading SecretService\n",
      "INFO:keyring.backend:Loading Windows\n",
      "INFO:keyring.backend:Loading chainer\n",
      "INFO:keyring.backend:Loading macOS\n",
      "\n",
      "WARNING RuntimeWarning: Env. variable OMP_NUM_THREADS is not set. Please set it to 1 for optimal performances in 3ML\n",
      "\n",
      "\n",
      "WARNING RuntimeWarning: Env. variable MKL_NUM_THREADS is not set. Please set it to 1 for optimal performances in 3ML\n",
      "\n",
      "\n",
      "WARNING RuntimeWarning: Env. variable NUMEXPR_NUM_THREADS is not set. Please set it to 1 for optimal performances in 3ML\n",
      "\n"
     ]
    }
   ],
   "source": [
    "import mla.core\n",
    "from mla.spectral import *\n",
    "import threeML\n",
    "#sp= PowerLaw(1,1e-15,2)\n",
    "sp=threeML.Powerlaw()\n"
   ]
  },
  {
   "cell_type": "code",
   "execution_count": 18,
   "metadata": {},
   "outputs": [],
   "source": [
    "from mla.spectral import *\n",
    "from mla import injection\n",
    "sp= PowerLaw(1,1e-15,2)\n",
    "dec = 22.0145*np.pi/180\n",
    "ra = 83.63*np.pi/180\n",
    "inj = injection.PSinjector(sp,sim)\n",
    "inj.set_source_location(ra,dec)\n",
    "sample=inj.sample_nevents(5)"
   ]
  },
  {
   "cell_type": "code",
   "execution_count": 25,
   "metadata": {},
   "outputs": [],
   "source": [
    "from imp import reload\n",
    "import scipy.optimize\n",
    "reload(mla.core)\n",
    "sp.K=1e-8\n",
    "sp.index=-2\n",
    "background = np.random.choice(data, 50).copy()\n",
    "\n",
    "test=mla.core.LLH_point_source(np.radians(83.63) ,np.radians(22.0145) , data , sim , 300 , sp)\n",
    "test.update_data(background,1000/3600/24)\n",
    "test.add_injection(sample)\n",
    "import warnings\n",
    "warnings.filterwarnings(\"ignore\")"
   ]
  },
  {
   "cell_type": "code",
   "execution_count": 26,
   "metadata": {},
   "outputs": [],
   "source": [
    "def fit(ns):\n",
    "    return -test.eval_llh_ns(ns)[1]\n",
    "result=scipy.optimize.minimize(fit,5,bounds=[(0,test.N)])"
   ]
  },
  {
   "cell_type": "code",
   "execution_count": 27,
   "metadata": {},
   "outputs": [
    {
     "data": {
      "text/plain": [
       "      fun: -86.49150679948045\n",
       " hess_inv: <1x1 LbfgsInvHessProduct with dtype=float64>\n",
       "      jac: array([2.84217094e-06])\n",
       "  message: b'CONVERGENCE: NORM_OF_PROJECTED_GRADIENT_<=_PGTOL'\n",
       "     nfev: 10\n",
       "      nit: 4\n",
       "   status: 0\n",
       "  success: True\n",
       "        x: array([3.9999345])"
      ]
     },
     "execution_count": 27,
     "metadata": {},
     "output_type": "execute_result"
    }
   ],
   "source": [
    "result"
   ]
  },
  {
   "cell_type": "code",
   "execution_count": 29,
   "metadata": {},
   "outputs": [
    {
     "data": {
      "text/plain": [
       "array([(120677, 58070736, 0, 5.25732096,  0.03593391, 3.27887048, 1.60692753, 56185.50334182, 3.13726936, 0.00763364),\n",
       "       (121058, 45506694, 0, 5.86299103,  0.53818747, 1.3661355 , 2.10786993, 56255.37831265, 2.70884331, 0.02011854),\n",
       "       (120369, 21962461, 0, 4.28346479,  0.07484773, 5.09608293, 1.64682287, 56099.73365959, 3.08825133, 0.01151901),\n",
       "       (120425,  4614079, 0, 0.59821528, -0.77797966, 1.10699267, 0.79289006, 56116.88633981, 5.15752004, 0.00349066),\n",
       "       (120799, 35169149, 0, 5.87725629,  0.48983277, 0.17451905, 2.05951274, 56212.16334014, 2.9925499 , 0.0062995 ),\n",
       "       (122140,  9206866, 0, 5.46593821,  0.23255183, 3.94383419, 1.80334079, 56386.08516715, 3.23014191, 0.01124464),\n",
       "       (120760, 66424257, 0, 4.37836827, -0.89873491, 1.71287888, 0.67288577, 56203.8632761 , 5.38361771, 0.00349066),\n",
       "       (121436, 39331278, 0, 5.98549889, -0.1548552 , 3.83077089, 1.41678039, 56284.22888139, 4.00950706, 0.004215  ),\n",
       "       (120522, 24472695, 0, 6.227723  , -0.62315284, 0.14078996, 0.94899594, 56141.86546249, 5.00852088, 0.00773813),\n",
       "       (120898, 30995773, 0, 5.70673597, -0.80506785, 0.59494748, 0.76541599, 56236.42279021, 4.72268457, 0.00349066),\n",
       "       (121056, 68795272, 0, 2.09846731,  0.3570993 , 6.06774951, 1.92787975, 56254.80106248, 2.8857292 , 0.00796841),\n",
       "       (121790, 32483112, 0, 0.16129159,  0.39601606, 4.60685396, 1.96809896, 56325.07018712, 2.9821172 , 0.00601714),\n",
       "       (121872, 33263656, 0, 1.09260767, -0.29968334, 1.90953786, 1.27210271, 56335.73987845, 4.58567206, 0.00349066),\n",
       "       (121419, 21259002, 0, 3.80869478, -0.93528537, 0.54254332, 0.63460404, 56281.18925686, 4.9020389 , 0.00349066),\n",
       "       (120595, 38936642, 0, 6.05176166,  0.50611988, 2.08617009, 2.07750584, 56164.31043285, 2.96256409, 0.03937177),\n",
       "       (120365, 16813756, 0, 5.86076948, -1.3840364 , 3.3779016 , 0.18783399, 56098.62269734, 4.74919592, 0.00349066),\n",
       "       (120927, 26756683, 0, 4.5637252 ,  0.32344641, 2.53678683, 1.8933596 , 56243.6467057 , 2.97031435, 0.00993367),\n",
       "       (121786, 65853186, 0, 6.03978894,  0.01234817, 0.38594337, 1.5844517 , 56324.40763387, 3.32050985, 0.01298503),\n",
       "       (121917, 34300901, 0, 3.31979419,  0.04389698, 0.74407379, 1.61340066, 56343.97162942, 3.06667303, 0.01652631),\n",
       "       (122021, 29211958, 0, 1.5833025 , -0.06849084, 3.09102642, 1.501767  , 56361.07272248, 2.83229537, 0.00781795),\n",
       "       (120716, 67285616, 0, 4.05500829, -0.07059314, 1.06122105, 1.50013222, 56195.16945751, 3.39194921, 0.07891965),\n",
       "       (121787,  5036646, 0, 2.12396977,  1.2198404 , 4.38219496, 2.78944266, 56324.50471405, 2.69926359, 0.03470505),\n",
       "       (121876, 35887405, 0, 3.82115796, -0.64722554, 3.49177079, 0.92442124, 56336.78014727, 5.07965723, 0.00349066),\n",
       "       (121057, 44734106, 0, 2.02861989,  0.1055214 , 3.80269628, 1.67714979, 56255.04100352, 2.79872851, 0.00722035),\n",
       "       (120456, 26753948, 2, 3.08887637,  0.05876571, 1.16480363, 1.63075456, 56126.05867949, 2.59168091, 0.01551161),\n",
       "       (121921, 75429937, 0, 6.27190456, -0.71385988, 0.07458   , 0.85582106, 56344.89532236, 5.41007268, 0.00487124),\n",
       "       (120879, 41747968, 0, 5.97789663, -0.43071689, 4.90875211, 1.13957637, 56232.74583509, 5.07587732, 0.00349066),\n",
       "       (122148,  9181948, 0, 3.76271444,  0.54541633, 0.97695848, 2.11515963, 56388.76190846, 2.59884898, 0.03880264),\n",
       "       (121924, 69104555, 0, 1.69638386,  1.0169981 , 4.38244773, 2.58854518, 56345.87289699, 2.39774575, 0.019405  ),\n",
       "       (121717, 20769060, 0, 4.20168483, -0.85236181, 2.29411191, 0.71865835, 56312.97933977, 5.26165211, 0.00439807),\n",
       "       (120546, 60662647, 0, 5.51144184,  0.08357165, 2.25091549, 1.65453131, 56149.99511663, 3.26147866, 0.04913596),\n",
       "       (120627, 56329149, 0, 3.37259219,  0.31135113, 1.22923865, 1.88207869, 56173.24944541, 2.69860627, 0.01364785),\n",
       "       (121758, 83107796, 0, 5.13946318,  0.60573413, 5.8566365 , 2.17545711, 56316.75103815, 2.9930527 , 0.00658448),\n",
       "       (120771, 43542408, 0, 1.62590361,  0.363358  , 3.09064145, 1.93530604, 56205.142685  , 3.09331036, 0.00834733),\n",
       "       (120675, 36689407, 0, 1.5248665 ,  0.411875  , 5.77767321, 1.98394786, 56184.74828072, 2.85848604, 0.01110803),\n",
       "       (120403, 73633709, 0, 1.18644605,  0.56997756, 1.76319402, 2.14164656, 56110.13880617, 2.87914186, 0.00600667),\n",
       "       (121885, 19900903, 0, 2.85739148, -0.01271698, 3.40337583, 1.5592607 , 56338.85760022, 2.59565662, 0.02309431),\n",
       "       (120028,  5808810, 0, 3.73087145,  0.01351137, 3.94514701, 1.58364706, 56043.44766547, 3.03906537, 0.02058174),\n",
       "       (121579, 58447952, 0, 5.57249712, -0.60633072, 2.33373115, 0.96317976, 56301.36143694, 5.40017272, 0.00370962),\n",
       "       (121290, 36885075, 1, 6.19546376, -1.252861  , 5.3814021 , 0.3168412 , 56271.87040116, 5.26851733, 0.00794299),\n",
       "       (120244, 61925402, 0, 2.60974175,  0.56773608, 0.20223861, 2.13765916, 56079.48180792, 2.89664128, 0.00628757),\n",
       "       (120711,  5930013, 0, 1.30821632, -0.14287435, 3.78772066, 1.42918352, 56193.34355166, 4.05835345, 0.00373264),\n",
       "       (120330, 55329883, 0, 4.7914379 , -0.54488208, 4.2393991 , 1.02530088, 56095.0122968 , 4.61459952, 0.00349066),\n",
       "       (120426, 66624781, 0, 2.06253709,  0.3432403 , 1.54385866, 1.91359494, 56117.49708995, 3.02533384, 0.01546599),\n",
       "       (121506, 43565120, 0, 5.06377483,  0.09375636, 6.10320703, 1.66335305, 56294.90746927, 3.08726963, 0.01234868),\n",
       "       (122133, 29339123, 0, 0.53470858, -0.3310596 , 2.84331607, 1.24031318, 56383.8268898 , 4.7646672 , 0.00403149),\n",
       "       (121513, 49163322, 0, 3.68043642, -0.55987974, 5.46916107, 1.01007648, 56296.94096667, 5.08998808, 0.00349066),\n",
       "       (120790, 59113586, 0, 2.14268338,  0.08565907, 4.78696313, 1.65769673, 56209.38815657, 2.89580335, 0.00927517),\n",
       "       (120881, 75605433, 0, 5.45961057,  1.15845091, 0.9978707 , 2.7294297 , 56233.55032889, 3.04883817, 0.02257228),\n",
       "       (120651, 71255213, 0, 3.89434304, -0.91022069, 1.51049678, 0.66110441, 56179.84673344, 4.4166987 , 0.00349066)],\n",
       "      dtype=[('run', '<i8'), ('event', '<i8'), ('subevent', '<i8'), ('ra', '<f8'), ('dec', '<f8'), ('azi', '<f8'), ('zen', '<f8'), ('time', '<f8'), ('logE', '<f8'), ('angErr', '<f8')])"
      ]
     },
     "execution_count": 29,
     "metadata": {},
     "output_type": "execute_result"
    }
   ],
   "source": [
    "background"
   ]
  },
  {
   "cell_type": "code",
   "execution_count": null,
   "metadata": {},
   "outputs": [],
   "source": []
  }
 ],
 "metadata": {
  "kernelspec": {
   "display_name": "i3",
   "language": "python",
   "name": "i3"
  },
  "language_info": {
   "codemirror_mode": {
    "name": "ipython",
    "version": 3
   },
   "file_extension": ".py",
   "mimetype": "text/x-python",
   "name": "python",
   "nbconvert_exporter": "python",
   "pygments_lexer": "ipython3",
   "version": "3.6.7"
  }
 },
 "nbformat": 4,
 "nbformat_minor": 4
}
