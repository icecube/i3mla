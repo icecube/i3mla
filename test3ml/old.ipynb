{
 "cells": [
  {
   "cell_type": "code",
   "execution_count": 1,
   "metadata": {},
   "outputs": [],
   "source": [
    "import os, sys, glob, numpy as np, matplotlib, scipy, healpy as hp, time\n",
    "%matplotlib inline\n",
    "from matplotlib import pyplot as plt, colors\n",
    "from scipy import stats, interpolate, optimize\n",
    "from math import pi\n",
    "import numpy.lib.recfunctions as rf"
   ]
  },
  {
   "cell_type": "code",
   "execution_count": 2,
   "metadata": {},
   "outputs": [
    {
     "name": "stdout",
     "output_type": "stream",
     "text": [
      "Reduced the number of simulation events from  11595414 to 10000\n",
      "\n",
      "Keys available in simulation:\n",
      "['angErr', 'azi', 'dec', 'event', 'logE', 'ow', 'ra', 'run', 'subevent', 'time', 'trueDec', 'trueE', 'trueRa', 'zen']\n",
      "\n",
      "Keys available in data:\n",
      "['angErr', 'azi', 'dec', 'event', 'logE', 'ra', 'run', 'subevent', 'time', 'zen']\n"
     ]
    }
   ],
   "source": [
    "# Load in both the simulation and the data\n",
    "sim = np.load(\"counting_analysis/data/IC86_2012_MC.npy\")\n",
    "data = np.load(\"counting_analysis/data/IC86_2012_exp.npy\")\n",
    "\n",
    "# Reduce the number of events in the simulation\n",
    "# to a manageable level.\n",
    "N = len(sim)\n",
    "n_keep = 10000\n",
    "sim = np.random.choice(sim, n_keep)    # cut down to n_keep events\n",
    "sim['ow'] /= float(n_keep)/float(N)    # correct the weights\n",
    "print(\"Reduced the number of simulation events from \",\n",
    "     \"{} to {}\".format(N, len(sim)))\n",
    "print()\n",
    "\n",
    "# Show the possible keys available here:\n",
    "print(\"Keys available in simulation:\")\n",
    "print(sorted(sim.dtype.names))\n",
    "print()\n",
    "\n",
    "print(\"Keys available in data:\")\n",
    "print(sorted(data.dtype.names))"
   ]
  },
  {
   "cell_type": "code",
   "execution_count": 3,
   "metadata": {},
   "outputs": [
    {
     "name": "stdout",
     "output_type": "stream",
     "text": [
      "Keys available in the GoodRunList:\n",
      "['events', 'livetime', 'run', 'start', 'stop']\n"
     ]
    }
   ],
   "source": [
    "# Also load in the \"GoodRunList\" (GRL), a file that tells\n",
    "# us when the detector was taking good data. \n",
    "grl = np.load(\"counting_analysis/data/GRL/IC86_2012_exp.npy\")\n",
    "\n",
    "# Show the keys available in the GRL\n",
    "print(\"Keys available in the GoodRunList:\")\n",
    "print(sorted(grl.dtype.names))"
   ]
  },
  {
   "cell_type": "code",
   "execution_count": 4,
   "metadata": {},
   "outputs": [
    {
     "name": "stdout",
     "output_type": "stream",
     "text": [
      "Data has an average rate of 339.96 events/day\n"
     ]
    }
   ],
   "source": [
    "# We will need the average rate for our analysis.\n",
    "# We can get this by either counting the number of\n",
    "# events in data or the number of events recorded\n",
    "# in the GRL and dividing by the total good livetime.\n",
    "total_events = len(data)\n",
    "total_livetime = np.sum(grl['livetime'])\n",
    "\n",
    "average_rate = total_events / total_livetime\n",
    "print(\"Data has an average rate of {:4.2f} events/day\".format(average_rate))"
   ]
  },
  {
   "cell_type": "code",
   "execution_count": 7,
   "metadata": {},
   "outputs": [
    {
     "name": "stdout",
     "output_type": "stream",
     "text": [
      "We expect an average of 3.935 background events in our 0.012 day time window.\n"
     ]
    }
   ],
   "source": [
    "# Define the parameters of our analysis.\n",
    "# We're going to simplify things a little bit to start\n",
    "# and ignore the impact of detector downtime, which\n",
    "# would need to be included in an actual analysis.\n",
    "# \n",
    "# Our first test analysis will look for an excess of \n",
    "# neutrino events in 1000 seconds across the entire sky.\n",
    "time_window = 1000 # seconds\n",
    "time_window /= (24*3600.) # converted to days, since our rate is in days.\n",
    "\n",
    "# We will be using the data to model the background in\n",
    "# our test analysis. How many background events should\n",
    "# we expect in our analysis?\n",
    "n_expected=time_window*average_rate\n",
    "print(\"We expect an average of {:4.3f} background events in our \"\\\n",
    "      \"{:4.3f} day time window.\".format(n_expected, time_window))"
   ]
  },
  {
   "cell_type": "code",
   "execution_count": 8,
   "metadata": {},
   "outputs": [],
   "source": [
    "# Write some helper functions that we can use \n",
    "# later. Specifically, we want to be able to \n",
    "# calculate the angular distance between two\n",
    "# directions and to produce a trial including\n",
    "# signal and background.\n",
    "def to_unit_vector(ra, dec):\n",
    "    return np.array([np.cos(ra)*np.cos(dec),\n",
    "                     np.sin(ra)*np.cos(dec),\n",
    "                     np.sin(dec)])\n",
    "\n",
    "def angular_distance(ra_A, dec_A, ra_B, dec_B): \n",
    "    unit_A = to_unit_vector(ra_A, dec_A)\n",
    "    unit_B = to_unit_vector(ra_B, dec_B)\n",
    "    \n",
    "    if len(unit_A.shape) != 1:\n",
    "        return np.arccos(np.dot(unit_A.T, unit_B))\n",
    "    else:\n",
    "        return np.arccos(np.dot(unit_A, unit_B))\n"
   ]
  },
  {
   "cell_type": "code",
   "execution_count": 9,
   "metadata": {},
   "outputs": [],
   "source": [
    "# We're going to use a \"true\" pdf for the signal: \n",
    "# We're just going to pick out events that have a\n",
    "# true direction near to the source. This'll be used\n",
    "# for when we want to add some signal to our trials\n",
    "def true_signal_pdf(event,\n",
    "                    source_ra, \n",
    "                    source_dec):\n",
    "    distance = angular_distance(event['trueRa'], \n",
    "                                event['trueDec'], \n",
    "                                source_ra, \n",
    "                                source_dec)\n",
    "    sigma = event['angErr']\n",
    "    return (1.0)/(2*np.pi*sigma**2)**0.5 * np.exp(-(distance)**2/(2*sigma**2))\n",
    "\n",
    "# A trial is one simulated observation. In our case,\n",
    "# our analysis is looking at 1000 second time windows\n",
    "# which may have signal and background events. Define\n",
    "# a function which can produce a trial for us.\n",
    "# This time, we want to return the directional info\n",
    "# for the selected events. To do this, we need to do\n",
    "# some magic near the end of the function.\n",
    "def produce_trial(n_background = n_expected,\n",
    "                  N=0,\n",
    "                  gamma=-2,\n",
    "                  source_ra = np.pi/2,\n",
    "                  source_dec = np.pi/6,\n",
    "                  window = time_window,\n",
    "                  data=data,\n",
    "                  sim=sim,\n",
    "                  random_seed = None):\n",
    "    \n",
    "    if random_seed != None:\n",
    "        np.random.seed(random_seed)\n",
    "        \n",
    "    # We're here going to sample background events from\n",
    "    # our data. This is a trick we use, since almost all\n",
    "    # events from our data will be background. This saves\n",
    "    # us from having to pick a background spectrum.\n",
    "    n_background_observed = scipy.stats.poisson.rvs(n_background)\n",
    "    background = np.random.choice(data, n_background_observed)\n",
    "        \n",
    "\n",
    "    # Do we want signal events?\n",
    "    if N > 0:\n",
    "        # Use what we know about weighting to pick events\n",
    "        # from a power law. Here, I'm going to use a power\n",
    "        # law with an index of -2 and E0 of 100 TeV\n",
    "        weights = sim['ow'] *\\\n",
    "                  (N * (sim['trueE']/1.e5)**gamma) *\\\n",
    "                   window * 24*3600\n",
    "\n",
    "        signal_p = true_signal_pdf(sim, source_ra, source_dec)\n",
    "        signal_p /= np.sum(signal_p)\n",
    "\n",
    "        n_signal_observed = scipy.stats.poisson.rvs(np.sum(weights))\n",
    "        signal = np.random.choice(sim, n_signal_observed,\n",
    "                                  p = signal_p)\n",
    "\n",
    "        #print(\"added {} signal events\".format(signal.shape[0]))\n",
    "\n",
    "        # Because we want to return the entire event and not just the\n",
    "        # number of events, we need to do some numpy magic. Specifically,\n",
    "        # we need to remove the fields in the simulated events that are\n",
    "        # not present in the data events. These include the true direction,\n",
    "        # energy, and 'oneweight'.\n",
    "        signal = rf.drop_fields(signal, [n for n in signal.dtype.names \\\n",
    "                                         if not n in background.dtype.names])\n",
    "    else:\n",
    "        signal = np.empty(0, dtype=background.dtype)\n",
    "    return np.concatenate([background, signal])"
   ]
  },
  {
   "cell_type": "code",
   "execution_count": null,
   "metadata": {},
   "outputs": [],
   "source": []
  },
  {
   "cell_type": "code",
   "execution_count": 34,
   "metadata": {},
   "outputs": [
    {
     "name": "stdout",
     "output_type": "stream",
     "text": [
      "Got 6 events for this trial\n",
      "[(121751, 17568598, 0, 2.30680808, -0.61891759, 3.23841328, 0.95089633, 56315.29186733, 5.22005328, 0.00671682)\n",
      " (120796, 47200058, 0, 4.92617801, -0.24786577, 4.59252033, 1.32327035, 56211.20936199, 3.59446253, 0.00153484)\n",
      " (120667, 34861498, 0, 3.99078764,  0.19244637, 2.00954121, 1.76239926, 56183.72456093, 3.04826327, 0.01302006)\n",
      " (120849, 40407048, 0, 2.52312287,  0.32456057, 0.55874837, 1.8943615 , 56223.15219616, 2.80203533, 0.00919334)\n",
      " (121715, 65504829, 0, 5.53648497, -0.18466367, 1.1664483 , 1.38707229, 56312.48391779, 4.55083719, 0.01699111)\n",
      " (120420, 61021683, 0, 0.74340587, -0.30195675, 2.46160594, 1.26968149, 56115.46654026, 4.55688186, 0.00652001)]\n",
      "('run', 'event', 'subevent', 'ra', 'dec', 'azi', 'zen', 'time', 'logE', 'angErr')\n"
     ]
    }
   ],
   "source": [
    "# Produce a single trial. Here, we pass a \"seed\"\n",
    "# value to the function so that we can reproduce\n",
    "# the trial later if we want to. If you want it to\n",
    "# be random, set seed=None.\n",
    "seed = 0\n",
    "trial = produce_trial(N=2e-19, random_seed=seed)\n",
    "print(\"Got {} events for this trial\".format(len(trial)))\n",
    "print(trial)\n",
    "print(trial.dtype.names)"
   ]
  },
  {
   "cell_type": "code",
   "execution_count": null,
   "metadata": {},
   "outputs": [],
   "source": []
  },
  {
   "cell_type": "code",
   "execution_count": 10,
   "metadata": {},
   "outputs": [],
   "source": [
    "# Our signal PDF at this stage consists of just\n",
    "# a spatial part. In the case of the current dataset,\n",
    "# a Gaussian spatial PDF will work. In the case where\n",
    "# your angular unceratinties (\"angErr\") get larger\n",
    "# than a couple of degrees, you should probably use\n",
    "# a von-Mises distribution instead.\n",
    "def signal_pdf(event,\n",
    "               test_ra, \n",
    "               test_dec):    \n",
    "    sigma = event['angErr']\n",
    "    x = angular_distance(event['ra'], event['dec'], \n",
    "                         test_ra, test_dec)\n",
    "    \n",
    "    return (1.0/(2*np.pi*sigma**2))**0.5*np.exp(-x**2/(2*sigma**2))"
   ]
  },
  {
   "cell_type": "code",
   "execution_count": 11,
   "metadata": {},
   "outputs": [
    {
     "data": {
      "image/png": "[encoded data removed]",
      "text/plain": [
       "<Figure size 720x504 with 1 Axes>"
      ]
     },
     "metadata": {
      "needs_background": "light"
     },
     "output_type": "display_data"
    }
   ],
   "source": [
    "# Our background PDF only depends on declination.\n",
    "# In order for us to capture the dec-dependent\n",
    "# behavior, we first take a look at the dec values\n",
    "# in the data. We can do this by histogramming them.\n",
    "fig, ax = plt.subplots(figsize=(10, 7))\n",
    "\n",
    "sin_dec = np.sin(data['dec'])\n",
    "bins = np.linspace(-1.0, 1.0, 501)\n",
    "\n",
    "# Make the background histogram. Note that we do NOT\n",
    "# want to use density=True here, since that would mean\n",
    "# that our spline depends on the original bin widths!\n",
    "hist, bins, _ = ax.hist(sin_dec, \n",
    "                        bins=bins, \n",
    "                        histtype='step', \n",
    "                        linewidth=3,\n",
    "                        weights=np.ones_like(data['dec'])/len(data['dec']),\n",
    "                        label='Binned values from Data')\n",
    "\n",
    "# These values have a lot of \"noise\": they jump\n",
    "# up and down quite a lot. We could use fewer\n",
    "# bins, but that may hide some features that\n",
    "# we care about. We want something that captures\n",
    "# the right behavior, but is smooth and continuous.\n",
    "# The best way to do that is to use a \"spline\",\n",
    "# which will fit a continuous and differentiable\n",
    "# piecewise polynomial function to our data. \n",
    "# We can set a smoothing factor (s) to control\n",
    "# how smooth our spline is.\n",
    "bg_p_dec = interpolate.UnivariateSpline(bins[:-1]+np.diff(bins)/2., \n",
    "                                        hist,\n",
    "                                        bbox=[-1.0, 1.0],\n",
    "                                        s=1.5e-5,\n",
    "                                        ext=1)\n",
    "\n",
    "# Plot this too, so we can see how it compares\n",
    "# to the histogram.\n",
    "bg_p_dec_hist, bins, _ = ax.hist(bins, \n",
    "                                 bins=bins,\n",
    "                                 weights=bg_p_dec(bins), \n",
    "                                 histtype='step',\n",
    "                                 linewidth=2,\n",
    "                                 label = 'Spline to binned data')\n",
    "\n",
    "ax.legend(loc='upper left', fontsize=16)\n",
    "ax.grid(alpha=0.2)\n",
    "ax.set_xlim(-1, 1)\n",
    "ax.set_xlabel(r'Sin($\\delta$)', fontsize=16,)\n",
    "ax.set_ylabel(\"Fraction in bin\", fontsize=16)\n",
    "ax.tick_params(labelsize=14)"
   ]
  },
  {
   "cell_type": "code",
   "execution_count": 12,
   "metadata": {},
   "outputs": [],
   "source": [
    "# To get the declination-dependent background PDF,\n",
    "# we can now just call the background spline. Note\n",
    "# that we splined in sin(dec), so we need to pass\n",
    "# that to the spline. \n",
    "def background_pdf(event,\n",
    "                   test_ra, \n",
    "                   test_dec):\n",
    "    background_likelihood = (1/(2*np.pi))*bg_p_dec(np.sin(event['dec']))\n",
    "    return background_likelihood"
   ]
  },
  {
   "cell_type": "code",
   "execution_count": 13,
   "metadata": {},
   "outputs": [],
   "source": [
    "# Our events will consist of some unknown combination\n",
    "# of signal events (described by the PDF \"signal_pdf\", S)\n",
    "# and background events (described by \"background_pdf\", B).\n",
    "# We'll call the number of signal events ns.\n",
    "# Then the total likelihood will therefore be \n",
    "#\n",
    "# L_i = (ns/N)*S + (nb/N)*B\n",
    "#     = (ns/N)*S + ((N-ns)/N)*B\n",
    "#\n",
    "# which we will sum over all events i in our trial.\n",
    "# We'll evaluate these at a \"test point\" in RA, dec.\n",
    "def spatial_llh(event,\n",
    "                test_ra,\n",
    "                test_dec,\n",
    "                ns = 0,minimize=0):\n",
    "    N = len(event)\n",
    "    if N==0: \n",
    "        llh=0\n",
    "        fit_ns=0\n",
    "        return llh,[fit_ns,]\n",
    "    \n",
    "    # Check: ns cannot be larger than N.\n",
    "    if ns > N: \n",
    "        ns = N\n",
    "    ns=float(ns)\n",
    "    S = signal_pdf(event, test_ra, test_dec)\n",
    "    B = background_pdf(event, test_ra, test_dec)\n",
    "    #ratio = (1+(ns/N*(S/B-1)))\n",
    "    #ratio = ((ns/N)*S + (N-ns)/N*B)\n",
    "    def get_ts(fit_ns):\n",
    "        ts=np.log(1+(fit_ns/N*(S/B-1)))\n",
    "        ts[~np.isfinite(ts)]=0\n",
    "        return -2*np.sum(ts)\n",
    "    if minimize:\n",
    "        results=scipy.optimize.minimize(get_ts,x0=[ns,],bounds=[[0,N]],method=\"SLSQP\")\n",
    "        if results.fun>0:\n",
    "            return 0,results.x\n",
    "        return -1*results.fun,results.x\n",
    "    #ratio[ratio==0]=1\n",
    "    else:\n",
    "        ts=get_ts(ns)\n",
    "        return -1*ts,[ns,]\n",
    "    # This is the *likelihood*..\n",
    "    # We want the negative log-likelihood\n",
    "    #return np.sum(np.log(ratio))"
   ]
  },
  {
   "cell_type": "code",
   "execution_count": null,
   "metadata": {},
   "outputs": [],
   "source": []
  },
  {
   "cell_type": "code",
   "execution_count": 14,
   "metadata": {
    "scrolled": true
   },
   "outputs": [
    {
     "name": "stderr",
     "output_type": "stream",
     "text": [
      "/opt/conda/lib/python3.7/site-packages/ipykernel_launcher.py:31: RuntimeWarning: divide by zero encountered in log\n"
     ]
    }
   ],
   "source": [
    "# Write a function that can produce our\n",
    "# trials for us. This'll help when we need\n",
    "# to calculate our sensitivities, since we'll\n",
    "# need to call this a lot.\n",
    "def produce_n_trials(ntrials,\n",
    "                        \n",
    "                     # Parameters to control the true signal, background\n",
    "                     n_background = n_expected, \n",
    "                     N=0, \n",
    "                     gamma=-2, \n",
    "                     source_ra = np.pi/2, \n",
    "                     source_dec = np.pi/6, \n",
    "                     \n",
    "                     # Parameters to control where/when you look\n",
    "                     test_ns = 0,\n",
    "                     test_ra = np.pi/2,\n",
    "                     test_dec = np.pi/6,\n",
    "                     window = time_window, \n",
    "                     minimize=0,\n",
    "                     # The data to use\n",
    "                     data=data, \n",
    "                     sim=sim, \n",
    "                     random_seed = None,\n",
    "                     verbose=True):\n",
    "    \n",
    "    llhs = []\n",
    "    for i in range(ntrials):\n",
    "        # Get the events for this trial.\n",
    "        trial = produce_trial(n_background=n_expected, \n",
    "                               N=N, \n",
    "                               gamma=gamma, \n",
    "                               source_ra=source_ra, \n",
    "                               source_dec=source_dec, \n",
    "                               window=time_window, \n",
    "                               data=data, \n",
    "                               sim=sim, \n",
    "                               random_seed = random_seed)\n",
    "\n",
    "        # And the likelihood for the trial\n",
    "        llh = spatial_llh(trial, \n",
    "                          test_ra, \n",
    "                          test_dec,\n",
    "                          ns = test_ns,minimize=minimize,\n",
    "                          )\n",
    "        llhs.append(llh)\n",
    "    return np.array(llhs)\n",
    "    \n",
    "# Run trials for a few different values of N.\n",
    "# Here, I'll assume ns=1 for all cases.\n",
    "background_ts = np.array(produce_n_trials(1000, test_ns=1))\n",
    "signal_ts_19_ns0 = np.array(produce_n_trials(500, N=1e-15, test_ns=1))\n",
    "signal_ts_18_ns0 = np.array(produce_n_trials(500, N=1e-14, test_ns=1))\n",
    "signal_ts_17_ns0 = np.array(produce_n_trials(500, N=1e-13, test_ns=1))"
   ]
  },
  {
   "cell_type": "code",
   "execution_count": 109,
   "metadata": {},
   "outputs": [
    {
     "data": {
      "image/png": "[encoded data removed]",
      "text/plain": [
       "<Figure size 720x432 with 1 Axes>"
      ]
     },
     "metadata": {
      "needs_background": "light"
     },
     "output_type": "display_data"
    }
   ],
   "source": [
    "# Plot the signal and background LLHs\n",
    "fig, ax = plt.subplots(figsize=(10,6))\n",
    "bins = np.linspace(-5, 500, 500)\n",
    "\n",
    "ax.hist(background_ts[:,0],\n",
    "        bins = bins,\n",
    "        weights = np.ones_like(background_ts[:,0])/len(background_ts),\n",
    "        histtype = 'step',\n",
    "        color = 'k',\n",
    "        linewidth = 3,\n",
    "        alpha=0.5,\n",
    "        label = r'N = 0')\n",
    "\n",
    "ax.hist(signal_ts_19_ns0[:,0],\n",
    "        bins = bins,\n",
    "        weights = np.ones_like(signal_ts_19_ns0[:,0])/len(signal_ts_19_ns0),\n",
    "        histtype = 'step',\n",
    "        linewidth = 3,\n",
    "        alpha = 0.7,\n",
    "        label = r'N = $10^{-19}$')\n",
    "\n",
    "ax.hist(signal_ts_18_ns0[:,0],\n",
    "        bins = bins,\n",
    "        weights = np.ones_like(signal_ts_18_ns0[:,0])/len(signal_ts_18_ns0),\n",
    "        histtype = 'step',\n",
    "        linewidth = 3,\n",
    "        alpha = 0.7,\n",
    "        label = r'N = $10^{-18}$')\n",
    "\n",
    "ax.hist(signal_ts_17_ns0[:,0],\n",
    "        bins = bins,\n",
    "        weights = np.ones_like(signal_ts_17_ns0[:,0])/len(signal_ts_17_ns0),\n",
    "        histtype = 'step',\n",
    "        linewidth = 3,\n",
    "        alpha = 0.7,\n",
    "        label = r'N = $10^{-17}$')\n",
    "\n",
    "ax.legend(loc='upper right', fontsize=16,)\n",
    "\n",
    "ax.grid(alpha=0.25)\n",
    "#ax.set_xlim(bins.min(), bins.max())\n",
    "ax.set_xlabel(\"TS\", fontsize=16)\n",
    "ax.set_ylabel(\"Fraction of Trials\", fontsize=16)\n",
    "ax.tick_params(which='both', labelsize=16)"
   ]
  },
  {
   "cell_type": "code",
   "execution_count": null,
   "metadata": {},
   "outputs": [],
   "source": []
  },
  {
   "cell_type": "code",
   "execution_count": null,
   "metadata": {},
   "outputs": [],
   "source": []
  },
  {
   "cell_type": "code",
   "execution_count": 88,
   "metadata": {},
   "outputs": [
    {
     "name": "stderr",
     "output_type": "stream",
     "text": [
      "/opt/conda/lib/python3.7/site-packages/ipykernel_launcher.py:31: RuntimeWarning: divide by zero encountered in log\n"
     ]
    },
    {
     "data": {
      "image/png": "[encoded data removed]",
      "text/plain": [
       "<Figure size 720x432 with 1 Axes>"
      ]
     },
     "metadata": {
      "needs_background": "light"
     },
     "output_type": "display_data"
    }
   ],
   "source": [
    "# Plot the signal and background LLHs\n",
    "fig, ax = plt.subplots(figsize=(10,6))\n",
    "bins = np.linspace(0, 500, 100)\n",
    "\n",
    "ax.hist(background_ts[:,0],\n",
    "        bins = bins,\n",
    "        weights = np.ones_like(background_ts[:,0])/len(background_ts),\n",
    "        histtype = 'step',\n",
    "        color = 'k',\n",
    "        linewidth = 3,\n",
    "        label = r'N = 0')\n",
    "\n",
    "for ns in [1, 10, 20]:\n",
    "    signal_ts = produce_n_trials(1000, N=1e-14, test_ns=ns)\n",
    "    signal_ts=np.array(signal_ts)\n",
    "    ax.hist(signal_ts[:,0],\n",
    "        bins = bins,\n",
    "        weights = np.ones_like(signal_ts[:,0])/len(signal_ts),\n",
    "        histtype = 'step',\n",
    "        linewidth = 3,\n",
    "        alpha = 0.7,\n",
    "        label = r'N = $10^{-18}$, $n_s$' + '={}'.format(ns))\n",
    "\n",
    "ax.legend(loc='upper right', ncol=2, fontsize=14,)\n",
    "\n",
    "ax.grid(alpha=0.25)\n",
    "#ax.set_xlim(bins.min(), bins.max())\n",
    "ax.set_xlabel(\"-LLH\", fontsize=16)\n",
    "ax.set_ylabel(\"Number of Trials\", fontsize=16)\n",
    "ax.tick_params(which='both', labelsize=16)"
   ]
  },
  {
   "cell_type": "code",
   "execution_count": 92,
   "metadata": {},
   "outputs": [
    {
     "name": "stdout",
     "output_type": "stream",
     "text": [
      "38 33\n"
     ]
    },
    {
     "name": "stderr",
     "output_type": "stream",
     "text": [
      "/opt/conda/lib/python3.7/site-packages/ipykernel_launcher.py:31: RuntimeWarning: divide by zero encountered in log\n"
     ]
    },
    {
     "data": {
      "image/png": "[encoded data removed]",
      "text/plain": [
       "<Figure size 720x432 with 1 Axes>"
      ]
     },
     "metadata": {
      "needs_background": "light"
     },
     "output_type": "display_data"
    }
   ],
   "source": [
    "# Produce a single trial that we can use to answer the\n",
    "# question \"What does the TS look like as a function of ns?\"\n",
    "trial = produce_trial(N=1e-14)\n",
    "\n",
    "# How many signal events are there really in this trial?\n",
    "# Use a trick of this dataset to ID signal events.\n",
    "# This works since the simulated events have the\n",
    "# runs set to very large numbers while the data\n",
    "# (our background events) have values below 200,000.\n",
    "ns_true = (trial['run']>200000).sum()\n",
    "print(len(trial['run']), ns_true)\n",
    "\n",
    "ns_values = np.linspace(0, len(trial), 1000)\n",
    "ts_values = []\n",
    "for ns in ns_values:\n",
    "    # Calculate the spatial LLH for this ns and trial\n",
    "    # How do we call the spatial likelihood for this\n",
    "    # trial and ns with a source at RA=pi/2, dec=pi/6?\n",
    "    llh = spatial_llh(trial, \n",
    "                          pi/2, \n",
    "                          pi/6,\n",
    "                          ns = ns,minimize=0\n",
    "                          )\n",
    "    \n",
    "    ts_values.append(-llh[0])\n",
    "llhmin = spatial_llh(trial, \n",
    "                          pi/2, \n",
    "                          pi/6,\n",
    "                          minimize=1\n",
    "                          )\n",
    "# numpy arrays are easier to do calculations with than lists\n",
    "ts_values = np.array(ts_values)\n",
    "fig, ax = plt.subplots(figsize=(10,6))\n",
    "ax.axvline(ns_true,\n",
    "            color='k',\n",
    "           linewidth=3,\n",
    "            label = 'True number of signal events')\n",
    "ax.axvline(llhmin[1],\n",
    "            color='r',\n",
    "           linewidth=3,\n",
    "            label = 'best fit')\n",
    "ax.plot(ns_values,ts_values)\n",
    "ax.grid(alpha=0.3)\n",
    "ax.set_xlim(ns_values.min(), ns_values.max())\n",
    "ax.legend(fontsize=16,)\n",
    "ax.set_xlabel(\"ns\", fontsize=16)\n",
    "ax.set_ylabel(\"TS\", fontsize=16)\n",
    "ax.tick_params(which='both', labelsize=16)"
   ]
  },
  {
   "cell_type": "code",
   "execution_count": null,
   "metadata": {},
   "outputs": [],
   "source": []
  },
  {
   "cell_type": "code",
   "execution_count": null,
   "metadata": {},
   "outputs": [],
   "source": []
  },
  {
   "cell_type": "code",
   "execution_count": 93,
   "metadata": {},
   "outputs": [
    {
     "name": "stdout",
     "output_type": "stream",
     "text": [
      "52 46\n"
     ]
    },
    {
     "name": "stderr",
     "output_type": "stream",
     "text": [
      "/opt/conda/lib/python3.7/site-packages/ipykernel_launcher.py:31: RuntimeWarning: divide by zero encountered in log\n"
     ]
    },
    {
     "data": {
      "image/png": "[encoded data removed]",
      "text/plain": [
       "<Figure size 720x432 with 1 Axes>"
      ]
     },
     "metadata": {
      "needs_background": "light"
     },
     "output_type": "display_data"
    }
   ],
   "source": [
    "# Produce a single trial that we can use to answer the\n",
    "# question \"What does the TS look like as a function of ns?\"\n",
    "trial = produce_trial(N=1e-14)\n",
    "\n",
    "# How many signal events are there really in this trial?\n",
    "# Use a trick of this dataset to ID signal events.\n",
    "# This works since the simulated events have the\n",
    "# runs set to very large numbers while the data\n",
    "# (our background events) have values below 200,000.\n",
    "ns_true = (trial['run']>200000).sum()\n",
    "print(len(trial['run']), ns_true)\n",
    "\n",
    "ns_values = np.linspace(0, len(trial), 1000)\n",
    "ts_values = []\n",
    "for ns in ns_values:\n",
    "    # Calculate the spatial LLH for this ns and trial\n",
    "    # How do we call the spatial likelihood for this\n",
    "    # trial and ns with a source at RA=pi/2, dec=pi/6?\n",
    "    llh = spatial_llh(trial, \n",
    "                          pi/2, \n",
    "                          pi/6,\n",
    "                          ns = ns,minimize=0\n",
    "                          )\n",
    "    \n",
    "    ts_values.append(-llh[0])\n",
    "\n",
    "# numpy arrays are easier to do calculations with than lists\n",
    "ts_values = np.array(ts_values)\n",
    "best_fit = spatial_llh(trial, \n",
    "                          pi/2, \n",
    "                          pi/6,\n",
    "                          ns = 0,minimize=1\n",
    "                          )    \n",
    "# Plot -1*LLH vs ns for this trial\n",
    "# Note that we're going to plot -1*LLH here.\n",
    "fig, ax = plt.subplots(figsize=(10,6))\n",
    "\n",
    "# Add your plotting line here\n",
    "\n",
    "ax.axvline(ns_true,\n",
    "            color='k',\n",
    "           linewidth=3,\n",
    "            label = 'True number of signal events')\n",
    "ax.axvline(best_fit[1],\n",
    "            color='r',\n",
    "           linewidth=3,\n",
    "            label = 'best fit')\n",
    "ax.plot(ns_values,ts_values)\n",
    "ax.grid(alpha=0.3)\n",
    "ax.set_xlim(ns_values.min(), ns_values.max())\n",
    "ax.legend(fontsize=16,)\n",
    "ax.set_xlabel(\"ns\", fontsize=16)\n",
    "ax.set_ylabel(\"TS\", fontsize=16)\n",
    "ax.tick_params(which='both', labelsize=16)"
   ]
  },
  {
   "cell_type": "code",
   "execution_count": 45,
   "metadata": {},
   "outputs": [
    {
     "name": "stderr",
     "output_type": "stream",
     "text": [
      "/opt/conda/lib/python3.7/site-packages/ipykernel_launcher.py:31: RuntimeWarning: divide by zero encountered in log\n"
     ]
    },
    {
     "data": {
      "image/png": "[encoded data removed]",
      "text/plain": [
       "<Figure size 720x432 with 1 Axes>"
      ]
     },
     "metadata": {
      "needs_background": "light"
     },
     "output_type": "display_data"
    }
   ],
   "source": [
    "# Produce a single trial that we can use to answer the\n",
    "# question \"What does the TS look like as a function of ns?\"\n",
    "fig, ax = plt.subplots(figsize=(10,6))\n",
    "for j in range(10):\n",
    "    trial = produce_trial(N=0)\n",
    "\n",
    "    # How many signal events are there really in this trial?\n",
    "    # Use a trick of this dataset to ID signal events.\n",
    "    # This works since the simulated events have the\n",
    "    # runs set to very large numbers while the data\n",
    "    # (our background events) have values below 200,000.\n",
    "    ns_true = (trial['run']>200000).sum()\n",
    "    #print(len(trial['run']), ns_true)\n",
    "\n",
    "    ns_values = np.linspace(0, len(trial), 1000)\n",
    "    ts_values = []\n",
    "    for ns in ns_values:\n",
    "        # Calculate the spatial LLH for this ns and trial\n",
    "        # How do we call the spatial likelihood for this\n",
    "        # trial and ns with a source at RA=pi/2, dec=pi/6?\n",
    "        llh = spatial_llh(trial, \n",
    "                              pi/2, \n",
    "                              pi/6,\n",
    "                              ns = ns,\n",
    "                              )\n",
    "\n",
    "        ts_values.append(-llh[0])\n",
    "    ts_values = np.array(ts_values)\n",
    "    ax.plot(ns_values,ts_values)\n",
    "# numpy arrays are easier to do calculations with than lists\n",
    "\n",
    "    \n",
    "# Plot -1*LLH vs ns for this trial\n",
    "# Note that we're going to plot -1*LLH here.\n",
    "\n",
    "\n",
    "# Add your plotting line here"
   ]
  },
  {
   "cell_type": "code",
   "execution_count": 49,
   "metadata": {},
   "outputs": [
    {
     "name": "stderr",
     "output_type": "stream",
     "text": [
      "/opt/conda/lib/python3.7/site-packages/ipykernel_launcher.py:31: RuntimeWarning: divide by zero encountered in log\n",
      "/opt/conda/lib/python3.7/site-packages/ipykernel_launcher.py:31: RuntimeWarning: invalid value encountered in log\n"
     ]
    },
    {
     "data": {
      "image/png": "[encoded data removed]",
      "text/plain": [
       "<Figure size 720x432 with 1 Axes>"
      ]
     },
     "metadata": {
      "needs_background": "light"
     },
     "output_type": "display_data"
    }
   ],
   "source": [
    "# Plot the signal and background LLHs\n",
    "fig, ax = plt.subplots(figsize=(10,6))\n",
    "bins = np.linspace(0, 600, 100)\n",
    "\n",
    "\n",
    "signal_ts = produce_n_trials(1000, N=1e-14, test_ns=1)\n",
    "signal_ts=np.array(signal_ts)\n",
    "ax.hist(signal_ts[:,0],\n",
    "    bins = bins,\n",
    "    weights = np.ones_like(signal_ts[:,0])/len(signal_ts),\n",
    "    histtype = 'step',\n",
    "    linewidth = 3,\n",
    "    alpha = 0.7,\n",
    "    label = r'N = $10^{-14}$, $n_s$' + '={}'.format(1))\n",
    "\n",
    "signal_ts = produce_n_trials(1000, N=1e-14,minimize=1)\n",
    "signal_ts=np.array(signal_ts)\n",
    "ax.hist(signal_ts[:,0],\n",
    "    bins = bins,\n",
    "    weights = np.ones_like(signal_ts[:,0])/len(signal_ts),\n",
    "    histtype = 'step',\n",
    "    linewidth = 3,\n",
    "    alpha = 0.7,\n",
    "    label = r'N = $10^{-14}$, $n_s$' + '={}'.format(np.mean(signal_ts[:,1])))\n",
    "\n",
    "ax.legend(loc='upper right', ncol=2, fontsize=14,)\n",
    "\n",
    "ax.grid(alpha=0.25)\n",
    "#ax.set_xlim(bins.min(), bins.max())\n",
    "ax.set_xlabel(\"-LLH\", fontsize=16)\n",
    "ax.set_ylabel(\"Number of Trials\", fontsize=16)\n",
    "ax.tick_params(which='both', labelsize=16)\n",
    "\n",
    "\n",
    "\n",
    "\n"
   ]
  },
  {
   "cell_type": "code",
   "execution_count": 15,
   "metadata": {},
   "outputs": [],
   "source": [
    "def torad(degree):\n",
    "    return degree*pi/180\n",
    "def bisection(n_trials,gamma=-2,n_background = n_expected, \n",
    "                     source_ra = np.pi/2, \n",
    "                     source_dec = np.pi/6, \n",
    "                     \n",
    "                     # Parameters to control where/when you look\n",
    "                     test_ns = 1,\n",
    "                     test_ra = np.pi/2,\n",
    "                     test_dec = np.pi/6,\n",
    "                     window = time_window, \n",
    "                     minimize=0,\n",
    "                     # The data to use\n",
    "                     data=data, \n",
    "                     sim=sim, \n",
    "                     random_seed = None,):\n",
    "    down=0\n",
    "    up=1e-16\n",
    "    background_ts=produce_n_trials(10000,N=0,gamma=gamma,source_ra=source_ra,source_dec=source_dec,test_ns=test_ns,test_ra=test_ra,test_dec=test_dec,window = window, \n",
    "                     minimize=minimize,\n",
    "                     # The data to use\n",
    "                     data=data, \n",
    "                     sim=sim)\n",
    "    background_3sigma=np.percentile(background_ts[:,0],99.73)\n",
    "    background_median=np.percentile(background_ts[:,0],50)\n",
    "    test=produce_n_trials(n_trials,N=up,gamma=gamma,source_ra=source_ra,source_dec=source_dec,test_ns=test_ns,test_ra=test_ra,test_dec=test_dec,window = window, \n",
    "                     minimize=minimize,\n",
    "                     # The data to use\n",
    "                     data=data, \n",
    "                     sim=sim)\n",
    "    while np.percentile(test[:,0],50)<background_3sigma:\n",
    "        up=up*10\n",
    "        test=produce_n_trials(n_trials,N=up,gamma=gamma,source_ra=source_ra,source_dec=source_dec,test_ns=test_ns,test_ra=test_ra,test_dec=test_dec,window = window, \n",
    "                     minimize=minimize,\n",
    "                     # The data to use\n",
    "                     data=data, \n",
    "                     sim=sim)\n",
    "    stop=up*1e-3\n",
    "    discovery=0\n",
    "    discovery_bool=True\n",
    "    while discovery_bool:\n",
    "        if up-down<stop:#np.percentile(test,50)>background_3sigma:\n",
    "            discovery=signal_n\n",
    "            discovery_bool=False\n",
    "        else:\n",
    "            signal_n=(up+down)/2\n",
    "            test=produce_n_trials(n_trials,N=signal_n,gamma=gamma,source_ra=source_ra,source_dec=source_dec,test_ns=test_ns,test_ra=test_ra,test_dec=test_dec,window = window, \n",
    "                         minimize=minimize,\n",
    "                         # The data to use\n",
    "                         data=data, \n",
    "                         sim=sim)\n",
    "            if np.percentile(test[:,0],50)>background_3sigma:\n",
    "                up=signal_n\n",
    "            else:\n",
    "                down=signal_n\n",
    "    up=1e-16\n",
    "    down=0\n",
    "    test=produce_n_trials(n_trials,N=up,gamma=-2,source_ra=source_ra,source_dec=source_dec,test_ns=test_ns,test_ra=test_ra,test_dec=test_dec,window = window, \n",
    "                     minimize=minimize,\n",
    "                     # The data to use\n",
    "                     data=data, \n",
    "                     sim=sim)\n",
    "    while np.percentile(test[:,0],10)<=background_median:\n",
    "        up=up*10\n",
    "        test=produce_n_trials(n_trials,N=up,gamma=gamma,source_ra=source_ra,source_dec=source_dec,test_ns=test_ns,test_ra=test_ra,test_dec=test_dec,window = window, \n",
    "                     minimize=minimize,\n",
    "                     # The data to use\n",
    "                     data=data, \n",
    "                     sim=sim)\n",
    "    stop=up*1e-3\n",
    "    sen=0\n",
    "    sen_bool=True\n",
    "    while sen_bool:\n",
    "        if up-down<stop:#np.percentile(test,50)>background_3sigma:\n",
    "            sen=signal_n\n",
    "            up=signal_n\n",
    "            down=0\n",
    "            sen_bool=False\n",
    "        else:\n",
    "            signal_n=(up+down)/2\n",
    "            test=produce_n_trials(n_trials,N=signal_n,gamma=gamma,source_ra=source_ra,source_dec=source_dec,test_ns=test_ns,test_ra=test_ra,test_dec=test_dec, window = window, \n",
    "                         minimize=minimize,\n",
    "                         # The data to use\n",
    "                         data=data, \n",
    "                         sim=sim)\n",
    "\n",
    "            if np.percentile(test[:,0],10)>background_median:\n",
    "                up=signal_n\n",
    "            else:\n",
    "                down=signal_n\n",
    "    return discovery,sen\n",
    "\n"
   ]
  },
  {
   "cell_type": "code",
   "execution_count": 146,
   "metadata": {},
   "outputs": [
    {
     "name": "stdout",
     "output_type": "stream",
     "text": [
      "-2\n"
     ]
    },
    {
     "name": "stderr",
     "output_type": "stream",
     "text": [
      "/opt/conda/lib/python3.7/site-packages/ipykernel_launcher.py:31: RuntimeWarning: divide by zero encountered in log\n",
      "/opt/conda/lib/python3.7/site-packages/ipykernel_launcher.py:31: RuntimeWarning: invalid value encountered in log\n"
     ]
    },
    {
     "name": "stdout",
     "output_type": "stream",
     "text": [
      "[3.7792968750000007e-16] [7.509765625000001e-16]\n"
     ]
    }
   ],
   "source": [
    "crab=[torad(83.633080),torad(22.014500)]\n",
    "index=np.linspace(2,3,30)\n",
    "sen=[]\n",
    "discovery=[]\n",
    "i=-2\n",
    "print(i)\n",
    "result=bisection(1000,gamma=i,n_background = n_expected, \n",
    "                     source_ra =crab[0], \n",
    "                     source_dec =crab[1], \n",
    "                     test_ra = crab[0],\n",
    "                     test_dec =crab[1],\n",
    "                     window = time_window, \n",
    "                     minimize=1)\n",
    "discovery.append(result[0])\n",
    "sen.append(result[1])\n",
    "print(discovery,sen)"
   ]
  },
  {
   "cell_type": "code",
   "execution_count": 17,
   "metadata": {},
   "outputs": [
    {
     "name": "stdout",
     "output_type": "stream",
     "text": [
      "-2.0\n"
     ]
    },
    {
     "name": "stderr",
     "output_type": "stream",
     "text": [
      "/opt/conda/lib/python3.7/site-packages/ipykernel_launcher.py:31: RuntimeWarning: divide by zero encountered in log\n",
      "/opt/conda/lib/python3.7/site-packages/ipykernel_launcher.py:31: RuntimeWarning: invalid value encountered in log\n"
     ]
    },
    {
     "name": "stdout",
     "output_type": "stream",
     "text": [
      "-2.0344827586206895\n",
      "-2.0689655172413794\n",
      "-2.103448275862069\n",
      "-2.1379310344827585\n",
      "-2.1724137931034484\n",
      "-2.206896551724138\n",
      "-2.2413793103448274\n",
      "-2.2758620689655173\n",
      "-2.310344827586207\n",
      "-2.344827586206897\n",
      "-2.3793103448275863\n",
      "-2.413793103448276\n",
      "-2.4482758620689653\n",
      "-2.4827586206896552\n",
      "-2.5172413793103448\n",
      "-2.5517241379310347\n",
      "-2.586206896551724\n",
      "-2.6206896551724137\n",
      "-2.655172413793103\n",
      "-2.689655172413793\n",
      "-2.7241379310344827\n",
      "-2.7586206896551726\n",
      "-2.793103448275862\n",
      "-2.8275862068965516\n",
      "-2.862068965517241\n",
      "-2.896551724137931\n",
      "-2.9310344827586206\n",
      "-2.9655172413793105\n",
      "-3.0\n"
     ]
    }
   ],
   "source": [
    "crab=[torad(83.633080),torad(22.014500)]\n",
    "index=np.linspace(-2,-3,30)\n",
    "sen=[]\n",
    "discovery=[]\n",
    "for i in index:\n",
    "    print(i)\n",
    "    result=bisection(1000,gamma=i,n_background = n_expected, \n",
    "                     source_ra =crab[0], \n",
    "                     source_dec =crab[1], \n",
    "                     test_ra = crab[0],\n",
    "                     test_dec =crab[1],\n",
    "                     window = time_window, \n",
    "                     minimize=1)\n",
    "    discovery.append(result[0])\n",
    "    sen.append(result[1])\n",
    "discovery=np.array(discovery)\n",
    "sen=np.array(sen)"
   ]
  },
  {
   "cell_type": "code",
   "execution_count": 18,
   "metadata": {},
   "outputs": [],
   "source": [
    "np.save(\"sen.npy\",sen)\n",
    "np.save(\"discovery.npy\",discovery)"
   ]
  },
  {
   "cell_type": "code",
   "execution_count": 22,
   "metadata": {},
   "outputs": [
    {
     "data": {
      "image/png": "[encoded data removed]",
      "text/plain": [
       "<Figure size 720x432 with 1 Axes>"
      ]
     },
     "metadata": {
      "needs_background": "light"
     },
     "output_type": "display_data"
    }
   ],
   "source": [
    "index=np.linspace(-2,-3,30)\n",
    "sen=np.load(\"sen.npy\")\n",
    "discovery=np.load(\"discovery.npy\")\n",
    "import sympy as sym\n",
    "def neutrino_fluence(N,MinE,MaxE,gamma=-2,window=time_window):\n",
    "    #return (N/(100000**(-gamma)))*np.log(MaxE/MinE)\n",
    "    #x = sym.Symbol('x')\n",
    "    #result=sym.integrate(N * (x/100000)**(gamma)*x, (x,MinE,MaxE))\n",
    "    if gamma!=-2:\n",
    "        result=(N*(1/100000)**gamma)*(1/(gamma+2))*(MaxE**(gamma+2)-MinE**(gamma+2))\n",
    "    else:\n",
    "        result=(N*(1/100000)**gamma)*np.log(MaxE/MinE)\n",
    "    \n",
    "    return float(result)*window\n",
    "\n",
    "sen_fluence=[]\n",
    "discovery_fluence=[]\n",
    "maxE=np.max(sim['trueE'])\n",
    "minE=np.min(sim['trueE'])\n",
    "for i in range(len(index)):\n",
    "    sen_fluence.append(neutrino_fluence(N=sen[i],MinE=minE,MaxE=maxE,gamma=index[i],window=1000))\n",
    "    discovery_fluence.append(neutrino_fluence(N=discovery[i],MinE=minE,MaxE=maxE,gamma=index[i],window=1000))\n",
    "fig, ax = plt.subplots(figsize=(10,6))\n",
    "ax.plot(index,discovery_fluence,label =\"discovery potential\")\n",
    "ax.plot(index,sen_fluence,label =\"sensitivity\")\n",
    "ax.legend(loc='upper right', ncol=2, fontsize=14,)\n",
    "\n",
    "ax.grid(alpha=0.25)\n",
    "#ax.set_xlim(bins.min(), bins.max())\n",
    "ax.set_title(\"Crab(Different index)\",fontsize=16)\n",
    "ax.set_xlabel(\"index\", fontsize=16)\n",
    "ax.set_ylabel(r\"fluence($GeV cm^{-2}$)\", fontsize=16)\n",
    "ax.tick_params(which='both', labelsize=16)"
   ]
  },
  {
   "cell_type": "code",
   "execution_count": 53,
   "metadata": {},
   "outputs": [
    {
     "name": "stdout",
     "output_type": "stream",
     "text": [
      "0.00011574074074074075\n"
     ]
    },
    {
     "name": "stderr",
     "output_type": "stream",
     "text": [
      "/opt/conda/lib/python3.7/site-packages/ipykernel_launcher.py:31: RuntimeWarning: divide by zero encountered in log\n",
      "/opt/conda/lib/python3.7/site-packages/ipykernel_launcher.py:31: RuntimeWarning: invalid value encountered in log\n"
     ]
    },
    {
     "name": "stdout",
     "output_type": "stream",
     "text": [
      "0.00017328052979487737\n",
      "0.0002594258669317828\n",
      "0.0003883978223807154\n",
      "0.000581487382943773\n",
      "0.0008705702170270113\n",
      "0.001303368783235907\n",
      "0.0019513304635152024\n",
      "0.0029214222611569757\n",
      "0.0043737891595300475\n",
      "0.006548191223971315\n",
      "0.009803583744375588\n",
      "0.014677374399383651\n",
      "0.021974139751014466\n",
      "0.03289844659255885\n",
      "0.04925370460308836\n",
      "0.07373987736177776\n",
      "0.11039919854047021\n",
      "0.16528347312787492\n",
      "0.247453123305043\n",
      "0.3704729037612043\n",
      "0.5546512025716729\n",
      "0.8303925965729927\n",
      "1.2432171087813195\n",
      "1.861274758403658\n",
      "2.7865959226273613\n",
      "4.171934745767065\n",
      "6.245986144459741\n",
      "9.35113929007778\n",
      "14.000000000000002\n"
     ]
    }
   ],
   "source": [
    "crab=[torad(83.633080),torad(22.014500)]\n",
    "time=np.logspace(1,np.log10(14*24*3600),30)\n",
    "sen=[]\n",
    "discovery=[]\n",
    "for i in time:\n",
    "    print(i/3600/24)\n",
    "    n_expected = average_rate * i/3600/24\n",
    "    result=bisection(1000,gamma=-2,n_background = n_expected, \n",
    "                     source_ra =crab[0], \n",
    "                     source_dec =crab[1], \n",
    "                     test_ra = crab[0],\n",
    "                     test_dec =crab[1],\n",
    "                     window = i/3600/24, \n",
    "                     minimize=1)\n",
    "    discovery.append(result[0])\n",
    "    sen.append(result[1])\n",
    "discovery=np.array(discovery)\n",
    "sen=np.array(sen)\n",
    "np.save(\"sentime.npy\",sen)\n",
    "np.save(\"discoverytime.npy\",discovery)"
   ]
  },
  {
   "cell_type": "code",
   "execution_count": 23,
   "metadata": {},
   "outputs": [
    {
     "data": {
      "image/png": "[encoded data removed]",
      "text/plain": [
       "<Figure size 720x432 with 1 Axes>"
      ]
     },
     "metadata": {
      "needs_background": "light"
     },
     "output_type": "display_data"
    }
   ],
   "source": [
    "sen_fluence=[]\n",
    "discovery_fluence=[]\n",
    "sen=np.load(\"sentime.npy\")\n",
    "discovery=np.load(\"discoverytime.npy\")\n",
    "time=np.logspace(1,np.log10(14*24*3600),30)\n",
    "maxE=np.max(sim['trueE'])\n",
    "minE=np.min(sim['trueE'])\n",
    "for i in range(len(time)):\n",
    "    sen_fluence.append(neutrino_fluence(N=sen[i],MinE=minE,MaxE=maxE,gamma=-2,window=time[i]))\n",
    "    discovery_fluence.append(neutrino_fluence(N=discovery[i],MinE=minE,MaxE=maxE,gamma=-2,window=time[i]))\n",
    "fig, ax = plt.subplots(figsize=(10,6))\n",
    "ax.plot(time,discovery_fluence,label =\"discovery potential\")\n",
    "ax.plot(time,sen_fluence,label =\"sensitivity\")\n",
    "ax.legend(loc='upper right', ncol=2, fontsize=14,)\n",
    "\n",
    "ax.grid(alpha=0.25)\n",
    "#ax.set_xlim(bins.min(), bins.max())\n",
    "ax.set_xlabel(\"time(s)\", fontsize=16)\n",
    "ax.set_yscale('log')\n",
    "ax.set_xscale('log')\n",
    "ax.set_title(\"Crab(Different Time Window)\")\n",
    "ax.set_ylabel(r\"fluence($GeV cm^{-2}$)\", fontsize=16)\n",
    "ax.tick_params(which='both', labelsize=16)"
   ]
  },
  {
   "cell_type": "code",
   "execution_count": 57,
   "metadata": {},
   "outputs": [
    {
     "data": {
      "text/plain": [
       "6.650390625000001e-16"
      ]
     },
     "execution_count": 57,
     "metadata": {},
     "output_type": "execute_result"
    }
   ],
   "source": []
  },
  {
   "cell_type": "code",
   "execution_count": 62,
   "metadata": {},
   "outputs": [],
   "source": [
    "import numpy as np\n",
    "\n",
    "def ra(h, m, s):\n",
    "    return (h*15 + m/4 + s/240)*np.pi/180\n",
    "\n",
    "def dec(sign, deg, m, s):\n",
    "    return sign*(deg + m/60 + s/3600)*np.pi/180\n",
    "\n",
    "crab_nebula = {'ra':ra(5, 34, 31.94), 'dec':dec(1, 22, 0, 52.2)}\n",
    "txs         = {'ra':ra(5, 9, 25.9645434784), 'dec':dec(1, 5, 41, 35.333636817)}\n",
    "m77         = {'ra':ra(2, 42, 40.771), 'dec':dec(-1, 0, 0, 47.84)}\n",
    "mgro1908    = {'ra':ra(19, 7, 54), 'dec':dec(1, 6, 16, 7)}\n",
    "sag_a_star  = {'ra':ra(17, 45, 40.0409), 'dec':dec(-1, 29, 0, 28.118),}\n",
    "mag_l       = {'ra':ra(5, 23, 34.5), 'dec':dec(-1, 69, 45, 22)}\n",
    "mag_s       = {'ra':ra(0, 52, 44.8), 'dec':dec(-1, 72, 49, 43)}\n",
    "ra_list=[ra(5, 34, 31.94),ra(5, 9, 25.9645434784),ra(2, 42, 40.771),ra(19, 7, 54),ra(17, 45, 40.0409),ra(5, 23, 34.5),ra(0, 52, 44.8)]\n",
    "dec_list=[dec(1, 22, 0, 52.2),dec(1, 5, 41, 35.333636817),dec(-1, 0, 0, 47.84),dec(1, 6, 16, 7),dec(-1, 29, 0, 28.118),dec(-1, 69, 45, 22),dec(-1, 72, 49, 43)]"
   ]
  },
  {
   "cell_type": "code",
   "execution_count": 78,
   "metadata": {},
   "outputs": [],
   "source": [
    "def produce_n_trials_stack(ntrials,\n",
    "                        \n",
    "                     # Parameters to control the true signal, background\n",
    "                     n_background = n_expected, \n",
    "                     N=0, \n",
    "                     gamma=-2, \n",
    "                     source_ra = [np.pi/2], \n",
    "                     source_dec = [np.pi/6], \n",
    "                     \n",
    "                     # Parameters to control where/when you look\n",
    "                     test_ns = 0,\n",
    "                     test_ra = [np.pi/2],\n",
    "                     test_dec = [np.pi/6],\n",
    "                     window = time_window, \n",
    "                     minimize=0,\n",
    "                     # The data to use\n",
    "                     data=data, \n",
    "                     sim=sim, \n",
    "                     random_seed = None,\n",
    "                     verbose=True):\n",
    "    \n",
    "    llhs = []\n",
    "    for i in range(ntrials):\n",
    "        # Get the events for this trial.\n",
    "        ts=[0,0]\n",
    "        for j in range(len(test_ra)):\n",
    "            test_ra_temp=test_ra[j]\n",
    "            test_dec_temp=test_dec[j]\n",
    "            source_ra_temp=source_ra[j]\n",
    "            source_dec_temp=source_dec[j]\n",
    "            trial = produce_trial(n_background=n_expected, \n",
    "                                   N=N, \n",
    "                                   gamma=gamma, \n",
    "                                   source_ra=source_ra_temp, \n",
    "                                   source_dec=source_dec_temp, \n",
    "                                   window=time_window, \n",
    "                                   data=data, \n",
    "                                   sim=sim, \n",
    "                                   random_seed = random_seed)\n",
    "\n",
    "            # And the likelihood for the trial\n",
    "            llh = spatial_llh(trial, \n",
    "                              test_ra_temp, \n",
    "                              test_dec_temp,\n",
    "                              ns = test_ns,minimize=minimize,\n",
    "                              )\n",
    "            ts[0]=ts[0]+llh[0]\n",
    "            ts[1]=ts[1]+llh[1][0]\n",
    "        llhs.append(ts)\n",
    "    return np.array(llhs)"
   ]
  },
  {
   "cell_type": "code",
   "execution_count": 83,
   "metadata": {},
   "outputs": [],
   "source": [
    "def bisection_stack(n_trials,gamma=-2,n_background = n_expected, \n",
    "                     source_ra = [np.pi/2], \n",
    "                     source_dec = [np.pi/6], \n",
    "                     \n",
    "                     # Parameters to control where/when you look\n",
    "                     test_ns = 1,\n",
    "                     test_ra = [np.pi/2],\n",
    "                     test_dec = [np.pi/6],\n",
    "                     window = time_window, \n",
    "                     minimize=0,\n",
    "                     # The data to use\n",
    "                     data=data, \n",
    "                     sim=sim, \n",
    "                     random_seed = None,):\n",
    "    down=0\n",
    "    up=1e-16\n",
    "    background_ts=produce_n_trials_stack(10000,N=0,gamma=gamma,source_ra=source_ra,source_dec=source_dec,test_ns=test_ns,test_ra=test_ra,test_dec=test_dec,window = window, \n",
    "                     minimize=minimize,\n",
    "                     # The data to use\n",
    "                     data=data, \n",
    "                     sim=sim)\n",
    "    background_3sigma=np.percentile(background_ts[:,0],99.73)\n",
    "    background_median=np.percentile(background_ts[:,0],50)\n",
    "    test=produce_n_trials_stack(n_trials,N=up,gamma=gamma,source_ra=source_ra,source_dec=source_dec,test_ns=test_ns,test_ra=test_ra,test_dec=test_dec,window = window, \n",
    "                     minimize=minimize,\n",
    "                     # The data to use\n",
    "                     data=data, \n",
    "                     sim=sim)\n",
    "    while np.percentile(test[:,0],50)<background_3sigma:\n",
    "        up=up*10\n",
    "        test=produce_n_trials_stack(n_trials,N=up,gamma=gamma,source_ra=source_ra,source_dec=source_dec,test_ns=test_ns,test_ra=test_ra,test_dec=test_dec,window = window, \n",
    "                     minimize=minimize,\n",
    "                     # The data to use\n",
    "                     data=data, \n",
    "                     sim=sim)\n",
    "    stop=up*1e-3\n",
    "    discovery=0\n",
    "    discovery_bool=True\n",
    "    while discovery_bool:\n",
    "        if up-down<stop:#np.percentile(test,50)>background_3sigma:\n",
    "            discovery=signal_n\n",
    "            discovery_bool=False\n",
    "        else:\n",
    "            signal_n=(up+down)/2\n",
    "            test=produce_n_trials_stack(n_trials,N=signal_n,gamma=gamma,source_ra=source_ra,source_dec=source_dec,test_ns=test_ns,test_ra=test_ra,test_dec=test_dec,window = window, \n",
    "                         minimize=minimize,\n",
    "                         # The data to use\n",
    "                         data=data, \n",
    "                         sim=sim)\n",
    "            print(signal_n)\n",
    "            if np.percentile(test[:,0],50)>background_3sigma:\n",
    "                up=signal_n\n",
    "            else:\n",
    "                down=signal_n\n",
    "    up=1e-16\n",
    "    down=0\n",
    "    test=produce_n_trials_stack(n_trials,N=up,gamma=-2,source_ra=source_ra,source_dec=source_dec,test_ns=test_ns,test_ra=test_ra,test_dec=test_dec,window = window, \n",
    "                     minimize=minimize,\n",
    "                     # The data to use\n",
    "                     data=data, \n",
    "                     sim=sim)\n",
    "    while np.percentile(test[:,0],10)<=background_median:\n",
    "        up=up*10\n",
    "        test=produce_n_trials_stack(n_trials,N=up,gamma=gamma,source_ra=source_ra,source_dec=source_dec,test_ns=test_ns,test_ra=test_ra,test_dec=test_dec,window = window, \n",
    "                     minimize=minimize,\n",
    "                     # The data to use\n",
    "                     data=data, \n",
    "                     sim=sim)\n",
    "    stop=up*1e-3\n",
    "    sen=0\n",
    "    sen_bool=True\n",
    "    while sen_bool:\n",
    "        if up-down<stop:#np.percentile(test,50)>background_3sigma:\n",
    "            sen=signal_n\n",
    "            up=signal_n\n",
    "            down=0\n",
    "            sen_bool=False\n",
    "        else:\n",
    "            signal_n=(up+down)/2\n",
    "            test=produce_n_trials_stack(n_trials,N=signal_n,gamma=gamma,source_ra=source_ra,source_dec=source_dec,test_ns=test_ns,test_ra=test_ra,test_dec=test_dec, window = window, \n",
    "                         minimize=minimize,\n",
    "                         # The data to use\n",
    "                         data=data, \n",
    "                         sim=sim)\n",
    "            print(signal_n)\n",
    "            if np.percentile(test[:,0],10)>background_median:\n",
    "                up=signal_n\n",
    "            else:\n",
    "                down=signal_n\n",
    "    return discovery,sen"
   ]
  },
  {
   "cell_type": "code",
   "execution_count": 84,
   "metadata": {},
   "outputs": [
    {
     "name": "stderr",
     "output_type": "stream",
     "text": [
      "/opt/conda/lib/python3.7/site-packages/ipykernel_launcher.py:31: RuntimeWarning: divide by zero encountered in log\n",
      "/opt/conda/lib/python3.7/site-packages/ipykernel_launcher.py:31: RuntimeWarning: invalid value encountered in log\n"
     ]
    },
    {
     "name": "stdout",
     "output_type": "stream",
     "text": [
      "5e-17\n",
      "2.5e-17\n",
      "3.75e-17\n",
      "3.125e-17\n",
      "2.8125e-17\n",
      "2.65625e-17\n",
      "2.734375e-17\n",
      "2.7734375e-17\n",
      "2.79296875e-17\n",
      "2.783203125e-17\n",
      "5e-17\n",
      "7.5e-17\n",
      "8.749999999999999e-17\n",
      "9.375e-17\n",
      "9.062499999999999e-17\n",
      "9.21875e-17\n",
      "9.296874999999999e-17\n",
      "9.257812499999999e-17\n",
      "9.277343749999999e-17\n",
      "9.267578124999998e-17\n",
      "2.783203125e-17 9.267578124999998e-17\n"
     ]
    }
   ],
   "source": [
    "time_window=1000/3600/24\n",
    "n_expected = average_rate * i/3600/24\n",
    "stacksen,stackdis=bisection_stack(1000,gamma=-2,n_background = n_expected, \n",
    "                     source_ra =ra_list, \n",
    "                     source_dec =dec_list, \n",
    "                     test_ra = ra_list,\n",
    "                     test_dec =dec_list,\n",
    "                     window = time_window, \n",
    "                     minimize=1)\n",
    "print(stacksen,stackdis)"
   ]
  },
  {
   "cell_type": "code",
   "execution_count": 30,
   "metadata": {},
   "outputs": [
    {
     "name": "stdout",
     "output_type": "stream",
     "text": [
      "stack sensitivity:0.00448GeV cm^-1\n",
      "stack discovery potential:0.01492GeV cm^-1\n"
     ]
    }
   ],
   "source": [
    "print(\"stack sensitivity:\"+str(round(neutrino_fluence(N=2.783203125e-17,MinE=minE,MaxE=maxE,gamma=-2,window=1000),5))+\"GeV cm^-1\" )\n",
    "print(\"stack discovery potential:\"+str(round(neutrino_fluence(N=9.267578124999998e-17,MinE=minE,MaxE=maxE,gamma=-2,window=1000),5))+\"GeV cm^-1\")"
   ]
  },
  {
   "cell_type": "code",
   "execution_count": null,
   "metadata": {},
   "outputs": [],
   "source": []
  },
  {
   "cell_type": "code",
   "execution_count": null,
   "metadata": {},
   "outputs": [],
   "source": []
  },
  {
   "cell_type": "code",
   "execution_count": null,
   "metadata": {},
   "outputs": [],
   "source": []
  },
  {
   "cell_type": "code",
   "execution_count": null,
   "metadata": {},
   "outputs": [],
   "source": []
  },
  {
   "cell_type": "code",
   "execution_count": null,
   "metadata": {},
   "outputs": [],
   "source": []
  },
  {
   "cell_type": "code",
   "execution_count": null,
   "metadata": {},
   "outputs": [],
   "source": []
  },
  {
   "cell_type": "code",
   "execution_count": null,
   "metadata": {},
   "outputs": [],
   "source": []
  },
  {
   "cell_type": "code",
   "execution_count": null,
   "metadata": {},
   "outputs": [],
   "source": []
  },
  {
   "cell_type": "code",
   "execution_count": null,
   "metadata": {},
   "outputs": [],
   "source": []
  },
  {
   "cell_type": "code",
   "execution_count": null,
   "metadata": {},
   "outputs": [],
   "source": []
  },
  {
   "cell_type": "code",
   "execution_count": null,
   "metadata": {},
   "outputs": [],
   "source": []
  }
 ],
 "metadata": {
  "kernelspec": {
   "display_name": "Python 3",
   "language": "python",
   "name": "python3"
  },
  "language_info": {
   "codemirror_mode": {
    "name": "ipython",
    "version": 3
   },
   "file_extension": ".py",
   "mimetype": "text/x-python",
   "name": "python",
   "nbconvert_exporter": "python",
   "pygments_lexer": "ipython3",
   "version": "3.7.6"
  }
 },
 "nbformat": 4,
 "nbformat_minor": 4
}
