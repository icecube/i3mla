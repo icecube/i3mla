{
 "cells": [
  {
   "cell_type": "code",
   "execution_count": 2,
   "metadata": {},
   "outputs": [
    {
     "name": "stderr",
     "output_type": "stream",
     "text": [
      "/data/disk01/home/jasonfan/threeML/threeML/__init__.py:12: UserWarning: No DISPLAY variable set. Using backend for graphics without display (Agg)\n",
      "  warnings.warn(\"No DISPLAY variable set. Using backend for graphics without display (Agg)\")\n",
      "/data/disk01/home/jasonfan/miniconda3/envs/p3/lib/python3.6/site-packages/astromodels/core/parameter.py:555: UserWarning: We have set the min_value of K to 1e-99 because there was a postive transform\n",
      "  warnings.warn('We have set the min_value of %s to 1e-99 because there was a postive transform' % self.path)\n",
      "/data/disk01/home/jasonfan/miniconda3/envs/p3/lib/python3.6/site-packages/astromodels/core/parameter.py:555: UserWarning: We have set the min_value of xc to 1e-99 because there was a postive transform\n",
      "  warnings.warn('We have set the min_value of %s to 1e-99 because there was a postive transform' % self.path)\n",
      "\n",
      "Bad key \"text.kerning_factor\" on line 4 in\n",
      "/data/disk01/home/jasonfan/miniconda3/envs/p3/lib/python3.6/site-packages/matplotlib/mpl-data/stylelib/_classic_test_patch.mplstyle.\n",
      "You probably need to get an updated matplotlibrc file from\n",
      "http://github.com/matplotlib/matplotlib/blob/master/matplotlibrc.template\n",
      "or from the matplotlib source distribution\n",
      "\n",
      "WARNING UserWarning: Using default configuration from /data/disk01/home/jasonfan/threeML/threeML/data/threeML_config.yml. You might want to copy it to /data/disk01/home/jasonfan/.threeML/threeML_config.yml to customize it and avoid this warning.\n",
      "\n",
      "\n",
      "WARNING RuntimeWarning: numpy.ufunc size changed, may indicate binary incompatibility. Expected 192 from C header, got 216 from PyObject\n",
      "\n",
      "\n",
      "WARNING RuntimeWarning: numpy.ufunc size changed, may indicate binary incompatibility. Expected 192 from C header, got 216 from PyObject\n",
      "\n",
      "\n",
      "WARNING RuntimeWarning: numpy.ufunc size changed, may indicate binary incompatibility. Expected 192 from C header, got 216 from PyObject\n",
      "\n",
      "\n",
      "WARNING RuntimeWarning: numpy.ufunc size changed, may indicate binary incompatibility. Expected 192 from C header, got 216 from PyObject\n",
      "\n",
      "\n",
      "WARNING RuntimeWarning: numpy.ufunc size changed, may indicate binary incompatibility. Expected 192 from C header, got 216 from PyObject\n",
      "\n",
      "INFO:keyring.backend:Loading KWallet\n",
      "INFO:keyring.backend:Loading SecretService\n",
      "INFO:keyring.backend:Loading Windows\n",
      "INFO:keyring.backend:Loading chainer\n",
      "INFO:keyring.backend:Loading macOS\n",
      "\n",
      "WARNING RuntimeWarning: Env. variable OMP_NUM_THREADS is not set. Please set it to 1 for optimal performances in 3ML\n",
      "\n",
      "\n",
      "WARNING RuntimeWarning: Env. variable MKL_NUM_THREADS is not set. Please set it to 1 for optimal performances in 3ML\n",
      "\n",
      "\n",
      "WARNING RuntimeWarning: Env. variable NUMEXPR_NUM_THREADS is not set. Please set it to 1 for optimal performances in 3ML\n",
      "\n"
     ]
    }
   ],
   "source": [
    "from threeML import *\n",
    "import numpy as np\n",
    "from threeML.plugins import *\n",
    "from skylab.datasets import Datasets\n",
    "from astropy import units as u\n",
    "\n",
    "import os, sys, glob, abc\n",
    "\n",
    "def read(filelist):\n",
    "    data = []\n",
    "    for f in sorted(filelist):\n",
    "        x = np.load(f)\n",
    "        if len(data) == 0: data = x.copy()\n",
    "        else: data = np.concatenate([data, x])\n",
    "    return data\n",
    "\n",
    "# Where is the dataset stored?\n",
    "dataset = \"/data/i3store/users/mjlarson/student_data\"\n",
    "\n",
    "# Read in all of the data files\n",
    "data_files = dataset + \"/IC86_*exp.npy\"\n",
    "exp = read(glob.glob(data_files))\n",
    "\n",
    "# Read in all of the MC files \n",
    "sim_files = dataset + \"/IC86*MC*npy\"\n",
    "mc = read(glob.glob(sim_files))\n",
    "\n",
    "# Set the angular error floor to 0.2 degrees\n",
    "exp['angErr'][exp['angErr']<np.deg2rad(0.2)] = np.deg2rad(0.2)\n",
    "mc['angErr'][mc['angErr']<np.deg2rad(0.2)] = np.deg2rad(0.2)\n",
    "\n",
    "exp['ra']=np.random.uniform(0,2*np.pi,size=len(exp))\n",
    "grl = np.load(\"/data/i3store/users/mjlarson/student_data/GRL/IC86_2012_exp.npy\")\n",
    "livetime = np.sum(grl['livetime'])\n"
   ]
  },
  {
   "cell_type": "code",
   "execution_count": 3,
   "metadata": {},
   "outputs": [],
   "source": [
    "from imp import reload\n",
    "reload(IceCubeLike)\n",
    "\n",
    "import warnings\n",
    "warnings.filterwarnings(\"ignore\")\n",
    "\n",
    "IceCube=IceCubeLike.IceCubeLike(\"test\",exp,mc,livetime,sinDec_bins=np.linspace(-1,1,30))\n"
   ]
  },
  {
   "cell_type": "code",
   "execution_count": null,
   "metadata": {},
   "outputs": [],
   "source": []
  },
  {
   "cell_type": "code",
   "execution_count": 20,
   "metadata": {},
   "outputs": [],
   "source": [
    "from imp import reload\n",
    "reload(IceCubeLike)\n",
    "IceCube=IceCubeLike.IceCubeLike(\"test\",exp,mc,livetime,sinDec_bins=np.linspace(-1,1,30))\n",
    "source1_sp = Powerlaw()\n",
    "#source1_sp._set_units(u.GeV,u.cm**-2 / u.s / u.GeV)\n",
    "source1_sp.K=1e-13\n",
    "source1_neutrino = Powerlaw()\n",
    "source1_neutrino.K=1e-5\n",
    "#source1_sp._set_units(u.GeV,u.cm**-2 / u.s / u.GeV)\n",
    "source1 = PointSource(\"source1\", ra=83.63, dec=22.0145, spectral_shape=source1_sp)\n",
    "source1_nu = ParticleSource(\"source1_nu\",distribution_shape=source1_neutrino)\n",
    "model = Model(source1,source1_nu)\n",
    "IceCube.add_injection(sample)\n",
    "model.source1.spectrum.main.Powerlaw.K.fix = True\n",
    "model.source1.spectrum.main.Powerlaw.index.fix = True\n",
    "IceCubedata = DataList(IceCube)\n",
    "jl = JointLikelihood(model, IceCubedata)\n",
    "data=np.load(\"testdata.npy\")\n",
    "jl._data_list['test'].llh_model.update_data(data,10000/3600/24)\n"
   ]
  },
  {
   "cell_type": "code",
   "execution_count": 10,
   "metadata": {},
   "outputs": [
    {
     "name": "stdout",
     "output_type": "stream",
     "text": [
      "(5.358401543281786, 281.81179918256004)\n",
      "(5.372735879436477, 281.87003473291435)\n",
      "(5.344104746773082, 281.75349559062664)\n",
      "(5.384441463432468, 281.90918091233084)\n",
      "(5.332492645244867, 281.7142003968711)\n",
      "(489.0892525340704, nan)\n",
      "(6.699557804968598, 286.24116929407114)\n",
      "(6.724923497278665, 286.31454575081386)\n",
      "(6.674286012131392, 286.16761244387436)\n",
      "(6.725499164561616, 286.3092435815851)\n",
      "(6.673720535998488, 286.1729086269993)\n",
      "(37.789719300412, 236.21259808297611)\n",
      "(9.395889988663505, 291.709182529477)\n",
      "(9.427037351851729, 291.75579813147465)\n",
      "(9.364843593263476, 291.6623452969841)\n",
      "(9.42752927860215, 291.75000764230646)\n",
      "(9.36436113548744, 291.6681268386946)\n",
      "(21.599024685240575, 290.9083364289162)\n",
      "(13.862467130797022, 295.0645911821852)\n",
      "(13.898916677411306, 295.0730046942356)\n",
      "(13.82611132249715, 295.0559112515725)\n",
      "(13.88896851857708, 295.0707370384788)\n",
      "(13.836015330840663, 295.05830438988863)\n",
      "(13.89913438384907, 295.06761439273197)\n",
      "(13.825900467151827, 295.06129267478246)\n",
      "(13.888692355150388, 295.06678239735675)\n",
      "(13.8362934024253, 295.0622590310422)\n",
      "(15.190039670668346, 295.35304975392836)\n",
      "(15.646744843899322, 295.36573595051175)\n",
      "(15.676539497321658, 295.3618196480388)\n",
      "(15.617005699025178, 295.369475042893)\n",
      "(15.676234928611784, 295.35816629227656)\n",
      "(15.617312459728499, 295.3731280299733)\n",
      "(15.51210317973329, 295.576293492952)\n",
      "(15.021192690466039, 296.28275840784397)\n",
      "(14.083883643392618, 297.25193809720145)\n",
      "(13.838286456865328, 297.37055848451405)\n",
      "(13.723716584693022, 297.3936701635481)\n",
      "(13.74618975601299, 297.39958787609595)\n",
      "(13.701279295168694, 297.38765087442283)\n",
      "(13.745001804886993, 297.39892837265415)\n",
      "(13.702465741407556, 297.3883193845718)\n",
      "(14.853003876781612, 297.58819223151556)\n",
      "(14.995362943221968, 297.58946780792144)\n",
      "(15.024136843574292, 297.58936978190803)\n",
      "(14.966642813469367, 297.5894006360656)\n",
      "(15.023799381122444, 297.5894348514076)\n",
      "(14.96698265743123, 297.5893364762249)\n",
      "(14.982359018054558, 297.5901317204861)\n",
      "(14.97942215024217, 297.5901554385849)\n",
      "(15.006109124906608, 297.5901548820234)\n",
      "(14.95278148904988, 297.5900138691183)\n",
      "(15.00588865619764, 297.59015595135116)\n",
      "(14.953004342305285, 297.59001258503514)\n",
      "(14.97942215024217, 297.5901554385849)\n",
      "(15.006109124906608, 297.5901548820234)\n",
      "(14.95278148904988, 297.5900138691183)\n",
      "(15.00588865619764, 297.59015595135116)\n",
      "(14.953004342305285, 297.59001258503514)\n",
      "(14.984755837592935, 297.5901667129567)\n",
      "(14.974090315429983, 297.5901384791794)\n",
      "(14.98471155260529, 297.5901669452396)\n",
      "(14.974134695799325, 297.59013823830725)\n",
      "(15.032622782946241, 297.5900139416167)\n",
      "(14.97942215024217, 297.5901554385849)\n",
      "(15.236638502869557, 297.5842549253834)\n",
      "(14.726444606190833, 297.58304662075574)\n",
      "(15.006108822155674, 297.59015488283706)\n",
      "(14.952781790751223, 297.59001387152654)\n",
      "(15.2342822739989, 297.58426761261717)\n",
      "(14.729007108486899, 297.58304918147365)\n",
      "(15.005868172658413, 297.5901560060789)\n",
      "(14.953024750563852, 297.5900127503471)\n",
      "(14.97942215024217, 297.5901554385849)\n",
      "(15.006108822155674, 297.59015488283706)\n",
      "(14.952781790751223, 297.59001387152654)\n",
      "(15.005868172658413, 297.5901560060789)\n",
      "(14.953024750563852, 297.5900127503471)\n",
      "(14.984755777126583, 297.59016671286116)\n",
      "(14.974090375854285, 297.59013847940395)\n",
      "(14.984707461926856, 297.59016693854295)\n",
      "(14.974138783466518, 297.5901382538055)\n",
      "(15.032601959628602, 297.59001410833616)\n",
      "(14.97942215024217, 297.5901554385849)\n",
      "Best fit values:\n",
      "\n"
     ]
    },
    {
     "data": {
      "text/html": [
       "<div>\n",
       "<style scoped>\n",
       "    .dataframe tbody tr th:only-of-type {\n",
       "        vertical-align: middle;\n",
       "    }\n",
       "\n",
       "    .dataframe tbody tr th {\n",
       "        vertical-align: top;\n",
       "    }\n",
       "\n",
       "    .dataframe thead th {\n",
       "        text-align: right;\n",
       "    }\n",
       "</style>\n",
       "<table border=\"1\" class=\"dataframe\">\n",
       "  <thead>\n",
       "    <tr style=\"text-align: right;\">\n",
       "      <th></th>\n",
       "      <th>result</th>\n",
       "      <th>unit</th>\n",
       "    </tr>\n",
       "    <tr>\n",
       "      <th>parameter</th>\n",
       "      <th></th>\n",
       "      <th></th>\n",
       "    </tr>\n",
       "  </thead>\n",
       "  <tbody>\n",
       "    <tr>\n",
       "      <th>source1_nu.spectrum.main.Powerlaw.K</th>\n",
       "      <td>(2.0 -1.6 +6) x 10^-4</td>\n",
       "      <td>1 / keV</td>\n",
       "    </tr>\n",
       "    <tr>\n",
       "      <th>source1_nu.spectrum.main.Powerlaw.index</th>\n",
       "      <td>-2.20 +/- 0.15</td>\n",
       "      <td></td>\n",
       "    </tr>\n",
       "  </tbody>\n",
       "</table>\n",
       "</div>"
      ],
      "text/plain": [
       "                                                        result     unit\n",
       "parameter                                                              \n",
       "source1_nu.spectrum.main.Powerlaw.K      (2.0 -1.6 +6) x 10^-4  1 / keV\n",
       "source1_nu.spectrum.main.Powerlaw.index         -2.20 +/- 0.15         "
      ]
     },
     "metadata": {},
     "output_type": "display_data"
    },
    {
     "name": "stdout",
     "output_type": "stream",
     "text": [
      "\n",
      "Correlation matrix:\n",
      "\n"
     ]
    },
    {
     "data": {
      "text/html": [
       "<table id=\"table140041272073856\">\n",
       "<tr><td>1.00</td><td>-0.99</td></tr>\n",
       "<tr><td>-0.99</td><td>1.00</td></tr>\n",
       "</table>"
      ],
      "text/plain": [
       " 1.00 -0.99\n",
       "-0.99  1.00"
      ]
     },
     "metadata": {},
     "output_type": "display_data"
    },
    {
     "name": "stdout",
     "output_type": "stream",
     "text": [
      "\n",
      "Values of -log(likelihood) at the minimum:\n",
      "\n"
     ]
    },
    {
     "data": {
      "text/html": [
       "<div>\n",
       "<style scoped>\n",
       "    .dataframe tbody tr th:only-of-type {\n",
       "        vertical-align: middle;\n",
       "    }\n",
       "\n",
       "    .dataframe tbody tr th {\n",
       "        vertical-align: top;\n",
       "    }\n",
       "\n",
       "    .dataframe thead th {\n",
       "        text-align: right;\n",
       "    }\n",
       "</style>\n",
       "<table border=\"1\" class=\"dataframe\">\n",
       "  <thead>\n",
       "    <tr style=\"text-align: right;\">\n",
       "      <th></th>\n",
       "      <th>-log(likelihood)</th>\n",
       "    </tr>\n",
       "  </thead>\n",
       "  <tbody>\n",
       "    <tr>\n",
       "      <th>test</th>\n",
       "      <td>-297.590155</td>\n",
       "    </tr>\n",
       "    <tr>\n",
       "      <th>total</th>\n",
       "      <td>-297.590155</td>\n",
       "    </tr>\n",
       "  </tbody>\n",
       "</table>\n",
       "</div>"
      ],
      "text/plain": [
       "       -log(likelihood)\n",
       "test        -297.590155\n",
       "total       -297.590155"
      ]
     },
     "metadata": {},
     "output_type": "display_data"
    },
    {
     "name": "stdout",
     "output_type": "stream",
     "text": [
      "\n",
      "Values of statistical measures:\n",
      "\n"
     ]
    },
    {
     "data": {
      "text/html": [
       "<div>\n",
       "<style scoped>\n",
       "    .dataframe tbody tr th:only-of-type {\n",
       "        vertical-align: middle;\n",
       "    }\n",
       "\n",
       "    .dataframe tbody tr th {\n",
       "        vertical-align: top;\n",
       "    }\n",
       "\n",
       "    .dataframe thead th {\n",
       "        text-align: right;\n",
       "    }\n",
       "</style>\n",
       "<table border=\"1\" class=\"dataframe\">\n",
       "  <thead>\n",
       "    <tr style=\"text-align: right;\">\n",
       "      <th></th>\n",
       "      <th>statistical measures</th>\n",
       "    </tr>\n",
       "  </thead>\n",
       "  <tbody>\n",
       "    <tr>\n",
       "      <th>AIC</th>\n",
       "      <td>-597.180311</td>\n",
       "    </tr>\n",
       "    <tr>\n",
       "      <th>BIC</th>\n",
       "      <td>-595.180311</td>\n",
       "    </tr>\n",
       "  </tbody>\n",
       "</table>\n",
       "</div>"
      ],
      "text/plain": [
       "     statistical measures\n",
       "AIC           -597.180311\n",
       "BIC           -595.180311"
      ]
     },
     "metadata": {},
     "output_type": "display_data"
    }
   ],
   "source": [
    "best_fit_parameters, likelihood_values = jl.fit()"
   ]
  },
  {
   "cell_type": "code",
   "execution_count": 18,
   "metadata": {},
   "outputs": [
    {
     "data": {
      "text/html": [
       "Parameter K = 0.00020427588736511657 [1 / keV]\n",
       "(min_value = 1e-30, max_value = 1000.0, delta = 0.1, free = True)"
      ],
      "text/plain": [
       "Parameter K = 0.00020427588736511657 [1 / keV]\n",
       "(min_value = 1e-30, max_value = 1000.0, delta = 0.1, free = True)"
      ]
     },
     "execution_count": 18,
     "metadata": {},
     "output_type": "execute_result"
    }
   ],
   "source": [
    "jl.likelihood_model.source1_nu.spectrum.main.Powerlaw.K."
   ]
  },
  {
   "cell_type": "code",
   "execution_count": 6,
   "metadata": {},
   "outputs": [],
   "source": [
    "jl._data_list['test'].llh_model.update_spectrum(sp)\n",
    "x=np.linspace(0,jl._data_list['test'].llh_model.N,100)\n",
    "temp=[]\n",
    "for i in x:\n",
    "    temp.append(-jl._data_list['test'].llh_model.eval_llh_ns(i)[1])"
   ]
  },
  {
   "cell_type": "code",
   "execution_count": 7,
   "metadata": {},
   "outputs": [
    {
     "data": {
      "text/plain": [
       "[<matplotlib.lines.Line2D at 0x7f5de6db6c88>]"
      ]
     },
     "execution_count": 7,
     "metadata": {},
     "output_type": "execute_result"
    },
    {
     "data": {
      "image/png": "[encoded data removed]",
      "text/plain": [
       "<Figure size 432x288 with 1 Axes>"
      ]
     },
     "metadata": {
      "needs_background": "light"
     },
     "output_type": "display_data"
    }
   ],
   "source": [
    "%matplotlib inline\n",
    "from matplotlib import pyplot as plt, colors\n",
    "\n",
    "plt.plot(x,temp)"
   ]
  },
  {
   "cell_type": "code",
   "execution_count": null,
   "metadata": {},
   "outputs": [],
   "source": []
  },
  {
   "cell_type": "code",
   "execution_count": null,
   "metadata": {},
   "outputs": [],
   "source": []
  }
 ],
 "metadata": {
  "kernelspec": {
   "display_name": "i3",
   "language": "python",
   "name": "i3"
  },
  "language_info": {
   "codemirror_mode": {
    "name": "ipython",
    "version": 3
   },
   "file_extension": ".py",
   "mimetype": "text/x-python",
   "name": "python",
   "nbconvert_exporter": "python",
   "pygments_lexer": "ipython3",
   "version": "3.6.7"
  }
 },
 "nbformat": 4,
 "nbformat_minor": 4
}
