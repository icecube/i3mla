{
 "cells": [
  {
   "cell_type": "code",
   "execution_count": null,
   "metadata": {},
   "outputs": [],
   "source": [
    "from threeML import *\n",
    "import numpy as np\n",
    "from threeML.plugins import *\n",
    "from skylab.datasets import Datasets\n",
    "from astropy import units as u\n",
    "\n",
    "import os, sys, glob, abc\n",
    "\n",
    "def read(filelist):\n",
    "    data = []\n",
    "    for f in sorted(filelist):\n",
    "        x = np.load(f)\n",
    "        if len(data) == 0: data = x.copy()\n",
    "        else: data = np.concatenate([data, x])\n",
    "    return data\n",
    "\n",
    "# Where is the dataset stored?\n",
    "dataset = \"/data/i3store/users/mjlarson/student_data\"\n",
    "\n",
    "# Read in all of the data files\n",
    "data_files = dataset + \"/IC86_*exp.npy\"\n",
    "exp = read(glob.glob(data_files))\n",
    "\n",
    "# Read in all of the MC files \n",
    "sim_files = dataset + \"/IC86*MC*npy\"\n",
    "mc = read(glob.glob(sim_files))\n",
    "\n",
    "# Set the angular error floor to 0.2 degrees\n",
    "exp['angErr'][exp['angErr']<np.deg2rad(0.2)] = np.deg2rad(0.2)\n",
    "mc['angErr'][mc['angErr']<np.deg2rad(0.2)] = np.deg2rad(0.2)\n",
    "\n",
    "exp['ra']=np.random.uniform(0,2*np.pi,size=len(exp))\n",
    "grl = np.load(\"/data/i3store/users/mjlarson/student_data/GRL/IC86_2012_exp.npy\")\n",
    "livetime = np.sum(grl['livetime'])\n"
   ]
  },
  {
   "cell_type": "code",
   "execution_count": 6,
   "metadata": {},
   "outputs": [],
   "source": [
    "from imp import reload\n",
    "reload(IceCubeLike)\n",
    "\n",
    "import warnings\n",
    "warnings.filterwarnings(\"ignore\")\n",
    "\n",
    "IceCube=IceCubeLike.IceCubeLike(\"test\",exp,mc,livetime,sinDec_bins=np.linspace(-1,1,30))\n"
   ]
  },
  {
   "cell_type": "code",
   "execution_count": 7,
   "metadata": {},
   "outputs": [],
   "source": [
    "source1_sp = Powerlaw()\n",
    "#source1_sp._set_units(u.GeV,u.cm**-2 / u.s / u.GeV)\n",
    "source1_sp.K=1e-13\n",
    "source1_neutrino = Powerlaw()\n",
    "source1_neutrino.K=1e-10\n",
    "#source1_sp._set_units(u.GeV,u.cm**-2 / u.s / u.GeV)\n",
    "source1 = PointSource(\"source1\", ra=83.63, dec=22.0145, spectral_shape=source1_sp)\n",
    "source1_nu = ParticleSource(\"source1_nu\",distribution_shape=source1_neutrino)\n",
    "model = Model(source1,source1_nu)\n",
    "model.source1.spectrum.main.Powerlaw.K.fix = True\n",
    "model.source1.spectrum.main.Powerlaw.index.fix = True\n",
    "IceCubedata = DataList(IceCube)\n",
    "jl = JointLikelihood(model, IceCubedata)"
   ]
  },
  {
   "cell_type": "code",
   "execution_count": 8,
   "metadata": {},
   "outputs": [],
   "source": [
    "data = np.random.choice(exp, 100).copy()\n",
    "jl._data_list['test'].llh_model.update_data(data,10000/3600/24)"
   ]
  },
  {
   "cell_type": "code",
   "execution_count": 9,
   "metadata": {},
   "outputs": [
    {
     "name": "stdout",
     "output_type": "stream",
     "text": [
      "(4.917044499098152e-05, -9.834091416417109e-05)\n",
      "(4.939740904788845e-05, -9.879484250520143e-05)\n",
      "(4.894451768687511e-05, -9.78890593221156e-05)\n",
      "(5.148752625507201e-05, -0.00010297507901688864)\n",
      "(4.695705656405809e-05, -9.391413518030272e-05)\n",
      "(4.937199049553019e-05, -9.874400536779802e-05)\n",
      "(4.8969753498954676e-05, -9.793953097370294e-05)\n"
     ]
    },
    {
     "ename": "RuntimeError",
     "evalue": "exception was raised in user function\nUser function arguments:\n        source1_nu_spectrum_main_Powerlaw_K = -10.000000\n    source1_nu_spectrum_main_Powerlaw_index = -1.996000\nOriginal python exception in user function:\nKeyboardInterrupt: \n  File \"/data/disk01/home/jasonfan/threeML/threeML/classicMLE/joint_likelihood.py\", line 745, in minus_log_like_profile\n    this_log_like = dataset.inner_fit()\n  File \"/data/disk01/home/jasonfan/threeML/threeML/plugins/IceCubeLike.py\", line 129, in inner_fit\n    return self.get_log_like()\n  File \"/data/disk01/home/jasonfan/threeML/threeML/plugins/IceCubeLike.py\", line 123, in get_log_like\n    self.update_model()\n  File \"/data/disk01/home/jasonfan/threeML/threeML/plugins/IceCubeLike.py\", line 114, in update_model\n    self.llh_model.updata_spectrum(self.spectrum)\n  File \"/data/disk01/home/jasonfan/umd_icecube_analysis_tutorial/mla/mla/core.py\", line 110, in updata_spectrum\n    self.update_energy_histogram()\n  File \"/data/disk01/home/jasonfan/umd_icecube_analysis_tutorial/mla/mla/core.py\", line 150, in update_energy_histogram\n    sig_w/=np.sum(self.fullsim['ow'] * self.spectrum(self.fullsim['trueE']))\n",
     "output_type": "error",
     "traceback": [
      "\u001b[0;31m---------------------------------------------------------------------------\u001b[0m",
      "\u001b[0;31mRuntimeError\u001b[0m                              Traceback (most recent call last)",
      "\u001b[0;32m<ipython-input-9-e928e755a707>\u001b[0m in \u001b[0;36m<module>\u001b[0;34m\u001b[0m\n\u001b[0;32m----> 1\u001b[0;31m \u001b[0mbest_fit_parameters\u001b[0m\u001b[0;34m,\u001b[0m \u001b[0mlikelihood_values\u001b[0m \u001b[0;34m=\u001b[0m \u001b[0mjl\u001b[0m\u001b[0;34m.\u001b[0m\u001b[0mfit\u001b[0m\u001b[0;34m(\u001b[0m\u001b[0;34m)\u001b[0m\u001b[0;34m\u001b[0m\u001b[0;34m\u001b[0m\u001b[0m\n\u001b[0m",
      "\u001b[0;32m~/threeML/threeML/classicMLE/joint_likelihood.py\u001b[0m in \u001b[0;36mfit\u001b[0;34m(self, quiet, compute_covariance, n_samples)\u001b[0m\n\u001b[1;32m    265\u001b[0m             \u001b[0msys\u001b[0m\u001b[0;34m.\u001b[0m\u001b[0mstdout\u001b[0m\u001b[0;34m.\u001b[0m\u001b[0mflush\u001b[0m\u001b[0;34m(\u001b[0m\u001b[0;34m)\u001b[0m\u001b[0;34m\u001b[0m\u001b[0;34m\u001b[0m\u001b[0m\n\u001b[1;32m    266\u001b[0m \u001b[0;34m\u001b[0m\u001b[0m\n\u001b[0;32m--> 267\u001b[0;31m             \u001b[0mxs\u001b[0m\u001b[0;34m,\u001b[0m \u001b[0mlog_likelihood_minimum\u001b[0m \u001b[0;34m=\u001b[0m \u001b[0mself\u001b[0m\u001b[0;34m.\u001b[0m\u001b[0m_minimizer\u001b[0m\u001b[0;34m.\u001b[0m\u001b[0mminimize\u001b[0m\u001b[0;34m(\u001b[0m\u001b[0mcompute_covar\u001b[0m\u001b[0;34m=\u001b[0m\u001b[0mcompute_covariance\u001b[0m\u001b[0;34m)\u001b[0m\u001b[0;34m\u001b[0m\u001b[0;34m\u001b[0m\u001b[0m\n\u001b[0m\u001b[1;32m    268\u001b[0m \u001b[0;34m\u001b[0m\u001b[0m\n\u001b[1;32m    269\u001b[0m             \u001b[0;32mif\u001b[0m \u001b[0mlog_likelihood_minimum\u001b[0m \u001b[0;34m==\u001b[0m \u001b[0mminimization\u001b[0m\u001b[0;34m.\u001b[0m\u001b[0mFIT_FAILED\u001b[0m\u001b[0;34m:\u001b[0m\u001b[0;34m\u001b[0m\u001b[0;34m\u001b[0m\u001b[0m\n",
      "\u001b[0;32m~/threeML/threeML/minimizer/minimization.py\u001b[0m in \u001b[0;36mminimize\u001b[0;34m(self, compute_covar)\u001b[0m\n\u001b[1;32m    572\u001b[0m         \u001b[0;32mtry\u001b[0m\u001b[0;34m:\u001b[0m\u001b[0;34m\u001b[0m\u001b[0;34m\u001b[0m\u001b[0m\n\u001b[1;32m    573\u001b[0m \u001b[0;34m\u001b[0m\u001b[0m\n\u001b[0;32m--> 574\u001b[0;31m             \u001b[0minternal_best_fit_values\u001b[0m\u001b[0;34m,\u001b[0m \u001b[0mfunction_minimum\u001b[0m \u001b[0;34m=\u001b[0m \u001b[0mself\u001b[0m\u001b[0;34m.\u001b[0m\u001b[0m_minimize\u001b[0m\u001b[0;34m(\u001b[0m\u001b[0;34m)\u001b[0m\u001b[0;34m\u001b[0m\u001b[0;34m\u001b[0m\u001b[0m\n\u001b[0m\u001b[1;32m    575\u001b[0m \u001b[0;34m\u001b[0m\u001b[0m\n\u001b[1;32m    576\u001b[0m         \u001b[0;32mexcept\u001b[0m \u001b[0mFitFailed\u001b[0m\u001b[0;34m:\u001b[0m\u001b[0;34m\u001b[0m\u001b[0;34m\u001b[0m\u001b[0m\n",
      "\u001b[0;32m~/threeML/threeML/minimizer/minuit_minimizer.py\u001b[0m in \u001b[0;36m_minimize\u001b[0;34m(self)\u001b[0m\n\u001b[1;32m    217\u001b[0m         \u001b[0;31m# Try a maximum of 10 times and break as soon as the fit is ok\u001b[0m\u001b[0;34m\u001b[0m\u001b[0;34m\u001b[0m\u001b[0;34m\u001b[0m\u001b[0m\n\u001b[1;32m    218\u001b[0m \u001b[0;34m\u001b[0m\u001b[0m\n\u001b[0;32m--> 219\u001b[0;31m         \u001b[0mself\u001b[0m\u001b[0;34m.\u001b[0m\u001b[0m_last_migrad_results\u001b[0m \u001b[0;34m=\u001b[0m \u001b[0mself\u001b[0m\u001b[0;34m.\u001b[0m\u001b[0mminuit\u001b[0m\u001b[0;34m.\u001b[0m\u001b[0mmigrad\u001b[0m\u001b[0;34m(\u001b[0m\u001b[0mresume\u001b[0m\u001b[0;34m=\u001b[0m\u001b[0;32mFalse\u001b[0m\u001b[0;34m)\u001b[0m\u001b[0;34m\u001b[0m\u001b[0;34m\u001b[0m\u001b[0m\n\u001b[0m\u001b[1;32m    220\u001b[0m \u001b[0;34m\u001b[0m\u001b[0m\n\u001b[1;32m    221\u001b[0m         \u001b[0;32mfor\u001b[0m \u001b[0mi\u001b[0m \u001b[0;32min\u001b[0m \u001b[0mrange\u001b[0m\u001b[0;34m(\u001b[0m\u001b[0;36m9\u001b[0m\u001b[0;34m)\u001b[0m\u001b[0;34m:\u001b[0m\u001b[0;34m\u001b[0m\u001b[0;34m\u001b[0m\u001b[0m\n",
      "\u001b[0;32miminuit/_libiminuit.pyx\u001b[0m in \u001b[0;36miminuit._libiminuit.Minuit.migrad\u001b[0;34m()\u001b[0m\n",
      "\u001b[0;31mRuntimeError\u001b[0m: exception was raised in user function\nUser function arguments:\n        source1_nu_spectrum_main_Powerlaw_K = -10.000000\n    source1_nu_spectrum_main_Powerlaw_index = -1.996000\nOriginal python exception in user function:\nKeyboardInterrupt: \n  File \"/data/disk01/home/jasonfan/threeML/threeML/classicMLE/joint_likelihood.py\", line 745, in minus_log_like_profile\n    this_log_like = dataset.inner_fit()\n  File \"/data/disk01/home/jasonfan/threeML/threeML/plugins/IceCubeLike.py\", line 129, in inner_fit\n    return self.get_log_like()\n  File \"/data/disk01/home/jasonfan/threeML/threeML/plugins/IceCubeLike.py\", line 123, in get_log_like\n    self.update_model()\n  File \"/data/disk01/home/jasonfan/threeML/threeML/plugins/IceCubeLike.py\", line 114, in update_model\n    self.llh_model.updata_spectrum(self.spectrum)\n  File \"/data/disk01/home/jasonfan/umd_icecube_analysis_tutorial/mla/mla/core.py\", line 110, in updata_spectrum\n    self.update_energy_histogram()\n  File \"/data/disk01/home/jasonfan/umd_icecube_analysis_tutorial/mla/mla/core.py\", line 150, in update_energy_histogram\n    sig_w/=np.sum(self.fullsim['ow'] * self.spectrum(self.fullsim['trueE']))\n"
     ]
    }
   ],
   "source": [
    "best_fit_parameters, likelihood_values = jl.fit()"
   ]
  },
  {
   "cell_type": "code",
   "execution_count": 13,
   "metadata": {},
   "outputs": [],
   "source": [
    "from mla import injection\n",
    "from imp import reload\n",
    "reload(injection)\n",
    "reload(IceCubeLike)\n",
    "from mla.spectral import *\n",
    "sp= PowerLaw(1,1e-15,2)\n",
    "dec = 22.0145*np.pi/180\n",
    "ra = 83.63*np.pi/180\n",
    "inj = injection.PSinjector(sp,mc)\n",
    "inj.set_source_location(ra,dec)\n",
    "sample=inj.sample_nevents(100)\n",
    "IceCube=IceCubeLike.IceCubeLike(\"test\",exp,mc,livetime,sinDec_bins=np.linspace(-1,1,30))\n",
    "source1_sp = Powerlaw()\n",
    "#source1_sp._set_units(u.GeV,u.cm**-2 / u.s / u.GeV)\n",
    "source1_sp.K=1e-13\n",
    "source1_neutrino = Powerlaw()\n",
    "source1_neutrino.K=1e-5\n",
    "#source1_sp._set_units(u.GeV,u.cm**-2 / u.s / u.GeV)\n",
    "source1 = PointSource(\"source1\", ra=83.63, dec=22.0145, spectral_shape=source1_sp)\n",
    "source1_nu = ParticleSource(\"source1_nu\",distribution_shape=source1_neutrino)\n",
    "model = Model(source1,source1_nu)\n",
    "IceCube.add_injection(sample)\n",
    "model.source1.spectrum.main.Powerlaw.K.fix = True\n",
    "model.source1.spectrum.main.Powerlaw.index.fix = True\n",
    "IceCubedata = DataList(IceCube)\n",
    "jl = JointLikelihood(model, IceCubedata)\n",
    "data=np.load(\"testdata.npy\")"
   ]
  },
  {
   "cell_type": "code",
   "execution_count": 14,
   "metadata": {},
   "outputs": [],
   "source": [
    "jl._data_list['test'].llh_model.update_data(data,10000/3600/24)\n",
    "#jl._data_list['test'].llh_model.add_injection(sample)"
   ]
  },
  {
   "cell_type": "code",
   "execution_count": 15,
   "metadata": {},
   "outputs": [
    {
     "name": "stdout",
     "output_type": "stream",
     "text": [
      "(4.917044499098152, -10.414016610292125)\n",
      "(4.92837941321164, -10.439470984248207)\n",
      "(4.905735174371189, -10.38862687420419)\n",
      "(4.92025816313321, -10.4212326789354)\n",
      "(4.913832895348487, -10.406805745853783)\n",
      "(4.937199049553018, -10.45928187846076)\n",
      "(4.896975349895467, -10.368965755702453)\n",
      "(4.9201788350019005, -10.421054545932911)\n",
      "(4.913912236035355, -10.406983878845793)\n",
      "(0.8455421178065752, -1.7071736880148616)\n",
      "(1.0024083424545795, -2.0274833165276087)\n",
      "(0.5676491983081287, -1.1425197589475926)\n",
      "(0.2931025186222823, -0.5881224585297569)\n"
     ]
    },
    {
     "ename": "RuntimeError",
     "evalue": "exception was raised in user function\nUser function arguments:\n        source1_nu_spectrum_main_Powerlaw_K = -5.739770\n    source1_nu_spectrum_main_Powerlaw_index = -2.155848\nOriginal python exception in user function:\nKeyboardInterrupt: \n  File \"/data/disk01/home/jasonfan/threeML/threeML/classicMLE/joint_likelihood.py\", line 745, in minus_log_like_profile\n    this_log_like = dataset.inner_fit()\n  File \"/data/disk01/home/jasonfan/threeML/threeML/plugins/IceCubeLike.py\", line 129, in inner_fit\n    return self.get_log_like()\n  File \"/data/disk01/home/jasonfan/threeML/threeML/plugins/IceCubeLike.py\", line 123, in get_log_like\n    self.update_model()\n  File \"/data/disk01/home/jasonfan/threeML/threeML/plugins/IceCubeLike.py\", line 114, in update_model\n    self.llh_model.updata_spectrum(self.spectrum)\n  File \"/data/disk01/home/jasonfan/umd_icecube_analysis_tutorial/mla/mla/core.py\", line 110, in updata_spectrum\n    self.update_energy_histogram()\n  File \"/data/disk01/home/jasonfan/umd_icecube_analysis_tutorial/mla/mla/core.py\", line 150, in update_energy_histogram\n    sig_w/=np.sum(self.fullsim['ow'] * self.spectrum(self.fullsim['trueE']))\n  File \"/data/disk01/home/jasonfan/threeML/threeML/plugins/IceCubeLike.py\", line 34, in __call__\n    return self.model.get_particle_source_fluxes(id=0,energies=E)\n  File \"/data/disk01/home/jasonfan/miniconda3/envs/p3/lib/python3.6/site-packages/astromodels/core/model.py\", line 1064, in get_particle_source_fluxes\n    return list(self._particle_sources.values())[id](energies)\n  File \"/data/disk01/home/jasonfan/miniconda3/envs/p3/lib/python3.6/site-packages/astromodels/sources/particle_source.py\", line 68, in get_flux\n    results = [component.shape(energies) for component in list(self.components.values())]\n  File \"/data/disk01/home/jasonfan/miniconda3/envs/p3/lib/python3.6/site-packages/astromodels/sources/particle_source.py\", line 68, in <listcomp>\n    results = [component.shape(energies) for component in list(self.components.values())]\n  File \"/data/disk01/home/jasonfan/miniconda3/envs/p3/lib/python3.6/site-packages/astromodels/functions/function.py\", line 911, in __call__\n    return self.fast_call(x)\n  File \"/data/disk01/home/jasonfan/miniconda3/envs/p3/lib/python3.6/site-packages/astromodels/core/memoization.py\", line 58, in memoizer\n    return method(instance, x, *args, **kwargs)\n  File \"/data/disk01/home/jasonfan/miniconda3/envs/p3/lib/python3.6/site-packages/astromodels/functions/function.py\", line 986, in fast_call\n    return self.evaluate(x, *values)\n  File \"/data/disk01/home/jasonfan/miniconda3/envs/p3/lib/python3.6/site-packages/astromodels/functions/functions.py\", line 212, in evaluate\n    return K * np.power(xx, index)\n",
     "output_type": "error",
     "traceback": [
      "\u001b[0;31m---------------------------------------------------------------------------\u001b[0m",
      "\u001b[0;31mRuntimeError\u001b[0m                              Traceback (most recent call last)",
      "\u001b[0;32m<ipython-input-15-e928e755a707>\u001b[0m in \u001b[0;36m<module>\u001b[0;34m\u001b[0m\n\u001b[0;32m----> 1\u001b[0;31m \u001b[0mbest_fit_parameters\u001b[0m\u001b[0;34m,\u001b[0m \u001b[0mlikelihood_values\u001b[0m \u001b[0;34m=\u001b[0m \u001b[0mjl\u001b[0m\u001b[0;34m.\u001b[0m\u001b[0mfit\u001b[0m\u001b[0;34m(\u001b[0m\u001b[0;34m)\u001b[0m\u001b[0;34m\u001b[0m\u001b[0;34m\u001b[0m\u001b[0m\n\u001b[0m",
      "\u001b[0;32m~/threeML/threeML/classicMLE/joint_likelihood.py\u001b[0m in \u001b[0;36mfit\u001b[0;34m(self, quiet, compute_covariance, n_samples)\u001b[0m\n\u001b[1;32m    265\u001b[0m             \u001b[0msys\u001b[0m\u001b[0;34m.\u001b[0m\u001b[0mstdout\u001b[0m\u001b[0;34m.\u001b[0m\u001b[0mflush\u001b[0m\u001b[0;34m(\u001b[0m\u001b[0;34m)\u001b[0m\u001b[0;34m\u001b[0m\u001b[0;34m\u001b[0m\u001b[0m\n\u001b[1;32m    266\u001b[0m \u001b[0;34m\u001b[0m\u001b[0m\n\u001b[0;32m--> 267\u001b[0;31m             \u001b[0mxs\u001b[0m\u001b[0;34m,\u001b[0m \u001b[0mlog_likelihood_minimum\u001b[0m \u001b[0;34m=\u001b[0m \u001b[0mself\u001b[0m\u001b[0;34m.\u001b[0m\u001b[0m_minimizer\u001b[0m\u001b[0;34m.\u001b[0m\u001b[0mminimize\u001b[0m\u001b[0;34m(\u001b[0m\u001b[0mcompute_covar\u001b[0m\u001b[0;34m=\u001b[0m\u001b[0mcompute_covariance\u001b[0m\u001b[0;34m)\u001b[0m\u001b[0;34m\u001b[0m\u001b[0;34m\u001b[0m\u001b[0m\n\u001b[0m\u001b[1;32m    268\u001b[0m \u001b[0;34m\u001b[0m\u001b[0m\n\u001b[1;32m    269\u001b[0m             \u001b[0;32mif\u001b[0m \u001b[0mlog_likelihood_minimum\u001b[0m \u001b[0;34m==\u001b[0m \u001b[0mminimization\u001b[0m\u001b[0;34m.\u001b[0m\u001b[0mFIT_FAILED\u001b[0m\u001b[0;34m:\u001b[0m\u001b[0;34m\u001b[0m\u001b[0;34m\u001b[0m\u001b[0m\n",
      "\u001b[0;32m~/threeML/threeML/minimizer/minimization.py\u001b[0m in \u001b[0;36mminimize\u001b[0;34m(self, compute_covar)\u001b[0m\n\u001b[1;32m    572\u001b[0m         \u001b[0;32mtry\u001b[0m\u001b[0;34m:\u001b[0m\u001b[0;34m\u001b[0m\u001b[0;34m\u001b[0m\u001b[0m\n\u001b[1;32m    573\u001b[0m \u001b[0;34m\u001b[0m\u001b[0m\n\u001b[0;32m--> 574\u001b[0;31m             \u001b[0minternal_best_fit_values\u001b[0m\u001b[0;34m,\u001b[0m \u001b[0mfunction_minimum\u001b[0m \u001b[0;34m=\u001b[0m \u001b[0mself\u001b[0m\u001b[0;34m.\u001b[0m\u001b[0m_minimize\u001b[0m\u001b[0;34m(\u001b[0m\u001b[0;34m)\u001b[0m\u001b[0;34m\u001b[0m\u001b[0;34m\u001b[0m\u001b[0m\n\u001b[0m\u001b[1;32m    575\u001b[0m \u001b[0;34m\u001b[0m\u001b[0m\n\u001b[1;32m    576\u001b[0m         \u001b[0;32mexcept\u001b[0m \u001b[0mFitFailed\u001b[0m\u001b[0;34m:\u001b[0m\u001b[0;34m\u001b[0m\u001b[0;34m\u001b[0m\u001b[0m\n",
      "\u001b[0;32m~/threeML/threeML/minimizer/minuit_minimizer.py\u001b[0m in \u001b[0;36m_minimize\u001b[0;34m(self)\u001b[0m\n\u001b[1;32m    217\u001b[0m         \u001b[0;31m# Try a maximum of 10 times and break as soon as the fit is ok\u001b[0m\u001b[0;34m\u001b[0m\u001b[0;34m\u001b[0m\u001b[0;34m\u001b[0m\u001b[0m\n\u001b[1;32m    218\u001b[0m \u001b[0;34m\u001b[0m\u001b[0m\n\u001b[0;32m--> 219\u001b[0;31m         \u001b[0mself\u001b[0m\u001b[0;34m.\u001b[0m\u001b[0m_last_migrad_results\u001b[0m \u001b[0;34m=\u001b[0m \u001b[0mself\u001b[0m\u001b[0;34m.\u001b[0m\u001b[0mminuit\u001b[0m\u001b[0;34m.\u001b[0m\u001b[0mmigrad\u001b[0m\u001b[0;34m(\u001b[0m\u001b[0mresume\u001b[0m\u001b[0;34m=\u001b[0m\u001b[0;32mFalse\u001b[0m\u001b[0;34m)\u001b[0m\u001b[0;34m\u001b[0m\u001b[0;34m\u001b[0m\u001b[0m\n\u001b[0m\u001b[1;32m    220\u001b[0m \u001b[0;34m\u001b[0m\u001b[0m\n\u001b[1;32m    221\u001b[0m         \u001b[0;32mfor\u001b[0m \u001b[0mi\u001b[0m \u001b[0;32min\u001b[0m \u001b[0mrange\u001b[0m\u001b[0;34m(\u001b[0m\u001b[0;36m9\u001b[0m\u001b[0;34m)\u001b[0m\u001b[0;34m:\u001b[0m\u001b[0;34m\u001b[0m\u001b[0;34m\u001b[0m\u001b[0m\n",
      "\u001b[0;32miminuit/_libiminuit.pyx\u001b[0m in \u001b[0;36miminuit._libiminuit.Minuit.migrad\u001b[0;34m()\u001b[0m\n",
      "\u001b[0;31mRuntimeError\u001b[0m: exception was raised in user function\nUser function arguments:\n        source1_nu_spectrum_main_Powerlaw_K = -5.739770\n    source1_nu_spectrum_main_Powerlaw_index = -2.155848\nOriginal python exception in user function:\nKeyboardInterrupt: \n  File \"/data/disk01/home/jasonfan/threeML/threeML/classicMLE/joint_likelihood.py\", line 745, in minus_log_like_profile\n    this_log_like = dataset.inner_fit()\n  File \"/data/disk01/home/jasonfan/threeML/threeML/plugins/IceCubeLike.py\", line 129, in inner_fit\n    return self.get_log_like()\n  File \"/data/disk01/home/jasonfan/threeML/threeML/plugins/IceCubeLike.py\", line 123, in get_log_like\n    self.update_model()\n  File \"/data/disk01/home/jasonfan/threeML/threeML/plugins/IceCubeLike.py\", line 114, in update_model\n    self.llh_model.updata_spectrum(self.spectrum)\n  File \"/data/disk01/home/jasonfan/umd_icecube_analysis_tutorial/mla/mla/core.py\", line 110, in updata_spectrum\n    self.update_energy_histogram()\n  File \"/data/disk01/home/jasonfan/umd_icecube_analysis_tutorial/mla/mla/core.py\", line 150, in update_energy_histogram\n    sig_w/=np.sum(self.fullsim['ow'] * self.spectrum(self.fullsim['trueE']))\n  File \"/data/disk01/home/jasonfan/threeML/threeML/plugins/IceCubeLike.py\", line 34, in __call__\n    return self.model.get_particle_source_fluxes(id=0,energies=E)\n  File \"/data/disk01/home/jasonfan/miniconda3/envs/p3/lib/python3.6/site-packages/astromodels/core/model.py\", line 1064, in get_particle_source_fluxes\n    return list(self._particle_sources.values())[id](energies)\n  File \"/data/disk01/home/jasonfan/miniconda3/envs/p3/lib/python3.6/site-packages/astromodels/sources/particle_source.py\", line 68, in get_flux\n    results = [component.shape(energies) for component in list(self.components.values())]\n  File \"/data/disk01/home/jasonfan/miniconda3/envs/p3/lib/python3.6/site-packages/astromodels/sources/particle_source.py\", line 68, in <listcomp>\n    results = [component.shape(energies) for component in list(self.components.values())]\n  File \"/data/disk01/home/jasonfan/miniconda3/envs/p3/lib/python3.6/site-packages/astromodels/functions/function.py\", line 911, in __call__\n    return self.fast_call(x)\n  File \"/data/disk01/home/jasonfan/miniconda3/envs/p3/lib/python3.6/site-packages/astromodels/core/memoization.py\", line 58, in memoizer\n    return method(instance, x, *args, **kwargs)\n  File \"/data/disk01/home/jasonfan/miniconda3/envs/p3/lib/python3.6/site-packages/astromodels/functions/function.py\", line 986, in fast_call\n    return self.evaluate(x, *values)\n  File \"/data/disk01/home/jasonfan/miniconda3/envs/p3/lib/python3.6/site-packages/astromodels/functions/functions.py\", line 212, in evaluate\n    return K * np.power(xx, index)\n"
     ]
    }
   ],
   "source": [
    "\n",
    "x=np.linspace(0,jl._data_list['test'].llh_model.N)\n",
    "temp=[]\n",
    "for i in x:\n",
    "    temp.append(-jl._data_list['test'].llh_model.eval_llh_ns)"
   ]
  },
  {
   "cell_type": "code",
   "execution_count": null,
   "metadata": {},
   "outputs": [],
   "source": []
  },
  {
   "cell_type": "code",
   "execution_count": null,
   "metadata": {},
   "outputs": [],
   "source": []
  },
  {
   "cell_type": "code",
   "execution_count": null,
   "metadata": {},
   "outputs": [],
   "source": []
  }
 ],
 "metadata": {
  "kernelspec": {
   "display_name": "i3",
   "language": "python",
   "name": "i3"
  },
  "language_info": {
   "codemirror_mode": {
    "name": "ipython",
    "version": 3
   },
   "file_extension": ".py",
   "mimetype": "text/x-python",
   "name": "python",
   "nbconvert_exporter": "python",
   "pygments_lexer": "ipython3",
   "version": "3.6.7"
  }
 },
 "nbformat": 4,
 "nbformat_minor": 4
}
