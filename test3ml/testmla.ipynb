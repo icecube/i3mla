{
 "cells": [
  {
   "cell_type": "code",
   "execution_count": 1,
   "metadata": {},
   "outputs": [
    {
     "name": "stderr",
     "output_type": "stream",
     "text": [
      "\n",
      "Bad key \"text.kerning_factor\" on line 4 in\n",
      "/data/disk01/home/jasonfan/miniconda3/envs/p3/lib/python3.6/site-packages/matplotlib/mpl-data/stylelib/_classic_test_patch.mplstyle.\n",
      "You probably need to get an updated matplotlibrc file from\n",
      "http://github.com/matplotlib/matplotlib/blob/master/matplotlibrc.template\n",
      "or from the matplotlib source distribution\n"
     ]
    }
   ],
   "source": [
    "import numpy as np\n",
    "import os, sys, glob, abc\n",
    "%matplotlib inline\n",
    "from matplotlib import pyplot as plt, colors\n",
    "def read(filelist):\n",
    "    data = []\n",
    "    for f in sorted(filelist):\n",
    "        x = np.load(f)\n",
    "        if len(data) == 0: data = x.copy()\n",
    "        else: data = np.concatenate([data, x])\n",
    "    return data\n",
    "\n",
    "# Where is the dataset stored?\n",
    "dataset = \"/data/i3store/users/mjlarson/student_data\"\n",
    "\n",
    "# Read in all of the data files\n",
    "data_files = dataset + \"/IC86_*exp.npy\"\n",
    "data = read(glob.glob(data_files))\n",
    "\n",
    "# Read in all of the MC files \n",
    "sim_files = dataset + \"/IC86*MC*npy\"\n",
    "sim = read(glob.glob(sim_files))\n",
    "\n",
    "# Set the angular error floor to 0.2 degrees\n",
    "data['angErr'][data['angErr']<np.deg2rad(0.2)] = np.deg2rad(0.2)\n",
    "sim['angErr'][sim['angErr']<np.deg2rad(0.2)] = np.deg2rad(0.2)\n",
    "\n",
    "data['ra']=np.random.uniform(0,2*np.pi,size=len(data))"
   ]
  },
  {
   "cell_type": "code",
   "execution_count": 3,
   "metadata": {},
   "outputs": [
    {
     "name": "stderr",
     "output_type": "stream",
     "text": [
      "/data/disk01/home/jasonfan/threeML/threeML/__init__.py:12: UserWarning: No DISPLAY variable set. Using backend for graphics without display (Agg)\n",
      "  warnings.warn(\"No DISPLAY variable set. Using backend for graphics without display (Agg)\")\n",
      "/data/disk01/home/jasonfan/miniconda3/envs/p3/lib/python3.6/site-packages/astromodels/core/parameter.py:555: UserWarning: We have set the min_value of K to 1e-99 because there was a postive transform\n",
      "  warnings.warn('We have set the min_value of %s to 1e-99 because there was a postive transform' % self.path)\n",
      "/data/disk01/home/jasonfan/miniconda3/envs/p3/lib/python3.6/site-packages/astromodels/core/parameter.py:555: UserWarning: We have set the min_value of xc to 1e-99 because there was a postive transform\n",
      "  warnings.warn('We have set the min_value of %s to 1e-99 because there was a postive transform' % self.path)\n",
      "\n",
      "WARNING UserWarning: Using default configuration from /data/disk01/home/jasonfan/threeML/threeML/data/threeML_config.yml. You might want to copy it to /data/disk01/home/jasonfan/.threeML/threeML_config.yml to customize it and avoid this warning.\n",
      "\n",
      "\n",
      "WARNING RuntimeWarning: numpy.ufunc size changed, may indicate binary incompatibility. Expected 192 from C header, got 216 from PyObject\n",
      "\n",
      "INFO:keyring.backend:Loading KWallet\n",
      "INFO:keyring.backend:Loading SecretService\n",
      "INFO:keyring.backend:Loading Windows\n",
      "INFO:keyring.backend:Loading chainer\n",
      "INFO:keyring.backend:Loading macOS\n",
      "\n",
      "WARNING RuntimeWarning: Env. variable OMP_NUM_THREADS is not set. Please set it to 1 for optimal performances in 3ML\n",
      "\n",
      "\n",
      "WARNING RuntimeWarning: Env. variable MKL_NUM_THREADS is not set. Please set it to 1 for optimal performances in 3ML\n",
      "\n",
      "\n",
      "WARNING RuntimeWarning: Env. variable NUMEXPR_NUM_THREADS is not set. Please set it to 1 for optimal performances in 3ML\n",
      "\n"
     ]
    }
   ],
   "source": [
    "import mla.core\n",
    "from mla.spectral import *\n",
    "import threeML\n",
    "#sp= PowerLaw(1,1e-15,2)\n",
    "sp=threeML.Powerlaw()\n"
   ]
  },
  {
   "cell_type": "code",
   "execution_count": 4,
   "metadata": {},
   "outputs": [],
   "source": [
    "from mla.spectral import *\n",
    "from mla import injection\n",
    "sp= PowerLaw(1,1e-15,2)\n",
    "dec = 22.0145*np.pi/180\n",
    "ra = 83.63*np.pi/180\n",
    "inj = injection.PSinjector(sp,sim)\n",
    "inj.set_source_location(ra,dec)\n",
    "sample=inj.sample_nevents(15)\n",
    "background = np.random.choice(data, 30).copy()\n",
    "background['time']=0.5"
   ]
  },
  {
   "cell_type": "code",
   "execution_count": 5,
   "metadata": {},
   "outputs": [
    {
     "data": {
      "text/plain": [
       "array([21.79288505, 22.04000879, 21.55584384, 21.57397131, 21.09150297,\n",
       "       22.08663683, 21.9866074 , 22.82114075, 22.10406364, 22.01687756,\n",
       "       22.52742871, 21.87872226, 22.72580831, 23.62963202, 22.68719934])"
      ]
     },
     "execution_count": 5,
     "metadata": {},
     "output_type": "execute_result"
    }
   ],
   "source": [
    "sample['dec']*180/np.pi"
   ]
  },
  {
   "cell_type": "code",
   "execution_count": 6,
   "metadata": {},
   "outputs": [],
   "source": [
    "import numpy.lib.recfunctions as rf\n",
    "sample = rf.drop_fields(sample, [n for n in sample.dtype.names \\\n",
    "     if not n in background.dtype.names])\n",
    "injected = np.concatenate([background,sample])\n",
    "np.save(\"testdata.npy\",injected)"
   ]
  },
  {
   "cell_type": "code",
   "execution_count": null,
   "metadata": {},
   "outputs": [],
   "source": [
    "from imp import reload\n",
    "import scipy.optimize\n",
    "reload(mla.core)\n",
    "#sp.K=1e-8\n",
    "#sp.index=-2\n",
    "sp= PowerLaw(1,1e-15,2)\n",
    "testdata=np.load(\"testdata.npy\")\n",
    "import warnings\n",
    "warnings.filterwarnings(\"ignore\")\n",
    "test=mla.core.LLH_point_source(np.radians(83.63) ,np.radians(22.0145) , data , sim , 300 , sp)\n",
    "test.update_data(testdata,1000/3600/24)\n",
    "#test.add_injection(sample)\n"
   ]
  },
  {
   "cell_type": "code",
   "execution_count": null,
   "metadata": {},
   "outputs": [],
   "source": [
    "def fit(ns):\n",
    "    return -test.eval_llh_ns(ns)[1]\n",
    "result=scipy.optimize.minimize(fit,5,bounds=[(0,test.N)])"
   ]
  },
  {
   "cell_type": "code",
   "execution_count": null,
   "metadata": {},
   "outputs": [],
   "source": [
    "result"
   ]
  },
  {
   "cell_type": "code",
   "execution_count": null,
   "metadata": {},
   "outputs": [],
   "source": [
    "x=np.linspace(0,test.N,100)\n",
    "temp=[]\n",
    "ns_true = (testdata['run']>200000).sum()\n",
    "for i in x:\n",
    "    temp.append(fit(i))"
   ]
  },
  {
   "cell_type": "code",
   "execution_count": null,
   "metadata": {},
   "outputs": [],
   "source": [
    "%matplotlib inline\n",
    "from matplotlib import pyplot as plt, colors\n",
    "fig, ax = plt.subplots(figsize=(10,6))\n",
    "ax.axvline(result.x,\n",
    "            color='b',\n",
    "           linewidth=3,\n",
    "            label = 'Best fit from scipy')\n",
    "ax.axvline(ns_true,\n",
    "            color='k',\n",
    "           linewidth=3,\n",
    "            label = 'True number of signal events')\n",
    "ax.plot(x,temp,label = 'gamma '+str(-2))\n",
    "ax.grid(alpha=0.3)\n",
    "ax.set_xlim(0, len(testdata))\n",
    "ax.legend(fontsize=16,)\n",
    "ax.set_xlabel(\"ns\", fontsize=16)\n",
    "ax.set_ylabel(\"TS\", fontsize=16)\n",
    "ax.tick_params(which='both', labelsize=16)\n",
    "ax.set_title(\"Result from mla\", fontsize=24)"
   ]
  },
  {
   "cell_type": "code",
   "execution_count": null,
   "metadata": {},
   "outputs": [],
   "source": [
    "bins = np.array([np.linspace(-1, 1, 300), # bins for sin(dec)\n",
    "                 np.linspace(1, 8, 100)]) # bins for logE\n",
    "\n",
    "\n",
    "# And draw it.\n",
    "fig, ax = plt.subplots(figsize=(11,6))\n",
    "cmesh = ax.pcolormesh(bins[0], bins[1],\n",
    "                      test.ratio.T,\n",
    "                      cmap = 'RdBu',\n",
    "                      norm=colors.LogNorm(),\n",
    "                      vmin=1e-2,\n",
    "                      vmax=1e2)\n",
    "cbar = plt.colorbar(cmesh, ax=ax)\n",
    "\n",
    "ax.grid(alpha=0.2)\n",
    "ax.set_xlabel(\"Log(E)\", fontsize=16)\n",
    "ax.set_ylabel(r\"sin($\\delta$)\", fontsize=16)\n",
    "ax.tick_params(which='both', labelsize=14)\n",
    "cbar.ax.set_ylabel(\"Signal/Background\", fontsize=16)\n",
    "cbar.ax.tick_params(labelsize=14)"
   ]
  },
  {
   "cell_type": "code",
   "execution_count": null,
   "metadata": {},
   "outputs": [],
   "source": [
    "test.spatial"
   ]
  },
  {
   "cell_type": "code",
   "execution_count": null,
   "metadata": {},
   "outputs": [],
   "source": [
    "testdata['dec']*180/np.pi"
   ]
  },
  {
   "cell_type": "code",
   "execution_count": null,
   "metadata": {},
   "outputs": [],
   "source": []
  }
 ],
 "metadata": {
  "kernelspec": {
   "display_name": "i3",
   "language": "python",
   "name": "i3"
  },
  "language_info": {
   "codemirror_mode": {
    "name": "ipython",
    "version": 3
   },
   "file_extension": ".py",
   "mimetype": "text/x-python",
   "name": "python",
   "nbconvert_exporter": "python",
   "pygments_lexer": "ipython3",
   "version": "3.6.7"
  }
 },
 "nbformat": 4,
 "nbformat_minor": 4
}
