{
 "cells": [
  {
   "cell_type": "code",
   "execution_count": 1,
   "metadata": {},
   "outputs": [
    {
     "name": "stderr",
     "output_type": "stream",
     "text": [
      "\n",
      "Bad key \"text.kerning_factor\" on line 4 in\n",
      "/data/disk01/home/jasonfan/miniconda3/envs/p3/lib/python3.6/site-packages/matplotlib/mpl-data/stylelib/_classic_test_patch.mplstyle.\n",
      "You probably need to get an updated matplotlibrc file from\n",
      "http://github.com/matplotlib/matplotlib/blob/master/matplotlibrc.template\n",
      "or from the matplotlib source distribution\n",
      "/data/disk01/home/jasonfan/threeML/threeML/__init__.py:12: UserWarning: No DISPLAY variable set. Using backend for graphics without display (Agg)\n",
      "  warnings.warn(\"No DISPLAY variable set. Using backend for graphics without display (Agg)\")\n",
      "/data/disk01/home/jasonfan/miniconda3/envs/p3/lib/python3.6/site-packages/astromodels/core/parameter.py:555: UserWarning: We have set the min_value of K to 1e-99 because there was a postive transform\n",
      "  warnings.warn('We have set the min_value of %s to 1e-99 because there was a postive transform' % self.path)\n",
      "/data/disk01/home/jasonfan/miniconda3/envs/p3/lib/python3.6/site-packages/astromodels/core/parameter.py:555: UserWarning: We have set the min_value of xc to 1e-99 because there was a postive transform\n",
      "  warnings.warn('We have set the min_value of %s to 1e-99 because there was a postive transform' % self.path)\n",
      "\n",
      "WARNING UserWarning: Using default configuration from /data/disk01/home/jasonfan/threeML/threeML/data/threeML_config.yml. You might want to copy it to /data/disk01/home/jasonfan/.threeML/threeML_config.yml to customize it and avoid this warning.\n",
      "\n",
      "\n",
      "WARNING RuntimeWarning: numpy.ufunc size changed, may indicate binary incompatibility. Expected 192 from C header, got 216 from PyObject\n",
      "\n",
      "INFO:keyring.backend:Loading KWallet\n",
      "INFO:keyring.backend:Loading SecretService\n",
      "INFO:keyring.backend:Loading Windows\n",
      "INFO:keyring.backend:Loading chainer\n",
      "INFO:keyring.backend:Loading macOS\n",
      "\n",
      "WARNING RuntimeWarning: Env. variable OMP_NUM_THREADS is not set. Please set it to 1 for optimal performances in 3ML\n",
      "\n",
      "\n",
      "WARNING RuntimeWarning: Env. variable MKL_NUM_THREADS is not set. Please set it to 1 for optimal performances in 3ML\n",
      "\n",
      "\n",
      "WARNING RuntimeWarning: Env. variable NUMEXPR_NUM_THREADS is not set. Please set it to 1 for optimal performances in 3ML\n",
      "\n",
      "\n",
      "WARNING RuntimeWarning: numpy.ufunc size changed, may indicate binary incompatibility. Expected 192 from C header, got 216 from PyObject\n",
      "\n",
      "\n",
      "WARNING RuntimeWarning: numpy.ufunc size changed, may indicate binary incompatibility. Expected 192 from C header, got 216 from PyObject\n",
      "\n",
      "\n",
      "WARNING RuntimeWarning: numpy.ufunc size changed, may indicate binary incompatibility. Expected 192 from C header, got 216 from PyObject\n",
      "\n",
      "\n",
      "WARNING RuntimeWarning: numpy.ufunc size changed, may indicate binary incompatibility. Expected 192 from C header, got 216 from PyObject\n",
      "\n"
     ]
    }
   ],
   "source": [
    "%matplotlib inline\n",
    "import matplotlib.pyplot as plt\n",
    "from threeML import *\n",
    "import numpy as np\n",
    "from threeML.plugins import *\n",
    "from skylab.datasets import Datasets\n",
    "from astropy import units as u\n",
    "\n",
    "import os, sys, glob, abc\n",
    "\n",
    "def read(filelist):\n",
    "    data = []\n",
    "    for f in sorted(filelist):\n",
    "        x = np.load(f)\n",
    "        if len(data) == 0: data = x.copy()\n",
    "        else: data = np.concatenate([data, x])\n",
    "    return data\n",
    "\n",
    "# Where is the dataset stored?\n",
    "dataset = \"/data/i3store/users/mjlarson/student_data\"\n",
    "\n",
    "# Read in all of the data files\n",
    "data_files = dataset + \"/IC86_*exp.npy\"\n",
    "exp = read(glob.glob(data_files))\n",
    "\n",
    "# Read in all of the MC files \n",
    "sim_files = dataset + \"/IC86*MC*npy\"\n",
    "mc = read(glob.glob(sim_files))\n",
    "\n",
    "# Set the angular error floor to 0.2 degrees\n",
    "#exp['angErr'][exp['angErr']<np.deg2rad(0.2)] = np.deg2rad(0.2)\n",
    "#mc['angErr'][mc['angErr']<np.deg2rad(0.2)] = np.deg2rad(0.2)\n",
    "\n",
    "exp['ra']=np.random.uniform(0,2*np.pi,size=len(exp))\n",
    "grl = np.load(\"/data/i3store/users/mjlarson/student_data/GRL/IC86_2012_exp.npy\")\n",
    "livetime = np.sum(grl['livetime'])\n"
   ]
  },
  {
   "cell_type": "code",
   "execution_count": 2,
   "metadata": {},
   "outputs": [],
   "source": [
    "from imp import reload\n",
    "reload(IceCubeLike)\n",
    "\n",
    "import warnings\n",
    "warnings.filterwarnings(\"ignore\")\n",
    "#data = np.random.choice(exp, 10000).copy()\n",
    "#jl._data_list['test'].llh_model.update_data(data)\n",
    "IceCube=IceCubeLike.IceCubeLike(\"test\",exp,mc,exp,verbose=True,background_time_profile= (56224,56324),sampling_width=np.radians(1))\n",
    "del mc"
   ]
  },
  {
   "cell_type": "code",
   "execution_count": 12,
   "metadata": {},
   "outputs": [],
   "source": [
    "source1_sp = Powerlaw()\n",
    "#source1_sp._set_units(u.GeV,u.cm**-2 / u.s / u.GeV)\n",
    "source1_sp.K=1e-13\n",
    "source1_neutrino = Powerlaw()\n",
    "source1_neutrino._set_units(u.GeV,u.cm**-2 / u.s / u.GeV)\n",
    "source1_neutrino.piv=1000\n",
    "source1_neutrino.K=1e-13\n",
    "source1_neutrino.index=-2\n",
    "#source1_sp._set_units(u.GeV,u.cm**-2 / u.s / u.GeV)\n",
    "source1 = PointSource(\"source1\", ra=83.63, dec=22.0145, spectral_shape=source1_sp)\n",
    "source1_nu = IceCubeLike.NeutrinoPointSource(\"source1_nu\",ra=83.63, dec=22.0145,spectral_shape=source1_neutrino,energy_unit=u.GeV)\n",
    "\n",
    "model = Model(source1,source1_nu)\n",
    "model.source1.spectrum.main.Powerlaw.K.fix = True\n",
    "model.source1.spectrum.main.Powerlaw.index.fix = True\n",
    "model.source1_nu.spectrum.main.Powerlaw.K.bounds = (1e-30, 1e-5)\n",
    "model.source1_nu.spectrum.main.Powerlaw.index.bounds = (-4, -1)\n",
    "#IceCube.set_model(model)\n",
    "IceCubedata = DataList(IceCube)\n",
    "jl = JointLikelihood(model, IceCubedata)"
   ]
  },
  {
   "cell_type": "code",
   "execution_count": 13,
   "metadata": {},
   "outputs": [],
   "source": [
    "test=IceCubeLike.sensitivity(jl)"
   ]
  },
  {
   "cell_type": "code",
   "execution_count": 16,
   "metadata": {},
   "outputs": [],
   "source": [
    "test.set_backround(grl,model ,time_window=100,start_time=56224)"
   ]
  },
  {
   "cell_type": "code",
   "execution_count": 17,
   "metadata": {},
   "outputs": [],
   "source": [
    "import mla \n",
    "basespectrum = mla.spectral.PowerLaw(1e3 , 1 , -2)\n",
    "test.set_injection(background_time_profile = (56224,56324))"
   ]
  },
  {
   "cell_type": "code",
   "execution_count": 22,
   "metadata": {},
   "outputs": [],
   "source": [
    "import numpy.lib.recfunctions as rf\n",
    "basespectrum = mla.spectral.PowerLaw(1e3 , 1 , -2)\n",
    "basespectrum.A=2e-13\n",
    "test.PS_injector.update_spectrum(basespectrum)\n",
    "#test.jl_value.llh_model.update_spectrum(basespectrum)\n",
    "testdata=test.draw_data()\n",
    "sample=test.draw_signal()\n",
    "sample = rf.drop_fields(sample, [n for n in sample.dtype.names \\\n",
    "                       if not n in testdata.dtype.names])\n",
    "testdata=np.concatenate([testdata,sample])\n",
    "#test.jl_value.llh_model.update_data(test.draw_data())\n",
    "#test.jl_value.llh_model.modify_injection(test.draw_signal())\n",
    "#np.save(\"test3.npy\",testdata)\n",
    "#testdata=np.load(\"test.npy\")\n",
    "test.jl_value.llh_model.update_data(testdata)"
   ]
  },
  {
   "cell_type": "code",
   "execution_count": 23,
   "metadata": {},
   "outputs": [
    {
     "data": {
      "text/plain": [
       "87"
      ]
     },
     "execution_count": 23,
     "metadata": {},
     "output_type": "execute_result"
    }
   ],
   "source": [
    "(test.jl_value.llh_model.data[\"run\"]>1000000).sum()"
   ]
  },
  {
   "cell_type": "code",
   "execution_count": 24,
   "metadata": {},
   "outputs": [
    {
     "name": "stdout",
     "output_type": "stream",
     "text": [
      "(60.08652737152272, 230.60734415449474)\n",
      "(60.44000812548757, 230.7259247167075)\n",
      "(59.73507633531404, 230.48575212295083)\n",
      "(60.15398897749584, 230.63026164000155)\n",
      "(60.01914004008842, 230.58431646879004)\n",
      "(60.11006124251696, 230.60626735539597)\n",
      "(60.063054970075854, 230.60838390838418)\n",
      "(60.127155869514496, 230.60546370647302)\n",
      "(60.04608173073746, 230.60911440173163)\n",
      "(75.0669238705086, 233.0391764749725)\n",
      "(75.15128105088056, 233.0367867333146)\n",
      "(74.98265960269944, 233.04141797435318)\n",
      "(75.11474496368754, 233.02231163905185)\n",
      "(75.01932509858675, 233.05586243510731)\n",
      "(75.53593728973856, 234.04154117283235)\n",
      "(76.12139593154403, 234.13760383852764)\n",
      "(76.29091974853911, 234.142523482484)\n",
      "(76.36527834838486, 234.1393297076413)\n",
      "(76.2166321800861, 234.14560338538217)\n",
      "(76.30902226987416, 234.14089479862278)\n",
      "(76.27291917295705, 234.1440888307685)\n",
      "(73.955811396002, 234.18860152989436)\n",
      "(74.19853926397053, 234.18918256986467)\n",
      "(74.27026833652364, 234.18919780975165)\n",
      "(74.12687815643292, 234.18905921760643)\n",
      "(74.22137713042771, 234.18845795301823)\n",
      "(74.17587518107459, 234.18980540899128)\n",
      "(74.2519144622238, 234.19181480146645)\n",
      "(74.26927794530305, 234.19196876775857)\n",
      "(74.34232150053828, 234.19190173775894)\n",
      "(74.19630480010446, 234.19192376577348)\n",
      "(74.29187642467438, 234.1919065234519)\n",
      "(74.24686729017587, 234.19192274856292)\n",
      "(74.26927794530305, 234.19196876775857)\n",
      "(74.34232150053828, 234.19190173775894)\n",
      "(74.19630480010446, 234.19192376577348)\n",
      "(74.29187642467438, 234.1919065234519)\n",
      "(74.24686729017587, 234.19192274856292)\n",
      "(74.28388102142098, 234.19196432870098)\n",
      "(74.25467768558629, 234.19196872552953)\n",
      "(74.27378259895626, 234.1919649995938)\n",
      "(74.26478080461332, 234.19196820538687)\n",
      "(74.36494220542899, 234.19180129066595)\n",
      "(74.26927794530305, 234.19196876775857)\n",
      "(74.34711728127107, 234.19189341861926)\n",
      "(74.19151856357972, 234.1919168987789)\n",
      "(74.293798083619, 234.1918962644146)\n",
      "(74.24497877684283, 234.1919139021403)\n",
      "(74.26927794530305, 234.19196876775857)\n",
      "(74.34711728127107, 234.19189341861926)\n",
      "(74.19151856357972, 234.1919168987789)\n",
      "(74.293798083619, 234.1918962644146)\n",
      "(74.24497877684283, 234.1919139021403)\n",
      "(74.28483941358516, 234.19196388068275)\n",
      "(74.25371967519179, 234.1919685661012)\n",
      "(74.27416427460122, 234.19196448164303)\n",
      "(74.26440045479045, 234.19196795912092)\n",
      "(74.3716631183865, 234.19177674216533)\n",
      "(74.26927794530305, 234.19196876775857)\n",
      "Best fit values:\n",
      "\n"
     ]
    },
    {
     "data": {
      "text/html": [
       "<div>\n",
       "<style scoped>\n",
       "    .dataframe tbody tr th:only-of-type {\n",
       "        vertical-align: middle;\n",
       "    }\n",
       "\n",
       "    .dataframe tbody tr th {\n",
       "        vertical-align: top;\n",
       "    }\n",
       "\n",
       "    .dataframe thead th {\n",
       "        text-align: right;\n",
       "    }\n",
       "</style>\n",
       "<table border=\"1\" class=\"dataframe\">\n",
       "  <thead>\n",
       "    <tr style=\"text-align: right;\">\n",
       "      <th></th>\n",
       "      <th>result</th>\n",
       "      <th>unit</th>\n",
       "    </tr>\n",
       "    <tr>\n",
       "      <th>parameter</th>\n",
       "      <th></th>\n",
       "      <th></th>\n",
       "    </tr>\n",
       "  </thead>\n",
       "  <tbody>\n",
       "    <tr>\n",
       "      <th>source1_nu.spectrum.main.Powerlaw.K</th>\n",
       "      <td>(9.9 -0.9 +1.0) x 10^-19</td>\n",
       "      <td>1 / (cm2 keV s)</td>\n",
       "    </tr>\n",
       "    <tr>\n",
       "      <th>source1_nu.spectrum.main.Powerlaw.index</th>\n",
       "      <td>-3.08 +/- 0.11</td>\n",
       "      <td></td>\n",
       "    </tr>\n",
       "  </tbody>\n",
       "</table>\n",
       "</div>"
      ],
      "text/plain": [
       "                                                           result  \\\n",
       "parameter                                                           \n",
       "source1_nu.spectrum.main.Powerlaw.K      (9.9 -0.9 +1.0) x 10^-19   \n",
       "source1_nu.spectrum.main.Powerlaw.index            -3.08 +/- 0.11   \n",
       "\n",
       "                                                    unit  \n",
       "parameter                                                 \n",
       "source1_nu.spectrum.main.Powerlaw.K      1 / (cm2 keV s)  \n",
       "source1_nu.spectrum.main.Powerlaw.index                   "
      ]
     },
     "metadata": {},
     "output_type": "display_data"
    },
    {
     "name": "stdout",
     "output_type": "stream",
     "text": [
      "\n",
      "Correlation matrix:\n",
      "\n"
     ]
    },
    {
     "data": {
      "text/html": [
       "<table id=\"table140555006807232\">\n",
       "<tr><td>1.00</td><td>-0.35</td></tr>\n",
       "<tr><td>-0.35</td><td>1.00</td></tr>\n",
       "</table>"
      ],
      "text/plain": [
       " 1.00 -0.35\n",
       "-0.35  1.00"
      ]
     },
     "metadata": {},
     "output_type": "display_data"
    },
    {
     "name": "stdout",
     "output_type": "stream",
     "text": [
      "\n",
      "Values of -log(likelihood) at the minimum:\n",
      "\n"
     ]
    },
    {
     "data": {
      "text/html": [
       "<div>\n",
       "<style scoped>\n",
       "    .dataframe tbody tr th:only-of-type {\n",
       "        vertical-align: middle;\n",
       "    }\n",
       "\n",
       "    .dataframe tbody tr th {\n",
       "        vertical-align: top;\n",
       "    }\n",
       "\n",
       "    .dataframe thead th {\n",
       "        text-align: right;\n",
       "    }\n",
       "</style>\n",
       "<table border=\"1\" class=\"dataframe\">\n",
       "  <thead>\n",
       "    <tr style=\"text-align: right;\">\n",
       "      <th></th>\n",
       "      <th>-log(likelihood)</th>\n",
       "    </tr>\n",
       "  </thead>\n",
       "  <tbody>\n",
       "    <tr>\n",
       "      <th>test</th>\n",
       "      <td>-234.191969</td>\n",
       "    </tr>\n",
       "    <tr>\n",
       "      <th>total</th>\n",
       "      <td>-234.191969</td>\n",
       "    </tr>\n",
       "  </tbody>\n",
       "</table>\n",
       "</div>"
      ],
      "text/plain": [
       "       -log(likelihood)\n",
       "test        -234.191969\n",
       "total       -234.191969"
      ]
     },
     "metadata": {},
     "output_type": "display_data"
    },
    {
     "name": "stdout",
     "output_type": "stream",
     "text": [
      "\n",
      "Values of statistical measures:\n",
      "\n"
     ]
    },
    {
     "data": {
      "text/html": [
       "<div>\n",
       "<style scoped>\n",
       "    .dataframe tbody tr th:only-of-type {\n",
       "        vertical-align: middle;\n",
       "    }\n",
       "\n",
       "    .dataframe tbody tr th {\n",
       "        vertical-align: top;\n",
       "    }\n",
       "\n",
       "    .dataframe thead th {\n",
       "        text-align: right;\n",
       "    }\n",
       "</style>\n",
       "<table border=\"1\" class=\"dataframe\">\n",
       "  <thead>\n",
       "    <tr style=\"text-align: right;\">\n",
       "      <th></th>\n",
       "      <th>statistical measures</th>\n",
       "    </tr>\n",
       "  </thead>\n",
       "  <tbody>\n",
       "    <tr>\n",
       "      <th>AIC</th>\n",
       "      <td>-470.383938</td>\n",
       "    </tr>\n",
       "    <tr>\n",
       "      <th>BIC</th>\n",
       "      <td>-468.383938</td>\n",
       "    </tr>\n",
       "  </tbody>\n",
       "</table>\n",
       "</div>"
      ],
      "text/plain": [
       "     statistical measures\n",
       "AIC           -470.383938\n",
       "BIC           -468.383938"
      ]
     },
     "metadata": {},
     "output_type": "display_data"
    },
    {
     "data": {
      "text/plain": [
       "(                                                value  negative_error  \\\n",
       " source1_nu.spectrum.main.Powerlaw.K      9.889536e-19    8.942974e-13   \n",
       " source1_nu.spectrum.main.Powerlaw.index -3.076982e+00   -1.168284e-01   \n",
       " \n",
       "                                          positive_error         error  \\\n",
       " source1_nu.spectrum.main.Powerlaw.K        1.090350e-12  9.923236e-13   \n",
       " source1_nu.spectrum.main.Powerlaw.index    1.111898e-01  1.140091e-01   \n",
       " \n",
       "                                                     unit  \n",
       " source1_nu.spectrum.main.Powerlaw.K      1 / (cm2 keV s)  \n",
       " source1_nu.spectrum.main.Powerlaw.index                   ,\n",
       "        -log(likelihood)\n",
       " test        -234.191969\n",
       " total       -234.191969)"
      ]
     },
     "execution_count": 24,
     "metadata": {},
     "output_type": "execute_result"
    }
   ],
   "source": [
    "test.jl_value.verbose=True\n",
    "test.jl.fit()"
   ]
  },
  {
   "cell_type": "code",
   "execution_count": 1,
   "metadata": {},
   "outputs": [
    {
     "ename": "NameError",
     "evalue": "name 'test' is not defined",
     "output_type": "error",
     "traceback": [
      "\u001b[0;31m---------------------------------------------------------------------------\u001b[0m",
      "\u001b[0;31mNameError\u001b[0m                                 Traceback (most recent call last)",
      "\u001b[0;32m<ipython-input-1-6e2b09953296>\u001b[0m in \u001b[0;36m<module>\u001b[0;34m\u001b[0m\n\u001b[0;32m----> 1\u001b[0;31m \u001b[0mprint\u001b[0m\u001b[0;34m(\u001b[0m\u001b[0;34m(\u001b[0m\u001b[0mtest\u001b[0m\u001b[0;34m.\u001b[0m\u001b[0mjl_value\u001b[0m\u001b[0;34m.\u001b[0m\u001b[0mllh_model\u001b[0m\u001b[0;34m.\u001b[0m\u001b[0mdata\u001b[0m\u001b[0;34m[\u001b[0m\u001b[0;34m\"run\"\u001b[0m\u001b[0;34m]\u001b[0m\u001b[0;34m>\u001b[0m\u001b[0;36m1000000\u001b[0m\u001b[0;34m)\u001b[0m\u001b[0;34m.\u001b[0m\u001b[0msum\u001b[0m\u001b[0;34m(\u001b[0m\u001b[0;34m)\u001b[0m\u001b[0;34m)\u001b[0m\u001b[0;34m\u001b[0m\u001b[0;34m\u001b[0m\u001b[0m\n\u001b[0m",
      "\u001b[0;31mNameError\u001b[0m: name 'test' is not defined"
     ]
    }
   ],
   "source": [
    "print(test.jl_value.llh_model.data[\"run\"]>1000000).sum()"
   ]
  },
  {
   "cell_type": "code",
   "execution_count": 84,
   "metadata": {},
   "outputs": [],
   "source": [
    "K=np.linspace(5e-14,1e-12,50)\n",
    "gamma=np.linspace(-1,-4,30)\n",
    "ns=np.linspace(0,60,50)\n",
    "result=[]"
   ]
  },
  {
   "cell_type": "code",
   "execution_count": 85,
   "metadata": {},
   "outputs": [
    {
     "name": "stdout",
     "output_type": "stream",
     "text": [
      "(0, 0)\n",
      "(0, 0)\n",
      "(0, 0)\n",
      "(31163.715050265746, -156320.11871407105)\n",
      "(15329.461798048338, -39035.57467847447)\n",
      "(7903.742071415049, -16667.058611707806)\n",
      "(4276.1456341092235, -7948.573948503566)\n",
      "(2429.4119427640485, -3932.9932468117563)\n",
      "(1449.6754848903897, -1923.919399391766)\n",
      "(908.2414412483802, -865.3671200423256)\n",
      "(596.869559378092, -287.7747418034985)\n",
      "(410.83063201792135, 34.44684798035314)\n",
      "(295.6116456729889, 215.76291406686704)\n",
      "(221.86389047078723, 316.7933330810213)\n",
      "(173.25954858240829, 370.81899879116105)\n",
      "(140.42383585679616, 396.7001548138907)\n",
      "(117.81100239761359, 405.43448452267523)\n",
      "(102.04826570970049, 403.6020953288089)\n",
      "(91.03266369381231, 395.23029649378975)\n",
      "(83.42491668516428, 382.8308368698767)\n",
      "(78.35836376289431, 367.9915502281756)\n",
      "(75.2675288451841, 351.7218727579739)\n",
      "(73.7849723615847, 334.6590523044466)\n",
      "(73.6781347647412, 317.1934838713842)\n",
      "(74.81022186850699, 299.5456513550512)\n",
      "(77.11595113898618, 281.812898416763)\n",
      "(80.58677847076456, 263.99634159515665)\n",
      "(85.2624099353913, 246.01397297884296)\n",
      "(91.22669099024034, 227.70385674879347)\n",
      "(98.60674656382422, 208.820200719085)\n"
     ]
    }
   ],
   "source": [
    "for j in gamma:\n",
    "    source1_neutrino = Powerlaw()\n",
    "    source1_neutrino._set_units(u.GeV,u.cm**-2 / u.s / u.GeV)\n",
    "    source1_neutrino.piv=1000\n",
    "    source1_neutrino.index=j\n",
    "    source1_nu = IceCubeLike.NeutrinoPointSource(\"source1_nu\",ra=83.63, dec=22.0145,spectral_shape=source1_neutrino)\n",
    "    model = Model(source1_nu)\n",
    "    test.jl_value.set_model(model)\n",
    "    test.jl_value.update_model()\n",
    "    for i in K:\n",
    "        source1_neutrino.K=i\n",
    "        ns = (test.jl_value.llh_model.sim['ow'] * source1_neutrino(test.jl_value.llh_model.sim['trueE']) * test.jl_value.llh_model.signal_time_profile.effective_exposure() *24*3600).sum() \n",
    "        temp=test.jl_value.llh_model.eval_llh_ns(ns)\n",
    "        result.append([i,j,temp[0],temp[1]])"
   ]
  },
  {
   "cell_type": "code",
   "execution_count": 94,
   "metadata": {},
   "outputs": [
    {
     "data": {
      "image/png": "[encoded data removed]",
      "text/plain": [
       "<Figure size 432x360 with 2 Axes>"
      ]
     },
     "metadata": {
      "needs_background": "light"
     },
     "output_type": "display_data"
    }
   ],
   "source": [
    "%matplotlib inline\n",
    "import matplotlib.pyplot as plt\n",
    "result=np.array(result)\n",
    "x=result[:,0]\n",
    "y=result[:,1]\n",
    "z=result[:,3]\n",
    "\n",
    "## Equivalently, we could do that all in one line with:\n",
    "# x,y,z = np.genfromtxt('eye_.txt', delimiter=',', usecols=(0,1,2))\n",
    "z[z<0]=0\n",
    "x=np.unique(x)\n",
    "y=np.unique(y)\n",
    "X,Y = np.meshgrid(x,y)\n",
    "\n",
    "Z=z.reshape(len(y),len(x))\n",
    "index=result[np.argmax(result[:,3])]\n",
    "fig, ax = plt.subplots(figsize = (6,5))\n",
    "plt.pcolormesh(X,np.flip(Y),Z,vmin=380, vmax=450)\n",
    "plt.colorbar()\n",
    "plt.scatter(index[0],index[1],label=\"Best fit\")\n",
    "plt.title(\"Spectral index vs Flux Norm\",fontsize=14)\n",
    "plt.xlabel(r\"Flux Norm($GeV^{-1} s^{-1} cm^{-2}$)\",fontsize=14)\n",
    "plt.ylabel(\"Spectral index\",fontsize=14)\n",
    "plt.legend()\n",
    "plt.show()"
   ]
  },
  {
   "cell_type": "code",
   "execution_count": 89,
   "metadata": {},
   "outputs": [],
   "source": [
    "from imp import reload\n",
    "import scipy.optimize\n",
    "reload(mla.core)\n",
    "\n",
    "sp= PowerLaw(1000,1e-15,2)\n",
    "testdata=np.load(\"test3.npy\")\n",
    "testdata['time']=0.5\n",
    "import warnings\n",
    "warnings.filterwarnings(\"ignore\")\n",
    "test=mla.core.LLH_point_source(np.radians(83.63) ,np.radians(22.0145) , testdata , sim , \"PowerLaw\", background = data , \\\n",
    "                              )"
   ]
  },
  {
   "cell_type": "code",
   "execution_count": null,
   "metadata": {},
   "outputs": [],
   "source": [
    "gamma=np.linspace(-1.5,-3.5,30)\n",
    "ns=np.linspace(70,120,50)\n",
    "result=[]\n",
    "for i in gamma:\n",
    "    test.update_energy_weight(gamma=i)\n",
    "    for j in ns:\n",
    "        temp=test.eval_llh_ns(j)\n",
    "        result.append([i,j,temp[0],temp[1]])"
   ]
  },
  {
   "cell_type": "code",
   "execution_count": null,
   "metadata": {},
   "outputs": [],
   "source": [
    "%matplotlib inline\n",
    "import matplotlib.pyplot as plt\n",
    "result=np.array(result)\n",
    "x=result[:,0]\n",
    "y=result[:,1]\n",
    "z=result[:,3]\n",
    "\n",
    "## Equivalently, we could do that all in one line with:\n",
    "# x,y,z = np.genfromtxt('eye_.txt', delimiter=',', usecols=(0,1,2))\n",
    "z[z<0]=0\n",
    "x=np.unique(x)\n",
    "y=np.unique(y)\n",
    "X,Y = np.meshgrid(x,y)\n",
    "\n",
    "Z=z.reshape(len(y),len(x))\n",
    "index=result[np.argmax(result[:,3])]\n",
    "fig, ax = plt.subplots(figsize = (6,5))\n",
    "plt.pcolormesh(X,np.flip(Y),Z)\n",
    "plt.colorbar()\n",
    "plt.scatter(index[0],index[1],label=\"Best fit\")\n",
    "plt.scatter(test.get_fit_result()[0],test.get_fit_result()[1],label=\"Best fit\")\n",
    "plt.title(\"ns vs Spectral index\",fontsize=14)\n",
    "plt.xlabel(r\"Spectral index\",fontsize=14)\n",
    "plt.ylabel(\"ns\",fontsize=14)\n",
    "plt.legend()\n",
    "plt.show()"
   ]
  }
 ],
 "metadata": {
  "kernelspec": {
   "display_name": "i3",
   "language": "python",
   "name": "i3"
  },
  "language_info": {
   "codemirror_mode": {
    "name": "ipython",
    "version": 3
   },
   "file_extension": ".py",
   "mimetype": "text/x-python",
   "name": "python",
   "nbconvert_exporter": "python",
   "pygments_lexer": "ipython3",
   "version": "3.6.7"
  }
 },
 "nbformat": 4,
 "nbformat_minor": 4
}
