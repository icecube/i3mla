{
 "cells": [
  {
   "cell_type": "code",
   "execution_count": 5,
   "metadata": {},
   "outputs": [],
   "source": [
    "from threeML import *\n",
    "import numpy as np\n",
    "from threeML.plugins import *\n",
    "from skylab.datasets import Datasets\n",
    "from astropy import units as u\n",
    "\n",
    "import os, sys, glob, abc\n",
    "\n",
    "def read(filelist):\n",
    "    data = []\n",
    "    for f in sorted(filelist):\n",
    "        x = np.load(f)\n",
    "        if len(data) == 0: data = x.copy()\n",
    "        else: data = np.concatenate([data, x])\n",
    "    return data\n",
    "\n",
    "# Where is the dataset stored?\n",
    "dataset = \"/data/i3store/users/mjlarson/student_data\"\n",
    "\n",
    "# Read in all of the data files\n",
    "data_files = dataset + \"/IC86_*exp.npy\"\n",
    "exp = read(glob.glob(data_files))\n",
    "\n",
    "# Read in all of the MC files \n",
    "sim_files = dataset + \"/IC86*MC*npy\"\n",
    "mc = read(glob.glob(sim_files))\n",
    "\n",
    "# Set the angular error floor to 0.2 degrees\n",
    "#exp['angErr'][exp['angErr']<np.deg2rad(0.2)] = np.deg2rad(0.2)\n",
    "#mc['angErr'][mc['angErr']<np.deg2rad(0.2)] = np.deg2rad(0.2)\n",
    "\n",
    "exp['ra']=np.random.uniform(0,2*np.pi,size=len(exp))\n",
    "grl = np.load(\"/data/i3store/users/mjlarson/student_data/GRL/IC86_2012_exp.npy\")\n",
    "livetime = np.sum(grl['livetime'])\n"
   ]
  },
  {
   "cell_type": "code",
   "execution_count": 6,
   "metadata": {},
   "outputs": [],
   "source": [
    "from imp import reload\n",
    "reload(IceCubeLike)\n",
    "\n",
    "import warnings\n",
    "warnings.filterwarnings(\"ignore\")\n",
    "#data = np.random.choice(exp, 10000).copy()\n",
    "#jl._data_list['test'].llh_model.update_data(data)\n",
    "IceCube=IceCubeLike.IceCubeLike(\"test\",exp,mc,exp,verbose=True,background_time_profile= (56224,56324))\n",
    "del mc"
   ]
  },
  {
   "cell_type": "code",
   "execution_count": 16,
   "metadata": {},
   "outputs": [],
   "source": [
    "source1_sp = Powerlaw()\n",
    "#source1_sp._set_units(u.GeV,u.cm**-2 / u.s / u.GeV)\n",
    "source1_sp.K=1e-13\n",
    "source1_neutrino = Powerlaw()\n",
    "source1_neutrino._set_units(u.GeV,u.cm**-2 / u.s / u.GeV)\n",
    "source1_neutrino.piv=1000\n",
    "source1_neutrino.K=1e-13\n",
    "source1_neutrino.index=-2\n",
    "#source1_sp._set_units(u.GeV,u.cm**-2 / u.s / u.GeV)\n",
    "source1 = PointSource(\"source1\", ra=83.63, dec=22.0145, spectral_shape=source1_sp)\n",
    "source1_nu = IceCubeLike.NeutrinoPointSource(\"source1_nu\",ra=83.63, dec=22.0145,spectral_shape=source1_neutrino,energy_unit=u.GeV)\n",
    "\n",
    "model = Model(source1,source1_nu)\n",
    "model.source1.spectrum.main.Powerlaw.K.fix = True\n",
    "model.source1.spectrum.main.Powerlaw.index.fix = True\n",
    "model.source1_nu.spectrum.main.Powerlaw.K.bounds = (1e-30, 1e-5)\n",
    "model.source1_nu.spectrum.main.Powerlaw.index.bounds = (-4, -1)\n",
    "#IceCube.set_model(model)\n",
    "IceCubedata = DataList(IceCube)\n",
    "jl = JointLikelihood(model, IceCubedata)"
   ]
  },
  {
   "cell_type": "code",
   "execution_count": 17,
   "metadata": {},
   "outputs": [],
   "source": [
    "test=IceCubeLike.sensitivity(jl)"
   ]
  },
  {
   "cell_type": "code",
   "execution_count": 18,
   "metadata": {},
   "outputs": [],
   "source": [
    "test.set_backround(grl,model ,time_window=100,start_time=56224)"
   ]
  },
  {
   "cell_type": "code",
   "execution_count": 19,
   "metadata": {},
   "outputs": [],
   "source": [
    "import mla \n",
    "basespectrum = mla.spectral.PowerLaw(1e3 , 1 , -2)\n",
    "test.set_injection(background_time_profile = (56224,56324))"
   ]
  },
  {
   "cell_type": "code",
   "execution_count": 21,
   "metadata": {},
   "outputs": [
    {
     "name": "stdout",
     "output_type": "stream",
     "text": [
      "(39.26756475855868, 405.2717851394508)\n",
      "(39.596119944704135, 405.6988969309049)\n",
      "(38.941697031188156, 404.8409063478767)\n",
      "(39.34179076763593, 405.36891555932345)\n",
      "(39.19347678660958, 405.17446123394234)\n",
      "(39.34258621392312, 405.34090595924044)\n",
      "(39.19272920933268, 405.20233673884263)\n",
      "(39.3252052210964, 405.32493648068726)\n",
      "(39.210034102278456, 405.218440311209)\n",
      "(154.4587251548156, 361.5764231621266)\n",
      "(58.709048113478794, 418.17408281501025)\n",
      "(58.821315108539096, 418.2149725367258)\n",
      "(58.5969922159091, 418.13285582190105)\n",
      "(58.79968692614799, 418.1722856751609)\n",
      "(58.61858695846447, 418.1755478526688)\n",
      "(72.93689964688957, 422.96477641826664)\n",
      "(82.04297416950605, 423.31356354871036)\n",
      "(79.40839186932905, 423.3957320511817)\n",
      "(79.5251157637274, 423.37993689399127)\n",
      "(79.29183661266144, 423.41124007198613)\n",
      "(79.50001274907164, 423.35836108998404)\n",
      "(79.31690892742293, 423.4328459214612)\n",
      "(79.00830384707014, 426.1156509276176)\n",
      "(80.67779745649445, 430.01742619544507)\n",
      "(81.08146042839857, 430.0673873407022)\n",
      "(81.18130544930924, 430.0575099586999)\n",
      "(80.9817361458752, 430.0770585961445)\n",
      "(81.14887842487786, 430.0591336167014)\n",
      "(81.01412668691158, 430.07549764329804)\n",
      "(75.22822213006495, 430.2953573467425)\n",
      "(76.33704333057936, 430.308259332662)\n",
      "(76.43097600929839, 430.30817729733656)\n",
      "(76.2432241694591, 430.30814973883093)\n",
      "(76.41290112263322, 430.30700352182055)\n",
      "(76.2612989305348, 430.30932407814737)\n",
      "(76.46692730031675, 430.3226547532057)\n",
      "(76.49588850234169, 430.3230977193398)\n",
      "(76.5933057814897, 430.3229788168061)\n",
      "(76.39859305391231, 430.32301088954443)\n",
      "(76.57370873706002, 430.3229811609224)\n",
      "(76.41818841326435, 430.3230129322461)\n",
      "(76.49588850234169, 430.3230977193398)\n",
      "(76.5933057814897, 430.3229788168061)\n",
      "(76.39859305391231, 430.32301088954443)\n",
      "(76.57370873706002, 430.3229811609224)\n",
      "(76.41818841326435, 430.3230129322461)\n",
      "(76.5153622069281, 430.3230904071214)\n",
      "(76.47641967098345, 430.32309680227)\n",
      "(76.51144293107772, 430.32309052892776)\n",
      "(76.48033887943001, 430.32309685593646)\n",
      "(76.671225120038, 430.3226852578532)\n",
      "(76.49588850234169, 430.3230977193398)\n",
      "(76.69321630343515, 430.32264341807286)\n",
      "(76.29905993586856, 430.3227089761711)\n",
      "(76.59323469298198, 430.3229789785594)\n",
      "(76.39866396478834, 430.3230110277609)\n",
      "(76.65525805216657, 430.3226432132909)\n",
      "(76.33702202614546, 430.32270915158233)\n",
      "(76.57449514455372, 430.32297895569496)\n",
      "(76.41740444437592, 430.3230110507402)\n",
      "(76.49588850234169, 430.3230977193398)\n",
      "(76.59323469298198, 430.3229789785594)\n",
      "(76.39866396478834, 430.3230110277609)\n",
      "(76.57449514455372, 430.32297895569496)\n",
      "(76.41740444437592, 430.3230110507402)\n",
      "(76.51534800344749, 430.3230904154475)\n",
      "(76.47643386735915, 430.32309680593943)\n",
      "(76.51160001728748, 430.3230904152404)\n",
      "(76.48018189076453, 430.32309680616004)\n",
      "(76.67194136746146, 430.3226815560529)\n",
      "(76.49588850234169, 430.3230977193398)\n",
      "Best fit values:\n",
      "\n"
     ]
    },
    {
     "data": {
      "text/html": [
       "<div>\n",
       "<style scoped>\n",
       "    .dataframe tbody tr th:only-of-type {\n",
       "        vertical-align: middle;\n",
       "    }\n",
       "\n",
       "    .dataframe tbody tr th {\n",
       "        vertical-align: top;\n",
       "    }\n",
       "\n",
       "    .dataframe thead th {\n",
       "        text-align: right;\n",
       "    }\n",
       "</style>\n",
       "<table border=\"1\" class=\"dataframe\">\n",
       "  <thead>\n",
       "    <tr style=\"text-align: right;\">\n",
       "      <th></th>\n",
       "      <th>result</th>\n",
       "      <th>unit</th>\n",
       "    </tr>\n",
       "    <tr>\n",
       "      <th>parameter</th>\n",
       "      <th></th>\n",
       "      <th></th>\n",
       "    </tr>\n",
       "  </thead>\n",
       "  <tbody>\n",
       "    <tr>\n",
       "      <th>source1_nu.spectrum.main.Powerlaw.K</th>\n",
       "      <td>(3.5 -0.6 +0.7) x 10^-19</td>\n",
       "      <td>1 / (cm2 keV s)</td>\n",
       "    </tr>\n",
       "    <tr>\n",
       "      <th>source1_nu.spectrum.main.Powerlaw.index</th>\n",
       "      <td>-2.25 +/- 0.06</td>\n",
       "      <td></td>\n",
       "    </tr>\n",
       "  </tbody>\n",
       "</table>\n",
       "</div>"
      ],
      "text/plain": [
       "                                                           result  \\\n",
       "parameter                                                           \n",
       "source1_nu.spectrum.main.Powerlaw.K      (3.5 -0.6 +0.7) x 10^-19   \n",
       "source1_nu.spectrum.main.Powerlaw.index            -2.25 +/- 0.06   \n",
       "\n",
       "                                                    unit  \n",
       "parameter                                                 \n",
       "source1_nu.spectrum.main.Powerlaw.K      1 / (cm2 keV s)  \n",
       "source1_nu.spectrum.main.Powerlaw.index                   "
      ]
     },
     "metadata": {},
     "output_type": "display_data"
    },
    {
     "name": "stdout",
     "output_type": "stream",
     "text": [
      "\n",
      "Correlation matrix:\n",
      "\n"
     ]
    },
    {
     "data": {
      "text/html": [
       "<table id=\"table140674485223376\">\n",
       "<tr><td>1.00</td><td>-0.87</td></tr>\n",
       "<tr><td>-0.87</td><td>1.00</td></tr>\n",
       "</table>"
      ],
      "text/plain": [
       " 1.00 -0.87\n",
       "-0.87  1.00"
      ]
     },
     "metadata": {},
     "output_type": "display_data"
    },
    {
     "name": "stdout",
     "output_type": "stream",
     "text": [
      "\n",
      "Values of -log(likelihood) at the minimum:\n",
      "\n"
     ]
    },
    {
     "data": {
      "text/html": [
       "<div>\n",
       "<style scoped>\n",
       "    .dataframe tbody tr th:only-of-type {\n",
       "        vertical-align: middle;\n",
       "    }\n",
       "\n",
       "    .dataframe tbody tr th {\n",
       "        vertical-align: top;\n",
       "    }\n",
       "\n",
       "    .dataframe thead th {\n",
       "        text-align: right;\n",
       "    }\n",
       "</style>\n",
       "<table border=\"1\" class=\"dataframe\">\n",
       "  <thead>\n",
       "    <tr style=\"text-align: right;\">\n",
       "      <th></th>\n",
       "      <th>-log(likelihood)</th>\n",
       "    </tr>\n",
       "  </thead>\n",
       "  <tbody>\n",
       "    <tr>\n",
       "      <th>test</th>\n",
       "      <td>-430.323098</td>\n",
       "    </tr>\n",
       "    <tr>\n",
       "      <th>total</th>\n",
       "      <td>-430.323098</td>\n",
       "    </tr>\n",
       "  </tbody>\n",
       "</table>\n",
       "</div>"
      ],
      "text/plain": [
       "       -log(likelihood)\n",
       "test        -430.323098\n",
       "total       -430.323098"
      ]
     },
     "metadata": {},
     "output_type": "display_data"
    },
    {
     "name": "stdout",
     "output_type": "stream",
     "text": [
      "\n",
      "Values of statistical measures:\n",
      "\n"
     ]
    },
    {
     "data": {
      "text/html": [
       "<div>\n",
       "<style scoped>\n",
       "    .dataframe tbody tr th:only-of-type {\n",
       "        vertical-align: middle;\n",
       "    }\n",
       "\n",
       "    .dataframe tbody tr th {\n",
       "        vertical-align: top;\n",
       "    }\n",
       "\n",
       "    .dataframe thead th {\n",
       "        text-align: right;\n",
       "    }\n",
       "</style>\n",
       "<table border=\"1\" class=\"dataframe\">\n",
       "  <thead>\n",
       "    <tr style=\"text-align: right;\">\n",
       "      <th></th>\n",
       "      <th>statistical measures</th>\n",
       "    </tr>\n",
       "  </thead>\n",
       "  <tbody>\n",
       "    <tr>\n",
       "      <th>AIC</th>\n",
       "      <td>-862.646195</td>\n",
       "    </tr>\n",
       "    <tr>\n",
       "      <th>BIC</th>\n",
       "      <td>-860.646195</td>\n",
       "    </tr>\n",
       "  </tbody>\n",
       "</table>\n",
       "</div>"
      ],
      "text/plain": [
       "     statistical measures\n",
       "AIC           -862.646195\n",
       "BIC           -860.646195"
      ]
     },
     "metadata": {},
     "output_type": "display_data"
    },
    {
     "data": {
      "text/plain": [
       "(                                                value  negative_error  \\\n",
       " source1_nu.spectrum.main.Powerlaw.K      3.495930e-19    2.913169e-13   \n",
       " source1_nu.spectrum.main.Powerlaw.index -2.246769e+00   -5.694210e-02   \n",
       " \n",
       "                                          positive_error         error  \\\n",
       " source1_nu.spectrum.main.Powerlaw.K        4.184827e-13  3.548998e-13   \n",
       " source1_nu.spectrum.main.Powerlaw.index    5.589258e-02  5.641734e-02   \n",
       " \n",
       "                                                     unit  \n",
       " source1_nu.spectrum.main.Powerlaw.K      1 / (cm2 keV s)  \n",
       " source1_nu.spectrum.main.Powerlaw.index                   ,\n",
       "        -log(likelihood)\n",
       " test        -430.323098\n",
       " total       -430.323098)"
      ]
     },
     "execution_count": 21,
     "metadata": {},
     "output_type": "execute_result"
    }
   ],
   "source": [
    "basespectrum = mla.spectral.PowerLaw(1e3 , 1 , -2)\n",
    "basespectrum.A=2e-13\n",
    "test.PS_injector.update_spectrum(basespectrum)\n",
    "#test.jl_value.llh_model.update_spectrum(basespectrum)\n",
    "test.jl_value.llh_model.update_data(test.draw_data())\n",
    "test.jl_value.llh_model.modify_injection(test.draw_signal())\n",
    "test.jl_value.verbose=True\n",
    "test.jl.fit()"
   ]
  },
  {
   "cell_type": "code",
   "execution_count": 22,
   "metadata": {},
   "outputs": [
    {
     "data": {
      "text/plain": [
       "(76.49201684726675, 430.3230981923954)"
      ]
     },
     "execution_count": 22,
     "metadata": {},
     "output_type": "execute_result"
    }
   ],
   "source": []
  },
  {
   "cell_type": "code",
   "execution_count": 20,
   "metadata": {},
   "outputs": [
    {
     "data": {
      "text/plain": [
       "8640000"
      ]
     },
     "execution_count": 20,
     "metadata": {},
     "output_type": "execute_result"
    }
   ],
   "source": []
  },
  {
   "cell_type": "code",
   "execution_count": 22,
   "metadata": {},
   "outputs": [
    {
     "name": "stdout",
     "output_type": "stream",
     "text": [
      "(0, 0)\n",
      "(0, 0)\n",
      "(0, 0)\n",
      "(0, 0)\n",
      "(0, 0)\n",
      "(0, 0)\n",
      "(0, 0)\n",
      "(0, 0)\n",
      "(0, 0)\n",
      "(0, 0)\n",
      "(0, 0)\n"
     ]
    },
    {
     "ename": "RuntimeError",
     "evalue": "exception was raised in user function\nUser function arguments:\n        source1_nu_spectrum_main_Powerlaw_K = -10.999984\n    source1_nu_spectrum_main_Powerlaw_index = -2.000000\nOriginal python exception in user function:\nKeyboardInterrupt: \n  File \"/data/disk01/home/jasonfan/threeML/threeML/classicMLE/joint_likelihood.py\", line 745, in minus_log_like_profile\n    this_log_like = dataset.inner_fit()\n  File \"/data/disk01/home/jasonfan/threeML/threeML/plugins/IceCubeLike.py\", line 316, in inner_fit\n    return self.get_log_like()\n  File \"/data/disk01/home/jasonfan/threeML/threeML/plugins/IceCubeLike.py\", line 309, in get_log_like\n    self.update_model()\n  File \"/data/disk01/home/jasonfan/threeML/threeML/plugins/IceCubeLike.py\", line 300, in update_model\n    self.llh_model.update_spectrum(self.spectrum)\n  File \"/data/disk01/home/jasonfan/umd_icecube_analysis_tutorial/mla/mla/core.py\", line 317, in update_spectrum\n    self.update_energy_histogram()\n  File \"/data/disk01/home/jasonfan/umd_icecube_analysis_tutorial/mla/mla/core.py\", line 398, in update_energy_histogram\n    sig_w/=np.sum(self.fullsim['ow'] * self.spectrum(self.fullsim['trueE']))\n  File \"/data/disk01/home/jasonfan/threeML/threeML/plugins/IceCubeLike.py\", line 216, in __call__\n    return self.model._point_sources[self.neutrinopointsource].call(E)*self.A\n  File \"/data/disk01/home/jasonfan/threeML/threeML/plugins/IceCubeLike.py\", line 150, in call\n    results = [component.shape(x) for component in list(self.components.values())]\n  File \"/data/disk01/home/jasonfan/threeML/threeML/plugins/IceCubeLike.py\", line 150, in <listcomp>\n    results = [component.shape(x) for component in list(self.components.values())]\n  File \"/data/disk01/home/jasonfan/miniconda3/envs/p3/lib/python3.6/site-packages/astromodels/functions/function.py\", line 911, in __call__\n    return self.fast_call(x)\n  File \"/data/disk01/home/jasonfan/miniconda3/envs/p3/lib/python3.6/site-packages/astromodels/core/memoization.py\", line 58, in memoizer\n    return method(instance, x, *args, **kwargs)\n  File \"/data/disk01/home/jasonfan/miniconda3/envs/p3/lib/python3.6/site-packages/astromodels/functions/function.py\", line 986, in fast_call\n    return self.evaluate(x, *values)\n  File \"/data/disk01/home/jasonfan/miniconda3/envs/p3/lib/python3.6/site-packages/astromodels/functions/functions.py\", line 212, in evaluate\n    return K * np.power(xx, index)\n",
     "output_type": "error",
     "traceback": [
      "\u001b[0;31m---------------------------------------------------------------------------\u001b[0m",
      "\u001b[0;31mRuntimeError\u001b[0m                              Traceback (most recent call last)",
      "\u001b[0;32m<ipython-input-22-885cadab5470>\u001b[0m in \u001b[0;36m<module>\u001b[0;34m\u001b[0m\n\u001b[1;32m      1\u001b[0m \u001b[0mtest\u001b[0m\u001b[0;34m.\u001b[0m\u001b[0mjl_value\u001b[0m\u001b[0;34m.\u001b[0m\u001b[0mverbose\u001b[0m\u001b[0;34m=\u001b[0m\u001b[0;32mTrue\u001b[0m\u001b[0;34m\u001b[0m\u001b[0;34m\u001b[0m\u001b[0m\n\u001b[0;32m----> 2\u001b[0;31m \u001b[0mtest\u001b[0m\u001b[0;34m.\u001b[0m\u001b[0mjl\u001b[0m\u001b[0;34m.\u001b[0m\u001b[0mfit\u001b[0m\u001b[0;34m(\u001b[0m\u001b[0;34m)\u001b[0m\u001b[0;34m\u001b[0m\u001b[0;34m\u001b[0m\u001b[0m\n\u001b[0m",
      "\u001b[0;32m~/threeML/threeML/classicMLE/joint_likelihood.py\u001b[0m in \u001b[0;36mfit\u001b[0;34m(self, quiet, compute_covariance, n_samples)\u001b[0m\n\u001b[1;32m    265\u001b[0m             \u001b[0msys\u001b[0m\u001b[0;34m.\u001b[0m\u001b[0mstdout\u001b[0m\u001b[0;34m.\u001b[0m\u001b[0mflush\u001b[0m\u001b[0;34m(\u001b[0m\u001b[0;34m)\u001b[0m\u001b[0;34m\u001b[0m\u001b[0;34m\u001b[0m\u001b[0m\n\u001b[1;32m    266\u001b[0m \u001b[0;34m\u001b[0m\u001b[0m\n\u001b[0;32m--> 267\u001b[0;31m             \u001b[0mxs\u001b[0m\u001b[0;34m,\u001b[0m \u001b[0mlog_likelihood_minimum\u001b[0m \u001b[0;34m=\u001b[0m \u001b[0mself\u001b[0m\u001b[0;34m.\u001b[0m\u001b[0m_minimizer\u001b[0m\u001b[0;34m.\u001b[0m\u001b[0mminimize\u001b[0m\u001b[0;34m(\u001b[0m\u001b[0mcompute_covar\u001b[0m\u001b[0;34m=\u001b[0m\u001b[0mcompute_covariance\u001b[0m\u001b[0;34m)\u001b[0m\u001b[0;34m\u001b[0m\u001b[0;34m\u001b[0m\u001b[0m\n\u001b[0m\u001b[1;32m    268\u001b[0m \u001b[0;34m\u001b[0m\u001b[0m\n\u001b[1;32m    269\u001b[0m             \u001b[0;32mif\u001b[0m \u001b[0mlog_likelihood_minimum\u001b[0m \u001b[0;34m==\u001b[0m \u001b[0mminimization\u001b[0m\u001b[0;34m.\u001b[0m\u001b[0mFIT_FAILED\u001b[0m\u001b[0;34m:\u001b[0m\u001b[0;34m\u001b[0m\u001b[0;34m\u001b[0m\u001b[0m\n",
      "\u001b[0;32m~/threeML/threeML/minimizer/minimization.py\u001b[0m in \u001b[0;36mminimize\u001b[0;34m(self, compute_covar)\u001b[0m\n\u001b[1;32m    572\u001b[0m         \u001b[0;32mtry\u001b[0m\u001b[0;34m:\u001b[0m\u001b[0;34m\u001b[0m\u001b[0;34m\u001b[0m\u001b[0m\n\u001b[1;32m    573\u001b[0m \u001b[0;34m\u001b[0m\u001b[0m\n\u001b[0;32m--> 574\u001b[0;31m             \u001b[0minternal_best_fit_values\u001b[0m\u001b[0;34m,\u001b[0m \u001b[0mfunction_minimum\u001b[0m \u001b[0;34m=\u001b[0m \u001b[0mself\u001b[0m\u001b[0;34m.\u001b[0m\u001b[0m_minimize\u001b[0m\u001b[0;34m(\u001b[0m\u001b[0;34m)\u001b[0m\u001b[0;34m\u001b[0m\u001b[0;34m\u001b[0m\u001b[0m\n\u001b[0m\u001b[1;32m    575\u001b[0m \u001b[0;34m\u001b[0m\u001b[0m\n\u001b[1;32m    576\u001b[0m         \u001b[0;32mexcept\u001b[0m \u001b[0mFitFailed\u001b[0m\u001b[0;34m:\u001b[0m\u001b[0;34m\u001b[0m\u001b[0;34m\u001b[0m\u001b[0m\n",
      "\u001b[0;32m~/threeML/threeML/minimizer/minuit_minimizer.py\u001b[0m in \u001b[0;36m_minimize\u001b[0;34m(self)\u001b[0m\n\u001b[1;32m    217\u001b[0m         \u001b[0;31m# Try a maximum of 10 times and break as soon as the fit is ok\u001b[0m\u001b[0;34m\u001b[0m\u001b[0;34m\u001b[0m\u001b[0;34m\u001b[0m\u001b[0m\n\u001b[1;32m    218\u001b[0m \u001b[0;34m\u001b[0m\u001b[0m\n\u001b[0;32m--> 219\u001b[0;31m         \u001b[0mself\u001b[0m\u001b[0;34m.\u001b[0m\u001b[0m_last_migrad_results\u001b[0m \u001b[0;34m=\u001b[0m \u001b[0mself\u001b[0m\u001b[0;34m.\u001b[0m\u001b[0mminuit\u001b[0m\u001b[0;34m.\u001b[0m\u001b[0mmigrad\u001b[0m\u001b[0;34m(\u001b[0m\u001b[0mresume\u001b[0m\u001b[0;34m=\u001b[0m\u001b[0;32mFalse\u001b[0m\u001b[0;34m)\u001b[0m\u001b[0;34m\u001b[0m\u001b[0;34m\u001b[0m\u001b[0m\n\u001b[0m\u001b[1;32m    220\u001b[0m \u001b[0;34m\u001b[0m\u001b[0m\n\u001b[1;32m    221\u001b[0m         \u001b[0;32mfor\u001b[0m \u001b[0mi\u001b[0m \u001b[0;32min\u001b[0m \u001b[0mrange\u001b[0m\u001b[0;34m(\u001b[0m\u001b[0;36m9\u001b[0m\u001b[0;34m)\u001b[0m\u001b[0;34m:\u001b[0m\u001b[0;34m\u001b[0m\u001b[0;34m\u001b[0m\u001b[0m\n",
      "\u001b[0;32miminuit/_libiminuit.pyx\u001b[0m in \u001b[0;36miminuit._libiminuit.Minuit.migrad\u001b[0;34m()\u001b[0m\n",
      "\u001b[0;31mRuntimeError\u001b[0m: exception was raised in user function\nUser function arguments:\n        source1_nu_spectrum_main_Powerlaw_K = -10.999984\n    source1_nu_spectrum_main_Powerlaw_index = -2.000000\nOriginal python exception in user function:\nKeyboardInterrupt: \n  File \"/data/disk01/home/jasonfan/threeML/threeML/classicMLE/joint_likelihood.py\", line 745, in minus_log_like_profile\n    this_log_like = dataset.inner_fit()\n  File \"/data/disk01/home/jasonfan/threeML/threeML/plugins/IceCubeLike.py\", line 316, in inner_fit\n    return self.get_log_like()\n  File \"/data/disk01/home/jasonfan/threeML/threeML/plugins/IceCubeLike.py\", line 309, in get_log_like\n    self.update_model()\n  File \"/data/disk01/home/jasonfan/threeML/threeML/plugins/IceCubeLike.py\", line 300, in update_model\n    self.llh_model.update_spectrum(self.spectrum)\n  File \"/data/disk01/home/jasonfan/umd_icecube_analysis_tutorial/mla/mla/core.py\", line 317, in update_spectrum\n    self.update_energy_histogram()\n  File \"/data/disk01/home/jasonfan/umd_icecube_analysis_tutorial/mla/mla/core.py\", line 398, in update_energy_histogram\n    sig_w/=np.sum(self.fullsim['ow'] * self.spectrum(self.fullsim['trueE']))\n  File \"/data/disk01/home/jasonfan/threeML/threeML/plugins/IceCubeLike.py\", line 216, in __call__\n    return self.model._point_sources[self.neutrinopointsource].call(E)*self.A\n  File \"/data/disk01/home/jasonfan/threeML/threeML/plugins/IceCubeLike.py\", line 150, in call\n    results = [component.shape(x) for component in list(self.components.values())]\n  File \"/data/disk01/home/jasonfan/threeML/threeML/plugins/IceCubeLike.py\", line 150, in <listcomp>\n    results = [component.shape(x) for component in list(self.components.values())]\n  File \"/data/disk01/home/jasonfan/miniconda3/envs/p3/lib/python3.6/site-packages/astromodels/functions/function.py\", line 911, in __call__\n    return self.fast_call(x)\n  File \"/data/disk01/home/jasonfan/miniconda3/envs/p3/lib/python3.6/site-packages/astromodels/core/memoization.py\", line 58, in memoizer\n    return method(instance, x, *args, **kwargs)\n  File \"/data/disk01/home/jasonfan/miniconda3/envs/p3/lib/python3.6/site-packages/astromodels/functions/function.py\", line 986, in fast_call\n    return self.evaluate(x, *values)\n  File \"/data/disk01/home/jasonfan/miniconda3/envs/p3/lib/python3.6/site-packages/astromodels/functions/functions.py\", line 212, in evaluate\n    return K * np.power(xx, index)\n"
     ]
    }
   ],
   "source": [
    "test.jl_value.verbose=True\n",
    "test.jl.fit()"
   ]
  },
  {
   "cell_type": "code",
   "execution_count": 72,
   "metadata": {},
   "outputs": [],
   "source": [
    "K=np.linspace(5e-20,5e-18,100)\n",
    "gamma=np.linspace(-1,-4,30)\n",
    "ns=np.linspace(0,60,50)\n",
    "result=[]"
   ]
  },
  {
   "cell_type": "code",
   "execution_count": 73,
   "metadata": {},
   "outputs": [
    {
     "name": "stdout",
     "output_type": "stream",
     "text": [
      "-1.0\n",
      "-1.103448275862069\n",
      "-1.206896551724138\n",
      "-1.3103448275862069\n",
      "-1.4137931034482758\n",
      "-1.5172413793103448\n",
      "-1.6206896551724137\n",
      "-1.7241379310344827\n",
      "-1.8275862068965516\n",
      "-1.9310344827586206\n",
      "-2.0344827586206895\n",
      "-2.137931034482759\n",
      "-2.2413793103448274\n",
      "-2.344827586206897\n",
      "-2.4482758620689653\n",
      "-2.5517241379310347\n",
      "-2.655172413793103\n",
      "-2.7586206896551726\n",
      "-2.862068965517241\n",
      "-2.9655172413793105\n",
      "-3.0689655172413794\n",
      "-3.1724137931034484\n",
      "-3.2758620689655173\n",
      "-3.3793103448275863\n",
      "-3.4827586206896552\n",
      "-3.586206896551724\n",
      "-3.689655172413793\n",
      "-3.793103448275862\n",
      "-3.896551724137931\n",
      "-4.0\n"
     ]
    }
   ],
   "source": [
    "for j in gamma:\n",
    "    print(j)\n",
    "    source1_neutrino = Powerlaw()\n",
    "    source1_neutrino._set_units(u.GeV,u.cm**-2 / u.s / u.GeV)\n",
    "    source1_neutrino.piv=1000000\n",
    "    source1_neutrino.index=j\n",
    "    source1_nu = IceCubeLike.NeutrinoPointSource(\"source1_nu\",ra=83.63, dec=22.0145,spectral_shape=source1_neutrino)\n",
    "    model = Model(source1_nu)\n",
    "    test.jl_value.set_model(model)\n",
    "    test.jl_value.update_model()\n",
    "    for i in K:\n",
    "        source1_neutrino.K=i\n",
    "        ns = (test.jl_value.llh_model.sim['ow'] * source1_neutrino(test.jl_value.llh_model.sim['trueE']) * test.jl_value.llh_model.signal_time_profile.effective_exposure() *24*3600).sum() \n",
    "        print(temp)\n",
    "        temp=test.jl_value.llh_model.eval_llh_ns(ns)\n",
    "        result.append([i,j,temp[0],temp[1]])"
   ]
  },
  {
   "cell_type": "code",
   "execution_count": 74,
   "metadata": {},
   "outputs": [
    {
     "data": {
      "image/png": "[encoded data removed]",
      "text/plain": [
       "<Figure size 432x360 with 2 Axes>"
      ]
     },
     "metadata": {
      "needs_background": "light"
     },
     "output_type": "display_data"
    }
   ],
   "source": [
    "%matplotlib inline\n",
    "import matplotlib.pyplot as plt\n",
    "result=np.array(result)\n",
    "x=result[:,0]\n",
    "y=result[:,1]\n",
    "z=result[:,3]\n",
    "\n",
    "## Equivalently, we could do that all in one line with:\n",
    "# x,y,z = np.genfromtxt('eye_.txt', delimiter=',', usecols=(0,1,2))\n",
    "\n",
    "x=np.unique(x)\n",
    "y=np.unique(y)\n",
    "X,Y = np.meshgrid(x,y)\n",
    "\n",
    "Z=z.reshape(len(y),len(x))\n",
    "index=result[np.argmax(result[:,3])]\n",
    "fig, ax = plt.subplots(figsize = (6,5))\n",
    "plt.pcolormesh(X,np.flip(Y),Z)\n",
    "plt.colorbar()\n",
    "plt.scatter(index[0],index[1],label=\"Best fit\")\n",
    "plt.title(\"Spectral index vs ns\",fontsize=14)\n",
    "plt.xlabel(\"ns\",fontsize=14)\n",
    "plt.ylabel(\"Spectral index\",fontsize=14)\n",
    "plt.legend()\n",
    "plt.show()"
   ]
  },
  {
   "cell_type": "code",
   "execution_count": 69,
   "metadata": {},
   "outputs": [],
   "source": [
    "z=np.hs([z,1])"
   ]
  },
  {
   "cell_type": "code",
   "execution_count": 70,
   "metadata": {},
   "outputs": [
    {
     "data": {
      "text/plain": [
       "array([123.25034279, 143.72195794, 151.87625222, ...,   0.        ,\n",
       "         0.        ,   1.        ])"
      ]
     },
     "execution_count": 70,
     "metadata": {},
     "output_type": "execute_result"
    }
   ],
   "source": []
  },
  {
   "cell_type": "code",
   "execution_count": 65,
   "metadata": {},
   "outputs": [
    {
     "data": {
      "text/plain": [
       "<matplotlib.image.AxesImage at 0x7f08e455cfd0>"
      ]
     },
     "execution_count": 65,
     "metadata": {},
     "output_type": "execute_result"
    },
    {
     "data": {
      "image/png": "[encoded data removed]",
      "text/plain": [
       "<Figure size 432x288 with 1 Axes>"
      ]
     },
     "metadata": {
      "needs_background": "light"
     },
     "output_type": "display_data"
    }
   ],
   "source": [
    "plt.imshow(Z)"
   ]
  },
  {
   "cell_type": "code",
   "execution_count": 47,
   "metadata": {},
   "outputs": [
    {
     "data": {
      "text/plain": [
       "array([-3.78989065e+04, -1.50000000e+00,  1.00000000e-07,  1.49295808e+04])"
      ]
     },
     "execution_count": 47,
     "metadata": {},
     "output_type": "execute_result"
    }
   ],
   "source": [
    "x"
   ]
  },
  {
   "cell_type": "code",
   "execution_count": 20,
   "metadata": {},
   "outputs": [
    {
     "data": {
      "text/html": [
       "Parameter K = 6.99812795084103e-06 [1 / (cm2 keV s)]\n",
       "(min_value = 1e-30, max_value = 1e-05, delta = 2.5e-10, free = True)"
      ],
      "text/plain": [
       "Parameter K = 6.99812795084103e-06 [1 / (cm2 keV s)]\n",
       "(min_value = 1e-30, max_value = 1e-05, delta = 2.5e-10, free = True)"
      ]
     },
     "execution_count": 20,
     "metadata": {},
     "output_type": "execute_result"
    }
   ],
   "source": [
    "test.jl._likelihood_model.free_parameters['source1_nu.spectrum.main.Powerlaw.K']"
   ]
  },
  {
   "cell_type": "code",
   "execution_count": null,
   "metadata": {},
   "outputs": [],
   "source": []
  },
  {
   "cell_type": "code",
   "execution_count": null,
   "metadata": {},
   "outputs": [],
   "source": []
  }
 ],
 "metadata": {
  "kernelspec": {
   "display_name": "i3",
   "language": "python",
   "name": "i3"
  },
  "language_info": {
   "codemirror_mode": {
    "name": "ipython",
    "version": 3
   },
   "file_extension": ".py",
   "mimetype": "text/x-python",
   "name": "python",
   "nbconvert_exporter": "python",
   "pygments_lexer": "ipython3",
   "version": "3.6.7"
  }
 },
 "nbformat": 4,
 "nbformat_minor": 4
}
