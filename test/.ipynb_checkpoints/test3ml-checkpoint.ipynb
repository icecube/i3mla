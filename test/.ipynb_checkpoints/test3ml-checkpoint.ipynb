{
 "cells": [
  {
   "cell_type": "code",
   "execution_count": 1,
   "metadata": {},
   "outputs": [
    {
     "name": "stderr",
     "output_type": "stream",
     "text": [
      "/data/disk01/home/jasonfan/threeML/threeML/__init__.py:12: UserWarning: No DISPLAY variable set. Using backend for graphics without display (Agg)\n",
      "  warnings.warn(\"No DISPLAY variable set. Using backend for graphics without display (Agg)\")\n",
      "/data/disk01/home/jasonfan/miniconda3/envs/p3/lib/python3.6/site-packages/astromodels/core/parameter.py:555: UserWarning: We have set the min_value of K to 1e-99 because there was a postive transform\n",
      "  warnings.warn('We have set the min_value of %s to 1e-99 because there was a postive transform' % self.path)\n",
      "/data/disk01/home/jasonfan/miniconda3/envs/p3/lib/python3.6/site-packages/astromodels/core/parameter.py:555: UserWarning: We have set the min_value of xc to 1e-99 because there was a postive transform\n",
      "  warnings.warn('We have set the min_value of %s to 1e-99 because there was a postive transform' % self.path)\n",
      "\n",
      "Bad key \"text.kerning_factor\" on line 4 in\n",
      "/data/disk01/home/jasonfan/miniconda3/envs/p3/lib/python3.6/site-packages/matplotlib/mpl-data/stylelib/_classic_test_patch.mplstyle.\n",
      "You probably need to get an updated matplotlibrc file from\n",
      "http://github.com/matplotlib/matplotlib/blob/master/matplotlibrc.template\n",
      "or from the matplotlib source distribution\n",
      "\n",
      "WARNING UserWarning: Using default configuration from /data/disk01/home/jasonfan/threeML/threeML/data/threeML_config.yml. You might want to copy it to /data/disk01/home/jasonfan/.threeML/threeML_config.yml to customize it and avoid this warning.\n",
      "\n",
      "\n",
      "WARNING RuntimeWarning: numpy.ufunc size changed, may indicate binary incompatibility. Expected 192 from C header, got 216 from PyObject\n",
      "\n",
      "INFO:keyring.backend:Loading KWallet\n",
      "INFO:keyring.backend:Loading SecretService\n",
      "INFO:keyring.backend:Loading Windows\n",
      "INFO:keyring.backend:Loading chainer\n",
      "INFO:keyring.backend:Loading macOS\n",
      "\n",
      "WARNING RuntimeWarning: Env. variable OMP_NUM_THREADS is not set. Please set it to 1 for optimal performances in 3ML\n",
      "\n",
      "\n",
      "WARNING RuntimeWarning: Env. variable MKL_NUM_THREADS is not set. Please set it to 1 for optimal performances in 3ML\n",
      "\n",
      "\n",
      "WARNING RuntimeWarning: Env. variable NUMEXPR_NUM_THREADS is not set. Please set it to 1 for optimal performances in 3ML\n",
      "\n",
      "\n",
      "WARNING RuntimeWarning: numpy.ufunc size changed, may indicate binary incompatibility. Expected 192 from C header, got 216 from PyObject\n",
      "\n",
      "\n",
      "WARNING RuntimeWarning: numpy.ufunc size changed, may indicate binary incompatibility. Expected 192 from C header, got 216 from PyObject\n",
      "\n",
      "\n",
      "WARNING RuntimeWarning: numpy.ufunc size changed, may indicate binary incompatibility. Expected 192 from C header, got 216 from PyObject\n",
      "\n",
      "\n",
      "WARNING RuntimeWarning: numpy.ufunc size changed, may indicate binary incompatibility. Expected 192 from C header, got 216 from PyObject\n",
      "\n"
     ]
    }
   ],
   "source": [
    "from threeML import *\n",
    "import numpy as np\n",
    "from threeML.plugins import *\n",
    "from skylab.datasets import Datasets\n",
    "from astropy import units as u\n",
    "\n",
    "import os, sys, glob, abc\n",
    "\n",
    "def read(filelist):\n",
    "    data = []\n",
    "    for f in sorted(filelist):\n",
    "        x = np.load(f)\n",
    "        if len(data) == 0: data = x.copy()\n",
    "        else: data = np.concatenate([data, x])\n",
    "    return data\n",
    "\n",
    "# Where is the dataset stored?\n",
    "dataset = \"/data/i3store/users/mjlarson/student_data\"\n",
    "\n",
    "# Read in all of the data files\n",
    "data_files = dataset + \"/IC86_*exp.npy\"\n",
    "exp = read(glob.glob(data_files))\n",
    "\n",
    "# Read in all of the MC files \n",
    "sim_files = dataset + \"/IC86*MC*npy\"\n",
    "mc = read(glob.glob(sim_files))\n",
    "\n",
    "# Set the angular error floor to 0.2 degrees\n",
    "#exp['angErr'][exp['angErr']<np.deg2rad(0.2)] = np.deg2rad(0.2)\n",
    "#mc['angErr'][mc['angErr']<np.deg2rad(0.2)] = np.deg2rad(0.2)\n",
    "\n",
    "exp['ra']=np.random.uniform(0,2*np.pi,size=len(exp))\n",
    "grl = np.load(\"/data/i3store/users/mjlarson/student_data/GRL/IC86_2012_exp.npy\")\n",
    "livetime = np.sum(grl['livetime'])\n"
   ]
  },
  {
   "cell_type": "code",
   "execution_count": 2,
   "metadata": {},
   "outputs": [],
   "source": [
    "from imp import reload\n",
    "reload(IceCubeLike)\n",
    "\n",
    "import warnings\n",
    "warnings.filterwarnings(\"ignore\")\n",
    "#data = np.random.choice(exp, 10000).copy()\n",
    "#jl._data_list['test'].llh_model.update_data(data)\n",
    "IceCube=IceCubeLike.IceCubeLike(\"test\",exp,mc,exp,verbose=True)\n"
   ]
  },
  {
   "cell_type": "code",
   "execution_count": 3,
   "metadata": {},
   "outputs": [],
   "source": [
    "source1_sp = Powerlaw()\n",
    "#source1_sp._set_units(u.GeV,u.cm**-2 / u.s / u.GeV)\n",
    "source1_sp.K=1e-13\n",
    "source1_neutrino = Powerlaw()\n",
    "source1_neutrino.K=1e-10\n",
    "source1_neutrino.index=-2\n",
    "#source1_sp._set_units(u.GeV,u.cm**-2 / u.s / u.GeV)\n",
    "source1 = PointSource(\"source1\", ra=83.63, dec=22.0145, spectral_shape=source1_sp)\n",
    "source1_nu = IceCubeLike.NeutrinoPointSource(\"source1_nu\",ra=83.63, dec=22.0145,spectral_shape=source1_neutrino)\n",
    "model = Model(source1,source1_nu)\n",
    "model.source1.spectrum.main.Powerlaw.K.fix = True\n",
    "model.source1.spectrum.main.Powerlaw.index.fix = True\n",
    "model.source1_nu.spectrum.main.Powerlaw.index.fix = True\n",
    "IceCubedata = DataList(IceCube)\n",
    "jl = JointLikelihood(model, IceCubedata)"
   ]
  },
  {
   "cell_type": "code",
   "execution_count": 5,
   "metadata": {},
   "outputs": [
    {
     "name": "stdout",
     "output_type": "stream",
     "text": [
      "Auto-probed noise models:\n",
      "- observation: poisson\n",
      "- background: poisson\n"
     ]
    }
   ],
   "source": [
    "from threeML.io.package_data import get_path_of_data_file\n",
    "pha = get_path_of_data_file(\"datasets/ogip_powerlaw.pha\")\n",
    "bak = get_path_of_data_file(\"datasets/ogip_powerlaw.bak\")\n",
    "rsp = get_path_of_data_file(\"datasets/ogip_powerlaw.rsp\")\n",
    "\n",
    "ogip = OGIPLike.OGIPLike(\"ogip\", pha, bak, rsp)\n"
   ]
  },
  {
   "cell_type": "code",
   "execution_count": 7,
   "metadata": {},
   "outputs": [],
   "source": [
    "a=DataList(IceCube,ogip)"
   ]
  },
  {
   "cell_type": "code",
   "execution_count": 13,
   "metadata": {},
   "outputs": [
    {
     "name": "stdout",
     "output_type": "stream",
     "text": [
      "<threeML.plugins.IceCubeLike.IceCubeLike object at 0x7fa01c47ff60>\n",
      "pha file                  /data/disk01/home/jasonfan/threeML/threeML/dat...\n",
      "bak file                  /data/disk01/home/jasonfan/threeML/threeML/dat...\n",
      "n. channels                                                             128\n",
      "total rate                                                             1.74\n",
      "total bkg. rate                                                      0.1464\n",
      "bkg. exposure                                                          5000\n",
      "bkg. is poisson                                                        True\n",
      "exposure                                                                200\n",
      "is poisson                                                             True\n",
      "background                                                         profiled\n",
      "significance                                                        31.1034\n",
      "src/bkg area ratio                                                        1\n",
      "src/bkg exposure ratio                                                 0.04\n",
      "src/bkg scale factor                                                   0.04\n",
      "response                  /data/disk01/home/jasonfan/threeML/threeML/dat...\n"
     ]
    }
   ],
   "source": [
    "for i in a.keys():\n",
    "    if isinstance(a[i],IceCubeLike):\n",
    "        print(a[i])"
   ]
  },
  {
   "cell_type": "code",
   "execution_count": 5,
   "metadata": {},
   "outputs": [
    {
     "name": "stdout",
     "output_type": "stream",
     "text": [
      "(7.938907455644176e-07, -1.5116263410561236e-06)\n",
      "(8.001556498458452e-07, -1.5235552149458705e-06)\n",
      "(7.876751834902708e-07, -1.4997929643321243e-06)\n",
      "(8.588262068350992e-07, -1.635281557134219e-06)\n",
      "(7.338920882010598e-07, -1.397395970106264e-06)\n",
      "(2.9531083414760377e-07, -5.623034657991153e-07)\n",
      "(2.0712342180440079e-07, -3.943928763618216e-07)\n",
      "(1.2983482618626924e-07, -2.4721383873507753e-07)\n",
      "(7.310748835383316e-08, -1.3921025421361224e-07)\n",
      "(4.5569766293303616e-08, -8.677070662010976e-08)\n",
      "(2.7488264192643945e-08, -5.2344068191071234e-08)\n",
      "(4.535771123793561e-11, -9.585532367850669e-11)\n",
      "(0.025778336513625218, -0.04908427161926665)\n",
      "(7.938907455644176e-07, -1.5116263410561236e-06)\n",
      "(5.295860105000791e-09, -1.0092189306479486e-08)\n",
      "(6.486256868208162e-11, -1.1909340180693608e-10)\n",
      "(3.178302126890873e-11, -7.20812298737884e-11)\n",
      "(1.7662654313064338e-09, -3.3639839802649403e-09)\n",
      "(1.428463173106428e-12, 1.2656542480726764e-13)\n",
      "(4.535771123793561e-11, -9.585532367850669e-11)\n",
      "(1.7662654313064338e-09, -3.3639839802649403e-09)\n",
      "(1.428463173106428e-12, 1.2656542480726764e-13)\n",
      "(9.294083496136773e-11, -1.6653745049666304e-10)\n",
      "(2.2317411791222424e-11, -4.7968962135769347e-11)\n",
      "(5.23218239691074e-11, -9.523604127537084e-11)\n",
      "(3.9333384613501944e-11, -7.141931490650694e-11)\n",
      "(4.535771123793561e-11, -9.585532367850669e-11)\n",
      "(6.875609682771918e-11, -1.1873901861747578e-10)\n",
      "(3.000472879778565e-11, -4.7266413005786586e-11)\n",
      "(3.255061214823968e-09, -6.203246805115437e-09)\n",
      "(8.326395961076154e-13, 7.194245199571008e-14)\n",
      "(4.535771123793561e-11, -9.585532367850669e-11)\n",
      "(3.255061214823968e-09, -6.203246805115437e-09)\n",
      "(8.326395961076154e-13, 7.194245199571008e-14)\n",
      "(1.0450624088052317e-10, -1.904767454874457e-10)\n",
      "(1.9904646982362863e-11, -4.818279109031214e-11)\n",
      "(5.355165224333545e-11, -9.512346466067386e-11)\n",
      "(3.843449471995921e-11, -7.150235958874889e-11)\n",
      "(4.535771123793561e-11, -9.585532367850669e-11)\n"
     ]
    }
   ],
   "source": [
    "best_fit_parameters, likelihood_values = jl.fit(quiet=True)"
   ]
  },
  {
   "cell_type": "code",
   "execution_count": 7,
   "metadata": {},
   "outputs": [
    {
     "data": {
      "text/plain": [
       "9.585532367850669e-11"
      ]
     },
     "execution_count": 7,
     "metadata": {},
     "output_type": "execute_result"
    }
   ],
   "source": [
    "jl._current_minimum"
   ]
  },
  {
   "cell_type": "code",
   "execution_count": 33,
   "metadata": {},
   "outputs": [],
   "source": [
    "test=np.linspace(0,jl._data_list['test'].llh_model.N,10000)\n",
    "ts=[]\n",
    "for i in test:\n",
    "    ts.append(jl._data_list['test'].llh_model.eval_llh_ns(i)[1])"
   ]
  },
  {
   "cell_type": "code",
   "execution_count": 34,
   "metadata": {},
   "outputs": [
    {
     "data": {
      "text/plain": [
       "[<matplotlib.lines.Line2D at 0x7efe647b0d68>]"
      ]
     },
     "execution_count": 34,
     "metadata": {},
     "output_type": "execute_result"
    },
    {
     "data": {
      "image/png": "[encoded data removed]",
      "text/plain": [
       "<Figure size 432x288 with 1 Axes>"
      ]
     },
     "metadata": {
      "needs_background": "light"
     },
     "output_type": "display_data"
    }
   ],
   "source": [
    "%matplotlib inline\n",
    "from matplotlib import pyplot as plt, colors\n",
    "plt.plot(test,np.array(ts)*-1)"
   ]
  },
  {
   "cell_type": "code",
   "execution_count": 45,
   "metadata": {},
   "outputs": [],
   "source": [
    "from mla.core import LLH_point_source\n",
    "dec = 22.0145*np.pi/180\n",
    "ra = 83.63*np.pi/180\n",
    "b=LLH_point_source(ra,dec,exp,mc,spectrum=\"PowerLaw\",background=exp,background_time_profile=(50000,60000))"
   ]
  },
  {
   "cell_type": "code",
   "execution_count": 1,
   "metadata": {},
   "outputs": [
    {
     "ename": "NameError",
     "evalue": "name 'jl' is not defined",
     "output_type": "error",
     "traceback": [
      "\u001b[0;31m---------------------------------------------------------------------------\u001b[0m",
      "\u001b[0;31mNameError\u001b[0m                                 Traceback (most recent call last)",
      "\u001b[0;32m<ipython-input-1-e928e755a707>\u001b[0m in \u001b[0;36m<module>\u001b[0;34m\u001b[0m\n\u001b[0;32m----> 1\u001b[0;31m \u001b[0mbest_fit_parameters\u001b[0m\u001b[0;34m,\u001b[0m \u001b[0mlikelihood_values\u001b[0m \u001b[0;34m=\u001b[0m \u001b[0mjl\u001b[0m\u001b[0;34m.\u001b[0m\u001b[0mfit\u001b[0m\u001b[0;34m(\u001b[0m\u001b[0;34m)\u001b[0m\u001b[0;34m\u001b[0m\u001b[0;34m\u001b[0m\u001b[0m\n\u001b[0m",
      "\u001b[0;31mNameError\u001b[0m: name 'jl' is not defined"
     ]
    }
   ],
   "source": [
    "best_fit_parameters, likelihood_values = jl.fit()"
   ]
  },
  {
   "cell_type": "code",
   "execution_count": 11,
   "metadata": {},
   "outputs": [],
   "source": [
    "from imp import reload\n",
    "reload(IceCubeLike)\n",
    "IceCube=IceCubeLike.IceCubeLike(\"test\",exp,mc,exp,background_time_profile=(0,1))\n",
    "\n",
    "source1_sp = Powerlaw()\n",
    "#source1_sp._set_units(u.GeV,u.cm**-2 / u.s / u.GeV)\n",
    "source1_sp.K=1e-13\n",
    "source1_neutrino = Powerlaw()\n",
    "source1_neutrino.K=1e-6\n",
    "\n",
    "#source1_sp._set_units(u.GeV,u.cm**-2 / u.s / u.GeV)\n",
    "source1 = PointSource(\"source1\", ra=83.63, dec=22.0145, spectral_shape=source1_sp)\n",
    "source1_nu = IceCubeLike.NeutrinoPointSource(\"source1_nu\",ra=83.63, dec=22.0145,spectral_shape=source1_neutrino)\n",
    "model = Model(source1,source1_nu)\n",
    "model.source1.spectrum.main.Powerlaw.K.fix = True\n",
    "model.source1.spectrum.main.Powerlaw.index.fix = True\n",
    "model.source1_nu.spectrum.main.Powerlaw.index.bounds = (-4,-1)\n",
    "#model.source1_nu.spectrum.main.Powerlaw.K.bounds = (1e-5 * 1 / (u.cm**2 * u.s * u.TeV),10.0 * 1 / (u.cm**2 * u.s * u.TeV))\n",
    "IceCubedata = DataList(IceCube)\n",
    "jl = JointLikelihood(model, IceCubedata)\n",
    "data=np.load(\"testdata.npy\")\n",
    "data['time']=0.5\n",
    "jl._data_list['test'].llh_model.update_data(data)\n"
   ]
  },
  {
   "cell_type": "code",
   "execution_count": 18,
   "metadata": {},
   "outputs": [
    {
     "data": {
      "text/plain": [
       "odict_values([<threeML.plugins.IceCubeLike.IceCubeLike object at 0x7fe4f721cac8>])"
      ]
     },
     "execution_count": 18,
     "metadata": {},
     "output_type": "execute_result"
    }
   ],
   "source": [
    "jl._data_list.values()"
   ]
  },
  {
   "cell_type": "code",
   "execution_count": null,
   "metadata": {},
   "outputs": [
    {
     "name": "stdout",
     "output_type": "stream",
     "text": [
      "Best fit values:\n",
      "\n"
     ]
    },
    {
     "data": {
      "text/html": [
       "<div>\n",
       "<style scoped>\n",
       "    .dataframe tbody tr th:only-of-type {\n",
       "        vertical-align: middle;\n",
       "    }\n",
       "\n",
       "    .dataframe tbody tr th {\n",
       "        vertical-align: top;\n",
       "    }\n",
       "\n",
       "    .dataframe thead th {\n",
       "        text-align: right;\n",
       "    }\n",
       "</style>\n",
       "<table border=\"1\" class=\"dataframe\">\n",
       "  <thead>\n",
       "    <tr style=\"text-align: right;\">\n",
       "      <th></th>\n",
       "      <th>result</th>\n",
       "      <th>unit</th>\n",
       "    </tr>\n",
       "    <tr>\n",
       "      <th>parameter</th>\n",
       "      <th></th>\n",
       "      <th></th>\n",
       "    </tr>\n",
       "  </thead>\n",
       "  <tbody>\n",
       "    <tr>\n",
       "      <th>source1_nu.spectrum.main.Powerlaw.K</th>\n",
       "      <td>(1.2 -1.0 +6) x 10^-4</td>\n",
       "      <td>1 / (cm2 keV s)</td>\n",
       "    </tr>\n",
       "    <tr>\n",
       "      <th>source1_nu.spectrum.main.Powerlaw.index</th>\n",
       "      <td>-2.38 +/- 0.19</td>\n",
       "      <td></td>\n",
       "    </tr>\n",
       "  </tbody>\n",
       "</table>\n",
       "</div>"
      ],
      "text/plain": [
       "                                                        result  \\\n",
       "parameter                                                        \n",
       "source1_nu.spectrum.main.Powerlaw.K      (1.2 -1.0 +6) x 10^-4   \n",
       "source1_nu.spectrum.main.Powerlaw.index         -2.38 +/- 0.19   \n",
       "\n",
       "                                                    unit  \n",
       "parameter                                                 \n",
       "source1_nu.spectrum.main.Powerlaw.K      1 / (cm2 keV s)  \n",
       "source1_nu.spectrum.main.Powerlaw.index                   "
      ]
     },
     "metadata": {},
     "output_type": "display_data"
    },
    {
     "name": "stdout",
     "output_type": "stream",
     "text": [
      "\n",
      "Correlation matrix:\n",
      "\n"
     ]
    },
    {
     "data": {
      "text/html": [
       "<table id=\"table139723534482176\">\n",
       "<tr><td>1.00</td><td>-1.00</td></tr>\n",
       "<tr><td>-1.00</td><td>1.00</td></tr>\n",
       "</table>"
      ],
      "text/plain": [
       " 1.00 -1.00\n",
       "-1.00  1.00"
      ]
     },
     "metadata": {},
     "output_type": "display_data"
    },
    {
     "name": "stdout",
     "output_type": "stream",
     "text": [
      "\n",
      "Values of -log(likelihood) at the minimum:\n",
      "\n"
     ]
    },
    {
     "data": {
      "text/html": [
       "<div>\n",
       "<style scoped>\n",
       "    .dataframe tbody tr th:only-of-type {\n",
       "        vertical-align: middle;\n",
       "    }\n",
       "\n",
       "    .dataframe tbody tr th {\n",
       "        vertical-align: top;\n",
       "    }\n",
       "\n",
       "    .dataframe thead th {\n",
       "        text-align: right;\n",
       "    }\n",
       "</style>\n",
       "<table border=\"1\" class=\"dataframe\">\n",
       "  <thead>\n",
       "    <tr style=\"text-align: right;\">\n",
       "      <th></th>\n",
       "      <th>-log(likelihood)</th>\n",
       "    </tr>\n",
       "  </thead>\n",
       "  <tbody>\n",
       "    <tr>\n",
       "      <th>test</th>\n",
       "      <td>-275.087937</td>\n",
       "    </tr>\n",
       "    <tr>\n",
       "      <th>total</th>\n",
       "      <td>-275.087937</td>\n",
       "    </tr>\n",
       "  </tbody>\n",
       "</table>\n",
       "</div>"
      ],
      "text/plain": [
       "       -log(likelihood)\n",
       "test        -275.087937\n",
       "total       -275.087937"
      ]
     },
     "metadata": {},
     "output_type": "display_data"
    },
    {
     "name": "stdout",
     "output_type": "stream",
     "text": [
      "\n",
      "Values of statistical measures:\n",
      "\n"
     ]
    },
    {
     "data": {
      "text/html": [
       "<div>\n",
       "<style scoped>\n",
       "    .dataframe tbody tr th:only-of-type {\n",
       "        vertical-align: middle;\n",
       "    }\n",
       "\n",
       "    .dataframe tbody tr th {\n",
       "        vertical-align: top;\n",
       "    }\n",
       "\n",
       "    .dataframe thead th {\n",
       "        text-align: right;\n",
       "    }\n",
       "</style>\n",
       "<table border=\"1\" class=\"dataframe\">\n",
       "  <thead>\n",
       "    <tr style=\"text-align: right;\">\n",
       "      <th></th>\n",
       "      <th>statistical measures</th>\n",
       "    </tr>\n",
       "  </thead>\n",
       "  <tbody>\n",
       "    <tr>\n",
       "      <th>AIC</th>\n",
       "      <td>-552.175873</td>\n",
       "    </tr>\n",
       "    <tr>\n",
       "      <th>BIC</th>\n",
       "      <td>-550.175873</td>\n",
       "    </tr>\n",
       "  </tbody>\n",
       "</table>\n",
       "</div>"
      ],
      "text/plain": [
       "     statistical measures\n",
       "AIC           -552.175873\n",
       "BIC           -550.175873"
      ]
     },
     "metadata": {},
     "output_type": "display_data"
    },
    {
     "name": "stdout",
     "output_type": "stream",
     "text": [
      "Best fit values:\n",
      "\n"
     ]
    },
    {
     "data": {
      "text/html": [
       "<div>\n",
       "<style scoped>\n",
       "    .dataframe tbody tr th:only-of-type {\n",
       "        vertical-align: middle;\n",
       "    }\n",
       "\n",
       "    .dataframe tbody tr th {\n",
       "        vertical-align: top;\n",
       "    }\n",
       "\n",
       "    .dataframe thead th {\n",
       "        text-align: right;\n",
       "    }\n",
       "</style>\n",
       "<table border=\"1\" class=\"dataframe\">\n",
       "  <thead>\n",
       "    <tr style=\"text-align: right;\">\n",
       "      <th></th>\n",
       "      <th>result</th>\n",
       "      <th>unit</th>\n",
       "    </tr>\n",
       "    <tr>\n",
       "      <th>parameter</th>\n",
       "      <th></th>\n",
       "      <th></th>\n",
       "    </tr>\n",
       "  </thead>\n",
       "  <tbody>\n",
       "    <tr>\n",
       "      <th>source1_nu.spectrum.main.Powerlaw.K</th>\n",
       "      <td>(1.2 -1.0 +6) x 10^-4</td>\n",
       "      <td>1 / (cm2 keV s)</td>\n",
       "    </tr>\n",
       "    <tr>\n",
       "      <th>source1_nu.spectrum.main.Powerlaw.index</th>\n",
       "      <td>-2.38 +/- 0.19</td>\n",
       "      <td></td>\n",
       "    </tr>\n",
       "  </tbody>\n",
       "</table>\n",
       "</div>"
      ],
      "text/plain": [
       "                                                        result  \\\n",
       "parameter                                                        \n",
       "source1_nu.spectrum.main.Powerlaw.K      (1.2 -1.0 +6) x 10^-4   \n",
       "source1_nu.spectrum.main.Powerlaw.index         -2.38 +/- 0.19   \n",
       "\n",
       "                                                    unit  \n",
       "parameter                                                 \n",
       "source1_nu.spectrum.main.Powerlaw.K      1 / (cm2 keV s)  \n",
       "source1_nu.spectrum.main.Powerlaw.index                   "
      ]
     },
     "metadata": {},
     "output_type": "display_data"
    },
    {
     "name": "stdout",
     "output_type": "stream",
     "text": [
      "\n",
      "Correlation matrix:\n",
      "\n"
     ]
    },
    {
     "data": {
      "text/html": [
       "<table id=\"table139723534440208\">\n",
       "<tr><td>1.00</td><td>-1.00</td></tr>\n",
       "<tr><td>-1.00</td><td>1.00</td></tr>\n",
       "</table>"
      ],
      "text/plain": [
       " 1.00 -1.00\n",
       "-1.00  1.00"
      ]
     },
     "metadata": {},
     "output_type": "display_data"
    },
    {
     "name": "stdout",
     "output_type": "stream",
     "text": [
      "\n",
      "Values of -log(likelihood) at the minimum:\n",
      "\n"
     ]
    },
    {
     "data": {
      "text/html": [
       "<div>\n",
       "<style scoped>\n",
       "    .dataframe tbody tr th:only-of-type {\n",
       "        vertical-align: middle;\n",
       "    }\n",
       "\n",
       "    .dataframe tbody tr th {\n",
       "        vertical-align: top;\n",
       "    }\n",
       "\n",
       "    .dataframe thead th {\n",
       "        text-align: right;\n",
       "    }\n",
       "</style>\n",
       "<table border=\"1\" class=\"dataframe\">\n",
       "  <thead>\n",
       "    <tr style=\"text-align: right;\">\n",
       "      <th></th>\n",
       "      <th>-log(likelihood)</th>\n",
       "    </tr>\n",
       "  </thead>\n",
       "  <tbody>\n",
       "    <tr>\n",
       "      <th>test</th>\n",
       "      <td>-275.087969</td>\n",
       "    </tr>\n",
       "    <tr>\n",
       "      <th>total</th>\n",
       "      <td>-275.087969</td>\n",
       "    </tr>\n",
       "  </tbody>\n",
       "</table>\n",
       "</div>"
      ],
      "text/plain": [
       "       -log(likelihood)\n",
       "test        -275.087969\n",
       "total       -275.087969"
      ]
     },
     "metadata": {},
     "output_type": "display_data"
    },
    {
     "name": "stdout",
     "output_type": "stream",
     "text": [
      "\n",
      "Values of statistical measures:\n",
      "\n"
     ]
    },
    {
     "data": {
      "text/html": [
       "<div>\n",
       "<style scoped>\n",
       "    .dataframe tbody tr th:only-of-type {\n",
       "        vertical-align: middle;\n",
       "    }\n",
       "\n",
       "    .dataframe tbody tr th {\n",
       "        vertical-align: top;\n",
       "    }\n",
       "\n",
       "    .dataframe thead th {\n",
       "        text-align: right;\n",
       "    }\n",
       "</style>\n",
       "<table border=\"1\" class=\"dataframe\">\n",
       "  <thead>\n",
       "    <tr style=\"text-align: right;\">\n",
       "      <th></th>\n",
       "      <th>statistical measures</th>\n",
       "    </tr>\n",
       "  </thead>\n",
       "  <tbody>\n",
       "    <tr>\n",
       "      <th>AIC</th>\n",
       "      <td>-552.175937</td>\n",
       "    </tr>\n",
       "    <tr>\n",
       "      <th>BIC</th>\n",
       "      <td>-550.175937</td>\n",
       "    </tr>\n",
       "  </tbody>\n",
       "</table>\n",
       "</div>"
      ],
      "text/plain": [
       "     statistical measures\n",
       "AIC           -552.175937\n",
       "BIC           -550.175937"
      ]
     },
     "metadata": {},
     "output_type": "display_data"
    },
    {
     "name": "stdout",
     "output_type": "stream",
     "text": [
      "Best fit values:\n",
      "\n"
     ]
    },
    {
     "data": {
      "text/html": [
       "<div>\n",
       "<style scoped>\n",
       "    .dataframe tbody tr th:only-of-type {\n",
       "        vertical-align: middle;\n",
       "    }\n",
       "\n",
       "    .dataframe tbody tr th {\n",
       "        vertical-align: top;\n",
       "    }\n",
       "\n",
       "    .dataframe thead th {\n",
       "        text-align: right;\n",
       "    }\n",
       "</style>\n",
       "<table border=\"1\" class=\"dataframe\">\n",
       "  <thead>\n",
       "    <tr style=\"text-align: right;\">\n",
       "      <th></th>\n",
       "      <th>result</th>\n",
       "      <th>unit</th>\n",
       "    </tr>\n",
       "    <tr>\n",
       "      <th>parameter</th>\n",
       "      <th></th>\n",
       "      <th></th>\n",
       "    </tr>\n",
       "  </thead>\n",
       "  <tbody>\n",
       "    <tr>\n",
       "      <th>source1_nu.spectrum.main.Powerlaw.K</th>\n",
       "      <td>(1.2 -1.0 +6) x 10^-4</td>\n",
       "      <td>1 / (cm2 keV s)</td>\n",
       "    </tr>\n",
       "    <tr>\n",
       "      <th>source1_nu.spectrum.main.Powerlaw.index</th>\n",
       "      <td>-2.38 +/- 0.19</td>\n",
       "      <td></td>\n",
       "    </tr>\n",
       "  </tbody>\n",
       "</table>\n",
       "</div>"
      ],
      "text/plain": [
       "                                                        result  \\\n",
       "parameter                                                        \n",
       "source1_nu.spectrum.main.Powerlaw.K      (1.2 -1.0 +6) x 10^-4   \n",
       "source1_nu.spectrum.main.Powerlaw.index         -2.38 +/- 0.19   \n",
       "\n",
       "                                                    unit  \n",
       "parameter                                                 \n",
       "source1_nu.spectrum.main.Powerlaw.K      1 / (cm2 keV s)  \n",
       "source1_nu.spectrum.main.Powerlaw.index                   "
      ]
     },
     "metadata": {},
     "output_type": "display_data"
    },
    {
     "name": "stdout",
     "output_type": "stream",
     "text": [
      "\n",
      "Correlation matrix:\n",
      "\n"
     ]
    },
    {
     "data": {
      "text/html": [
       "<table id=\"table139723534538232\">\n",
       "<tr><td>1.00</td><td>-1.00</td></tr>\n",
       "<tr><td>-1.00</td><td>1.00</td></tr>\n",
       "</table>"
      ],
      "text/plain": [
       " 1.00 -1.00\n",
       "-1.00  1.00"
      ]
     },
     "metadata": {},
     "output_type": "display_data"
    },
    {
     "name": "stdout",
     "output_type": "stream",
     "text": [
      "\n",
      "Values of -log(likelihood) at the minimum:\n",
      "\n"
     ]
    },
    {
     "data": {
      "text/html": [
       "<div>\n",
       "<style scoped>\n",
       "    .dataframe tbody tr th:only-of-type {\n",
       "        vertical-align: middle;\n",
       "    }\n",
       "\n",
       "    .dataframe tbody tr th {\n",
       "        vertical-align: top;\n",
       "    }\n",
       "\n",
       "    .dataframe thead th {\n",
       "        text-align: right;\n",
       "    }\n",
       "</style>\n",
       "<table border=\"1\" class=\"dataframe\">\n",
       "  <thead>\n",
       "    <tr style=\"text-align: right;\">\n",
       "      <th></th>\n",
       "      <th>-log(likelihood)</th>\n",
       "    </tr>\n",
       "  </thead>\n",
       "  <tbody>\n",
       "    <tr>\n",
       "      <th>test</th>\n",
       "      <td>-275.087969</td>\n",
       "    </tr>\n",
       "    <tr>\n",
       "      <th>total</th>\n",
       "      <td>-275.087969</td>\n",
       "    </tr>\n",
       "  </tbody>\n",
       "</table>\n",
       "</div>"
      ],
      "text/plain": [
       "       -log(likelihood)\n",
       "test        -275.087969\n",
       "total       -275.087969"
      ]
     },
     "metadata": {},
     "output_type": "display_data"
    },
    {
     "name": "stdout",
     "output_type": "stream",
     "text": [
      "\n",
      "Values of statistical measures:\n",
      "\n"
     ]
    },
    {
     "data": {
      "text/html": [
       "<div>\n",
       "<style scoped>\n",
       "    .dataframe tbody tr th:only-of-type {\n",
       "        vertical-align: middle;\n",
       "    }\n",
       "\n",
       "    .dataframe tbody tr th {\n",
       "        vertical-align: top;\n",
       "    }\n",
       "\n",
       "    .dataframe thead th {\n",
       "        text-align: right;\n",
       "    }\n",
       "</style>\n",
       "<table border=\"1\" class=\"dataframe\">\n",
       "  <thead>\n",
       "    <tr style=\"text-align: right;\">\n",
       "      <th></th>\n",
       "      <th>statistical measures</th>\n",
       "    </tr>\n",
       "  </thead>\n",
       "  <tbody>\n",
       "    <tr>\n",
       "      <th>AIC</th>\n",
       "      <td>-552.175937</td>\n",
       "    </tr>\n",
       "    <tr>\n",
       "      <th>BIC</th>\n",
       "      <td>-550.175937</td>\n",
       "    </tr>\n",
       "  </tbody>\n",
       "</table>\n",
       "</div>"
      ],
      "text/plain": [
       "     statistical measures\n",
       "AIC           -552.175937\n",
       "BIC           -550.175937"
      ]
     },
     "metadata": {},
     "output_type": "display_data"
    },
    {
     "name": "stdout",
     "output_type": "stream",
     "text": [
      "Best fit values:\n",
      "\n"
     ]
    },
    {
     "data": {
      "text/html": [
       "<div>\n",
       "<style scoped>\n",
       "    .dataframe tbody tr th:only-of-type {\n",
       "        vertical-align: middle;\n",
       "    }\n",
       "\n",
       "    .dataframe tbody tr th {\n",
       "        vertical-align: top;\n",
       "    }\n",
       "\n",
       "    .dataframe thead th {\n",
       "        text-align: right;\n",
       "    }\n",
       "</style>\n",
       "<table border=\"1\" class=\"dataframe\">\n",
       "  <thead>\n",
       "    <tr style=\"text-align: right;\">\n",
       "      <th></th>\n",
       "      <th>result</th>\n",
       "      <th>unit</th>\n",
       "    </tr>\n",
       "    <tr>\n",
       "      <th>parameter</th>\n",
       "      <th></th>\n",
       "      <th></th>\n",
       "    </tr>\n",
       "  </thead>\n",
       "  <tbody>\n",
       "    <tr>\n",
       "      <th>source1_nu.spectrum.main.Powerlaw.K</th>\n",
       "      <td>(1.2 -1.0 +6) x 10^-4</td>\n",
       "      <td>1 / (cm2 keV s)</td>\n",
       "    </tr>\n",
       "    <tr>\n",
       "      <th>source1_nu.spectrum.main.Powerlaw.index</th>\n",
       "      <td>-2.38 +/- 0.19</td>\n",
       "      <td></td>\n",
       "    </tr>\n",
       "  </tbody>\n",
       "</table>\n",
       "</div>"
      ],
      "text/plain": [
       "                                                        result  \\\n",
       "parameter                                                        \n",
       "source1_nu.spectrum.main.Powerlaw.K      (1.2 -1.0 +6) x 10^-4   \n",
       "source1_nu.spectrum.main.Powerlaw.index         -2.38 +/- 0.19   \n",
       "\n",
       "                                                    unit  \n",
       "parameter                                                 \n",
       "source1_nu.spectrum.main.Powerlaw.K      1 / (cm2 keV s)  \n",
       "source1_nu.spectrum.main.Powerlaw.index                   "
      ]
     },
     "metadata": {},
     "output_type": "display_data"
    },
    {
     "name": "stdout",
     "output_type": "stream",
     "text": [
      "\n",
      "Correlation matrix:\n",
      "\n"
     ]
    },
    {
     "data": {
      "text/html": [
       "<table id=\"table139723534482456\">\n",
       "<tr><td>1.00</td><td>-1.00</td></tr>\n",
       "<tr><td>-1.00</td><td>1.00</td></tr>\n",
       "</table>"
      ],
      "text/plain": [
       " 1.00 -1.00\n",
       "-1.00  1.00"
      ]
     },
     "metadata": {},
     "output_type": "display_data"
    },
    {
     "name": "stdout",
     "output_type": "stream",
     "text": [
      "\n",
      "Values of -log(likelihood) at the minimum:\n",
      "\n"
     ]
    },
    {
     "data": {
      "text/html": [
       "<div>\n",
       "<style scoped>\n",
       "    .dataframe tbody tr th:only-of-type {\n",
       "        vertical-align: middle;\n",
       "    }\n",
       "\n",
       "    .dataframe tbody tr th {\n",
       "        vertical-align: top;\n",
       "    }\n",
       "\n",
       "    .dataframe thead th {\n",
       "        text-align: right;\n",
       "    }\n",
       "</style>\n",
       "<table border=\"1\" class=\"dataframe\">\n",
       "  <thead>\n",
       "    <tr style=\"text-align: right;\">\n",
       "      <th></th>\n",
       "      <th>-log(likelihood)</th>\n",
       "    </tr>\n",
       "  </thead>\n",
       "  <tbody>\n",
       "    <tr>\n",
       "      <th>test</th>\n",
       "      <td>-275.087969</td>\n",
       "    </tr>\n",
       "    <tr>\n",
       "      <th>total</th>\n",
       "      <td>-275.087969</td>\n",
       "    </tr>\n",
       "  </tbody>\n",
       "</table>\n",
       "</div>"
      ],
      "text/plain": [
       "       -log(likelihood)\n",
       "test        -275.087969\n",
       "total       -275.087969"
      ]
     },
     "metadata": {},
     "output_type": "display_data"
    },
    {
     "name": "stdout",
     "output_type": "stream",
     "text": [
      "\n",
      "Values of statistical measures:\n",
      "\n"
     ]
    },
    {
     "data": {
      "text/html": [
       "<div>\n",
       "<style scoped>\n",
       "    .dataframe tbody tr th:only-of-type {\n",
       "        vertical-align: middle;\n",
       "    }\n",
       "\n",
       "    .dataframe tbody tr th {\n",
       "        vertical-align: top;\n",
       "    }\n",
       "\n",
       "    .dataframe thead th {\n",
       "        text-align: right;\n",
       "    }\n",
       "</style>\n",
       "<table border=\"1\" class=\"dataframe\">\n",
       "  <thead>\n",
       "    <tr style=\"text-align: right;\">\n",
       "      <th></th>\n",
       "      <th>statistical measures</th>\n",
       "    </tr>\n",
       "  </thead>\n",
       "  <tbody>\n",
       "    <tr>\n",
       "      <th>AIC</th>\n",
       "      <td>-552.175937</td>\n",
       "    </tr>\n",
       "    <tr>\n",
       "      <th>BIC</th>\n",
       "      <td>-550.175937</td>\n",
       "    </tr>\n",
       "  </tbody>\n",
       "</table>\n",
       "</div>"
      ],
      "text/plain": [
       "     statistical measures\n",
       "AIC           -552.175937\n",
       "BIC           -550.175937"
      ]
     },
     "metadata": {},
     "output_type": "display_data"
    },
    {
     "name": "stdout",
     "output_type": "stream",
     "text": [
      "Best fit values:\n",
      "\n"
     ]
    },
    {
     "data": {
      "text/html": [
       "<div>\n",
       "<style scoped>\n",
       "    .dataframe tbody tr th:only-of-type {\n",
       "        vertical-align: middle;\n",
       "    }\n",
       "\n",
       "    .dataframe tbody tr th {\n",
       "        vertical-align: top;\n",
       "    }\n",
       "\n",
       "    .dataframe thead th {\n",
       "        text-align: right;\n",
       "    }\n",
       "</style>\n",
       "<table border=\"1\" class=\"dataframe\">\n",
       "  <thead>\n",
       "    <tr style=\"text-align: right;\">\n",
       "      <th></th>\n",
       "      <th>result</th>\n",
       "      <th>unit</th>\n",
       "    </tr>\n",
       "    <tr>\n",
       "      <th>parameter</th>\n",
       "      <th></th>\n",
       "      <th></th>\n",
       "    </tr>\n",
       "  </thead>\n",
       "  <tbody>\n",
       "    <tr>\n",
       "      <th>source1_nu.spectrum.main.Powerlaw.K</th>\n",
       "      <td>(1.2 -1.0 +6) x 10^-4</td>\n",
       "      <td>1 / (cm2 keV s)</td>\n",
       "    </tr>\n",
       "    <tr>\n",
       "      <th>source1_nu.spectrum.main.Powerlaw.index</th>\n",
       "      <td>-2.38 +/- 0.19</td>\n",
       "      <td></td>\n",
       "    </tr>\n",
       "  </tbody>\n",
       "</table>\n",
       "</div>"
      ],
      "text/plain": [
       "                                                        result  \\\n",
       "parameter                                                        \n",
       "source1_nu.spectrum.main.Powerlaw.K      (1.2 -1.0 +6) x 10^-4   \n",
       "source1_nu.spectrum.main.Powerlaw.index         -2.38 +/- 0.19   \n",
       "\n",
       "                                                    unit  \n",
       "parameter                                                 \n",
       "source1_nu.spectrum.main.Powerlaw.K      1 / (cm2 keV s)  \n",
       "source1_nu.spectrum.main.Powerlaw.index                   "
      ]
     },
     "metadata": {},
     "output_type": "display_data"
    },
    {
     "name": "stdout",
     "output_type": "stream",
     "text": [
      "\n",
      "Correlation matrix:\n",
      "\n"
     ]
    },
    {
     "data": {
      "text/html": [
       "<table id=\"table139723534482176\">\n",
       "<tr><td>1.00</td><td>-1.00</td></tr>\n",
       "<tr><td>-1.00</td><td>1.00</td></tr>\n",
       "</table>"
      ],
      "text/plain": [
       " 1.00 -1.00\n",
       "-1.00  1.00"
      ]
     },
     "metadata": {},
     "output_type": "display_data"
    },
    {
     "name": "stdout",
     "output_type": "stream",
     "text": [
      "\n",
      "Values of -log(likelihood) at the minimum:\n",
      "\n"
     ]
    },
    {
     "data": {
      "text/html": [
       "<div>\n",
       "<style scoped>\n",
       "    .dataframe tbody tr th:only-of-type {\n",
       "        vertical-align: middle;\n",
       "    }\n",
       "\n",
       "    .dataframe tbody tr th {\n",
       "        vertical-align: top;\n",
       "    }\n",
       "\n",
       "    .dataframe thead th {\n",
       "        text-align: right;\n",
       "    }\n",
       "</style>\n",
       "<table border=\"1\" class=\"dataframe\">\n",
       "  <thead>\n",
       "    <tr style=\"text-align: right;\">\n",
       "      <th></th>\n",
       "      <th>-log(likelihood)</th>\n",
       "    </tr>\n",
       "  </thead>\n",
       "  <tbody>\n",
       "    <tr>\n",
       "      <th>test</th>\n",
       "      <td>-275.087969</td>\n",
       "    </tr>\n",
       "    <tr>\n",
       "      <th>total</th>\n",
       "      <td>-275.087969</td>\n",
       "    </tr>\n",
       "  </tbody>\n",
       "</table>\n",
       "</div>"
      ],
      "text/plain": [
       "       -log(likelihood)\n",
       "test        -275.087969\n",
       "total       -275.087969"
      ]
     },
     "metadata": {},
     "output_type": "display_data"
    },
    {
     "name": "stdout",
     "output_type": "stream",
     "text": [
      "\n",
      "Values of statistical measures:\n",
      "\n"
     ]
    },
    {
     "data": {
      "text/html": [
       "<div>\n",
       "<style scoped>\n",
       "    .dataframe tbody tr th:only-of-type {\n",
       "        vertical-align: middle;\n",
       "    }\n",
       "\n",
       "    .dataframe tbody tr th {\n",
       "        vertical-align: top;\n",
       "    }\n",
       "\n",
       "    .dataframe thead th {\n",
       "        text-align: right;\n",
       "    }\n",
       "</style>\n",
       "<table border=\"1\" class=\"dataframe\">\n",
       "  <thead>\n",
       "    <tr style=\"text-align: right;\">\n",
       "      <th></th>\n",
       "      <th>statistical measures</th>\n",
       "    </tr>\n",
       "  </thead>\n",
       "  <tbody>\n",
       "    <tr>\n",
       "      <th>AIC</th>\n",
       "      <td>-552.175937</td>\n",
       "    </tr>\n",
       "    <tr>\n",
       "      <th>BIC</th>\n",
       "      <td>-550.175937</td>\n",
       "    </tr>\n",
       "  </tbody>\n",
       "</table>\n",
       "</div>"
      ],
      "text/plain": [
       "     statistical measures\n",
       "AIC           -552.175937\n",
       "BIC           -550.175937"
      ]
     },
     "metadata": {},
     "output_type": "display_data"
    }
   ],
   "source": [
    "%timeit best_fit_parameters, likelihood_values = jl.fit()"
   ]
  },
  {
   "cell_type": "code",
   "execution_count": null,
   "metadata": {},
   "outputs": [],
   "source": []
  },
  {
   "cell_type": "code",
   "execution_count": null,
   "metadata": {},
   "outputs": [],
   "source": []
  }
 ],
 "metadata": {
  "kernelspec": {
   "display_name": "i3",
   "language": "python",
   "name": "i3"
  },
  "language_info": {
   "codemirror_mode": {
    "name": "ipython",
    "version": 3
   },
   "file_extension": ".py",
   "mimetype": "text/x-python",
   "name": "python",
   "nbconvert_exporter": "python",
   "pygments_lexer": "ipython3",
   "version": "3.6.7"
  }
 },
 "nbformat": 4,
 "nbformat_minor": 4
}
