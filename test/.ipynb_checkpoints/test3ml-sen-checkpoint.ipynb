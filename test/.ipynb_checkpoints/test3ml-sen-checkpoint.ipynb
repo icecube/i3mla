{
 "cells": [
  {
   "cell_type": "code",
   "execution_count": null,
   "metadata": {},
   "outputs": [],
   "source": [
    "from threeML import *\n",
    "import numpy as np\n",
    "from threeML.plugins import *\n",
    "from skylab.datasets import Datasets\n",
    "from astropy import units as u\n",
    "\n",
    "import os, sys, glob, abc\n",
    "\n",
    "def read(filelist):\n",
    "    data = []\n",
    "    for f in sorted(filelist):\n",
    "        x = np.load(f)\n",
    "        if len(data) == 0: data = x.copy()\n",
    "        else: data = np.concatenate([data, x])\n",
    "    return data\n",
    "\n",
    "# Where is the dataset stored?\n",
    "dataset = \"/data/i3store/users/mjlarson/student_data\"\n",
    "\n",
    "# Read in all of the data files\n",
    "data_files = dataset + \"/IC86_*exp.npy\"\n",
    "exp = read(glob.glob(data_files))\n",
    "\n",
    "# Read in all of the MC files \n",
    "sim_files = dataset + \"/IC86*MC*npy\"\n",
    "mc = read(glob.glob(sim_files))\n",
    "\n",
    "# Set the angular error floor to 0.2 degrees\n",
    "#exp['angErr'][exp['angErr']<np.deg2rad(0.2)] = np.deg2rad(0.2)\n",
    "#mc['angErr'][mc['angErr']<np.deg2rad(0.2)] = np.deg2rad(0.2)\n",
    "\n",
    "exp['ra']=np.random.uniform(0,2*np.pi,size=len(exp))\n",
    "grl = np.load(\"/data/i3store/users/mjlarson/student_data/GRL/IC86_2012_exp.npy\")\n",
    "livetime = np.sum(grl['livetime'])\n"
   ]
  },
  {
   "cell_type": "code",
   "execution_count": 151,
   "metadata": {},
   "outputs": [],
   "source": [
    "from imp import reload\n",
    "reload(IceCubeLike)\n",
    "\n",
    "import warnings\n",
    "warnings.filterwarnings(\"ignore\")\n",
    "#data = np.random.choice(exp, 10000).copy()\n",
    "#jl._data_list['test'].llh_model.update_data(data)\n",
    "IceCube=IceCubeLike.IceCubeLike(\"test\",exp,mc,exp,verbose=True,background_time_profile= (56224,56324))\n"
   ]
  },
  {
   "cell_type": "code",
   "execution_count": 152,
   "metadata": {},
   "outputs": [],
   "source": [
    "source1_sp = Powerlaw()\n",
    "#source1_sp._set_units(u.GeV,u.cm**-2 / u.s / u.GeV)\n",
    "source1_sp.K=1e-13\n",
    "source1_neutrino = Powerlaw()\n",
    "source1_neutrino.K=1e-8\n",
    "source1_neutrino.index=-2\n",
    "#source1_sp._set_units(u.GeV,u.cm**-2 / u.s / u.GeV)\n",
    "source1 = PointSource(\"source1\", ra=83.63, dec=22.0145, spectral_shape=source1_sp)\n",
    "source1_nu = IceCubeLike.NeutrinoPointSource(\"source1_nu\",ra=83.63, dec=22.0145,spectral_shape=source1_neutrino)\n",
    "\n",
    "model2 = Model(source1,source1_nu)\n",
    "model2.source1.spectrum.main.Powerlaw.K.fix = True\n",
    "model2.source1.spectrum.main.Powerlaw.index.fix = True"
   ]
  },
  {
   "cell_type": "code",
   "execution_count": 153,
   "metadata": {},
   "outputs": [],
   "source": [
    "source1_sp = Powerlaw()\n",
    "#source1_sp._set_units(u.GeV,u.cm**-2 / u.s / u.GeV)\n",
    "source1_sp.K=1e-13\n",
    "source1_neutrino = Powerlaw()\n",
    "source1_neutrino.K=1e-9\n",
    "source1_neutrino.index=-2\n",
    "#source1_sp._set_units(u.GeV,u.cm**-2 / u.s / u.GeV)\n",
    "source1 = PointSource(\"source1\", ra=83.63, dec=22.0145, spectral_shape=source1_sp)\n",
    "source1_nu = IceCubeLike.NeutrinoPointSource(\"source1_nu\",ra=83.63, dec=22.0145,spectral_shape=source1_neutrino)\n",
    "model = Model(source1,source1_nu)\n",
    "model.source1.spectrum.main.Powerlaw.K.fix = True\n",
    "model.source1.spectrum.main.Powerlaw.index.fix = True\n",
    "#IceCube.set_model(model)\n",
    "IceCubedata = DataList(IceCube)\n",
    "jl = JointLikelihood(model, IceCubedata)\n"
   ]
  },
  {
   "cell_type": "code",
   "execution_count": 154,
   "metadata": {},
   "outputs": [],
   "source": [
    "\n",
    "test=IceCubeLike.sensitivity(jl)"
   ]
  },
  {
   "cell_type": "code",
   "execution_count": 155,
   "metadata": {},
   "outputs": [],
   "source": [
    "test.set_backround(grl,model ,time_window=100,start_time=56224)"
   ]
  },
  {
   "cell_type": "code",
   "execution_count": 156,
   "metadata": {},
   "outputs": [],
   "source": [
    "import mla \n",
    "basespectrum = mla.spectral.PowerLaw(100e3 , 1 , -2)\n",
    "test.set_injection(background_time_profile = (56224,56324))"
   ]
  },
  {
   "cell_type": "code",
   "execution_count": 147,
   "metadata": {},
   "outputs": [
    {
     "data": {
      "text/plain": [
       "(4.629658933395465e-07, -9.25923835828025e-07)"
      ]
     },
     "execution_count": 147,
     "metadata": {},
     "output_type": "execute_result"
    }
   ],
   "source": [
    "test.jl_value.llh_model.eval_llh()"
   ]
  },
  {
   "cell_type": "code",
   "execution_count": 52,
   "metadata": {},
   "outputs": [
    {
     "name": "stdout",
     "output_type": "stream",
     "text": [
      "(4.629658933395465e-07, -9.259319089300663e-07)\n",
      "(0.0, 0.0)\n",
      "(4.629658933395464, 0.09335612008783922)\n"
     ]
    },
    {
     "ename": "RuntimeError",
     "evalue": "exception was raised in user function\nUser function arguments:\n    source1_nu_spectrum_main_Powerlaw_K = -7.998400\nOriginal python exception in user function:\nKeyboardInterrupt: \n  File \"/data/disk01/home/jasonfan/threeML/threeML/classicMLE/joint_likelihood.py\", line 745, in minus_log_like_profile\n    this_log_like = dataset.inner_fit()\n  File \"/data/disk01/home/jasonfan/threeML/threeML/plugins/IceCubeLike.py\", line 315, in inner_fit\n    return self.get_log_like()\n  File \"/data/disk01/home/jasonfan/threeML/threeML/plugins/IceCubeLike.py\", line 308, in get_log_like\n    self.update_model()\n  File \"/data/disk01/home/jasonfan/threeML/threeML/plugins/IceCubeLike.py\", line 299, in update_model\n    self.llh_model.update_spectrum(self.spectrum)\n  File \"/data/disk01/home/jasonfan/umd_icecube_analysis_tutorial/mla/mla/core.py\", line 308, in update_spectrum\n    self.update_energy_histogram()\n  File \"/data/disk01/home/jasonfan/umd_icecube_analysis_tutorial/mla/mla/core.py\", line 384, in update_energy_histogram\n    sig_w/=np.sum(self.fullsim['ow'] * self.spectrum(self.fullsim['trueE']))\n  File \"/data/disk01/home/jasonfan/threeML/threeML/plugins/IceCubeLike.py\", line 215, in __call__\n    return self.model._point_sources[self.neutrinopointsource].call(E)*self.A\n  File \"/data/disk01/home/jasonfan/threeML/threeML/plugins/IceCubeLike.py\", line 149, in call\n    results = [component.shape(x) for component in list(self.components.values())]\n  File \"/data/disk01/home/jasonfan/threeML/threeML/plugins/IceCubeLike.py\", line 149, in <listcomp>\n    results = [component.shape(x) for component in list(self.components.values())]\n  File \"/data/disk01/home/jasonfan/miniconda3/envs/p3/lib/python3.6/site-packages/astromodels/functions/function.py\", line 911, in __call__\n    return self.fast_call(x)\n  File \"/data/disk01/home/jasonfan/miniconda3/envs/p3/lib/python3.6/site-packages/astromodels/core/memoization.py\", line 58, in memoizer\n    return method(instance, x, *args, **kwargs)\n  File \"/data/disk01/home/jasonfan/miniconda3/envs/p3/lib/python3.6/site-packages/astromodels/functions/function.py\", line 986, in fast_call\n    return self.evaluate(x, *values)\n  File \"/data/disk01/home/jasonfan/miniconda3/envs/p3/lib/python3.6/site-packages/astromodels/functions/functions.py\", line 212, in evaluate\n    return K * np.power(xx, index)\n",
     "output_type": "error",
     "traceback": [
      "\u001b[0;31m---------------------------------------------------------------------------\u001b[0m",
      "\u001b[0;31mRuntimeError\u001b[0m                              Traceback (most recent call last)",
      "\u001b[0;32m<ipython-input-52-3137fe2073ec>\u001b[0m in \u001b[0;36m<module>\u001b[0;34m\u001b[0m\n\u001b[1;32m      4\u001b[0m \u001b[0mprint\u001b[0m\u001b[0;34m(\u001b[0m\u001b[0mtest\u001b[0m\u001b[0;34m.\u001b[0m\u001b[0mjl_value\u001b[0m\u001b[0;34m.\u001b[0m\u001b[0mllh_model\u001b[0m\u001b[0;34m.\u001b[0m\u001b[0meval_llh\u001b[0m\u001b[0;34m(\u001b[0m\u001b[0;34m)\u001b[0m\u001b[0;34m)\u001b[0m\u001b[0;34m\u001b[0m\u001b[0;34m\u001b[0m\u001b[0m\n\u001b[1;32m      5\u001b[0m \u001b[0mprint\u001b[0m\u001b[0;34m(\u001b[0m\u001b[0mtest\u001b[0m\u001b[0;34m.\u001b[0m\u001b[0mjl_value\u001b[0m\u001b[0;34m.\u001b[0m\u001b[0mllh_model\u001b[0m\u001b[0;34m.\u001b[0m\u001b[0meval_llh_fit_ns\u001b[0m\u001b[0;34m(\u001b[0m\u001b[0;34m)\u001b[0m\u001b[0;34m)\u001b[0m\u001b[0;34m\u001b[0m\u001b[0;34m\u001b[0m\u001b[0m\n\u001b[0;32m----> 6\u001b[0;31m \u001b[0mtest\u001b[0m\u001b[0;34m.\u001b[0m\u001b[0mjl\u001b[0m\u001b[0;34m.\u001b[0m\u001b[0mfit\u001b[0m\u001b[0;34m(\u001b[0m\u001b[0;34m)\u001b[0m\u001b[0;34m\u001b[0m\u001b[0;34m\u001b[0m\u001b[0m\n\u001b[0m",
      "\u001b[0;32m~/threeML/threeML/classicMLE/joint_likelihood.py\u001b[0m in \u001b[0;36mfit\u001b[0;34m(self, quiet, compute_covariance, n_samples)\u001b[0m\n\u001b[1;32m    265\u001b[0m             \u001b[0msys\u001b[0m\u001b[0;34m.\u001b[0m\u001b[0mstdout\u001b[0m\u001b[0;34m.\u001b[0m\u001b[0mflush\u001b[0m\u001b[0;34m(\u001b[0m\u001b[0;34m)\u001b[0m\u001b[0;34m\u001b[0m\u001b[0;34m\u001b[0m\u001b[0m\n\u001b[1;32m    266\u001b[0m \u001b[0;34m\u001b[0m\u001b[0m\n\u001b[0;32m--> 267\u001b[0;31m             \u001b[0mxs\u001b[0m\u001b[0;34m,\u001b[0m \u001b[0mlog_likelihood_minimum\u001b[0m \u001b[0;34m=\u001b[0m \u001b[0mself\u001b[0m\u001b[0;34m.\u001b[0m\u001b[0m_minimizer\u001b[0m\u001b[0;34m.\u001b[0m\u001b[0mminimize\u001b[0m\u001b[0;34m(\u001b[0m\u001b[0mcompute_covar\u001b[0m\u001b[0;34m=\u001b[0m\u001b[0mcompute_covariance\u001b[0m\u001b[0;34m)\u001b[0m\u001b[0;34m\u001b[0m\u001b[0;34m\u001b[0m\u001b[0m\n\u001b[0m\u001b[1;32m    268\u001b[0m \u001b[0;34m\u001b[0m\u001b[0m\n\u001b[1;32m    269\u001b[0m             \u001b[0;32mif\u001b[0m \u001b[0mlog_likelihood_minimum\u001b[0m \u001b[0;34m==\u001b[0m \u001b[0mminimization\u001b[0m\u001b[0;34m.\u001b[0m\u001b[0mFIT_FAILED\u001b[0m\u001b[0;34m:\u001b[0m\u001b[0;34m\u001b[0m\u001b[0;34m\u001b[0m\u001b[0m\n",
      "\u001b[0;32m~/threeML/threeML/minimizer/minimization.py\u001b[0m in \u001b[0;36mminimize\u001b[0;34m(self, compute_covar)\u001b[0m\n\u001b[1;32m    572\u001b[0m         \u001b[0;32mtry\u001b[0m\u001b[0;34m:\u001b[0m\u001b[0;34m\u001b[0m\u001b[0;34m\u001b[0m\u001b[0m\n\u001b[1;32m    573\u001b[0m \u001b[0;34m\u001b[0m\u001b[0m\n\u001b[0;32m--> 574\u001b[0;31m             \u001b[0minternal_best_fit_values\u001b[0m\u001b[0;34m,\u001b[0m \u001b[0mfunction_minimum\u001b[0m \u001b[0;34m=\u001b[0m \u001b[0mself\u001b[0m\u001b[0;34m.\u001b[0m\u001b[0m_minimize\u001b[0m\u001b[0;34m(\u001b[0m\u001b[0;34m)\u001b[0m\u001b[0;34m\u001b[0m\u001b[0;34m\u001b[0m\u001b[0m\n\u001b[0m\u001b[1;32m    575\u001b[0m \u001b[0;34m\u001b[0m\u001b[0m\n\u001b[1;32m    576\u001b[0m         \u001b[0;32mexcept\u001b[0m \u001b[0mFitFailed\u001b[0m\u001b[0;34m:\u001b[0m\u001b[0;34m\u001b[0m\u001b[0;34m\u001b[0m\u001b[0m\n",
      "\u001b[0;32m~/threeML/threeML/minimizer/minuit_minimizer.py\u001b[0m in \u001b[0;36m_minimize\u001b[0;34m(self)\u001b[0m\n\u001b[1;32m    217\u001b[0m         \u001b[0;31m# Try a maximum of 10 times and break as soon as the fit is ok\u001b[0m\u001b[0;34m\u001b[0m\u001b[0;34m\u001b[0m\u001b[0;34m\u001b[0m\u001b[0m\n\u001b[1;32m    218\u001b[0m \u001b[0;34m\u001b[0m\u001b[0m\n\u001b[0;32m--> 219\u001b[0;31m         \u001b[0mself\u001b[0m\u001b[0;34m.\u001b[0m\u001b[0m_last_migrad_results\u001b[0m \u001b[0;34m=\u001b[0m \u001b[0mself\u001b[0m\u001b[0;34m.\u001b[0m\u001b[0mminuit\u001b[0m\u001b[0;34m.\u001b[0m\u001b[0mmigrad\u001b[0m\u001b[0;34m(\u001b[0m\u001b[0mresume\u001b[0m\u001b[0;34m=\u001b[0m\u001b[0;32mFalse\u001b[0m\u001b[0;34m)\u001b[0m\u001b[0;34m\u001b[0m\u001b[0;34m\u001b[0m\u001b[0m\n\u001b[0m\u001b[1;32m    220\u001b[0m \u001b[0;34m\u001b[0m\u001b[0m\n\u001b[1;32m    221\u001b[0m         \u001b[0;32mfor\u001b[0m \u001b[0mi\u001b[0m \u001b[0;32min\u001b[0m \u001b[0mrange\u001b[0m\u001b[0;34m(\u001b[0m\u001b[0;36m9\u001b[0m\u001b[0;34m)\u001b[0m\u001b[0;34m:\u001b[0m\u001b[0;34m\u001b[0m\u001b[0;34m\u001b[0m\u001b[0m\n",
      "\u001b[0;32miminuit/_libiminuit.pyx\u001b[0m in \u001b[0;36miminuit._libiminuit.Minuit.migrad\u001b[0;34m()\u001b[0m\n",
      "\u001b[0;31mRuntimeError\u001b[0m: exception was raised in user function\nUser function arguments:\n    source1_nu_spectrum_main_Powerlaw_K = -7.998400\nOriginal python exception in user function:\nKeyboardInterrupt: \n  File \"/data/disk01/home/jasonfan/threeML/threeML/classicMLE/joint_likelihood.py\", line 745, in minus_log_like_profile\n    this_log_like = dataset.inner_fit()\n  File \"/data/disk01/home/jasonfan/threeML/threeML/plugins/IceCubeLike.py\", line 315, in inner_fit\n    return self.get_log_like()\n  File \"/data/disk01/home/jasonfan/threeML/threeML/plugins/IceCubeLike.py\", line 308, in get_log_like\n    self.update_model()\n  File \"/data/disk01/home/jasonfan/threeML/threeML/plugins/IceCubeLike.py\", line 299, in update_model\n    self.llh_model.update_spectrum(self.spectrum)\n  File \"/data/disk01/home/jasonfan/umd_icecube_analysis_tutorial/mla/mla/core.py\", line 308, in update_spectrum\n    self.update_energy_histogram()\n  File \"/data/disk01/home/jasonfan/umd_icecube_analysis_tutorial/mla/mla/core.py\", line 384, in update_energy_histogram\n    sig_w/=np.sum(self.fullsim['ow'] * self.spectrum(self.fullsim['trueE']))\n  File \"/data/disk01/home/jasonfan/threeML/threeML/plugins/IceCubeLike.py\", line 215, in __call__\n    return self.model._point_sources[self.neutrinopointsource].call(E)*self.A\n  File \"/data/disk01/home/jasonfan/threeML/threeML/plugins/IceCubeLike.py\", line 149, in call\n    results = [component.shape(x) for component in list(self.components.values())]\n  File \"/data/disk01/home/jasonfan/threeML/threeML/plugins/IceCubeLike.py\", line 149, in <listcomp>\n    results = [component.shape(x) for component in list(self.components.values())]\n  File \"/data/disk01/home/jasonfan/miniconda3/envs/p3/lib/python3.6/site-packages/astromodels/functions/function.py\", line 911, in __call__\n    return self.fast_call(x)\n  File \"/data/disk01/home/jasonfan/miniconda3/envs/p3/lib/python3.6/site-packages/astromodels/core/memoization.py\", line 58, in memoizer\n    return method(instance, x, *args, **kwargs)\n  File \"/data/disk01/home/jasonfan/miniconda3/envs/p3/lib/python3.6/site-packages/astromodels/functions/function.py\", line 986, in fast_call\n    return self.evaluate(x, *values)\n  File \"/data/disk01/home/jasonfan/miniconda3/envs/p3/lib/python3.6/site-packages/astromodels/functions/functions.py\", line 212, in evaluate\n    return K * np.power(xx, index)\n"
     ]
    }
   ],
   "source": [
    "#test.jl_value.llh_model.update_spectrum(mla.spectral.PowerLaw(100e3 , 1e-19 , -2))\n",
    "test.jl_value.llh_model.update_data(test.draw_data())\n",
    "test.jl_value.verbose=True\n",
    "print(test.jl_value.llh_model.eval_llh())\n",
    "print(test.jl_value.llh_model.eval_llh_fit_ns())\n",
    "test.jl.fit()"
   ]
  },
  {
   "cell_type": "code",
   "execution_count": null,
   "metadata": {},
   "outputs": [
    {
     "name": "stdout",
     "output_type": "stream",
     "text": [
      "start building Background TS\n",
      "0\n",
      "(4.629658933395464, -3.013959104521102)\n",
      "(4.6467467884449, -3.0273582477389045)\n",
      "(4.612633298909365, -3.0006218474726136)\n",
      "(4.632466384111266, -3.016159614674544)\n",
      "(4.626853167318002, -3.0117602699396215)\n",
      "(4.649043335575038, -3.0323586631933725)\n"
     ]
    }
   ],
   "source": [
    "test.jl_value.verbose=True\n",
    "test.build_background_TS(1)\n",
    "print(test.jl_value.llh_model.eval_llh_fit_ns())"
   ]
  },
  {
   "cell_type": "code",
   "execution_count": 150,
   "metadata": {},
   "outputs": [
    {
     "data": {
      "text/plain": [
       "OrderedDict([('source1',   * source1 (point source):\n",
       "                  * position:\n",
       "                    * ra:\n",
       "                      * value: 83.63\n",
       "                      * desc: Right Ascension\n",
       "                      * min_value: 0.0\n",
       "                      * max_value: 360.0\n",
       "                      * unit: deg\n",
       "                      * is_normalization: false\n",
       "                    * dec:\n",
       "                      * value: 22.0145\n",
       "                      * desc: Declination\n",
       "                      * min_value: -90.0\n",
       "                      * max_value: 90.0\n",
       "                      * unit: deg\n",
       "                      * is_normalization: false\n",
       "                    * equinox: J2000\n",
       "                  * spectrum:\n",
       "                    * main:\n",
       "                      * Powerlaw:\n",
       "                        * K:\n",
       "                          * value: 1.0e-13\n",
       "                          * desc: Normalization (differential flux at the pivot value)\n",
       "                          * min_value: 1.0e-30\n",
       "                          * max_value: 1000.0\n",
       "                          * unit: keV-1 s-1 cm-2\n",
       "                          * is_normalization: true\n",
       "                        * piv:\n",
       "                          * value: 1.0\n",
       "                          * desc: Pivot value\n",
       "                          * min_value: null\n",
       "                          * max_value: null\n",
       "                          * unit: keV\n",
       "                          * is_normalization: false\n",
       "                        * index:\n",
       "                          * value: -2.0\n",
       "                          * desc: Photon index\n",
       "                          * min_value: -10.0\n",
       "                          * max_value: 10.0\n",
       "                          * unit: ''\n",
       "                          * is_normalization: false\n",
       "                      * polarization: {}),\n",
       "             ('source1_nu',   * source1_nu (point source):\n",
       "                  * position:\n",
       "                    * ra:\n",
       "                      * value: 83.63\n",
       "                      * desc: Right Ascension\n",
       "                      * min_value: 0.0\n",
       "                      * max_value: 360.0\n",
       "                      * unit: deg\n",
       "                      * is_normalization: false\n",
       "                    * dec:\n",
       "                      * value: 22.0145\n",
       "                      * desc: Declination\n",
       "                      * min_value: -90.0\n",
       "                      * max_value: 90.0\n",
       "                      * unit: deg\n",
       "                      * is_normalization: false\n",
       "                    * equinox: J2000\n",
       "                  * spectrum:\n",
       "                    * main:\n",
       "                      * Powerlaw:\n",
       "                        * K:\n",
       "                          * value: 2.6845292175006084e-13\n",
       "                          * desc: Normalization (differential flux at the pivot value)\n",
       "                          * min_value: 1.0e-30\n",
       "                          * max_value: 1000.0\n",
       "                          * unit: keV-1 s-1 cm-2\n",
       "                          * is_normalization: true\n",
       "                        * piv:\n",
       "                          * value: 1.0\n",
       "                          * desc: Pivot value\n",
       "                          * min_value: null\n",
       "                          * max_value: null\n",
       "                          * unit: keV\n",
       "                          * is_normalization: false\n",
       "                        * index:\n",
       "                          * value: -2.149424323040754\n",
       "                          * desc: Photon index\n",
       "                          * min_value: -10.0\n",
       "                          * max_value: 10.0\n",
       "                          * unit: ''\n",
       "                          * is_normalization: false\n",
       "                      * polarization: {})])"
      ]
     },
     "execution_count": 150,
     "metadata": {},
     "output_type": "execute_result"
    }
   ],
   "source": [
    "test.list_of_source"
   ]
  },
  {
   "cell_type": "code",
   "execution_count": 136,
   "metadata": {},
   "outputs": [
    {
     "data": {
      "text/plain": [
       "threeML.plugins.IceCubeLike.NeutrinoPointSource"
      ]
     },
     "execution_count": 136,
     "metadata": {},
     "output_type": "execute_result"
    }
   ],
   "source": [
    "deepcopy(test.jl._likelihood_model.sources['source1_nu'])."
   ]
  },
  {
   "cell_type": "code",
   "execution_count": 63,
   "metadata": {},
   "outputs": [
    {
     "data": {
      "text/plain": [
       "(4.629658933395464, -0.668967632447873)"
      ]
     },
     "execution_count": 63,
     "metadata": {},
     "output_type": "execute_result"
    }
   ],
   "source": [
    "test.jl_value.llh_model.eval_llh()"
   ]
  },
  {
   "cell_type": "code",
   "execution_count": 42,
   "metadata": {},
   "outputs": [
    {
     "data": {
      "text/plain": [
       "True"
      ]
     },
     "execution_count": 42,
     "metadata": {},
     "output_type": "execute_result"
    }
   ],
   "source": [
    "isinstance(test.jl._likelihood_model._point_sources[test.nupointsourcename],IceCubeLike.NeutrinoPointSource)"
   ]
  },
  {
   "cell_type": "code",
   "execution_count": 43,
   "metadata": {},
   "outputs": [
    {
     "data": {
      "text/plain": [
       "threeML.plugins.IceCubeLike.NeutrinoPointSource"
      ]
     },
     "execution_count": 43,
     "metadata": {},
     "output_type": "execute_result"
    }
   ],
   "source": [
    "type(deepcopy(model['source1_nu']))"
   ]
  },
  {
   "cell_type": "code",
   "execution_count": 8,
   "metadata": {},
   "outputs": [
    {
     "name": "stdout",
     "output_type": "stream",
     "text": [
      "start building Background TS\n",
      "0\n",
      "1\n",
      "2\n",
      "3\n",
      "4\n",
      "5\n",
      "6\n",
      "7\n",
      "8\n",
      "9\n",
      "10\n",
      "11\n",
      "12\n",
      "13\n",
      "14\n",
      "15\n",
      "16\n",
      "17\n",
      "18\n",
      "19\n",
      "20\n",
      "21\n",
      "22\n",
      "23\n",
      "24\n",
      "25\n",
      "26\n",
      "27\n",
      "28\n",
      "29\n",
      "30\n",
      "31\n",
      "32\n",
      "33\n",
      "34\n",
      "35\n",
      "36\n",
      "37\n",
      "38\n",
      "39\n",
      "40\n",
      "41\n",
      "42\n",
      "43\n",
      "44\n",
      "45\n",
      "46\n",
      "47\n",
      "48\n",
      "49\n",
      "50\n",
      "51\n",
      "52\n",
      "53\n",
      "54\n",
      "55\n",
      "56\n",
      "57\n",
      "58\n",
      "59\n",
      "60\n",
      "61\n",
      "62\n",
      "63\n",
      "64\n",
      "65\n",
      "66\n",
      "67\n",
      "68\n",
      "69\n",
      "70\n",
      "71\n",
      "72\n",
      "73\n",
      "74\n",
      "75\n",
      "76\n",
      "77\n",
      "78\n",
      "79\n",
      "80\n",
      "81\n",
      "82\n",
      "83\n",
      "84\n",
      "85\n",
      "86\n",
      "87\n",
      "88\n",
      "89\n",
      "90\n",
      "91\n",
      "92\n",
      "93\n",
      "94\n",
      "95\n",
      "96\n",
      "97\n",
      "98\n",
      "99\n",
      "Now testing factor: 1e-19\n"
     ]
    },
    {
     "ename": "RuntimeError",
     "evalue": "exception was raised in user function\nUser function arguments:\n        source1_nu_spectrum_main_Powerlaw_K = -14.941683\n    source1_nu_spectrum_main_Powerlaw_index = -3.314111\nOriginal python exception in user function:\nKeyboardInterrupt: \n  File \"/data/disk01/home/jasonfan/threeML/threeML/classicMLE/joint_likelihood.py\", line 745, in minus_log_like_profile\n    this_log_like = dataset.inner_fit()\n  File \"/data/disk01/home/jasonfan/threeML/threeML/plugins/IceCubeLike.py\", line 223, in inner_fit\n    return self.get_log_like()\n  File \"/data/disk01/home/jasonfan/threeML/threeML/plugins/IceCubeLike.py\", line 216, in get_log_like\n    self.update_model()\n  File \"/data/disk01/home/jasonfan/threeML/threeML/plugins/IceCubeLike.py\", line 207, in update_model\n    self.llh_model.update_spectrum(self.spectrum)\n  File \"/data/disk01/home/jasonfan/umd_icecube_analysis_tutorial/mla/mla/core.py\", line 308, in update_spectrum\n    self.update_energy_histogram()\n  File \"/data/disk01/home/jasonfan/umd_icecube_analysis_tutorial/mla/mla/core.py\", line 384, in update_energy_histogram\n    sig_w/=np.sum(self.fullsim['ow'] * self.spectrum(self.fullsim['trueE']))\n  File \"/data/disk01/home/jasonfan/threeML/threeML/plugins/IceCubeLike.py\", line 123, in __call__\n    return self.model._point_sources[self.neutrinopointsource].call(E)*self.A\n  File \"/data/disk01/home/jasonfan/threeML/threeML/plugins/IceCubeLike.py\", line 57, in call\n    results = [component.shape(x) for component in list(self.components.values())]\n  File \"/data/disk01/home/jasonfan/threeML/threeML/plugins/IceCubeLike.py\", line 57, in <listcomp>\n    results = [component.shape(x) for component in list(self.components.values())]\n  File \"/data/disk01/home/jasonfan/miniconda3/envs/p3/lib/python3.6/site-packages/astromodels/functions/function.py\", line 911, in __call__\n    return self.fast_call(x)\n  File \"/data/disk01/home/jasonfan/miniconda3/envs/p3/lib/python3.6/site-packages/astromodels/core/memoization.py\", line 58, in memoizer\n    return method(instance, x, *args, **kwargs)\n  File \"/data/disk01/home/jasonfan/miniconda3/envs/p3/lib/python3.6/site-packages/astromodels/functions/function.py\", line 986, in fast_call\n    return self.evaluate(x, *values)\n  File \"/data/disk01/home/jasonfan/miniconda3/envs/p3/lib/python3.6/site-packages/astromodels/functions/functions.py\", line 212, in evaluate\n    return K * np.power(xx, index)\n",
     "output_type": "error",
     "traceback": [
      "\u001b[0;31m---------------------------------------------------------------------------\u001b[0m",
      "\u001b[0;31mRuntimeError\u001b[0m                              Traceback (most recent call last)",
      "\u001b[0;32m<ipython-input-8-c78bf5e12d3a>\u001b[0m in \u001b[0;36m<module>\u001b[0;34m\u001b[0m\n\u001b[0;32m----> 1\u001b[0;31m \u001b[0mtest\u001b[0m\u001b[0;34m.\u001b[0m\u001b[0mcalculate_sensitivity\u001b[0m\u001b[0;34m(\u001b[0m\u001b[0mbase_spectrum\u001b[0m \u001b[0;34m=\u001b[0m \u001b[0mbasespectrum\u001b[0m\u001b[0;34m,\u001b[0m\u001b[0mbkg_trials\u001b[0m\u001b[0;34m=\u001b[0m\u001b[0;36m100\u001b[0m\u001b[0;34m,\u001b[0m\u001b[0msignal_trials\u001b[0m\u001b[0;34m=\u001b[0m\u001b[0;36m100\u001b[0m\u001b[0;34m,\u001b[0m\u001b[0mlist_N\u001b[0m \u001b[0;34m=\u001b[0m \u001b[0mnp\u001b[0m\u001b[0;34m.\u001b[0m\u001b[0mlinspace\u001b[0m\u001b[0;34m(\u001b[0m\u001b[0;36m1e-19\u001b[0m\u001b[0;34m,\u001b[0m\u001b[0;36m5e-17\u001b[0m\u001b[0;34m,\u001b[0m\u001b[0;36m15\u001b[0m\u001b[0;34m)\u001b[0m\u001b[0;34m,\u001b[0m\u001b[0mmake_plot\u001b[0m\u001b[0;34m=\u001b[0m\u001b[0;34m\"\"\u001b[0m\u001b[0;34m)\u001b[0m\u001b[0;34m\u001b[0m\u001b[0;34m\u001b[0m\u001b[0m\n\u001b[0m",
      "\u001b[0;32m~/threeML/threeML/plugins/IceCubeLike.py\u001b[0m in \u001b[0;36mcalculate_sensitivity\u001b[0;34m(self, base_spectrum, bkg_trials, signal_trials, list_N, N_factor, make_plot, Threshold_list, Threshold_potential)\u001b[0m\n\u001b[1;32m    382\u001b[0m             \u001b[0mself\u001b[0m\u001b[0;34m.\u001b[0m\u001b[0mbase_spectrum\u001b[0m\u001b[0;34m.\u001b[0m\u001b[0mA\u001b[0m \u001b[0;34m=\u001b[0m \u001b[0mN\u001b[0m\u001b[0;34m\u001b[0m\u001b[0;34m\u001b[0m\u001b[0m\n\u001b[1;32m    383\u001b[0m             \u001b[0mself\u001b[0m\u001b[0;34m.\u001b[0m\u001b[0mPS_injector\u001b[0m\u001b[0;34m.\u001b[0m\u001b[0mupdate_spectrum\u001b[0m\u001b[0;34m(\u001b[0m\u001b[0mself\u001b[0m\u001b[0;34m.\u001b[0m\u001b[0mbase_spectrum\u001b[0m\u001b[0;34m)\u001b[0m\u001b[0;34m\u001b[0m\u001b[0;34m\u001b[0m\u001b[0m\n\u001b[0;32m--> 384\u001b[0;31m             \u001b[0mtempresult\u001b[0m \u001b[0;34m=\u001b[0m \u001b[0mself\u001b[0m\u001b[0;34m.\u001b[0m\u001b[0mcalculate_ratio_passthreshold\u001b[0m\u001b[0;34m(\u001b[0m \u001b[0msignal_trials\u001b[0m \u001b[0;34m=\u001b[0m \u001b[0;36m200\u001b[0m\u001b[0;34m)\u001b[0m\u001b[0;34m\u001b[0m\u001b[0;34m\u001b[0m\u001b[0m\n\u001b[0m\u001b[1;32m    385\u001b[0m             \u001b[0mprint\u001b[0m\u001b[0;34m(\u001b[0m\u001b[0mtempresult\u001b[0m\u001b[0;34m)\u001b[0m\u001b[0;34m\u001b[0m\u001b[0;34m\u001b[0m\u001b[0m\n\u001b[1;32m    386\u001b[0m             \u001b[0mresult\u001b[0m\u001b[0;34m.\u001b[0m\u001b[0mappend\u001b[0m\u001b[0;34m(\u001b[0m\u001b[0mtempresult\u001b[0m\u001b[0;34m)\u001b[0m\u001b[0;34m\u001b[0m\u001b[0;34m\u001b[0m\u001b[0m\n",
      "\u001b[0;32m~/threeML/threeML/plugins/IceCubeLike.py\u001b[0m in \u001b[0;36mcalculate_ratio_passthreshold\u001b[0;34m(self, signal_trials)\u001b[0m\n\u001b[1;32m    352\u001b[0m         result:The ratio of passing(both for three sigma and median of the background\n\u001b[1;32m    353\u001b[0m         '''\n\u001b[0;32m--> 354\u001b[0;31m         \u001b[0msignal_ts\u001b[0m \u001b[0;34m=\u001b[0m \u001b[0mself\u001b[0m\u001b[0;34m.\u001b[0m\u001b[0mbuild_signal_TS\u001b[0m\u001b[0;34m(\u001b[0m\u001b[0msignal_trials\u001b[0m\u001b[0;34m)\u001b[0m\u001b[0;34m\u001b[0m\u001b[0;34m\u001b[0m\u001b[0m\n\u001b[0m\u001b[1;32m    355\u001b[0m         \u001b[0mresult\u001b[0m \u001b[0;34m=\u001b[0m \u001b[0;34m[\u001b[0m\u001b[0;34m(\u001b[0m\u001b[0msignal_ts\u001b[0m \u001b[0;34m>\u001b[0m \u001b[0mself\u001b[0m\u001b[0;34m.\u001b[0m\u001b[0mbkg_three_sigma\u001b[0m \u001b[0;34m)\u001b[0m\u001b[0;34m.\u001b[0m\u001b[0msum\u001b[0m\u001b[0;34m(\u001b[0m\u001b[0;34m)\u001b[0m\u001b[0;34m/\u001b[0m\u001b[0mfloat\u001b[0m\u001b[0;34m(\u001b[0m\u001b[0mlen\u001b[0m\u001b[0;34m(\u001b[0m\u001b[0msignal_ts\u001b[0m\u001b[0;34m)\u001b[0m\u001b[0;34m)\u001b[0m\u001b[0;34m,\u001b[0m \u001b[0;34m(\u001b[0m\u001b[0msignal_ts\u001b[0m \u001b[0;34m>\u001b[0m \u001b[0mself\u001b[0m\u001b[0;34m.\u001b[0m\u001b[0mbkg_median\u001b[0m\u001b[0;34m)\u001b[0m\u001b[0;34m.\u001b[0m\u001b[0msum\u001b[0m\u001b[0;34m(\u001b[0m\u001b[0;34m)\u001b[0m\u001b[0;34m/\u001b[0m\u001b[0mfloat\u001b[0m\u001b[0;34m(\u001b[0m\u001b[0mlen\u001b[0m\u001b[0;34m(\u001b[0m\u001b[0msignal_ts\u001b[0m\u001b[0;34m)\u001b[0m\u001b[0;34m)\u001b[0m\u001b[0;34m]\u001b[0m\u001b[0;34m\u001b[0m\u001b[0;34m\u001b[0m\u001b[0m\n\u001b[1;32m    356\u001b[0m         \u001b[0;32mreturn\u001b[0m \u001b[0mresult\u001b[0m\u001b[0;34m\u001b[0m\u001b[0;34m\u001b[0m\u001b[0m\n",
      "\u001b[0;32m~/threeML/threeML/plugins/IceCubeLike.py\u001b[0m in \u001b[0;36mbuild_signal_TS\u001b[0;34m(self, signal_trials)\u001b[0m\n\u001b[1;32m    334\u001b[0m             \u001b[0;32mtry\u001b[0m\u001b[0;34m:\u001b[0m\u001b[0;34m\u001b[0m\u001b[0;34m\u001b[0m\u001b[0m\n\u001b[1;32m    335\u001b[0m                 \u001b[0;31m#self.jl_value.verbose=True\u001b[0m\u001b[0;34m\u001b[0m\u001b[0;34m\u001b[0m\u001b[0;34m\u001b[0m\u001b[0m\n\u001b[0;32m--> 336\u001b[0;31m                 \u001b[0mself\u001b[0m\u001b[0;34m.\u001b[0m\u001b[0mjl\u001b[0m\u001b[0;34m.\u001b[0m\u001b[0mfit\u001b[0m\u001b[0;34m(\u001b[0m\u001b[0mquiet\u001b[0m\u001b[0;34m=\u001b[0m\u001b[0;32mTrue\u001b[0m\u001b[0;34m)\u001b[0m\u001b[0;34m\u001b[0m\u001b[0;34m\u001b[0m\u001b[0m\n\u001b[0m\u001b[1;32m    337\u001b[0m             \u001b[0;32mexcept\u001b[0m \u001b[0mOverflowError\u001b[0m\u001b[0;34m:\u001b[0m\u001b[0;34m\u001b[0m\u001b[0;34m\u001b[0m\u001b[0m\n\u001b[1;32m    338\u001b[0m                 \u001b[0;32mpass\u001b[0m\u001b[0;34m\u001b[0m\u001b[0;34m\u001b[0m\u001b[0m\n",
      "\u001b[0;32m~/threeML/threeML/classicMLE/joint_likelihood.py\u001b[0m in \u001b[0;36mfit\u001b[0;34m(self, quiet, compute_covariance, n_samples)\u001b[0m\n\u001b[1;32m    265\u001b[0m             \u001b[0msys\u001b[0m\u001b[0;34m.\u001b[0m\u001b[0mstdout\u001b[0m\u001b[0;34m.\u001b[0m\u001b[0mflush\u001b[0m\u001b[0;34m(\u001b[0m\u001b[0;34m)\u001b[0m\u001b[0;34m\u001b[0m\u001b[0;34m\u001b[0m\u001b[0m\n\u001b[1;32m    266\u001b[0m \u001b[0;34m\u001b[0m\u001b[0m\n\u001b[0;32m--> 267\u001b[0;31m             \u001b[0mxs\u001b[0m\u001b[0;34m,\u001b[0m \u001b[0mlog_likelihood_minimum\u001b[0m \u001b[0;34m=\u001b[0m \u001b[0mself\u001b[0m\u001b[0;34m.\u001b[0m\u001b[0m_minimizer\u001b[0m\u001b[0;34m.\u001b[0m\u001b[0mminimize\u001b[0m\u001b[0;34m(\u001b[0m\u001b[0mcompute_covar\u001b[0m\u001b[0;34m=\u001b[0m\u001b[0mcompute_covariance\u001b[0m\u001b[0;34m)\u001b[0m\u001b[0;34m\u001b[0m\u001b[0;34m\u001b[0m\u001b[0m\n\u001b[0m\u001b[1;32m    268\u001b[0m \u001b[0;34m\u001b[0m\u001b[0m\n\u001b[1;32m    269\u001b[0m             \u001b[0;32mif\u001b[0m \u001b[0mlog_likelihood_minimum\u001b[0m \u001b[0;34m==\u001b[0m \u001b[0mminimization\u001b[0m\u001b[0;34m.\u001b[0m\u001b[0mFIT_FAILED\u001b[0m\u001b[0;34m:\u001b[0m\u001b[0;34m\u001b[0m\u001b[0;34m\u001b[0m\u001b[0m\n",
      "\u001b[0;32m~/threeML/threeML/minimizer/minimization.py\u001b[0m in \u001b[0;36mminimize\u001b[0;34m(self, compute_covar)\u001b[0m\n\u001b[1;32m    600\u001b[0m         \u001b[0;32mif\u001b[0m \u001b[0mcompute_covar\u001b[0m\u001b[0;34m:\u001b[0m\u001b[0;34m\u001b[0m\u001b[0;34m\u001b[0m\u001b[0m\n\u001b[1;32m    601\u001b[0m \u001b[0;34m\u001b[0m\u001b[0m\n\u001b[0;32m--> 602\u001b[0;31m             \u001b[0mcovariance\u001b[0m \u001b[0;34m=\u001b[0m \u001b[0mself\u001b[0m\u001b[0;34m.\u001b[0m\u001b[0m_compute_covariance_matrix\u001b[0m\u001b[0;34m(\u001b[0m\u001b[0minternal_best_fit_values\u001b[0m\u001b[0;34m)\u001b[0m\u001b[0;34m\u001b[0m\u001b[0;34m\u001b[0m\u001b[0m\n\u001b[0m\u001b[1;32m    603\u001b[0m \u001b[0;34m\u001b[0m\u001b[0m\n\u001b[1;32m    604\u001b[0m         \u001b[0;32melse\u001b[0m\u001b[0;34m:\u001b[0m\u001b[0;34m\u001b[0m\u001b[0;34m\u001b[0m\u001b[0m\n",
      "\u001b[0;32m~/threeML/threeML/minimizer/minuit_minimizer.py\u001b[0m in \u001b[0;36m_compute_covariance_matrix\u001b[0;34m(self, best_fit_values)\u001b[0m\n\u001b[1;32m    254\u001b[0m     \u001b[0;32mdef\u001b[0m \u001b[0m_compute_covariance_matrix\u001b[0m\u001b[0;34m(\u001b[0m\u001b[0mself\u001b[0m\u001b[0;34m,\u001b[0m \u001b[0mbest_fit_values\u001b[0m\u001b[0;34m)\u001b[0m\u001b[0;34m:\u001b[0m\u001b[0;34m\u001b[0m\u001b[0;34m\u001b[0m\u001b[0m\n\u001b[1;32m    255\u001b[0m \u001b[0;34m\u001b[0m\u001b[0m\n\u001b[0;32m--> 256\u001b[0;31m         \u001b[0mself\u001b[0m\u001b[0;34m.\u001b[0m\u001b[0mminuit\u001b[0m\u001b[0;34m.\u001b[0m\u001b[0mhesse\u001b[0m\u001b[0;34m(\u001b[0m\u001b[0;34m)\u001b[0m\u001b[0;34m\u001b[0m\u001b[0;34m\u001b[0m\u001b[0m\n\u001b[0m\u001b[1;32m    257\u001b[0m \u001b[0;34m\u001b[0m\u001b[0m\n\u001b[1;32m    258\u001b[0m         \u001b[0;32mtry\u001b[0m\u001b[0;34m:\u001b[0m\u001b[0;34m\u001b[0m\u001b[0;34m\u001b[0m\u001b[0m\n",
      "\u001b[0;32miminuit/_libiminuit.pyx\u001b[0m in \u001b[0;36miminuit._libiminuit.Minuit.hesse\u001b[0;34m()\u001b[0m\n",
      "\u001b[0;31mRuntimeError\u001b[0m: exception was raised in user function\nUser function arguments:\n        source1_nu_spectrum_main_Powerlaw_K = -14.941683\n    source1_nu_spectrum_main_Powerlaw_index = -3.314111\nOriginal python exception in user function:\nKeyboardInterrupt: \n  File \"/data/disk01/home/jasonfan/threeML/threeML/classicMLE/joint_likelihood.py\", line 745, in minus_log_like_profile\n    this_log_like = dataset.inner_fit()\n  File \"/data/disk01/home/jasonfan/threeML/threeML/plugins/IceCubeLike.py\", line 223, in inner_fit\n    return self.get_log_like()\n  File \"/data/disk01/home/jasonfan/threeML/threeML/plugins/IceCubeLike.py\", line 216, in get_log_like\n    self.update_model()\n  File \"/data/disk01/home/jasonfan/threeML/threeML/plugins/IceCubeLike.py\", line 207, in update_model\n    self.llh_model.update_spectrum(self.spectrum)\n  File \"/data/disk01/home/jasonfan/umd_icecube_analysis_tutorial/mla/mla/core.py\", line 308, in update_spectrum\n    self.update_energy_histogram()\n  File \"/data/disk01/home/jasonfan/umd_icecube_analysis_tutorial/mla/mla/core.py\", line 384, in update_energy_histogram\n    sig_w/=np.sum(self.fullsim['ow'] * self.spectrum(self.fullsim['trueE']))\n  File \"/data/disk01/home/jasonfan/threeML/threeML/plugins/IceCubeLike.py\", line 123, in __call__\n    return self.model._point_sources[self.neutrinopointsource].call(E)*self.A\n  File \"/data/disk01/home/jasonfan/threeML/threeML/plugins/IceCubeLike.py\", line 57, in call\n    results = [component.shape(x) for component in list(self.components.values())]\n  File \"/data/disk01/home/jasonfan/threeML/threeML/plugins/IceCubeLike.py\", line 57, in <listcomp>\n    results = [component.shape(x) for component in list(self.components.values())]\n  File \"/data/disk01/home/jasonfan/miniconda3/envs/p3/lib/python3.6/site-packages/astromodels/functions/function.py\", line 911, in __call__\n    return self.fast_call(x)\n  File \"/data/disk01/home/jasonfan/miniconda3/envs/p3/lib/python3.6/site-packages/astromodels/core/memoization.py\", line 58, in memoizer\n    return method(instance, x, *args, **kwargs)\n  File \"/data/disk01/home/jasonfan/miniconda3/envs/p3/lib/python3.6/site-packages/astromodels/functions/function.py\", line 986, in fast_call\n    return self.evaluate(x, *values)\n  File \"/data/disk01/home/jasonfan/miniconda3/envs/p3/lib/python3.6/site-packages/astromodels/functions/functions.py\", line 212, in evaluate\n    return K * np.power(xx, index)\n"
     ]
    }
   ],
   "source": [
    "test.calculate_sensitivity(base_spectrum = basespectrum,bkg_trials=100,signal_trials=100,list_N = np.linspace(1e-19,5e-17,15),make_plot=\"\")"
   ]
  },
  {
   "cell_type": "code",
   "execution_count": 9,
   "metadata": {},
   "outputs": [
    {
     "data": {
      "image/png": "[encoded data removed]",
      "text/plain": [
       "<Figure size 432x288 with 1 Axes>"
      ]
     },
     "metadata": {
      "needs_background": "light"
     },
     "output_type": "display_data"
    }
   ],
   "source": [
    "import matplotlib.pyplot as plt\n",
    "%matplotlib inline\n",
    "plt.hist(test.ts_bkg)\n",
    "plt.yscale('log')"
   ]
  },
  {
   "cell_type": "code",
   "execution_count": 10,
   "metadata": {},
   "outputs": [
    {
     "data": {
      "text/plain": [
       "array([-8.46457843e-01, -3.73713206e+00, -3.35346593e-01,  7.39023891e-07,\n",
       "        1.19076158e-08, -6.99338968e+00, -3.39039787e+00, -7.61199635e-01,\n",
       "       -1.75528840e+00, -8.04760191e+00, -1.06566836e+00, -1.00934021e+01,\n",
       "       -7.68940930e-01, -5.85869217e-02, -4.97394916e+00, -3.99839806e+00,\n",
       "       -2.31304967e+00, -1.22273541e+01, -5.42890715e+00, -1.64107619e+01,\n",
       "       -5.58236362e+00, -1.61584487e+00, -9.52608352e+00, -2.93600311e+00,\n",
       "       -3.19344706e+00, -8.29263808e-01, -5.70005772e-01,  8.23987719e-06,\n",
       "       -1.05515596e-12, -8.96882568e-12, -4.65272265e-12, -3.82671672e-12,\n",
       "       -5.96322991e-12, -3.49231755e-12, -5.48228130e-12, -9.23705556e-12,\n",
       "       -7.58992869e-12, -6.87894186e-12, -4.29478675e-12, -4.92628160e-12,\n",
       "       -5.58486590e-12, -9.98445771e-12, -4.93605157e-12, -2.43360887e-12,\n",
       "       -5.06750197e-12, -6.37667696e-12, -5.90283378e-12, -2.32791564e-12,\n",
       "       -3.75877107e-12, -2.19602114e-12, -4.22817337e-12, -4.11271017e-12,\n",
       "       -6.06581452e-12, -7.64543984e-12, -4.81570339e-12, -4.25037783e-12,\n",
       "       -8.55493454e-12, -1.01780806e-11, -6.02140560e-12, -8.66329231e-12,\n",
       "       -1.02184927e-11, -3.14059889e-12, -8.73345840e-12, -2.65165667e-12,\n",
       "       -5.74162939e-12, -9.42490530e-12, -2.35766962e-12, -8.72590888e-12,\n",
       "       -7.30082661e-12, -6.93756164e-12, -3.02469161e-12, -3.84092758e-12,\n",
       "       -5.15543164e-12, -4.93560748e-12, -6.81010803e-12, -9.53370716e-12,\n",
       "       -3.43636231e-12, -3.55449004e-12, -4.92672569e-12, -9.25526322e-12,\n",
       "       -3.36441985e-12, -6.36513064e-12, -8.80762130e-12, -4.62829775e-12,\n",
       "       -3.91064958e-12, -8.74544881e-12, -3.14281934e-12, -2.97317726e-12,\n",
       "       -5.63815661e-12, -3.94217992e-12, -6.30873132e-12, -3.63531427e-12,\n",
       "       -6.32649488e-12, -4.79616347e-12, -5.58086910e-12, -5.36282130e-12,\n",
       "       -9.50262091e-12, -7.65609798e-12, -2.10675921e-12, -5.75894887e-12])"
      ]
     },
     "execution_count": 10,
     "metadata": {},
     "output_type": "execute_result"
    }
   ],
   "source": [
    "test.ts_bkg"
   ]
  },
  {
   "cell_type": "code",
   "execution_count": 91,
   "metadata": {},
   "outputs": [
    {
     "name": "stdout",
     "output_type": "stream",
     "text": [
      "(398.83053863635894, -63.3154191302458)\n",
      "(399.80091336666834, -64.86347801486988)\n",
      "(397.86247814011216, -61.77194882232254)\n",
      "(398.9274718794413, -63.470018345526)\n",
      "(398.7336285356088, -63.16086580071635)\n",
      "(400.5241531225366, -66.03382077724723)\n",
      "(397.14439298885145, -60.611826285382335)\n",
      "(398.9995634205554, -63.58659171977331)\n",
      "(398.66158854041396, -63.04439462844698)\n",
      "(81.55088384232005, 337.3247647726964)\n",
      "(107.55613833982477, 322.5460692378416)\n",
      "(81.5885437893257, 337.30961691718585)\n",
      "(81.51324099644123, 337.33988307564243)\n",
      "(81.63883560687881, 337.28935283037004)\n",
      "(81.46302529391043, 337.36001562763795)\n",
      "(81.58575316456066, 337.3118490726306)\n",
      "(81.51603007695759, 337.337653514104)\n",
      "(81.63614773298009, 337.2931453307092)\n",
      "(81.46571290945698, 337.3562231272698)\n",
      "(75.1590832311633, 339.44989902655715)\n",
      "(64.76289364796895, 341.17260452283216)\n",
      "(63.62853809027046, 341.209638885659)\n",
      "(63.69770940525454, 341.20669937683505)\n",
      "(63.55944068709582, 341.2124562392272)\n",
      "(63.695124573279074, 341.2103626707441)\n",
      "(63.56202427548083, 341.2087945930994)\n",
      "(63.02892221971412, 341.2230401820361)\n",
      "(62.47213620185781, 341.22719611663024)\n",
      "(62.55059923013838, 341.2261567286322)\n",
      "(62.393770022390335, 341.22807604605356)\n",
      "(62.54815140469719, 341.23037452986506)\n",
      "(62.39621744035013, 341.2238583616839)\n",
      "(62.45871241400093, 341.2390275128687)\n",
      "(62.40523227212974, 341.28599009815673)\n",
      "(62.27303606355233, 341.4008561800114)\n",
      "(61.88931825891349, 341.72369081382794)\n",
      "(60.85352594871649, 342.49625825576004)\n",
      "(59.222418829890145, 343.1503413971673)\n",
      "(59.299198917187745, 343.15311907091325)\n",
      "(59.14573672443507, 343.1474039233714)\n",
      "(59.29919416431622, 343.1531356811413)\n",
      "(59.14574714688317, 343.14737484239515)\n",
      "(60.554335795471765, 343.175558484482)\n",
      "(60.633815727585116, 343.17554590281156)\n",
      "(60.474958543446796, 343.1754028025258)\n",
      "(60.63090803438383, 343.17549369973244)\n",
      "(60.47786439558063, 343.1754549575654)\n",
      "(60.608553140936415, 343.17583779382466)\n",
      "(60.60454985584982, 343.17583956695387)\n",
      "(60.68303548960439, 343.175761322064)\n",
      "(60.526164266131524, 343.17575384314665)\n",
      "(60.680126001314484, 343.1757614804228)\n",
      "(60.529071864829874, 343.17575382916556)\n",
      "(60.60454985584982, 343.17583956695387)\n",
      "(60.68303548960439, 343.175761322064)\n",
      "(60.526164266131524, 343.17575384314665)\n",
      "(60.680126001314484, 343.1757614804228)\n",
      "(60.529071864829874, 343.17575382916556)\n",
      "(60.62023897506006, 343.1758370434949)\n",
      "(60.58886473840167, 343.17583553166327)\n",
      "(60.61965722834152, 343.1758370640004)\n",
      "(60.58944640953493, 343.1758355169304)\n",
      "(60.75870950959641, 343.1755214984098)\n",
      "(60.60454985584982, 343.17583956695387)\n",
      "(61.09114090732486, 343.17272259726843)\n",
      "(60.12177886383054, 343.1726955847468)\n",
      "(60.6830133912968, 343.17576136716684)\n",
      "(60.52618630814636, 343.17575389030384)\n",
      "(61.07332085797219, 343.1727229122967)\n",
      "(60.13952976912567, 343.17269576226846)\n",
      "(60.68013798585788, 343.17576145505143)\n",
      "(60.52905991139856, 343.175753802606)\n",
      "(60.60454985584982, 343.17583956695387)\n",
      "(60.6830133912968, 343.17576136716684)\n",
      "(60.52618630814636, 343.17575389030384)\n",
      "(60.68013798585788, 343.17576145505143)\n",
      "(60.52905991139856, 343.175753802606)\n",
      "(60.62023455990512, 343.17583704512765)\n",
      "(60.588869151304536, 343.1758355337213)\n",
      "(60.61965962275996, 343.1758370630843)\n",
      "(60.589444016360886, 343.1758355157692)\n",
      "(60.75869938379097, 343.17552153804513)\n",
      "(60.60454985584982, 343.17583956695387)\n"
     ]
    }
   ],
   "source": [
    "test.base_spectrum.A = 1e-17\n",
    "test.jl_value.verbose=True\n",
    "test.PS_injector.update_spectrum(test.base_spectrum)\n",
    "tempresult = test.build_signal_TS( signal_trials = 1)"
   ]
  },
  {
   "cell_type": "code",
   "execution_count": 95,
   "metadata": {},
   "outputs": [
    {
     "data": {
      "text/plain": [
       "(60.603941267489425, 343.1758395326808)"
      ]
     },
     "execution_count": 95,
     "metadata": {},
     "output_type": "execute_result"
    }
   ],
   "source": [
    "test.jl_value.llh_model.eval_llh_fit_ns()"
   ]
  },
  {
   "cell_type": "code",
   "execution_count": 26,
   "metadata": {},
   "outputs": [],
   "source": [
    "ts_value = 2*(np.sum(np.log(ts))+l.drop*np.log(1-ns/test.jl_value.llh_model.N))"
   ]
  },
  {
   "cell_type": "code",
   "execution_count": 27,
   "metadata": {},
   "outputs": [
    {
     "data": {
      "text/plain": [
       "3492.999034723317"
      ]
     },
     "execution_count": 27,
     "metadata": {},
     "output_type": "execute_result"
    }
   ],
   "source": [
    "ts_value"
   ]
  },
  {
   "cell_type": "code",
   "execution_count": 33,
   "metadata": {},
   "outputs": [],
   "source": [
    "line=np.linspace(0,500,10000)\n",
    "ts=[]\n",
    "for i in line:\n",
    "    ts.append(test.jl_value.llh_model.eval_llh_ns(i)[1])"
   ]
  },
  {
   "cell_type": "code",
   "execution_count": 39,
   "metadata": {},
   "outputs": [
    {
     "data": {
      "text/plain": [
       "<matplotlib.legend.Legend at 0x7f7ad000d940>"
      ]
     },
     "execution_count": 39,
     "metadata": {},
     "output_type": "execute_result"
    },
    {
     "data": {
      "image/png": "[encoded data removed]",
      "text/plain": [
       "<Figure size 432x288 with 1 Axes>"
      ]
     },
     "metadata": {
      "needs_background": "light"
     },
     "output_type": "display_data"
    }
   ],
   "source": [
    "%matplotlib inline\n",
    "import matplotlib.pyplot as plt\n",
    "plt.plot(line,-np.array(ts))\n",
    "plt.axvline((test.jl_value.llh_model.data['run']>1000000).sum(),label=\"True\",color='r')\n",
    "plt.axvline(test.jl_value.llh_model.eval_llh_fit_ns()[0],label=\"Fitted\",color='g')\n",
    "plt.xlabel(\"ns\")\n",
    "plt.legend()"
   ]
  },
  {
   "cell_type": "code",
   "execution_count": null,
   "metadata": {},
   "outputs": [],
   "source": [
    "test.PS_injector.reduce_mc['weight']=test.PS_injector.spectrum(test.PS_injector.reduce_mc['trueE'])*test.PS_injector.reduce_mc['ow']*test.PS_injector.signal_time_profile.effective_exposure() * 3600 * 24"
   ]
  },
  {
   "cell_type": "code",
   "execution_count": 93,
   "metadata": {},
   "outputs": [
    {
     "data": {
      "text/plain": [
       "46.296593"
      ]
     },
     "execution_count": 93,
     "metadata": {},
     "output_type": "execute_result"
    }
   ],
   "source": [
    "test.PS_injector.reduce_mc['weight'].sum()"
   ]
  },
  {
   "cell_type": "code",
   "execution_count": 94,
   "metadata": {},
   "outputs": [
    {
     "data": {
      "text/plain": [
       "57"
      ]
     },
     "execution_count": 94,
     "metadata": {},
     "output_type": "execute_result"
    }
   ],
   "source": [
    "(test.jl_value.llh_model.data['run']>1000000).sum()"
   ]
  },
  {
   "cell_type": "code",
   "execution_count": null,
   "metadata": {},
   "outputs": [],
   "source": []
  }
 ],
 "metadata": {
  "kernelspec": {
   "display_name": "i3",
   "language": "python",
   "name": "i3"
  },
  "language_info": {
   "codemirror_mode": {
    "name": "ipython",
    "version": 3
   },
   "file_extension": ".py",
   "mimetype": "text/x-python",
   "name": "python",
   "nbconvert_exporter": "python",
   "pygments_lexer": "ipython3",
   "version": "3.6.7"
  }
 },
 "nbformat": 4,
 "nbformat_minor": 4
}
