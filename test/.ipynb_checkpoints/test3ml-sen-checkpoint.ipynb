{
 "cells": [
  {
   "cell_type": "code",
   "execution_count": 1,
   "metadata": {},
   "outputs": [
    {
     "name": "stderr",
     "output_type": "stream",
     "text": [
      "/data/disk01/home/jasonfan/threeML/threeML/__init__.py:12: UserWarning: No DISPLAY variable set. Using backend for graphics without display (Agg)\n",
      "  warnings.warn(\"No DISPLAY variable set. Using backend for graphics without display (Agg)\")\n",
      "/data/disk01/home/jasonfan/miniconda3/envs/p3/lib/python3.6/site-packages/astromodels/core/parameter.py:555: UserWarning: We have set the min_value of K to 1e-99 because there was a postive transform\n",
      "  warnings.warn('We have set the min_value of %s to 1e-99 because there was a postive transform' % self.path)\n",
      "/data/disk01/home/jasonfan/miniconda3/envs/p3/lib/python3.6/site-packages/astromodels/core/parameter.py:555: UserWarning: We have set the min_value of xc to 1e-99 because there was a postive transform\n",
      "  warnings.warn('We have set the min_value of %s to 1e-99 because there was a postive transform' % self.path)\n",
      "\n",
      "Bad key \"text.kerning_factor\" on line 4 in\n",
      "/data/disk01/home/jasonfan/miniconda3/envs/p3/lib/python3.6/site-packages/matplotlib/mpl-data/stylelib/_classic_test_patch.mplstyle.\n",
      "You probably need to get an updated matplotlibrc file from\n",
      "http://github.com/matplotlib/matplotlib/blob/master/matplotlibrc.template\n",
      "or from the matplotlib source distribution\n",
      "\n",
      "WARNING UserWarning: Using default configuration from /data/disk01/home/jasonfan/threeML/threeML/data/threeML_config.yml. You might want to copy it to /data/disk01/home/jasonfan/.threeML/threeML_config.yml to customize it and avoid this warning.\n",
      "\n",
      "\n",
      "WARNING RuntimeWarning: numpy.ufunc size changed, may indicate binary incompatibility. Expected 192 from C header, got 216 from PyObject\n",
      "\n",
      "INFO:keyring.backend:Loading KWallet\n",
      "INFO:keyring.backend:Loading SecretService\n",
      "INFO:keyring.backend:Loading Windows\n",
      "INFO:keyring.backend:Loading chainer\n",
      "INFO:keyring.backend:Loading macOS\n",
      "\n",
      "WARNING RuntimeWarning: Env. variable OMP_NUM_THREADS is not set. Please set it to 1 for optimal performances in 3ML\n",
      "\n",
      "\n",
      "WARNING RuntimeWarning: Env. variable MKL_NUM_THREADS is not set. Please set it to 1 for optimal performances in 3ML\n",
      "\n",
      "\n",
      "WARNING RuntimeWarning: Env. variable NUMEXPR_NUM_THREADS is not set. Please set it to 1 for optimal performances in 3ML\n",
      "\n",
      "\n",
      "WARNING RuntimeWarning: numpy.ufunc size changed, may indicate binary incompatibility. Expected 192 from C header, got 216 from PyObject\n",
      "\n",
      "\n",
      "WARNING RuntimeWarning: numpy.ufunc size changed, may indicate binary incompatibility. Expected 192 from C header, got 216 from PyObject\n",
      "\n",
      "\n",
      "WARNING RuntimeWarning: numpy.ufunc size changed, may indicate binary incompatibility. Expected 192 from C header, got 216 from PyObject\n",
      "\n",
      "\n",
      "WARNING RuntimeWarning: numpy.ufunc size changed, may indicate binary incompatibility. Expected 192 from C header, got 216 from PyObject\n",
      "\n"
     ]
    }
   ],
   "source": [
    "from threeML import *\n",
    "import numpy as np\n",
    "from threeML.plugins import *\n",
    "from skylab.datasets import Datasets\n",
    "from astropy import units as u\n",
    "\n",
    "import os, sys, glob, abc\n",
    "\n",
    "def read(filelist):\n",
    "    data = []\n",
    "    for f in sorted(filelist):\n",
    "        x = np.load(f)\n",
    "        if len(data) == 0: data = x.copy()\n",
    "        else: data = np.concatenate([data, x])\n",
    "    return data\n",
    "\n",
    "# Where is the dataset stored?\n",
    "dataset = \"/data/i3store/users/mjlarson/student_data\"\n",
    "\n",
    "# Read in all of the data files\n",
    "data_files = dataset + \"/IC86_*exp.npy\"\n",
    "exp = read(glob.glob(data_files))\n",
    "\n",
    "# Read in all of the MC files \n",
    "sim_files = dataset + \"/IC86*MC*npy\"\n",
    "mc = read(glob.glob(sim_files))\n",
    "\n",
    "# Set the angular error floor to 0.2 degrees\n",
    "#exp['angErr'][exp['angErr']<np.deg2rad(0.2)] = np.deg2rad(0.2)\n",
    "#mc['angErr'][mc['angErr']<np.deg2rad(0.2)] = np.deg2rad(0.2)\n",
    "\n",
    "exp['ra']=np.random.uniform(0,2*np.pi,size=len(exp))\n",
    "grl = np.load(\"/data/i3store/users/mjlarson/student_data/GRL/IC86_2012_exp.npy\")\n",
    "livetime = np.sum(grl['livetime'])\n"
   ]
  },
  {
   "cell_type": "code",
   "execution_count": 2,
   "metadata": {},
   "outputs": [],
   "source": [
    "from imp import reload\n",
    "reload(IceCubeLike)\n",
    "\n",
    "import warnings\n",
    "warnings.filterwarnings(\"ignore\")\n",
    "#data = np.random.choice(exp, 10000).copy()\n",
    "#jl._data_list['test'].llh_model.update_data(data)\n",
    "IceCube=IceCubeLike.IceCubeLike(\"test\",exp,mc,exp,verbose=True,background_time_profile= (56224,56324))\n",
    "del mc"
   ]
  },
  {
   "cell_type": "code",
   "execution_count": 3,
   "metadata": {},
   "outputs": [],
   "source": [
    "source1_sp = Powerlaw()\n",
    "#source1_sp._set_units(u.GeV,u.cm**-2 / u.s / u.GeV)\n",
    "source1_sp.K=1e-13\n",
    "source1_neutrino = Powerlaw()\n",
    "source1_neutrino._set_units(u.GeV,u.cm**-2 / u.s / u.GeV)\n",
    "source1_neutrino.piv=1000\n",
    "source1_neutrino.K=1e-13\n",
    "source1_neutrino.index=-2\n",
    "#source1_sp._set_units(u.GeV,u.cm**-2 / u.s / u.GeV)\n",
    "source1 = PointSource(\"source1\", ra=83.63, dec=22.0145, spectral_shape=source1_sp)\n",
    "source1_nu = IceCubeLike.NeutrinoPointSource(\"source1_nu\",ra=83.63, dec=22.0145,spectral_shape=source1_neutrino,energy_unit=u.GeV)\n",
    "\n",
    "model = Model(source1,source1_nu)\n",
    "model.source1.spectrum.main.Powerlaw.K.fix = True\n",
    "model.source1.spectrum.main.Powerlaw.index.fix = True\n",
    "model.source1_nu.spectrum.main.Powerlaw.K.bounds = (1e-30, 1e-5)\n",
    "model.source1_nu.spectrum.main.Powerlaw.index.bounds = (-4, -1)\n",
    "#IceCube.set_model(model)\n",
    "IceCubedata = DataList(IceCube)\n",
    "jl = JointLikelihood(model, IceCubedata)"
   ]
  },
  {
   "cell_type": "code",
   "execution_count": 4,
   "metadata": {},
   "outputs": [],
   "source": [
    "\n",
    "test=IceCubeLike.sensitivity(jl)"
   ]
  },
  {
   "cell_type": "code",
   "execution_count": null,
   "metadata": {},
   "outputs": [],
   "source": [
    "test.set_backround(grl,model ,time_window=100,start_time=56224)"
   ]
  },
  {
   "cell_type": "code",
   "execution_count": null,
   "metadata": {},
   "outputs": [],
   "source": [
    "import mla \n",
    "basespectrum = mla.spectral.PowerLaw(100e3 , 1 , -2)\n",
    "test.set_injection(background_time_profile = (56224,56324))"
   ]
  },
  {
   "cell_type": "code",
   "execution_count": null,
   "metadata": {},
   "outputs": [
    {
     "name": "stdout",
     "output_type": "stream",
     "text": [
      "start building Background TS\n",
      "Last status:\n",
      "\n",
      "{'fval': -0.0, 'edm': 0.0, 'nfcn': 49, 'up': 0.5, 'is_valid': True, 'has_valid_parameters': True, 'has_accurate_covar': True, 'has_posdef_covar': True, 'has_made_posdef_covar': False, 'hesse_failed': False, 'has_covariance': True, 'is_above_max_edm': False, 'has_reached_call_limit': False}\n",
      "\n",
      "\n"
     ]
    },
    {
     "data": {
      "text/html": [
       "<table>\n",
       "    <tr>\n",
       "        <td><a href=\"#\" onclick=\"$('#rbyPyyqzXZ').toggle()\">+</a></td>\n",
       "        <td title=\"Variable name\">Name</td>\n",
       "        <td title=\"Value of parameter\">Value</td>\n",
       "        <td title=\"Hesse error\">Hesse Error</td>\n",
       "        <td title=\"Minos lower error\">Minos Error-</td>\n",
       "        <td title=\"Minos upper error\">Minos Error+</td>\n",
       "        <td title=\"Lower limit of the parameter\">Limit-</td>\n",
       "        <td title=\"Upper limit of the parameter\">Limit+</td>\n",
       "        <td title=\"Is the parameter fixed in the fit\">Fixed?</td>\n",
       "    </tr>\n",
       "    <tr>\n",
       "        <td>0</td>\n",
       "        <td>source1_nu_spectrum_main_Powerlaw_K</td>\n",
       "        <td>-28.6943</td>\n",
       "        <td>0</td>\n",
       "        <td></td>\n",
       "        <td></td>\n",
       "        <td>-30</td>\n",
       "        <td>-5</td>\n",
       "        <td>No</td>\n",
       "    </tr>\n",
       "    <tr>\n",
       "        <td>1</td>\n",
       "        <td>source1_nu_spectrum_main_Powerlaw_index</td>\n",
       "        <td>-2.03359</td>\n",
       "        <td>0</td>\n",
       "        <td></td>\n",
       "        <td></td>\n",
       "        <td>-4</td>\n",
       "        <td>-1</td>\n",
       "        <td>No</td>\n",
       "    </tr>\n",
       "</table>\n",
       "<pre id=\"rbyPyyqzXZ\" style=\"display:none;\">\n",
       "<textarea rows=\"10\" cols=\"50\" onclick=\"this.select()\" readonly>\n",
       "\\begin{tabular}{|c|r|r|r|r|r|r|r|c|}\n",
       "\\hline\n",
       " & Name & Value & Hesse Error & Minos Error- & Minos Error+ & Limit- & Limit+ & Fixed?\\\\\n",
       "\\hline\n",
       "0 & source1 $\\nu$ spectrum main $Powerlaw_{K}$ & -28.6943 & 0 &  &  & -30.0 & -5 & No\\\\\n",
       "\\hline\n",
       "1 & source1 $\\nu$ spectrum main $Powerlaw_{index}$ & -2.03359 & 0 &  &  & -4.0 & -1 & No\\\\\n",
       "\\hline\n",
       "\\end{tabular}\n",
       "</textarea>\n",
       "</pre>"
      ]
     },
     "metadata": {},
     "output_type": "display_data"
    },
    {
     "name": "stdout",
     "output_type": "stream",
     "text": [
      "Last status:\n",
      "\n",
      "{'fval': 0.0, 'edm': 0.0, 'nfcn': 52, 'up': 0.5, 'is_valid': True, 'has_valid_parameters': True, 'has_accurate_covar': True, 'has_posdef_covar': True, 'has_made_posdef_covar': False, 'hesse_failed': False, 'has_covariance': True, 'is_above_max_edm': False, 'has_reached_call_limit': False}\n",
      "\n",
      "\n"
     ]
    },
    {
     "data": {
      "text/html": [
       "<table>\n",
       "    <tr>\n",
       "        <td><a href=\"#\" onclick=\"$('#SxxuCQInGd').toggle()\">+</a></td>\n",
       "        <td title=\"Variable name\">Name</td>\n",
       "        <td title=\"Value of parameter\">Value</td>\n",
       "        <td title=\"Hesse error\">Hesse Error</td>\n",
       "        <td title=\"Minos lower error\">Minos Error-</td>\n",
       "        <td title=\"Minos upper error\">Minos Error+</td>\n",
       "        <td title=\"Lower limit of the parameter\">Limit-</td>\n",
       "        <td title=\"Upper limit of the parameter\">Limit+</td>\n",
       "        <td title=\"Is the parameter fixed in the fit\">Fixed?</td>\n",
       "    </tr>\n",
       "    <tr>\n",
       "        <td>0</td>\n",
       "        <td>source1_nu_spectrum_main_Powerlaw_K</td>\n",
       "        <td>-5.75963</td>\n",
       "        <td>0</td>\n",
       "        <td></td>\n",
       "        <td></td>\n",
       "        <td>-30</td>\n",
       "        <td>-5</td>\n",
       "        <td>No</td>\n",
       "    </tr>\n",
       "    <tr>\n",
       "        <td>1</td>\n",
       "        <td>source1_nu_spectrum_main_Powerlaw_index</td>\n",
       "        <td>-1.10811</td>\n",
       "        <td>0</td>\n",
       "        <td></td>\n",
       "        <td></td>\n",
       "        <td>-4</td>\n",
       "        <td>-1</td>\n",
       "        <td>No</td>\n",
       "    </tr>\n",
       "</table>\n",
       "<pre id=\"SxxuCQInGd\" style=\"display:none;\">\n",
       "<textarea rows=\"10\" cols=\"50\" onclick=\"this.select()\" readonly>\n",
       "\\begin{tabular}{|c|r|r|r|r|r|r|r|c|}\n",
       "\\hline\n",
       " & Name & Value & Hesse Error & Minos Error- & Minos Error+ & Limit- & Limit+ & Fixed?\\\\\n",
       "\\hline\n",
       "0 & source1 $\\nu$ spectrum main $Powerlaw_{K}$ & -5.75963 & 0 &  &  & -30.0 & -5 & No\\\\\n",
       "\\hline\n",
       "1 & source1 $\\nu$ spectrum main $Powerlaw_{index}$ & -1.10811 & 0 &  &  & -4.0 & -1 & No\\\\\n",
       "\\hline\n",
       "\\end{tabular}\n",
       "</textarea>\n",
       "</pre>"
      ]
     },
     "metadata": {},
     "output_type": "display_data"
    },
    {
     "name": "stdout",
     "output_type": "stream",
     "text": [
      "[array([-2.37993109e-06, -3.77675431e-07, -2.52577711e-06, -1.27978092e-06]), array([ 4.17132995e-12, -8.85157056e-06, -1.00522084e-06,  6.83886860e-02]), array([ 1.69341732e-01, -6.42164944e-06, -1.82189583e-08, -7.31003136e-06]), array([-1.42727662e-06, -1.50731748e-06, -6.22770907e-06, -3.13337604e-06]), array([-1.15736481e-05,  1.22506579e+00, -4.52093419e-06, -1.71641230e-06]), array([ 7.53733965e-01,  9.82549058e-04, -1.38214990e-06, -1.40655582e-06]), array([-6.74013538e-06, -1.77698131e-06, -8.21460926e-07, -1.50349527e-06]), array([-4.19107754e-07, -3.41323485e-07, -3.18345220e-06, -3.02488172e-06]), array([ 7.34765860e-01, -4.41447218e-07, -2.57595402e-06, -1.34465661e-06]), array([ 2.03572019e-01, -7.13577326e-07,  2.97106511e-01,  1.15463195e-14]), array([-1.51109754e-06, -8.72914931e-06,  4.94017428e-01]), array([-2.61450331e-06, -8.09288800e-07, -9.23934151e-07]), array([ 4.52459563e-01, -1.88217831e-06,  2.45706375e-02]), array([-6.77136519e-06, -2.19311506e-06, -9.01751174e-06]), array([-8.56097259e-06, -2.63029595e-06, -5.91412360e-07]), array([-2.38519353e-06, -1.42141855e-06, -8.65872582e-06]), array([ 1.70777887e+00, -4.85271431e-06, -4.89940458e-06]), array([ 1.12980696e+00, -6.19869759e-06, -1.46019187e-05]), array([-3.06760062e-06, -1.66995335e-06, -2.74222096e-06]), array([-3.53402448e-07, -3.71507874e-07, -2.47588068e-06]), array([-3.01253913e-06, -3.27213471e-06, -6.34044340e-07]), array([ 5.77315973e-15, -1.75954274e-06,  1.80161474e+00]), array([-7.12528984e-06,  1.52695926e+00,  3.13675758e-02]), array([-3.49994322e-06,  1.61648472e-12,  5.98241802e-01]), array([-4.71626758e-07, -4.60489503e-07,  4.76063633e-13]), array([-3.03625658e-06, -1.00811779e-05, -1.73299720e-06]), array([-5.34650308e-06, -1.03848655e-06, -3.02429835e-06]), array([-3.75911351e-07, -6.33810721e-06,  1.09534624e+00]), array([-2.35788670e-06, -2.52207296e-06,  4.53932092e-01]), array([-1.95232182e-06,  3.62380361e-01, -1.32169820e-05])]\n",
      "Now testing factor: 1e-19\n",
      "Last status:\n",
      "\n",
      "{'fval': -0.0, 'edm': 0.0, 'nfcn': 49, 'up': 0.5, 'is_valid': True, 'has_valid_parameters': True, 'has_accurate_covar': True, 'has_posdef_covar': True, 'has_made_posdef_covar': False, 'hesse_failed': False, 'has_covariance': True, 'is_above_max_edm': False, 'has_reached_call_limit': False}\n",
      "\n",
      "\n"
     ]
    },
    {
     "data": {
      "text/html": [
       "<table>\n",
       "    <tr>\n",
       "        <td><a href=\"#\" onclick=\"$('#cvSWJwxDxE').toggle()\">+</a></td>\n",
       "        <td title=\"Variable name\">Name</td>\n",
       "        <td title=\"Value of parameter\">Value</td>\n",
       "        <td title=\"Hesse error\">Hesse Error</td>\n",
       "        <td title=\"Minos lower error\">Minos Error-</td>\n",
       "        <td title=\"Minos upper error\">Minos Error+</td>\n",
       "        <td title=\"Lower limit of the parameter\">Limit-</td>\n",
       "        <td title=\"Upper limit of the parameter\">Limit+</td>\n",
       "        <td title=\"Is the parameter fixed in the fit\">Fixed?</td>\n",
       "    </tr>\n",
       "    <tr>\n",
       "        <td>0</td>\n",
       "        <td>source1_nu_spectrum_main_Powerlaw_K</td>\n",
       "        <td>-28.6943</td>\n",
       "        <td>0</td>\n",
       "        <td></td>\n",
       "        <td></td>\n",
       "        <td>-30</td>\n",
       "        <td>-5</td>\n",
       "        <td>No</td>\n",
       "    </tr>\n",
       "    <tr>\n",
       "        <td>1</td>\n",
       "        <td>source1_nu_spectrum_main_Powerlaw_index</td>\n",
       "        <td>-2.03359</td>\n",
       "        <td>0</td>\n",
       "        <td></td>\n",
       "        <td></td>\n",
       "        <td>-4</td>\n",
       "        <td>-1</td>\n",
       "        <td>No</td>\n",
       "    </tr>\n",
       "</table>\n",
       "<pre id=\"cvSWJwxDxE\" style=\"display:none;\">\n",
       "<textarea rows=\"10\" cols=\"50\" onclick=\"this.select()\" readonly>\n",
       "\\begin{tabular}{|c|r|r|r|r|r|r|r|c|}\n",
       "\\hline\n",
       " & Name & Value & Hesse Error & Minos Error- & Minos Error+ & Limit- & Limit+ & Fixed?\\\\\n",
       "\\hline\n",
       "0 & source1 $\\nu$ spectrum main $Powerlaw_{K}$ & -28.6943 & 0 &  &  & -30.0 & -5 & No\\\\\n",
       "\\hline\n",
       "1 & source1 $\\nu$ spectrum main $Powerlaw_{index}$ & -2.03359 & 0 &  &  & -4.0 & -1 & No\\\\\n",
       "\\hline\n",
       "\\end{tabular}\n",
       "</textarea>\n",
       "</pre>"
      ]
     },
     "metadata": {},
     "output_type": "display_data"
    },
    {
     "name": "stdout",
     "output_type": "stream",
     "text": [
      "Last status:\n",
      "\n",
      "{'fval': 0.0, 'edm': 0.0, 'nfcn': 52, 'up': 0.5, 'is_valid': True, 'has_valid_parameters': True, 'has_accurate_covar': True, 'has_posdef_covar': True, 'has_made_posdef_covar': False, 'hesse_failed': False, 'has_covariance': True, 'is_above_max_edm': False, 'has_reached_call_limit': False}\n",
      "\n",
      "\n"
     ]
    },
    {
     "data": {
      "text/html": [
       "<table>\n",
       "    <tr>\n",
       "        <td><a href=\"#\" onclick=\"$('#CCDZHfbSqm').toggle()\">+</a></td>\n",
       "        <td title=\"Variable name\">Name</td>\n",
       "        <td title=\"Value of parameter\">Value</td>\n",
       "        <td title=\"Hesse error\">Hesse Error</td>\n",
       "        <td title=\"Minos lower error\">Minos Error-</td>\n",
       "        <td title=\"Minos upper error\">Minos Error+</td>\n",
       "        <td title=\"Lower limit of the parameter\">Limit-</td>\n",
       "        <td title=\"Upper limit of the parameter\">Limit+</td>\n",
       "        <td title=\"Is the parameter fixed in the fit\">Fixed?</td>\n",
       "    </tr>\n",
       "    <tr>\n",
       "        <td>0</td>\n",
       "        <td>source1_nu_spectrum_main_Powerlaw_K</td>\n",
       "        <td>-5.75963</td>\n",
       "        <td>0</td>\n",
       "        <td></td>\n",
       "        <td></td>\n",
       "        <td>-30</td>\n",
       "        <td>-5</td>\n",
       "        <td>No</td>\n",
       "    </tr>\n",
       "    <tr>\n",
       "        <td>1</td>\n",
       "        <td>source1_nu_spectrum_main_Powerlaw_index</td>\n",
       "        <td>-1.10811</td>\n",
       "        <td>0</td>\n",
       "        <td></td>\n",
       "        <td></td>\n",
       "        <td>-4</td>\n",
       "        <td>-1</td>\n",
       "        <td>No</td>\n",
       "    </tr>\n",
       "</table>\n",
       "<pre id=\"CCDZHfbSqm\" style=\"display:none;\">\n",
       "<textarea rows=\"10\" cols=\"50\" onclick=\"this.select()\" readonly>\n",
       "\\begin{tabular}{|c|r|r|r|r|r|r|r|c|}\n",
       "\\hline\n",
       " & Name & Value & Hesse Error & Minos Error- & Minos Error+ & Limit- & Limit+ & Fixed?\\\\\n",
       "\\hline\n",
       "0 & source1 $\\nu$ spectrum main $Powerlaw_{K}$ & -5.75963 & 0 &  &  & -30.0 & -5 & No\\\\\n",
       "\\hline\n",
       "1 & source1 $\\nu$ spectrum main $Powerlaw_{index}$ & -1.10811 & 0 &  &  & -4.0 & -1 & No\\\\\n",
       "\\hline\n",
       "\\end{tabular}\n",
       "</textarea>\n",
       "</pre>"
      ]
     },
     "metadata": {},
     "output_type": "display_data"
    },
    {
     "name": "stdout",
     "output_type": "stream",
     "text": [
      "[0.005, 0.2]\n",
      "Now testing factor: 5.644444444444445e-18\n",
      "Last status:\n",
      "\n",
      "{'fval': -0.0, 'edm': 0.0, 'nfcn': 49, 'up': 0.5, 'is_valid': True, 'has_valid_parameters': True, 'has_accurate_covar': True, 'has_posdef_covar': True, 'has_made_posdef_covar': False, 'hesse_failed': False, 'has_covariance': True, 'is_above_max_edm': False, 'has_reached_call_limit': False}\n",
      "\n",
      "\n"
     ]
    },
    {
     "data": {
      "text/html": [
       "<table>\n",
       "    <tr>\n",
       "        <td><a href=\"#\" onclick=\"$('#zVvaHXfHCd').toggle()\">+</a></td>\n",
       "        <td title=\"Variable name\">Name</td>\n",
       "        <td title=\"Value of parameter\">Value</td>\n",
       "        <td title=\"Hesse error\">Hesse Error</td>\n",
       "        <td title=\"Minos lower error\">Minos Error-</td>\n",
       "        <td title=\"Minos upper error\">Minos Error+</td>\n",
       "        <td title=\"Lower limit of the parameter\">Limit-</td>\n",
       "        <td title=\"Upper limit of the parameter\">Limit+</td>\n",
       "        <td title=\"Is the parameter fixed in the fit\">Fixed?</td>\n",
       "    </tr>\n",
       "    <tr>\n",
       "        <td>0</td>\n",
       "        <td>source1_nu_spectrum_main_Powerlaw_K</td>\n",
       "        <td>-28.6943</td>\n",
       "        <td>0</td>\n",
       "        <td></td>\n",
       "        <td></td>\n",
       "        <td>-30</td>\n",
       "        <td>-5</td>\n",
       "        <td>No</td>\n",
       "    </tr>\n",
       "    <tr>\n",
       "        <td>1</td>\n",
       "        <td>source1_nu_spectrum_main_Powerlaw_index</td>\n",
       "        <td>-2.03359</td>\n",
       "        <td>0</td>\n",
       "        <td></td>\n",
       "        <td></td>\n",
       "        <td>-4</td>\n",
       "        <td>-1</td>\n",
       "        <td>No</td>\n",
       "    </tr>\n",
       "</table>\n",
       "<pre id=\"zVvaHXfHCd\" style=\"display:none;\">\n",
       "<textarea rows=\"10\" cols=\"50\" onclick=\"this.select()\" readonly>\n",
       "\\begin{tabular}{|c|r|r|r|r|r|r|r|c|}\n",
       "\\hline\n",
       " & Name & Value & Hesse Error & Minos Error- & Minos Error+ & Limit- & Limit+ & Fixed?\\\\\n",
       "\\hline\n",
       "0 & source1 $\\nu$ spectrum main $Powerlaw_{K}$ & -28.6943 & 0 &  &  & -30.0 & -5 & No\\\\\n",
       "\\hline\n",
       "1 & source1 $\\nu$ spectrum main $Powerlaw_{index}$ & -2.03359 & 0 &  &  & -4.0 & -1 & No\\\\\n",
       "\\hline\n",
       "\\end{tabular}\n",
       "</textarea>\n",
       "</pre>"
      ]
     },
     "metadata": {},
     "output_type": "display_data"
    },
    {
     "name": "stdout",
     "output_type": "stream",
     "text": [
      "Last status:\n",
      "\n",
      "{'fval': 0.0, 'edm': 0.0, 'nfcn': 52, 'up': 0.5, 'is_valid': True, 'has_valid_parameters': True, 'has_accurate_covar': True, 'has_posdef_covar': True, 'has_made_posdef_covar': False, 'hesse_failed': False, 'has_covariance': True, 'is_above_max_edm': False, 'has_reached_call_limit': False}\n",
      "\n",
      "\n"
     ]
    },
    {
     "data": {
      "text/html": [
       "<table>\n",
       "    <tr>\n",
       "        <td><a href=\"#\" onclick=\"$('#uQIJgwPkWi').toggle()\">+</a></td>\n",
       "        <td title=\"Variable name\">Name</td>\n",
       "        <td title=\"Value of parameter\">Value</td>\n",
       "        <td title=\"Hesse error\">Hesse Error</td>\n",
       "        <td title=\"Minos lower error\">Minos Error-</td>\n",
       "        <td title=\"Minos upper error\">Minos Error+</td>\n",
       "        <td title=\"Lower limit of the parameter\">Limit-</td>\n",
       "        <td title=\"Upper limit of the parameter\">Limit+</td>\n",
       "        <td title=\"Is the parameter fixed in the fit\">Fixed?</td>\n",
       "    </tr>\n",
       "    <tr>\n",
       "        <td>0</td>\n",
       "        <td>source1_nu_spectrum_main_Powerlaw_K</td>\n",
       "        <td>-5.75963</td>\n",
       "        <td>0</td>\n",
       "        <td></td>\n",
       "        <td></td>\n",
       "        <td>-30</td>\n",
       "        <td>-5</td>\n",
       "        <td>No</td>\n",
       "    </tr>\n",
       "    <tr>\n",
       "        <td>1</td>\n",
       "        <td>source1_nu_spectrum_main_Powerlaw_index</td>\n",
       "        <td>-1.10811</td>\n",
       "        <td>0</td>\n",
       "        <td></td>\n",
       "        <td></td>\n",
       "        <td>-4</td>\n",
       "        <td>-1</td>\n",
       "        <td>No</td>\n",
       "    </tr>\n",
       "</table>\n",
       "<pre id=\"uQIJgwPkWi\" style=\"display:none;\">\n",
       "<textarea rows=\"10\" cols=\"50\" onclick=\"this.select()\" readonly>\n",
       "\\begin{tabular}{|c|r|r|r|r|r|r|r|c|}\n",
       "\\hline\n",
       " & Name & Value & Hesse Error & Minos Error- & Minos Error+ & Limit- & Limit+ & Fixed?\\\\\n",
       "\\hline\n",
       "0 & source1 $\\nu$ spectrum main $Powerlaw_{K}$ & -5.75963 & 0 &  &  & -30.0 & -5 & No\\\\\n",
       "\\hline\n",
       "1 & source1 $\\nu$ spectrum main $Powerlaw_{index}$ & -1.10811 & 0 &  &  & -4.0 & -1 & No\\\\\n",
       "\\hline\n",
       "\\end{tabular}\n",
       "</textarea>\n",
       "</pre>"
      ]
     },
     "metadata": {},
     "output_type": "display_data"
    },
    {
     "name": "stdout",
     "output_type": "stream",
     "text": [
      "[0.005, 0.2]\n",
      "Now testing factor: 1.1188888888888889e-17\n",
      "Last status:\n",
      "\n",
      "{'fval': -0.0, 'edm': 0.0, 'nfcn': 49, 'up': 0.5, 'is_valid': True, 'has_valid_parameters': True, 'has_accurate_covar': True, 'has_posdef_covar': True, 'has_made_posdef_covar': False, 'hesse_failed': False, 'has_covariance': True, 'is_above_max_edm': False, 'has_reached_call_limit': False}\n",
      "\n",
      "\n"
     ]
    },
    {
     "data": {
      "text/html": [
       "<table>\n",
       "    <tr>\n",
       "        <td><a href=\"#\" onclick=\"$('#jCzjrbkkWd').toggle()\">+</a></td>\n",
       "        <td title=\"Variable name\">Name</td>\n",
       "        <td title=\"Value of parameter\">Value</td>\n",
       "        <td title=\"Hesse error\">Hesse Error</td>\n",
       "        <td title=\"Minos lower error\">Minos Error-</td>\n",
       "        <td title=\"Minos upper error\">Minos Error+</td>\n",
       "        <td title=\"Lower limit of the parameter\">Limit-</td>\n",
       "        <td title=\"Upper limit of the parameter\">Limit+</td>\n",
       "        <td title=\"Is the parameter fixed in the fit\">Fixed?</td>\n",
       "    </tr>\n",
       "    <tr>\n",
       "        <td>0</td>\n",
       "        <td>source1_nu_spectrum_main_Powerlaw_K</td>\n",
       "        <td>-28.6943</td>\n",
       "        <td>0</td>\n",
       "        <td></td>\n",
       "        <td></td>\n",
       "        <td>-30</td>\n",
       "        <td>-5</td>\n",
       "        <td>No</td>\n",
       "    </tr>\n",
       "    <tr>\n",
       "        <td>1</td>\n",
       "        <td>source1_nu_spectrum_main_Powerlaw_index</td>\n",
       "        <td>-2.03359</td>\n",
       "        <td>0</td>\n",
       "        <td></td>\n",
       "        <td></td>\n",
       "        <td>-4</td>\n",
       "        <td>-1</td>\n",
       "        <td>No</td>\n",
       "    </tr>\n",
       "</table>\n",
       "<pre id=\"jCzjrbkkWd\" style=\"display:none;\">\n",
       "<textarea rows=\"10\" cols=\"50\" onclick=\"this.select()\" readonly>\n",
       "\\begin{tabular}{|c|r|r|r|r|r|r|r|c|}\n",
       "\\hline\n",
       " & Name & Value & Hesse Error & Minos Error- & Minos Error+ & Limit- & Limit+ & Fixed?\\\\\n",
       "\\hline\n",
       "0 & source1 $\\nu$ spectrum main $Powerlaw_{K}$ & -28.6943 & 0 &  &  & -30.0 & -5 & No\\\\\n",
       "\\hline\n",
       "1 & source1 $\\nu$ spectrum main $Powerlaw_{index}$ & -2.03359 & 0 &  &  & -4.0 & -1 & No\\\\\n",
       "\\hline\n",
       "\\end{tabular}\n",
       "</textarea>\n",
       "</pre>"
      ]
     },
     "metadata": {},
     "output_type": "display_data"
    },
    {
     "name": "stdout",
     "output_type": "stream",
     "text": [
      "Last status:\n",
      "\n",
      "{'fval': 0.0, 'edm': 0.0, 'nfcn': 52, 'up': 0.5, 'is_valid': True, 'has_valid_parameters': True, 'has_accurate_covar': True, 'has_posdef_covar': True, 'has_made_posdef_covar': False, 'hesse_failed': False, 'has_covariance': True, 'is_above_max_edm': False, 'has_reached_call_limit': False}\n",
      "\n",
      "\n"
     ]
    },
    {
     "data": {
      "text/html": [
       "<table>\n",
       "    <tr>\n",
       "        <td><a href=\"#\" onclick=\"$('#akUtfqdNnj').toggle()\">+</a></td>\n",
       "        <td title=\"Variable name\">Name</td>\n",
       "        <td title=\"Value of parameter\">Value</td>\n",
       "        <td title=\"Hesse error\">Hesse Error</td>\n",
       "        <td title=\"Minos lower error\">Minos Error-</td>\n",
       "        <td title=\"Minos upper error\">Minos Error+</td>\n",
       "        <td title=\"Lower limit of the parameter\">Limit-</td>\n",
       "        <td title=\"Upper limit of the parameter\">Limit+</td>\n",
       "        <td title=\"Is the parameter fixed in the fit\">Fixed?</td>\n",
       "    </tr>\n",
       "    <tr>\n",
       "        <td>0</td>\n",
       "        <td>source1_nu_spectrum_main_Powerlaw_K</td>\n",
       "        <td>-5.75963</td>\n",
       "        <td>0</td>\n",
       "        <td></td>\n",
       "        <td></td>\n",
       "        <td>-30</td>\n",
       "        <td>-5</td>\n",
       "        <td>No</td>\n",
       "    </tr>\n",
       "    <tr>\n",
       "        <td>1</td>\n",
       "        <td>source1_nu_spectrum_main_Powerlaw_index</td>\n",
       "        <td>-1.10811</td>\n",
       "        <td>0</td>\n",
       "        <td></td>\n",
       "        <td></td>\n",
       "        <td>-4</td>\n",
       "        <td>-1</td>\n",
       "        <td>No</td>\n",
       "    </tr>\n",
       "</table>\n",
       "<pre id=\"akUtfqdNnj\" style=\"display:none;\">\n",
       "<textarea rows=\"10\" cols=\"50\" onclick=\"this.select()\" readonly>\n",
       "\\begin{tabular}{|c|r|r|r|r|r|r|r|c|}\n",
       "\\hline\n",
       " & Name & Value & Hesse Error & Minos Error- & Minos Error+ & Limit- & Limit+ & Fixed?\\\\\n",
       "\\hline\n",
       "0 & source1 $\\nu$ spectrum main $Powerlaw_{K}$ & -5.75963 & 0 &  &  & -30.0 & -5 & No\\\\\n",
       "\\hline\n",
       "1 & source1 $\\nu$ spectrum main $Powerlaw_{index}$ & -1.10811 & 0 &  &  & -4.0 & -1 & No\\\\\n",
       "\\hline\n",
       "\\end{tabular}\n",
       "</textarea>\n",
       "</pre>"
      ]
     },
     "metadata": {},
     "output_type": "display_data"
    }
   ],
   "source": [
    "test.calculate_sensitivity(base_spectrum = basespectrum,bkg_trials=100,signal_trials=100,list_N = np.linspace(1e-19,5e-17,10),make_plot=\"\",n_cpu=30)"
   ]
  },
  {
   "cell_type": "code",
   "execution_count": null,
   "metadata": {},
   "outputs": [],
   "source": [
    "test.ts_bkg"
   ]
  },
  {
   "cell_type": "code",
   "execution_count": 9,
   "metadata": {},
   "outputs": [
    {
     "ename": "AttributeError",
     "evalue": "'sensitivity' object has no attribute 'ts_bkg'",
     "output_type": "error",
     "traceback": [
      "\u001b[0;31m---------------------------------------------------------------------------\u001b[0m",
      "\u001b[0;31mAttributeError\u001b[0m                            Traceback (most recent call last)",
      "\u001b[0;32m<ipython-input-9-e4eb52e16ad8>\u001b[0m in \u001b[0;36m<module>\u001b[0;34m\u001b[0m\n\u001b[1;32m      1\u001b[0m \u001b[0;32mimport\u001b[0m \u001b[0mmatplotlib\u001b[0m\u001b[0;34m.\u001b[0m\u001b[0mpyplot\u001b[0m \u001b[0;32mas\u001b[0m \u001b[0mplt\u001b[0m\u001b[0;34m\u001b[0m\u001b[0;34m\u001b[0m\u001b[0m\n\u001b[1;32m      2\u001b[0m \u001b[0mget_ipython\u001b[0m\u001b[0;34m(\u001b[0m\u001b[0;34m)\u001b[0m\u001b[0;34m.\u001b[0m\u001b[0mrun_line_magic\u001b[0m\u001b[0;34m(\u001b[0m\u001b[0;34m'matplotlib'\u001b[0m\u001b[0;34m,\u001b[0m \u001b[0;34m'inline'\u001b[0m\u001b[0;34m)\u001b[0m\u001b[0;34m\u001b[0m\u001b[0;34m\u001b[0m\u001b[0m\n\u001b[0;32m----> 3\u001b[0;31m \u001b[0mplt\u001b[0m\u001b[0;34m.\u001b[0m\u001b[0mhist\u001b[0m\u001b[0;34m(\u001b[0m\u001b[0;34m-\u001b[0m\u001b[0mtest\u001b[0m\u001b[0;34m.\u001b[0m\u001b[0mts_bkg\u001b[0m\u001b[0;34m)\u001b[0m\u001b[0;34m\u001b[0m\u001b[0;34m\u001b[0m\u001b[0m\n\u001b[0m\u001b[1;32m      4\u001b[0m \u001b[0mplt\u001b[0m\u001b[0;34m.\u001b[0m\u001b[0myscale\u001b[0m\u001b[0;34m(\u001b[0m\u001b[0;34m'log'\u001b[0m\u001b[0;34m)\u001b[0m\u001b[0;34m\u001b[0m\u001b[0;34m\u001b[0m\u001b[0m\n",
      "\u001b[0;31mAttributeError\u001b[0m: 'sensitivity' object has no attribute 'ts_bkg'"
     ]
    }
   ],
   "source": [
    "import matplotlib.pyplot as plt\n",
    "%matplotlib inline\n",
    "plt.hist(-test.ts_bkg)\n",
    "plt.yscale('log')"
   ]
  },
  {
   "cell_type": "code",
   "execution_count": 26,
   "metadata": {},
   "outputs": [
    {
     "data": {
      "text/plain": [
       "-2.2588366381546674e-06"
      ]
     },
     "execution_count": 26,
     "metadata": {},
     "output_type": "execute_result"
    }
   ],
   "source": [
    "-test.jl._current_minimum"
   ]
  },
  {
   "cell_type": "code",
   "execution_count": 10,
   "metadata": {},
   "outputs": [
    {
     "data": {
      "text/plain": [
       "array([-3.29823454e+00, -2.89430953e+00, -7.35326878e-01,  1.92604398e-06,\n",
       "        1.70855680e-06, -1.40975094e+00, -2.73324959e+00, -3.69867210e+00,\n",
       "       -4.90108205e-02, -1.83142261e+00, -1.67681639e+00, -1.56632622e+00,\n",
       "       -1.30754953e+01,  1.63008678e-06,  1.95178182e-06,  2.17778832e-06,\n",
       "       -1.25405600e+01, -1.22663910e+00, -2.22411091e+00, -7.45524140e-01,\n",
       "        1.69319584e-06,  1.64733509e-06, -4.58053243e-01, -2.52607923e-01,\n",
       "       -9.45291767e-01,  2.31896923e-06, -5.21889985e-02, -3.27638238e+00,\n",
       "        1.49022510e-06,  5.51921117e-05,  1.34014801e-06, -5.30435338e+00,\n",
       "        4.00467376e-05,  1.69141524e-06,  1.82839894e-06, -4.40250195e+00,\n",
       "       -8.73546880e-02, -9.71483869e-01, -2.21458452e+00,  2.33196890e-06,\n",
       "       -1.38970790e+00, -3.42087708e+00,  2.35197906e-06, -9.61902669e-01,\n",
       "       -9.99587185e-01, -7.39525658e+00, -1.87190158e+00,  2.92978896e-06,\n",
       "       -2.50785990e+00, -1.57626651e+00, -4.89205719e-01, -5.82146162e+00,\n",
       "       -2.50424769e+00, -4.37166831e+00,  5.83182470e-07, -2.28003121e+00,\n",
       "       -1.29062158e+00, -1.85698388e+00, -2.09173661e+00, -2.35497261e+00,\n",
       "       -7.19648563e-02, -9.71677942e+00, -8.11130970e-02, -5.94211663e+00,\n",
       "       -1.49372956e+00, -1.94572869e+00,  5.40821874e-06, -4.22904502e-01,\n",
       "       -1.21382052e-02, -3.95906422e-01, -6.92845257e+00, -5.99909725e-01,\n",
       "        1.66949231e-06,  1.59885745e-06,  2.42373165e-06,  1.79126378e-06,\n",
       "       -3.89389882e+00, -1.64022228e+00, -2.20647076e+00, -3.24726083e+00,\n",
       "       -1.89930094e+00, -4.21785654e-01, -3.57108349e+00,  2.83527920e-06,\n",
       "        1.70611428e-06, -2.39116664e+00, -3.78119099e-01, -8.06103658e+00,\n",
       "        1.96023585e-06,  2.71055744e-06, -8.78821465e+00, -5.63420417e+00,\n",
       "       -6.94057203e+00, -2.65681659e-01, -7.86726903e+00, -2.99224488e+00,\n",
       "       -1.17264950e-01, -1.74874099e-01, -1.24098459e+00, -7.73403857e-01])"
      ]
     },
     "execution_count": 10,
     "metadata": {},
     "output_type": "execute_result"
    }
   ],
   "source": [
    "test.ts_bkg"
   ]
  },
  {
   "cell_type": "code",
   "execution_count": 91,
   "metadata": {},
   "outputs": [
    {
     "name": "stdout",
     "output_type": "stream",
     "text": [
      "(398.83053863635894, -63.3154191302458)\n",
      "(399.80091336666834, -64.86347801486988)\n",
      "(397.86247814011216, -61.77194882232254)\n",
      "(398.9274718794413, -63.470018345526)\n",
      "(398.7336285356088, -63.16086580071635)\n",
      "(400.5241531225366, -66.03382077724723)\n",
      "(397.14439298885145, -60.611826285382335)\n",
      "(398.9995634205554, -63.58659171977331)\n",
      "(398.66158854041396, -63.04439462844698)\n",
      "(81.55088384232005, 337.3247647726964)\n",
      "(107.55613833982477, 322.5460692378416)\n",
      "(81.5885437893257, 337.30961691718585)\n",
      "(81.51324099644123, 337.33988307564243)\n",
      "(81.63883560687881, 337.28935283037004)\n",
      "(81.46302529391043, 337.36001562763795)\n",
      "(81.58575316456066, 337.3118490726306)\n",
      "(81.51603007695759, 337.337653514104)\n",
      "(81.63614773298009, 337.2931453307092)\n",
      "(81.46571290945698, 337.3562231272698)\n",
      "(75.1590832311633, 339.44989902655715)\n",
      "(64.76289364796895, 341.17260452283216)\n",
      "(63.62853809027046, 341.209638885659)\n",
      "(63.69770940525454, 341.20669937683505)\n",
      "(63.55944068709582, 341.2124562392272)\n",
      "(63.695124573279074, 341.2103626707441)\n",
      "(63.56202427548083, 341.2087945930994)\n",
      "(63.02892221971412, 341.2230401820361)\n",
      "(62.47213620185781, 341.22719611663024)\n",
      "(62.55059923013838, 341.2261567286322)\n",
      "(62.393770022390335, 341.22807604605356)\n",
      "(62.54815140469719, 341.23037452986506)\n",
      "(62.39621744035013, 341.2238583616839)\n",
      "(62.45871241400093, 341.2390275128687)\n",
      "(62.40523227212974, 341.28599009815673)\n",
      "(62.27303606355233, 341.4008561800114)\n",
      "(61.88931825891349, 341.72369081382794)\n",
      "(60.85352594871649, 342.49625825576004)\n",
      "(59.222418829890145, 343.1503413971673)\n",
      "(59.299198917187745, 343.15311907091325)\n",
      "(59.14573672443507, 343.1474039233714)\n",
      "(59.29919416431622, 343.1531356811413)\n",
      "(59.14574714688317, 343.14737484239515)\n",
      "(60.554335795471765, 343.175558484482)\n",
      "(60.633815727585116, 343.17554590281156)\n",
      "(60.474958543446796, 343.1754028025258)\n",
      "(60.63090803438383, 343.17549369973244)\n",
      "(60.47786439558063, 343.1754549575654)\n",
      "(60.608553140936415, 343.17583779382466)\n",
      "(60.60454985584982, 343.17583956695387)\n",
      "(60.68303548960439, 343.175761322064)\n",
      "(60.526164266131524, 343.17575384314665)\n",
      "(60.680126001314484, 343.1757614804228)\n",
      "(60.529071864829874, 343.17575382916556)\n",
      "(60.60454985584982, 343.17583956695387)\n",
      "(60.68303548960439, 343.175761322064)\n",
      "(60.526164266131524, 343.17575384314665)\n",
      "(60.680126001314484, 343.1757614804228)\n",
      "(60.529071864829874, 343.17575382916556)\n",
      "(60.62023897506006, 343.1758370434949)\n",
      "(60.58886473840167, 343.17583553166327)\n",
      "(60.61965722834152, 343.1758370640004)\n",
      "(60.58944640953493, 343.1758355169304)\n",
      "(60.75870950959641, 343.1755214984098)\n",
      "(60.60454985584982, 343.17583956695387)\n",
      "(61.09114090732486, 343.17272259726843)\n",
      "(60.12177886383054, 343.1726955847468)\n",
      "(60.6830133912968, 343.17576136716684)\n",
      "(60.52618630814636, 343.17575389030384)\n",
      "(61.07332085797219, 343.1727229122967)\n",
      "(60.13952976912567, 343.17269576226846)\n",
      "(60.68013798585788, 343.17576145505143)\n",
      "(60.52905991139856, 343.175753802606)\n",
      "(60.60454985584982, 343.17583956695387)\n",
      "(60.6830133912968, 343.17576136716684)\n",
      "(60.52618630814636, 343.17575389030384)\n",
      "(60.68013798585788, 343.17576145505143)\n",
      "(60.52905991139856, 343.175753802606)\n",
      "(60.62023455990512, 343.17583704512765)\n",
      "(60.588869151304536, 343.1758355337213)\n",
      "(60.61965962275996, 343.1758370630843)\n",
      "(60.589444016360886, 343.1758355157692)\n",
      "(60.75869938379097, 343.17552153804513)\n",
      "(60.60454985584982, 343.17583956695387)\n"
     ]
    }
   ],
   "source": [
    "test.base_spectrum.A = 1e-17\n",
    "test.jl_value.verbose=True\n",
    "test.PS_injector.update_spectrum(test.base_spectrum)\n",
    "tempresult = test.build_signal_TS( signal_trials = 1)"
   ]
  },
  {
   "cell_type": "code",
   "execution_count": 26,
   "metadata": {},
   "outputs": [],
   "source": [
    "ts_value = 2*(np.sum(np.log(ts))+l.drop*np.log(1-ns/test.jl_value.llh_model.N))"
   ]
  },
  {
   "cell_type": "code",
   "execution_count": 27,
   "metadata": {},
   "outputs": [
    {
     "data": {
      "text/plain": [
       "3492.999034723317"
      ]
     },
     "execution_count": 27,
     "metadata": {},
     "output_type": "execute_result"
    }
   ],
   "source": [
    "ts_value"
   ]
  },
  {
   "cell_type": "code",
   "execution_count": 33,
   "metadata": {},
   "outputs": [],
   "source": [
    "line=np.linspace(0,500,10000)\n",
    "ts=[]\n",
    "for i in line:\n",
    "    ts.append(test.jl_value.llh_model.eval_llh_ns(i)[1])"
   ]
  },
  {
   "cell_type": "code",
   "execution_count": 39,
   "metadata": {},
   "outputs": [
    {
     "data": {
      "text/plain": [
       "<matplotlib.legend.Legend at 0x7f7ad000d940>"
      ]
     },
     "execution_count": 39,
     "metadata": {},
     "output_type": "execute_result"
    },
    {
     "data": {
      "image/png": "[encoded data removed]",
      "text/plain": [
       "<Figure size 432x288 with 1 Axes>"
      ]
     },
     "metadata": {
      "needs_background": "light"
     },
     "output_type": "display_data"
    }
   ],
   "source": [
    "%matplotlib inline\n",
    "import matplotlib.pyplot as plt\n",
    "plt.plot(line,-np.array(ts))\n",
    "plt.axvline((test.jl_value.llh_model.data['run']>1000000).sum(),label=\"True\",color='r')\n",
    "plt.axvline(test.jl_value.llh_model.eval_llh_fit_ns()[0],label=\"Fitted\",color='g')\n",
    "plt.xlabel(\"ns\")\n",
    "plt.legend()"
   ]
  },
  {
   "cell_type": "code",
   "execution_count": null,
   "metadata": {},
   "outputs": [],
   "source": [
    "test.PS_injector.reduce_mc['weight']=test.PS_injector.spectrum(test.PS_injector.reduce_mc['trueE'])*test.PS_injector.reduce_mc['ow']*test.PS_injector.signal_time_profile.effective_exposure() * 3600 * 24"
   ]
  },
  {
   "cell_type": "code",
   "execution_count": 93,
   "metadata": {},
   "outputs": [
    {
     "data": {
      "text/plain": [
       "46.296593"
      ]
     },
     "execution_count": 93,
     "metadata": {},
     "output_type": "execute_result"
    }
   ],
   "source": [
    "test.PS_injector.reduce_mc['weight'].sum()"
   ]
  },
  {
   "cell_type": "code",
   "execution_count": 94,
   "metadata": {},
   "outputs": [
    {
     "data": {
      "text/plain": [
       "57"
      ]
     },
     "execution_count": 94,
     "metadata": {},
     "output_type": "execute_result"
    }
   ],
   "source": [
    "(test.jl_value.llh_model.data['run']>1000000).sum()"
   ]
  },
  {
   "cell_type": "code",
   "execution_count": null,
   "metadata": {},
   "outputs": [],
   "source": []
  }
 ],
 "metadata": {
  "kernelspec": {
   "display_name": "i3",
   "language": "python",
   "name": "i3"
  },
  "language_info": {
   "codemirror_mode": {
    "name": "ipython",
    "version": 3
   },
   "file_extension": ".py",
   "mimetype": "text/x-python",
   "name": "python",
   "nbconvert_exporter": "python",
   "pygments_lexer": "ipython3",
   "version": "3.6.7"
  }
 },
 "nbformat": 4,
 "nbformat_minor": 4
}
