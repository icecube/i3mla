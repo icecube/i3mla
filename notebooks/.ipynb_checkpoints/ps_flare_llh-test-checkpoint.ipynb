{
 "cells": [
  {
   "cell_type": "code",
   "execution_count": 1,
   "metadata": {},
   "outputs": [
    {
     "name": "stdout",
     "output_type": "stream",
     "text": [
      "/home/jevans96/cluster_analysis\n"
     ]
    }
   ],
   "source": [
    "cd .."
   ]
  },
  {
   "cell_type": "code",
   "execution_count": 2,
   "metadata": {},
   "outputs": [],
   "source": [
    "import numpy as np\n",
    "from analysis import tools\n",
    "from analysis.time_profiles.gauss_profile import gauss_profile\n",
    "from analysis.time_profiles.uniform_profile import uniform_profile\n",
    "from analysis.llhs.ps_flare_llh import ps_flare_llh\n",
    "import glob\n",
    "from scipy import stats\n",
    "from matplotlib import pyplot as plt\n",
    "# import os, sys, glob, abc\n",
    "# import numpy as np, matplotlib, scipy, time\n",
    "# from tqdm.notebook import tqdm\n",
    "\n",
    "# %matplotlib inline\n",
    "# from matplotlib import pyplot as plt, colors\n",
    "# from scipy import stats, interpolate, optimize\n",
    "# import numpy.lib.recfunctions as rf\n",
    "\n",
    "np.random.seed(0)"
   ]
  },
  {
   "cell_type": "code",
   "execution_count": 3,
   "metadata": {},
   "outputs": [
    {
     "name": "stdout",
     "output_type": "stream",
     "text": [
      "Events available in simulation: 11595414\n",
      "Keys available in simulation:\n",
      "['angErr', 'azi', 'dec', 'event', 'logE', 'ow', 'ra', 'run', 'subevent', 'time', 'trueDec', 'trueE', 'trueRa', 'zen']\n",
      "\n",
      "Events available in data: 112858\n",
      "Keys available in data:\n",
      "['angErr', 'azi', 'dec', 'event', 'logE', 'ra', 'run', 'subevent', 'time', 'zen']\n"
     ]
    }
   ],
   "source": [
    "# Load in both the simulation and the data\n",
    "\n",
    "# Where is the dataset stored?\n",
    "dataset = \"/data/mjlarson/data/\"\n",
    "\n",
    "# Read in all of the data files\n",
    "data_files = dataset + \"/IC86_*exp.npy\"\n",
    "data = tools.read(glob.glob(data_files))\n",
    "\n",
    "# Read in all of the MC files \n",
    "sim_files = dataset + \"/IC86*MC*npy\"\n",
    "sim = tools.read(glob.glob(sim_files))\n",
    "\n",
    "# Set the angular error floor to 0.2 degrees\n",
    "data['angErr'][data['angErr']<np.deg2rad(0.2)] = np.deg2rad(0.2)\n",
    "sim['angErr'][sim['angErr']<np.deg2rad(0.2)] = np.deg2rad(0.2)\n",
    "\n",
    "\n",
    "# Show the possible keys available here:\n",
    "print(\"Events available in simulation: {}\".format(len(sim)))\n",
    "print(\"Keys available in simulation:\")\n",
    "print(sorted(sim.dtype.names))\n",
    "print()\n",
    "\n",
    "print(\"Events available in data: {}\".format(len(data)))\n",
    "print(\"Keys available in data:\")\n",
    "print(sorted(data.dtype.names))"
   ]
  },
  {
   "cell_type": "code",
   "execution_count": 4,
   "metadata": {},
   "outputs": [
    {
     "name": "stdout",
     "output_type": "stream",
     "text": [
      "Keys available in the GoodRunList:\n",
      "['events', 'livetime', 'run', 'start', 'stop']\n"
     ]
    }
   ],
   "source": [
    "# Also load in the \"GoodRunList\" (GRL), a file that tells\n",
    "# us when the detector was taking good data. \n",
    "grl_files = dataset + \"/GRL/IC86_*exp.npy\"\n",
    "grl = tools.read(glob.glob(grl_files))\n",
    "\n",
    "# Show the keys available in the GRL\n",
    "print(\"Keys available in the GoodRunList:\")\n",
    "print(sorted(grl.dtype.names))\n",
    "\n",
    "gammas = np.arange(-4.25, -0.5, 0.25)\n",
    "bins   = np.array([np.linspace(-1, 1, 51), # sin(dec)\n",
    "                   np.linspace(1, 8, 51)]) # logE"
   ]
  },
  {
   "cell_type": "code",
   "execution_count": 5,
   "metadata": {},
   "outputs": [
    {
     "data": {
      "application/vnd.jupyter.widget-view+json": {
       "model_id": "6768e58a11fa4e0bab565293530b9543",
       "version_major": 2,
       "version_minor": 0
      },
      "text/plain": [
       "HBox(children=(FloatProgress(value=0.0, max=15.0), HTML(value='')))"
      ]
     },
     "metadata": {},
     "output_type": "display_data"
    },
    {
     "name": "stderr",
     "output_type": "stream",
     "text": [
      "/home/jevans96/cluster_analysis/analysis/llhs/ps_flare_llh.py:64: RuntimeWarning: divide by zero encountered in true_divide\n",
      "  ratio = sig_h / bg_h\n",
      "/home/jevans96/cluster_analysis/analysis/llhs/ps_flare_llh.py:64: RuntimeWarning: invalid value encountered in true_divide\n",
      "  ratio = sig_h / bg_h\n",
      "/home/jevans96/cluster_analysis/analysis/llhs/ps_flare_llh.py:69: RuntimeWarning: invalid value encountered in greater\n",
      "  good = np.isfinite(values) & (values>0)\n"
     ]
    },
    {
     "name": "stdout",
     "output_type": "stream",
     "text": [
      "\n"
     ]
    }
   ],
   "source": [
    "# Run this block once\n",
    "llh_object = ps_flare_llh(data, sim, grl, gammas, bins, outfile = './temp_data/ps_flare_llh-test.npy')"
   ]
  },
  {
   "cell_type": "code",
   "execution_count": 5,
   "metadata": {},
   "outputs": [],
   "source": [
    "# Afterwards, run this one to save time\n",
    "llh_object = ps_flare_llh(data, sim, grl, gammas, bins, infile = './temp_data/ps_flare_llh-test.npy')"
   ]
  },
  {
   "cell_type": "code",
   "execution_count": 6,
   "metadata": {},
   "outputs": [
    {
     "name": "stdout",
     "output_type": "stream",
     "text": [
      "Got 16 events for this trial\n",
      "Times:\n",
      "[(    121751, 17568598, 0, 1.36062601, -0.61891759, 3.23841328, 0.95089633, 56102.48561403, 5.22005328, 0.00671682)\n",
      " (1106906729,     1418, 0, 1.57855362,  0.52442182, 5.54217078, 2.0789147 , 56102.48973821, 3.79847272, 0.00696632)\n",
      " (    121841, 26954936, 0, 0.66543712, -0.50418828, 4.98129674, 1.06729422, 56102.49349585, 5.43093217, 0.00349066)\n",
      " (    122271,  3959204, 0, 1.17076064,  0.5644572 , 1.96745349, 2.13410517, 56102.49472966, 2.83791143, 0.01158377)\n",
      " (    122051, 40780002, 1, 3.37641558, -0.10622703, 3.07413989, 1.46543164, 56102.49571139, 2.90308996, 0.01085067)\n",
      " (    120667, 34861498, 0, 2.03663802,  0.19244637, 2.00954121, 1.76239926, 56102.49894432, 3.04826327, 0.01302006)\n",
      " (    120757, 75477798, 0, 4.26552589,  1.03856085, 3.4549358 , 2.60852276, 56102.4991066 , 2.71383485, 0.00971839)\n",
      " (    122024, 16235232, 0, 3.65693821,  0.17782283, 2.36213773, 1.74893019, 56102.49919909, 2.90984995, 0.01383804)\n",
      " (    121715, 65504829, 0, 1.39688648, -0.18466367, 1.1664483 , 1.38707229, 56102.5008191 , 4.55083719, 0.01699111)\n",
      " (1106908755,     4414, 0, 1.57180632,  0.52153433, 5.09908794, 2.09124118, 56102.50477525, 4.54020744, 0.00369596)\n",
      " (    120871, 10618598, 0, 2.9757192 ,  0.07018362, 3.26525499, 1.64123863, 56102.50592687, 2.83738231, 0.00356167)\n",
      " (    120849, 40407048, 0, 0.94043493,  0.32456057, 0.55874837, 1.8943615 , 56102.51203643, 2.80203533, 0.00919334)\n",
      " (    120465, 29680121, 0, 4.52786851,  0.88193695, 3.73164844, 2.45380313, 56102.51248675, 2.81359281, 0.00658456)\n",
      " (    120705,   309006, 0, 4.76652254, -0.79936349, 6.25153733, 0.77038788, 56102.51344315, 5.18929649, 0.00349066)\n",
      " (    120796, 47200058, 0, 0.84960084, -0.24786577, 4.59252033, 1.32327035, 56102.51480349, 3.59446253, 0.00349066)\n",
      " (    121718, 15601145, 0, 4.63019346,  0.57423772, 2.77550126, 2.14367785, 56102.51828621, 3.08669301, 0.0274366 )]\n"
     ]
    }
   ],
   "source": [
    "# Produce a single trial. Here, we pass a \"seed\"\n",
    "# value to the function so that we can reproduce\n",
    "# the trial later if we want to. If you want it to\n",
    "# be random, set seed=None.\n",
    "seed = 0\n",
    "\n",
    "# Try this with a gaussian signal + uniform background.\n",
    "signal_time_profile = gauss_profile(56102.5, 0.01)\n",
    "background_time_profile = uniform_profile(56102.48, 56102.52)\n",
    "\n",
    "trial = llh_object.produce_trial(N=1e-15, \n",
    "                                 signal_time_profile=signal_time_profile,\n",
    "                                 background_time_profile=background_time_profile,\n",
    "                                 random_seed=seed)\n",
    "print(\"Got {} events for this trial\".format(len(trial)))\n",
    "\n",
    "print(\"Times:\")\n",
    "print(trial)"
   ]
  },
  {
   "cell_type": "code",
   "execution_count": 7,
   "metadata": {},
   "outputs": [
    {
     "name": "stdout",
     "output_type": "stream",
     "text": [
      "{'ts': 65.25772301770901, 'ns': 1.9999997992799208, 'gamma': -2.0, 't_mean': 56102.502444775746, 't_sigma': 0.009358484086429426}\n"
     ]
    }
   ],
   "source": [
    "sig_time_profile = gauss_profile(56102.5, 0.01)\n",
    "bg_time_profile = uniform_profile(56102.48, 56102.52)\n",
    "    \n",
    "# Run the function with our test trial. Make sure\n",
    "# you understand what's getting returned!\n",
    "bestfit = llh_object.evaluate_ts(trial,\n",
    "                                 bg_time_profile = bg_time_profile,\n",
    "                                 sig_time_profile = sig_time_profile, \n",
    "                                 ns=4, \n",
    "                                 gamma=-2,\n",
    "                                 source = {'ra':np.pi/2, 'dec':np.pi/6})\n",
    "print(bestfit)\n"
   ]
  },
  {
   "cell_type": "code",
   "execution_count": 8,
   "metadata": {
    "scrolled": true
   },
   "outputs": [
    {
     "data": {
      "application/vnd.jupyter.widget-view+json": {
       "model_id": "70d86c453ec84dfb8522d445b756e1ef",
       "version_major": 2,
       "version_minor": 0
      },
      "text/plain": [
       "HBox(children=(FloatProgress(value=0.0, description='Running Trials (N=0.00e+00, gamma=-2.0)', layout=Layout(f…"
      ]
     },
     "metadata": {},
     "output_type": "display_data"
    },
    {
     "name": "stdout",
     "output_type": "stream",
     "text": [
      "\n"
     ]
    },
    {
     "data": {
      "application/vnd.jupyter.widget-view+json": {
       "model_id": "78b079d4baed4c2081c1436c3fa829b1",
       "version_major": 2,
       "version_minor": 0
      },
      "text/plain": [
       "HBox(children=(FloatProgress(value=0.0, description='Running Trials (N=1.00e-16, gamma=-2.0)', layout=Layout(f…"
      ]
     },
     "metadata": {},
     "output_type": "display_data"
    },
    {
     "name": "stdout",
     "output_type": "stream",
     "text": [
      "\n"
     ]
    },
    {
     "data": {
      "application/vnd.jupyter.widget-view+json": {
       "model_id": "33f1a6d8d0bc4a2299ebadb9f8100d97",
       "version_major": 2,
       "version_minor": 0
      },
      "text/plain": [
       "HBox(children=(FloatProgress(value=0.0, description='Running Trials (N=1.00e-15, gamma=-2.0)', layout=Layout(f…"
      ]
     },
     "metadata": {},
     "output_type": "display_data"
    },
    {
     "name": "stdout",
     "output_type": "stream",
     "text": [
      "\n"
     ]
    },
    {
     "data": {
      "application/vnd.jupyter.widget-view+json": {
       "model_id": "42b98ec419254e78a69c075038bda800",
       "version_major": 2,
       "version_minor": 0
      },
      "text/plain": [
       "HBox(children=(FloatProgress(value=0.0, description='Running Trials (N=1.00e-14, gamma=-2.0)', layout=Layout(f…"
      ]
     },
     "metadata": {},
     "output_type": "display_data"
    },
    {
     "name": "stdout",
     "output_type": "stream",
     "text": [
      "\n"
     ]
    }
   ],
   "source": [
    "# Run trials for a few different values of N. These settings should\n",
    "# exactly mimic your previous script\n",
    "thousand_seconds = (1000.0)/(24*3600.)\n",
    "background_time_profile = uniform_profile(56044.0912963, 56044.0912963+thousand_seconds)\n",
    "signal_time_profile = background_time_profile\n",
    "\n",
    "args = {\"test_ns\":0.1,\n",
    "        \"minimize\":True, \n",
    "        \"signal_time_profile\":signal_time_profile,\n",
    "        \"background_time_profile\":background_time_profile}\n",
    "\n",
    "background_fits = llh_object.produce_n_trials(1000, **args)\n",
    "signal_16_fits = llh_object.produce_n_trials(1000, N=1e-16, **args)\n",
    "signal_15_fits = llh_object.produce_n_trials(1000, N=1e-15, **args)\n",
    "signal_14_fits = llh_object.produce_n_trials(1000, N=1e-14, **args)"
   ]
  },
  {
   "cell_type": "code",
   "execution_count": 11,
   "metadata": {},
   "outputs": [
    {
     "data": {
      "image/png": "[encoded data removed]",
      "text/plain": [
       "<Figure size 720x432 with 1 Axes>"
      ]
     },
     "metadata": {
      "needs_background": "light"
     },
     "output_type": "display_data"
    }
   ],
   "source": [
    "# Plot the signal and background LLHs\n",
    "fig, ax = plt.subplots(figsize=(10,6))\n",
    "bins = np.linspace(0, 500, 50)\n",
    "\n",
    "ax.hist(background_fits['ts'],\n",
    "        bins = bins,\n",
    "        weights = np.ones(background_fits.shape[0])/len(background_fits),\n",
    "        histtype = 'step',\n",
    "        color = 'k',\n",
    "        linewidth = 3,\n",
    "        alpha=0.5,\n",
    "        label = r'N = 0')\n",
    "\n",
    "ax.hist(signal_16_fits['ts'],\n",
    "        bins = bins,\n",
    "        weights = np.ones(signal_16_fits.shape[0])/len(signal_16_fits),\n",
    "        histtype = 'step',\n",
    "        linewidth = 3,\n",
    "        alpha = 0.7,\n",
    "        label = r'N = $10^{-16}$')\n",
    "\n",
    "ax.hist(signal_15_fits['ts'],\n",
    "        bins = bins,\n",
    "        weights = np.ones(signal_15_fits.shape[0])/len(signal_15_fits),\n",
    "        histtype = 'step',\n",
    "        linewidth = 3,\n",
    "        alpha = 0.7,\n",
    "        label = r'N = $10^{-15}$')\n",
    "\n",
    "ax.hist(signal_14_fits['ts'],\n",
    "        bins = bins,\n",
    "        weights = np.ones(signal_14_fits.shape[0])/len(signal_14_fits),\n",
    "        histtype = 'step',\n",
    "        linewidth = 3,\n",
    "        alpha = 0.7,\n",
    "        label = r'N = $10^{-14}$')\n",
    "\n",
    "ax.legend(loc='upper right', fontsize=16,)\n",
    "\n",
    "ax.grid(alpha=0.25)\n",
    "ax.set_yscale('log')\n",
    "ax.set_xlabel(\"TS\", fontsize=16)\n",
    "ax.set_ylabel(\"Fraction of Trials\", fontsize=16)\n",
    "ax.tick_params(which='both', labelsize=16)"
   ]
  },
  {
   "cell_type": "code",
   "execution_count": 13,
   "metadata": {},
   "outputs": [
    {
     "data": {
      "application/vnd.jupyter.widget-view+json": {
       "model_id": "351407cf433b42319924adc59acf7867",
       "version_major": 2,
       "version_minor": 0
      },
      "text/plain": [
       "HBox(children=(FloatProgress(value=0.0, description='Running Trials (N=0.00e+00, gamma=-2.0)', layout=Layout(f…"
      ]
     },
     "metadata": {},
     "output_type": "display_data"
    },
    {
     "name": "stdout",
     "output_type": "stream",
     "text": [
      "\n"
     ]
    },
    {
     "data": {
      "application/vnd.jupyter.widget-view+json": {
       "model_id": "9270464aec9d4ac5b44344acf05feaed",
       "version_major": 2,
       "version_minor": 0
      },
      "text/plain": [
       "HBox(children=(FloatProgress(value=0.0, description='Running Trials (N=1.00e-16, gamma=-2.0)', layout=Layout(f…"
      ]
     },
     "metadata": {},
     "output_type": "display_data"
    },
    {
     "name": "stdout",
     "output_type": "stream",
     "text": [
      "\n"
     ]
    },
    {
     "data": {
      "application/vnd.jupyter.widget-view+json": {
       "model_id": "e61b30a769134975a5f27172afc003e6",
       "version_major": 2,
       "version_minor": 0
      },
      "text/plain": [
       "HBox(children=(FloatProgress(value=0.0, description='Running Trials (N=1.00e-15, gamma=-2.0)', layout=Layout(f…"
      ]
     },
     "metadata": {},
     "output_type": "display_data"
    },
    {
     "name": "stdout",
     "output_type": "stream",
     "text": [
      "\n"
     ]
    },
    {
     "data": {
      "application/vnd.jupyter.widget-view+json": {
       "model_id": "b35570d7feff4a849986c7f8cf96c8d1",
       "version_major": 2,
       "version_minor": 0
      },
      "text/plain": [
       "HBox(children=(FloatProgress(value=0.0, description='Running Trials (N=1.00e-14, gamma=-2.0)', layout=Layout(f…"
      ]
     },
     "metadata": {},
     "output_type": "display_data"
    },
    {
     "name": "stdout",
     "output_type": "stream",
     "text": [
      "\n"
     ]
    }
   ],
   "source": [
    "# Try it again, but using a gaussian signal this time.\n",
    "# WARNING: The gaussian time profile is kind of hacked\n",
    "# together and may not give the most reliable results.\n",
    "# Use with caution!\n",
    "thousand_seconds = (1000.0)/(24*3600.)\n",
    "background_time_profile = uniform_profile(56044.0912963, 56044.0912963+thousand_seconds)\n",
    "signal_time_profile = gauss_profile(56044.0912963 + thousand_seconds/2, thousand_seconds/10)\n",
    "\n",
    "args = {\"test_ns\":0.1,\n",
    "        \"minimize\":True, \n",
    "        \"signal_time_profile\":signal_time_profile,\n",
    "        \"background_time_profile\":background_time_profile}\n",
    "\n",
    "background_fits = llh_object.produce_n_trials(1000, **args)\n",
    "signal_16_fits = llh_object.produce_n_trials(1000, N=1e-16, **args)\n",
    "signal_15_fits = llh_object.produce_n_trials(1000, N=1e-15, **args)\n",
    "signal_14_fits = llh_object.produce_n_trials(1000, N=1e-14, **args)"
   ]
  },
  {
   "cell_type": "code",
   "execution_count": 14,
   "metadata": {},
   "outputs": [
    {
     "data": {
      "image/png": "[encoded data removed]",
      "text/plain": [
       "<Figure size 720x432 with 1 Axes>"
      ]
     },
     "metadata": {
      "needs_background": "light"
     },
     "output_type": "display_data"
    }
   ],
   "source": [
    "# Plot the signal and background LLHs\n",
    "fig, ax = plt.subplots(figsize=(10,6))\n",
    "bins = np.linspace(0, 500, 50)\n",
    "\n",
    "ax.hist(background_fits['ts'],\n",
    "        bins = bins,\n",
    "        weights = np.ones(background_fits.shape[0])/len(background_fits),\n",
    "        histtype = 'step',\n",
    "        color = 'k',\n",
    "        linewidth = 3,\n",
    "        alpha=0.5,\n",
    "        label = r'N = 0')\n",
    "\n",
    "ax.hist(signal_16_fits['ts'],\n",
    "        bins = bins,\n",
    "        weights = np.ones(signal_16_fits.shape[0])/len(signal_16_fits),\n",
    "        histtype = 'step',\n",
    "        linewidth = 3,\n",
    "        alpha = 0.7,\n",
    "        label = r'N = $10^{-16}$')\n",
    "\n",
    "ax.hist(signal_15_fits['ts'],\n",
    "        bins = bins,\n",
    "        weights = np.ones(signal_15_fits.shape[0])/len(signal_15_fits),\n",
    "        histtype = 'step',\n",
    "        linewidth = 3,\n",
    "        alpha = 0.7,\n",
    "        label = r'N = $10^{-15}$')\n",
    "\n",
    "ax.hist(signal_14_fits['ts'],\n",
    "        bins = bins,\n",
    "        weights = np.ones(signal_14_fits.shape[0])/len(signal_14_fits),\n",
    "        histtype = 'step',\n",
    "        linewidth = 3,\n",
    "        alpha = 0.7,\n",
    "        label = r'N = $10^{-14}$')\n",
    "\n",
    "ax.legend(loc='upper right', fontsize=16,)\n",
    "\n",
    "ax.grid(alpha=0.25)\n",
    "ax.set_yscale('log')\n",
    "ax.set_xlabel(\"TS\", fontsize=16)\n",
    "ax.set_ylabel(\"Fraction of Trials\", fontsize=16)\n",
    "ax.tick_params(which='both', labelsize=16)"
   ]
  },
  {
   "cell_type": "code",
   "execution_count": 15,
   "metadata": {},
   "outputs": [],
   "source": [
    "thousand_seconds = (50000.0)/(24*3600.)\n",
    "# means  = [56044.0912963 + thousand_seconds/5,56044.0912963 + thousand_seconds/3,\n",
    "#           56044.0912963 + thousand_seconds/4,56044.0912963 + thousand_seconds/5,\n",
    "#           56044.0912963 + 3*thousand_seconds/4]\n",
    "# sigmas = [thousand_seconds/10,thousand_seconds/11,\n",
    "#           thousand_seconds/8,thousand_seconds/5,\n",
    "#           thousand_seconds/20]\n",
    "background_time_profile = uniform_profile(56044.0912963, 56044.0912963+thousand_seconds)\n",
    "# signal_time_profile = n_gauss_profile(means, sigmas)\n",
    "signal_time_profile = gauss_profile(56044.0912963 + thousand_seconds/2, thousand_seconds/10)\n",
    "\n",
    "args = {\"signal_time_profile\":signal_time_profile,\n",
    "        \"background_time_profile\":background_time_profile}\n",
    "\n",
    "\n",
    "\n",
    "trial = llh_object.produce_trial(N = 1e-14, **args)"
   ]
  },
  {
   "cell_type": "code",
   "execution_count": 16,
   "metadata": {},
   "outputs": [
    {
     "data": {
      "image/png": "[encoded data removed]",
      "text/plain": [
       "<Figure size 432x288 with 1 Axes>"
      ]
     },
     "metadata": {
      "needs_background": "light"
     },
     "output_type": "display_data"
    }
   ],
   "source": [
    "counts, bins, _ = plt.hist(trial['time'], bins = len(trial)//5)"
   ]
  },
  {
   "cell_type": "code",
   "execution_count": 17,
   "metadata": {},
   "outputs": [],
   "source": [
    "from sklearn.cluster import DBSCAN"
   ]
  },
  {
   "cell_type": "code",
   "execution_count": 18,
   "metadata": {},
   "outputs": [],
   "source": [
    "X = trial['time'].reshape(-1, 1)\n",
    "db = DBSCAN(eps=.01, min_samples=2).fit(X)\n",
    "core_samples_mask = np.zeros_like(db.labels_, dtype=bool)\n",
    "core_samples_mask[db.core_sample_indices_] = True"
   ]
  },
  {
   "cell_type": "code",
   "execution_count": 19,
   "metadata": {},
   "outputs": [],
   "source": [
    "labels = db.labels_\n",
    "unique_labels = set(labels)\n",
    "colors = [plt.cm.Spectral(each)\n",
    "          for each in np.linspace(0, 1, len(unique_labels))]"
   ]
  },
  {
   "cell_type": "code",
   "execution_count": 20,
   "metadata": {},
   "outputs": [
    {
     "data": {
      "image/png": "[encoded data removed]",
      "text/plain": [
       "<Figure size 432x288 with 1 Axes>"
      ]
     },
     "metadata": {
      "needs_background": "light"
     },
     "output_type": "display_data"
    }
   ],
   "source": [
    "for k, col in zip(unique_labels, colors):\n",
    "    class_member_mask = (labels == k)\n",
    "\n",
    "    xy = X[class_member_mask & core_samples_mask]\n",
    "    \n",
    "    plt.hist(xy, bins = bins)"
   ]
  },
  {
   "cell_type": "code",
   "execution_count": null,
   "metadata": {},
   "outputs": [],
   "source": []
  }
 ],
 "metadata": {
  "kernelspec": {
   "display_name": "Python 3",
   "language": "python",
   "name": "python3"
  },
  "language_info": {
   "codemirror_mode": {
    "name": "ipython",
    "version": 3
   },
   "file_extension": ".py",
   "mimetype": "text/x-python",
   "name": "python",
   "nbconvert_exporter": "python",
   "pygments_lexer": "ipython3",
   "version": "3.7.6"
  }
 },
 "nbformat": 4,
 "nbformat_minor": 4
}
