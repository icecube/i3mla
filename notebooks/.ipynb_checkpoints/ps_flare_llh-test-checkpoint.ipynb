{
 "cells": [
  {
   "cell_type": "code",
   "execution_count": 1,
   "metadata": {},
   "outputs": [
    {
     "name": "stdout",
     "output_type": "stream",
     "text": [
      "/home/thejevans/git/umd_icecube_analysis_tutorial\n"
     ]
    }
   ],
   "source": [
    "cd .."
   ]
  },
  {
   "cell_type": "code",
   "execution_count": 2,
   "metadata": {},
   "outputs": [],
   "source": [
    "__author__ = 'John Evans'\n",
    "__copyright__ = ''\n",
    "__credits__ = ['John Evans', 'Jason Fan', 'Michael Larson']\n",
    "__license__ = 'Apache License 2.0'\n",
    "__version__ = '0.0.1'\n",
    "__maintainer__ = 'John Evans'\n",
    "__email__ = 'jevans96@umd.edu'\n",
    "__status__ = 'Development'\n",
    "\n",
    "\"\"\"\n",
    "Docstring\n",
    "\"\"\"\n",
    "\n",
    "import numpy as np\n",
    "from i3pubtools import tools\n",
    "from i3pubtools.time_profiles import gauss_profile\n",
    "from i3pubtools.time_profiles import uniform_profile\n",
    "from i3pubtools.llhs import ps_flare_llh\n",
    "import test.test_data as test_data\n",
    "import glob\n",
    "from scipy import stats\n",
    "from matplotlib import pyplot as plt\n",
    "\n",
    "np.random.seed(0)"
   ]
  },
  {
   "cell_type": "code",
   "execution_count": 3,
   "metadata": {},
   "outputs": [
    {
     "name": "stdout",
     "output_type": "stream",
     "text": [
      "Events available in simulation: 100000\n",
      "Keys available in simulation:\n",
      "['angErr', 'azi', 'dec', 'event', 'logE', 'ow', 'ra', 'run', 'subevent', 'time', 'trueDec', 'trueE', 'trueRa', 'zen']\n",
      "\n",
      "Events available in data: 10000\n",
      "Keys available in data:\n",
      "['angErr', 'azi', 'dec', 'event', 'logE', 'ra', 'run', 'subevent', 'time', 'zen']\n"
     ]
    }
   ],
   "source": [
    "# Load in both the simulation and the data\n",
    "\n",
    "# # Where is the dataset stored?\n",
    "# dataset = '/data/mjlarson/data/'\n",
    "\n",
    "# # Read in all of the data files\n",
    "# data_files = dataset + '/IC86_*exp.npy'\n",
    "# data = tools.read(glob.glob(data_files))\n",
    "\n",
    "# # Read in all of the MC files \n",
    "# sim_files = dataset + '/IC86*MC*npy'\n",
    "# sim = tools.read(glob.glob(sim_files))\n",
    "\n",
    "data_size = 10000\n",
    "sim_size = 100000\n",
    "\n",
    "data = test_data.get_random_data(data_size)\n",
    "sim = test_data.get_random_sim(sim_size)\n",
    "\n",
    "# Set the angular error floor to 0.2 degrees\n",
    "data['angErr'][data['angErr']<np.deg2rad(0.2)] = np.deg2rad(0.2)\n",
    "sim['angErr'][sim['angErr']<np.deg2rad(0.2)] = np.deg2rad(0.2)\n",
    "\n",
    "\n",
    "# Show the possible keys available here:\n",
    "print('Events available in simulation: {}'.format(len(sim)))\n",
    "print('Keys available in simulation:')\n",
    "print(sorted(sim.dtype.names))\n",
    "print()\n",
    "\n",
    "print('Events available in data: {}'.format(len(data)))\n",
    "print('Keys available in data:')\n",
    "print(sorted(data.dtype.names))"
   ]
  },
  {
   "cell_type": "code",
   "execution_count": 4,
   "metadata": {},
   "outputs": [
    {
     "name": "stdout",
     "output_type": "stream",
     "text": [
      "Keys available in the GoodRunList:\n",
      "['events', 'livetime', 'run', 'start', 'stop']\n"
     ]
    }
   ],
   "source": [
    "# # Also load in the 'GoodRunList' (GRL), a file that tells\n",
    "# # us when the detector was taking good data. \n",
    "# grl_files = dataset + '/GRL/IC86_*exp.npy'\n",
    "# grl = tools.read(glob.glob(grl_files))\n",
    "grl = test_data.get_random_grl(data)\n",
    "\n",
    "\n",
    "# Show the keys available in the GRL\n",
    "print('Keys available in the GoodRunList:')\n",
    "print(sorted(grl.dtype.names))\n",
    "\n",
    "gammas = np.arange(-4.25, -0.5, 0.25)\n",
    "bins   = np.array([np.linspace(-1, 1, 51), # sin(dec)\n",
    "                   np.linspace(1, 8, 51)]) # logE"
   ]
  },
  {
   "cell_type": "code",
   "execution_count": 5,
   "metadata": {},
   "outputs": [],
   "source": [
    "# Try this with a gaussian signal + uniform background.\n",
    "signal_time_profile = gauss_profile.GaussProfile(56102.5, 0.01)\n",
    "background_time_profile = uniform_profile.UniformProfile(56102.48, 56102.52)\n",
    "source = {'ra':np.pi/2, 'dec':np.pi/6}"
   ]
  },
  {
   "cell_type": "code",
   "execution_count": 6,
   "metadata": {},
   "outputs": [
    {
     "name": "stderr",
     "output_type": "stream",
     "text": [
      "  0%|          | 0/15 [00:00<?, ?it/s]/home/thejevans/git/umd_icecube_analysis_tutorial/i3pubtools/llhs/ps_flare_llh.py:122: RuntimeWarning: divide by zero encountered in true_divide\n",
      "  ratio = sig_h / bg_h\n",
      "100%|██████████| 15/15 [00:00<00:00, 60.61it/s]\n"
     ]
    }
   ],
   "source": [
    "# Run this block once\n",
    "llh_object = ps_flare_llh.PsFlareLLH(data, sim, grl, gammas, bins, outfile = './test/test_outputs/ps_flare_llh-test.npy', source = source,\n",
    "                                     signal_time_profile = signal_time_profile, background_time_profile = background_time_profile)"
   ]
  },
  {
   "cell_type": "code",
   "execution_count": 7,
   "metadata": {},
   "outputs": [],
   "source": [
    "# Afterwards, run this one to save time\n",
    "llh_object = ps_flare_llh.PsFlareLLH(data, sim, grl, gammas, bins, infile = './test/test_outputs/ps_flare_llh-test.npy', source = source,\n",
    "                                     signal_time_profile = signal_time_profile, background_time_profile = background_time_profile)"
   ]
  },
  {
   "cell_type": "code",
   "execution_count": 8,
   "metadata": {},
   "outputs": [
    {
     "name": "stdout",
     "output_type": "stream",
     "text": [
      "Got 61 events for this trial\n",
      "Times:\n",
      "[(130039, 6572833, 8, 1.67181765, -0.31971099, 3.63374332,  1.04368987, 56102.48099416, 2.77723118, 0.09744253)\n",
      " (846507, 9577494, 6, 3.9327342 , -0.80570431, 0.96577945,  1.60494225, 56102.48188721, 9.8666624 , 0.03784134)\n",
      " (868028,  525554, 5, 0.56570984,  0.50104065, 5.99984108,  2.15848111, 56102.48232566, 9.15485246, 0.0730477 )\n",
      " (857616, 1784800, 3, 4.26448566, -0.6092387 , 2.46578597, -0.12774933, 56102.48237961, 0.02528304, 0.07133405)\n",
      " (564852, 6298938, 5, 3.94710731, -1.14811936, 0.00778772,  2.34184315, 56102.48378913, 4.81346029, 0.05563169)\n",
      " (756019, 5168385, 4, 2.43926762, -0.37955518, 5.48304479, -0.75981688, 56102.48443976, 8.71827893, 0.04968286)\n",
      " (364512, 3956502, 3, 3.37809598,  0.08453361, 5.59780085, -2.28619604, 56102.48514096, 3.34978366, 0.0934793 )\n",
      " (376827, 9336896, 7, 2.56103472,  0.43163395, 5.98363882, -1.16766854, 56102.48862421, 8.49812157, 0.03875252)\n",
      " (475153,  427370, 5, 5.29936737,  0.14791555, 0.79089698, -1.96430233, 56102.48869504, 3.69282396, 0.06009977)\n",
      " (217150, 5414605, 7, 2.42292521, -0.09225858, 4.83367631,  2.02499988, 56102.48967757, 0.71863056, 0.04659266)\n",
      " (831702, 4425238, 6, 0.25817717, -0.37598754, 5.6477969 , -2.54939266, 56102.49002432, 9.96452739, 0.09418408)\n",
      " (835413, 6072481, 1, 4.83329202,  0.78231345, 0.39259657, -1.36311115, 56102.49071841, 7.48777298, 0.01278587)\n",
      " (814816,  900860, 5, 6.11214419,  0.43153426, 4.87982245, -3.02247866, 56102.49085245, 7.46155017, 0.00448693)\n",
      " (350323,  778035, 1, 1.3229984 , -0.47952066, 4.62969656,  2.87029093, 56102.49122637, 6.71492379, 0.04480519)\n",
      " (485938, 2571961, 5, 3.49244371,  0.77375069, 4.61053432,  0.98852904, 56102.49170429, 0.68029273, 0.09228677)\n",
      " (861763, 9661966, 2, 3.1852026 , -0.66050662, 3.63678744,  1.94418591, 56102.49199962, 8.29797864, 0.06489639)\n",
      " (100940, 3862200, 7, 3.56667119,  0.27332276, 4.76786735,  0.20846843, 56102.49222653, 1.41394916, 0.00871284)\n",
      " (339804, 3150514, 6, 6.16101703,  0.69564123, 4.66884516,  0.16399947, 56102.49300605, 2.5367026 , 0.05644573)\n",
      " (855258, 7456862, 0, 1.87691086, -0.3276031 , 0.6382102 ,  0.81978157, 56102.49315941, 5.02088697, 0.00349066)\n",
      " (431191, 4907223, 2, 2.56355693, -0.07587972, 3.98134398, -1.76094458, 56102.49327215, 3.50394764, 0.04576777)\n",
      " (883044, 5316092, 1, 3.09421993, -0.60855374, 4.39399455,  1.27766114, 56102.49368825, 7.26223391, 0.0257945 )\n",
      " (427142, 7609785, 1, 1.16119922,  0.76969681, 2.23746098,  0.53307616, 56102.49418327, 7.48231933, 0.08591137)\n",
      " (401323, 4016259, 0, 5.34019073,  0.46009811, 3.19109415, -0.19540906, 56102.49450344, 7.94913792, 0.03134268)\n",
      " (904247, 9774384, 0, 1.38686999, -0.55529845, 2.72048687,  1.00500293, 56102.49462166, 5.11372263, 0.03645166)\n",
      " (669369, 5009862, 6, 0.33721079, -0.7361567 , 0.74797832,  2.23680963, 56102.49528396, 0.28618006, 0.04135844)\n",
      " (587229, 4395744, 6, 5.60081474,  0.54486782, 2.47588697, -2.42187754, 56102.49615814, 6.00351829, 0.0366898 )\n",
      " (920035, 3779278, 3, 3.15119464, -0.51329625, 0.56996304,  2.87479249, 56102.4966797 , 4.87880647, 0.00349066)\n",
      " (726546,  149576, 3, 1.43543365, -0.420826  , 1.83126646, -2.85576441, 56102.497039  , 8.91551155, 0.07826577)\n",
      " (680399, 8273446, 6, 5.88674489, -0.90459346, 0.26781673, -1.21447604, 56102.49711377, 6.29160288, 0.05654641)\n",
      " (632076, 7791054, 5, 0.47056425,  0.57578314, 3.53684035,  0.43617772, 56102.49816497, 2.51429284, 0.015688  )\n",
      " (234692, 2736673, 6, 5.93519371, -0.92319842, 4.74843819, -3.05174723, 56102.49945535, 5.79450851, 0.02904446)\n",
      " (447272, 5612299, 3, 5.8190213 , -1.27965755, 0.96024941, -0.6470854 , 56102.50046904, 6.09601552, 0.09137579)\n",
      " (231616, 3839503, 4, 4.12390601, -0.17976712, 4.08240089,  1.16544218, 56102.50090113, 3.67422134, 0.06765638)\n",
      " (673437, 8659678, 1, 3.32743621,  1.26555331, 1.12486723, -1.65001898, 56102.50094334, 0.30296885, 0.05922079)\n",
      " (397790, 1295444, 2, 1.11275058, -0.26727279, 2.98793486,  2.08527828, 56102.50103936, 4.07399417, 0.04940262)\n",
      " (356322,  123708, 5, 6.03105449,  0.26182489, 0.23462496,  2.48603846, 56102.5010835 , 0.50273437, 0.02504583)\n",
      " (809804, 7720193, 8, 6.16502508, -0.90198922, 4.31113751, -2.25568371, 56102.50195499, 9.38878579, 0.06410411)\n",
      " (785932, 2289385, 1, 1.02961323, -0.75426681, 4.17564913,  1.2716419 , 56102.50207076, 6.68431604, 0.0325831 )\n",
      " (595845, 2550363, 2, 0.65472578, -0.36706625, 5.39667244,  1.84682051, 56102.50241635, 1.47596196, 0.07829293)\n",
      " (976731, 5693641, 2, 2.69739208,  0.64537355, 4.19220741, -0.92449453, 56102.50249958, 4.32038891, 0.06702767)\n",
      " (487218, 8168965, 2, 3.31694215, -0.71139805, 2.93563049,  0.54981902, 56102.50261668, 6.87863675, 0.00349066)\n",
      " (633856, 4615457, 0, 0.29660888, -1.22960752, 0.80117262, -0.31987943, 56102.50392308, 4.8771504 , 0.09861476)\n",
      " (205878,   26547, 2, 5.77247649, -0.22322988, 1.60751464, -0.28419783, 56102.50403186, 6.27951156, 0.08028732)\n",
      " (884984, 8285314, 8, 2.17370691, -1.24150364, 0.92399508,  0.1300049 , 56102.50424412, 5.67024704, 0.04639874)\n",
      " (392225, 3105473, 2, 3.60254939, -0.66782745, 1.91990943, -3.01079622, 56102.50492759, 6.8566155 , 0.06211101)\n",
      " (272511, 7717706, 8, 4.50283783,  0.87968608, 5.69375984,  0.66029687, 56102.50521126, 0.19418978, 0.00659076)\n",
      " (480565, 5395240, 3, 4.05312054, -0.43979505, 4.22849337,  1.24479951, 56102.50523463, 6.26492474, 0.02393527)\n",
      " (192905,  485575, 5, 1.96692941,  0.00973945, 3.66103041,  0.15796589, 56102.50611104, 3.60810057, 0.08115936)\n",
      " (863685, 6436583, 1, 0.99766364, -0.39325017, 5.14921862, -1.75489998, 56102.50632201, 5.74238408, 0.01243677)\n",
      " (988777, 4095041, 0, 5.51865954,  0.35019975, 0.46523574, -0.34524407, 56102.50651209, 3.36765305, 0.08460327)\n",
      " (153296,  547579, 4, 1.75583732, -0.96846573, 1.67300557,  1.65776079, 56102.50714224, 8.50743402, 0.08982982)\n",
      " (104105, 2939808, 0, 3.15550916,  0.5244066 , 5.83708944, -1.66222441, 56102.50858238, 4.41572602, 0.06812496)\n",
      " (703148,  631479, 6, 2.78079787, -0.93456208, 1.44964229, -1.63949726, 56102.50913706, 1.46927498, 0.04590426)\n",
      " (246386, 9292470, 5, 5.98123687,  0.06095582, 3.70217994,  2.60262874, 56102.51047982, 1.63658503, 0.07215397)\n",
      " (917382, 9276160, 7, 5.00393172,  0.96272543, 4.04455128,  1.46388732, 56102.51089309, 7.47975196, 0.06087912)\n",
      " (928111, 5185234, 6, 2.46775576,  0.64354902, 3.74485938, -2.30464683, 56102.51115938, 6.28769654, 0.04310266)\n",
      " (251044, 5114489, 6, 2.79836676, -0.39848479, 5.67457984, -2.18403101, 56102.51262322, 6.5447966 , 0.09637062)\n",
      " (750922, 8785726, 4, 0.42738664, -0.08483379, 0.05072453, -1.52463892, 56102.51339453, 9.85484884, 0.09704461)\n",
      " (841574,  820165, 7, 3.75007541, -0.61772044, 5.9161403 ,  0.27053644, 56102.51490722, 9.23106758, 0.02854345)\n",
      " (133475, 6504868, 7, 4.48531382,  0.96088939, 5.39811778, -0.69929498, 56102.51564103, 7.04784326, 0.01043195)\n",
      " (866590, 7564003, 2, 2.79117018,  0.40317219, 1.70965149, -0.97429102, 56102.51812355, 4.05471591, 0.06040569)]\n"
     ]
    }
   ],
   "source": [
    "# Produce a single trial. Here, we pass a 'seed'\n",
    "# value to the function so that we can reproduce\n",
    "# the trial later if we want to. If you want it to\n",
    "# be random, set seed=None.\n",
    "seed = 0\n",
    "\n",
    "trial = llh_object.produce_trial(flux_norm=1e-15, random_seed=seed)\n",
    "print('Got {} events for this trial'.format(len(trial)))\n",
    "\n",
    "print('Times:')\n",
    "print(trial)"
   ]
  },
  {
   "cell_type": "code",
   "execution_count": 9,
   "metadata": {},
   "outputs": [
    {
     "name": "stderr",
     "output_type": "stream",
     "text": [
      "/usr/lib/python3.8/site-packages/numpy/core/_asarray.py:83: VisibleDeprecationWarning: Creating an ndarray from ragged nested sequences (which is a list-or-tuple of lists-or-tuples-or ndarrays with different lengths or shapes) is deprecated. If you meant to do this, you must specify 'dtype=object' when creating the ndarray\n",
      "  return array(a, dtype, copy=False, order=order)\n",
      "/usr/lib/python3.8/site-packages/scipy/optimize/_constraints.py:317: VisibleDeprecationWarning: Creating an ndarray from ragged nested sequences (which is a list-or-tuple of lists-or-tuples-or ndarrays with different lengths or shapes) is deprecated. If you meant to do this, you must specify 'dtype=object' when creating the ndarray\n",
      "  lb = np.array([x if x is not None else -np.inf for x in lb])\n",
      "/usr/lib/python3.8/site-packages/scipy/optimize/_constraints.py:318: VisibleDeprecationWarning: Creating an ndarray from ragged nested sequences (which is a list-or-tuple of lists-or-tuples-or ndarrays with different lengths or shapes) is deprecated. If you meant to do this, you must specify 'dtype=object' when creating the ndarray\n",
      "  ub = np.array([x if x is not None else np.inf for x in ub])\n"
     ]
    },
    {
     "ename": "ValueError",
     "evalue": "LBFGSB - one of the lower bounds is greater than an upper bound.",
     "output_type": "error",
     "traceback": [
      "\u001b[0;31m---------------------------------------------------------------------------\u001b[0m",
      "\u001b[0;31mValueError\u001b[0m                                Traceback (most recent call last)",
      "\u001b[0;32m<ipython-input-9-de8ae6f6a727>\u001b[0m in \u001b[0;36m<module>\u001b[0;34m\u001b[0m\n\u001b[1;32m      1\u001b[0m \u001b[0;31m# Run the function with our test trial. Make sure\u001b[0m\u001b[0;34m\u001b[0m\u001b[0;34m\u001b[0m\u001b[0;34m\u001b[0m\u001b[0m\n\u001b[1;32m      2\u001b[0m \u001b[0;31m# you understand what's getting returned!\u001b[0m\u001b[0;34m\u001b[0m\u001b[0;34m\u001b[0m\u001b[0;34m\u001b[0m\u001b[0m\n\u001b[0;32m----> 3\u001b[0;31m \u001b[0mbestfit\u001b[0m \u001b[0;34m=\u001b[0m \u001b[0mllh_object\u001b[0m\u001b[0;34m.\u001b[0m\u001b[0mevaluate_ts\u001b[0m\u001b[0;34m(\u001b[0m\u001b[0mtrial\u001b[0m\u001b[0;34m,\u001b[0m \u001b[0mns\u001b[0m\u001b[0;34m=\u001b[0m\u001b[0;36m4\u001b[0m\u001b[0;34m,\u001b[0m \u001b[0mgamma\u001b[0m\u001b[0;34m=\u001b[0m\u001b[0;34m-\u001b[0m\u001b[0;36m2\u001b[0m\u001b[0;34m)\u001b[0m\u001b[0;34m\u001b[0m\u001b[0;34m\u001b[0m\u001b[0m\n\u001b[0m\u001b[1;32m      4\u001b[0m \u001b[0mprint\u001b[0m\u001b[0;34m(\u001b[0m\u001b[0mbestfit\u001b[0m\u001b[0;34m)\u001b[0m\u001b[0;34m\u001b[0m\u001b[0;34m\u001b[0m\u001b[0m\n",
      "\u001b[0;32m~/git/umd_icecube_analysis_tutorial/i3pubtools/llhs/ps_flare_llh.py\u001b[0m in \u001b[0;36mevaluate_ts\u001b[0;34m(self, events, ns, gamma)\u001b[0m\n\u001b[1;32m    546\u001b[0m                       self.signal_time_profile.bounds(self.background_time_profile)]\n\u001b[1;32m    547\u001b[0m \u001b[0;34m\u001b[0m\u001b[0m\n\u001b[0;32m--> 548\u001b[0;31m             \u001b[0mresult\u001b[0m \u001b[0;34m=\u001b[0m \u001b[0mscipy\u001b[0m\u001b[0;34m.\u001b[0m\u001b[0moptimize\u001b[0m\u001b[0;34m.\u001b[0m\u001b[0mminimize\u001b[0m\u001b[0;34m(\u001b[0m\u001b[0mget_ts\u001b[0m\u001b[0;34m,\u001b[0m \u001b[0mx0\u001b[0m\u001b[0;34m=\u001b[0m\u001b[0mx0\u001b[0m\u001b[0;34m,\u001b[0m \u001b[0mbounds\u001b[0m\u001b[0;34m=\u001b[0m\u001b[0mbounds\u001b[0m\u001b[0;34m,\u001b[0m \u001b[0mmethod\u001b[0m\u001b[0;34m=\u001b[0m\u001b[0;34m'L-BFGS-B'\u001b[0m\u001b[0;34m)\u001b[0m\u001b[0;34m\u001b[0m\u001b[0;34m\u001b[0m\u001b[0m\n\u001b[0m\u001b[1;32m    549\u001b[0m \u001b[0;34m\u001b[0m\u001b[0m\n\u001b[1;32m    550\u001b[0m             \u001b[0;31m# Store the results in the output array\u001b[0m\u001b[0;34m\u001b[0m\u001b[0;34m\u001b[0m\u001b[0;34m\u001b[0m\u001b[0m\n",
      "\u001b[0;32m/usr/lib/python3.8/site-packages/scipy/optimize/_minimize.py\u001b[0m in \u001b[0;36mminimize\u001b[0;34m(fun, x0, args, method, jac, hess, hessp, bounds, constraints, tol, callback, options)\u001b[0m\n\u001b[1;32m    615\u001b[0m                                   **options)\n\u001b[1;32m    616\u001b[0m     \u001b[0;32melif\u001b[0m \u001b[0mmeth\u001b[0m \u001b[0;34m==\u001b[0m \u001b[0;34m'l-bfgs-b'\u001b[0m\u001b[0;34m:\u001b[0m\u001b[0;34m\u001b[0m\u001b[0;34m\u001b[0m\u001b[0m\n\u001b[0;32m--> 617\u001b[0;31m         return _minimize_lbfgsb(fun, x0, args, jac, bounds,\n\u001b[0m\u001b[1;32m    618\u001b[0m                                 callback=callback, **options)\n\u001b[1;32m    619\u001b[0m     \u001b[0;32melif\u001b[0m \u001b[0mmeth\u001b[0m \u001b[0;34m==\u001b[0m \u001b[0;34m'tnc'\u001b[0m\u001b[0;34m:\u001b[0m\u001b[0;34m\u001b[0m\u001b[0;34m\u001b[0m\u001b[0m\n",
      "\u001b[0;32m/usr/lib/python3.8/site-packages/scipy/optimize/lbfgsb.py\u001b[0m in \u001b[0;36m_minimize_lbfgsb\u001b[0;34m(fun, x0, args, jac, bounds, disp, maxcor, ftol, gtol, eps, maxfun, maxiter, iprint, callback, maxls, finite_diff_rel_step, **unknown_options)\u001b[0m\n\u001b[1;32m    292\u001b[0m     \u001b[0;31m# check bounds\u001b[0m\u001b[0;34m\u001b[0m\u001b[0;34m\u001b[0m\u001b[0;34m\u001b[0m\u001b[0m\n\u001b[1;32m    293\u001b[0m     \u001b[0;32mif\u001b[0m \u001b[0;34m(\u001b[0m\u001b[0mnew_bounds\u001b[0m\u001b[0;34m[\u001b[0m\u001b[0;36m0\u001b[0m\u001b[0;34m]\u001b[0m \u001b[0;34m>\u001b[0m \u001b[0mnew_bounds\u001b[0m\u001b[0;34m[\u001b[0m\u001b[0;36m1\u001b[0m\u001b[0;34m]\u001b[0m\u001b[0;34m)\u001b[0m\u001b[0;34m.\u001b[0m\u001b[0many\u001b[0m\u001b[0;34m(\u001b[0m\u001b[0;34m)\u001b[0m\u001b[0;34m:\u001b[0m\u001b[0;34m\u001b[0m\u001b[0;34m\u001b[0m\u001b[0m\n\u001b[0;32m--> 294\u001b[0;31m         \u001b[0;32mraise\u001b[0m \u001b[0mValueError\u001b[0m\u001b[0;34m(\u001b[0m\u001b[0;34m\"LBFGSB - one of the lower bounds is greater than an upper bound.\"\u001b[0m\u001b[0;34m)\u001b[0m\u001b[0;34m\u001b[0m\u001b[0;34m\u001b[0m\u001b[0m\n\u001b[0m\u001b[1;32m    295\u001b[0m \u001b[0;34m\u001b[0m\u001b[0m\n\u001b[1;32m    296\u001b[0m     \u001b[0;31m# initial vector must lie within the bounds. Otherwise ScalarFunction and\u001b[0m\u001b[0;34m\u001b[0m\u001b[0;34m\u001b[0m\u001b[0;34m\u001b[0m\u001b[0m\n",
      "\u001b[0;31mValueError\u001b[0m: LBFGSB - one of the lower bounds is greater than an upper bound."
     ]
    }
   ],
   "source": [
    "# Run the function with our test trial. Make sure\n",
    "# you understand what's getting returned!\n",
    "bestfit = llh_object.evaluate_ts(trial, ns=4, gamma=-2)\n",
    "print(bestfit)"
   ]
  },
  {
   "cell_type": "code",
   "execution_count": 10,
   "metadata": {
    "scrolled": true
   },
   "outputs": [
    {
     "name": "stderr",
     "output_type": "stream",
     "text": [
      "Running Trials (N=0.00e+00, gamma=-2.0): 100%|███████████████████████████████████████████████████████████████████████████████████████████████████████████████████████████████████████████████████████████████████████████████████████████████████████████████████████████████████████████████████████████████████████████████████████████████████████████████████████████████████████████████████████████████████████████████████████████████████████████████████████████████████████████████████████████████████████████████████████████████████████████████████████████████████████████████████████████████████████████████████████████████████████████████████████████████████████████████████████████████████████████████████████████████████████████████████████████████████████| 1000/1000 [00:00<00:00, 5570.45 trials/s]\n",
      "Running Trials (N=1.00e-16, gamma=-2.0):   0%|                                                                                                                                                                                                                                                                                                                                                                                                                                                                                                                                                                                                                                                                                                                                                    | 0/1000 [00:00<?, ? trials/s]\n"
     ]
    },
    {
     "ename": "TypeError",
     "evalue": "'>=' not supported between instances of 'tuple' and 'list'",
     "output_type": "error",
     "traceback": [
      "\u001b[0;31m---------------------------------------------------------------------------\u001b[0m",
      "\u001b[0;31mTypeError\u001b[0m                                 Traceback (most recent call last)",
      "\u001b[0;32m/usr/lib/python3.8/site-packages/numpy/core/fromnumeric.py\u001b[0m in \u001b[0;36m_wrapfunc\u001b[0;34m(obj, method, *args, **kwds)\u001b[0m\n\u001b[1;32m     57\u001b[0m     \u001b[0;32mtry\u001b[0m\u001b[0;34m:\u001b[0m\u001b[0;34m\u001b[0m\u001b[0;34m\u001b[0m\u001b[0m\n\u001b[0;32m---> 58\u001b[0;31m         \u001b[0;32mreturn\u001b[0m \u001b[0mbound\u001b[0m\u001b[0;34m(\u001b[0m\u001b[0;34m*\u001b[0m\u001b[0margs\u001b[0m\u001b[0;34m,\u001b[0m \u001b[0;34m**\u001b[0m\u001b[0mkwds\u001b[0m\u001b[0;34m)\u001b[0m\u001b[0;34m\u001b[0m\u001b[0;34m\u001b[0m\u001b[0m\n\u001b[0m\u001b[1;32m     59\u001b[0m     \u001b[0;32mexcept\u001b[0m \u001b[0mTypeError\u001b[0m\u001b[0;34m:\u001b[0m\u001b[0;34m\u001b[0m\u001b[0;34m\u001b[0m\u001b[0m\n",
      "\u001b[0;32m/usr/lib/python3.8/site-packages/numpy/core/_methods.py\u001b[0m in \u001b[0;36m_clip\u001b[0;34m(a, min, max, out, casting, **kwargs)\u001b[0m\n\u001b[1;32m    139\u001b[0m     \u001b[0;32melse\u001b[0m\u001b[0;34m:\u001b[0m\u001b[0;34m\u001b[0m\u001b[0;34m\u001b[0m\u001b[0m\n\u001b[0;32m--> 140\u001b[0;31m         return _clip_dep_invoke_with_casting(\n\u001b[0m\u001b[1;32m    141\u001b[0m             um.clip, a, min, max, out=out, casting=casting, **kwargs)\n",
      "\u001b[0;32m/usr/lib/python3.8/site-packages/numpy/core/_methods.py\u001b[0m in \u001b[0;36m_clip_dep_invoke_with_casting\u001b[0;34m(ufunc, out, casting, *args, **kwargs)\u001b[0m\n\u001b[1;32m     93\u001b[0m     \u001b[0;32mtry\u001b[0m\u001b[0;34m:\u001b[0m\u001b[0;34m\u001b[0m\u001b[0;34m\u001b[0m\u001b[0m\n\u001b[0;32m---> 94\u001b[0;31m         \u001b[0;32mreturn\u001b[0m \u001b[0mufunc\u001b[0m\u001b[0;34m(\u001b[0m\u001b[0;34m*\u001b[0m\u001b[0margs\u001b[0m\u001b[0;34m,\u001b[0m \u001b[0mout\u001b[0m\u001b[0;34m=\u001b[0m\u001b[0mout\u001b[0m\u001b[0;34m,\u001b[0m \u001b[0;34m**\u001b[0m\u001b[0mkwargs\u001b[0m\u001b[0;34m)\u001b[0m\u001b[0;34m\u001b[0m\u001b[0;34m\u001b[0m\u001b[0m\n\u001b[0m\u001b[1;32m     95\u001b[0m     \u001b[0;32mexcept\u001b[0m \u001b[0m_exceptions\u001b[0m\u001b[0;34m.\u001b[0m\u001b[0m_UFuncOutputCastingError\u001b[0m \u001b[0;32mas\u001b[0m \u001b[0me\u001b[0m\u001b[0;34m:\u001b[0m\u001b[0;34m\u001b[0m\u001b[0;34m\u001b[0m\u001b[0m\n",
      "\u001b[0;31mTypeError\u001b[0m: '>=' not supported between instances of 'tuple' and 'list'",
      "\nDuring handling of the above exception, another exception occurred:\n",
      "\u001b[0;31mTypeError\u001b[0m                                 Traceback (most recent call last)",
      "\u001b[0;32m<ipython-input-10-a3d3e3526c69>\u001b[0m in \u001b[0;36m<module>\u001b[0;34m\u001b[0m\n\u001b[1;32m      6\u001b[0m \u001b[0;34m\u001b[0m\u001b[0m\n\u001b[1;32m      7\u001b[0m \u001b[0mbackground_fits\u001b[0m \u001b[0;34m=\u001b[0m \u001b[0mllh_object\u001b[0m\u001b[0;34m.\u001b[0m\u001b[0mproduce_n_trials\u001b[0m\u001b[0;34m(\u001b[0m\u001b[0;36m1000\u001b[0m\u001b[0;34m,\u001b[0m \u001b[0mtest_ns\u001b[0m\u001b[0;34m=\u001b[0m\u001b[0;36m0.1\u001b[0m\u001b[0;34m)\u001b[0m\u001b[0;34m\u001b[0m\u001b[0;34m\u001b[0m\u001b[0m\n\u001b[0;32m----> 8\u001b[0;31m \u001b[0msignal_16_fits\u001b[0m \u001b[0;34m=\u001b[0m \u001b[0mllh_object\u001b[0m\u001b[0;34m.\u001b[0m\u001b[0mproduce_n_trials\u001b[0m\u001b[0;34m(\u001b[0m\u001b[0;36m1000\u001b[0m\u001b[0;34m,\u001b[0m \u001b[0mflux_norm\u001b[0m\u001b[0;34m=\u001b[0m\u001b[0;36m1e-16\u001b[0m\u001b[0;34m,\u001b[0m \u001b[0mtest_ns\u001b[0m\u001b[0;34m=\u001b[0m\u001b[0;36m0.1\u001b[0m\u001b[0;34m)\u001b[0m\u001b[0;34m\u001b[0m\u001b[0;34m\u001b[0m\u001b[0m\n\u001b[0m\u001b[1;32m      9\u001b[0m \u001b[0msignal_15_fits\u001b[0m \u001b[0;34m=\u001b[0m \u001b[0mllh_object\u001b[0m\u001b[0;34m.\u001b[0m\u001b[0mproduce_n_trials\u001b[0m\u001b[0;34m(\u001b[0m\u001b[0;36m1000\u001b[0m\u001b[0;34m,\u001b[0m \u001b[0mflux_norm\u001b[0m\u001b[0;34m=\u001b[0m\u001b[0;36m1e-15\u001b[0m\u001b[0;34m,\u001b[0m \u001b[0mtest_ns\u001b[0m\u001b[0;34m=\u001b[0m\u001b[0;36m0.1\u001b[0m\u001b[0;34m)\u001b[0m\u001b[0;34m\u001b[0m\u001b[0;34m\u001b[0m\u001b[0m\n\u001b[1;32m     10\u001b[0m \u001b[0msignal_14_fits\u001b[0m \u001b[0;34m=\u001b[0m \u001b[0mllh_object\u001b[0m\u001b[0;34m.\u001b[0m\u001b[0mproduce_n_trials\u001b[0m\u001b[0;34m(\u001b[0m\u001b[0;36m1000\u001b[0m\u001b[0;34m,\u001b[0m \u001b[0mflux_norm\u001b[0m\u001b[0;34m=\u001b[0m\u001b[0;36m1e-14\u001b[0m\u001b[0;34m,\u001b[0m \u001b[0mtest_ns\u001b[0m\u001b[0;34m=\u001b[0m\u001b[0;36m0.1\u001b[0m\u001b[0;34m)\u001b[0m\u001b[0;34m\u001b[0m\u001b[0;34m\u001b[0m\u001b[0m\n",
      "\u001b[0;32m~/git/umd_icecube_analysis_tutorial/i3pubtools/llhs/ps_flare_llh.py\u001b[0m in \u001b[0;36mproduce_n_trials\u001b[0;34m(self, ntrials, background_window, test_ns, test_gamma, random_seed, flux_norm, gamma, sampling_width)\u001b[0m\n\u001b[1;32m    633\u001b[0m \u001b[0;34m\u001b[0m\u001b[0m\n\u001b[1;32m    634\u001b[0m             \u001b[0;31m# And get the weights\u001b[0m\u001b[0;34m\u001b[0m\u001b[0;34m\u001b[0m\u001b[0;34m\u001b[0m\u001b[0m\n\u001b[0;32m--> 635\u001b[0;31m             \u001b[0mbestfit\u001b[0m \u001b[0;34m=\u001b[0m \u001b[0mself\u001b[0m\u001b[0;34m.\u001b[0m\u001b[0mevaluate_ts\u001b[0m\u001b[0;34m(\u001b[0m\u001b[0mtrial\u001b[0m\u001b[0;34m,\u001b[0m \u001b[0mns\u001b[0m \u001b[0;34m=\u001b[0m \u001b[0mtest_ns\u001b[0m\u001b[0;34m,\u001b[0m \u001b[0mgamma\u001b[0m \u001b[0;34m=\u001b[0m \u001b[0mtest_gamma\u001b[0m\u001b[0;34m)\u001b[0m\u001b[0;34m\u001b[0m\u001b[0;34m\u001b[0m\u001b[0m\n\u001b[0m\u001b[1;32m    636\u001b[0m \u001b[0;34m\u001b[0m\u001b[0m\n\u001b[1;32m    637\u001b[0m             \u001b[0mfit_info\u001b[0m\u001b[0;34m[\u001b[0m\u001b[0;34m'ts'\u001b[0m\u001b[0;34m]\u001b[0m\u001b[0;34m[\u001b[0m\u001b[0mi\u001b[0m\u001b[0;34m]\u001b[0m \u001b[0;34m=\u001b[0m \u001b[0mbestfit\u001b[0m\u001b[0;34m[\u001b[0m\u001b[0;34m'ts'\u001b[0m\u001b[0;34m]\u001b[0m\u001b[0;34m\u001b[0m\u001b[0;34m\u001b[0m\u001b[0m\n",
      "\u001b[0;32m~/git/umd_icecube_analysis_tutorial/i3pubtools/llhs/ps_flare_llh.py\u001b[0m in \u001b[0;36mevaluate_ts\u001b[0;34m(self, events, ns, gamma)\u001b[0m\n\u001b[1;32m    546\u001b[0m                       self.signal_time_profile.bounds(self.background_time_profile)]\n\u001b[1;32m    547\u001b[0m \u001b[0;34m\u001b[0m\u001b[0m\n\u001b[0;32m--> 548\u001b[0;31m             \u001b[0mresult\u001b[0m \u001b[0;34m=\u001b[0m \u001b[0mscipy\u001b[0m\u001b[0;34m.\u001b[0m\u001b[0moptimize\u001b[0m\u001b[0;34m.\u001b[0m\u001b[0mminimize\u001b[0m\u001b[0;34m(\u001b[0m\u001b[0mget_ts\u001b[0m\u001b[0;34m,\u001b[0m \u001b[0mx0\u001b[0m\u001b[0;34m=\u001b[0m\u001b[0mx0\u001b[0m\u001b[0;34m,\u001b[0m \u001b[0mbounds\u001b[0m\u001b[0;34m=\u001b[0m\u001b[0mbounds\u001b[0m\u001b[0;34m,\u001b[0m \u001b[0mmethod\u001b[0m\u001b[0;34m=\u001b[0m\u001b[0;34m'L-BFGS-B'\u001b[0m\u001b[0;34m)\u001b[0m\u001b[0;34m\u001b[0m\u001b[0;34m\u001b[0m\u001b[0m\n\u001b[0m\u001b[1;32m    549\u001b[0m \u001b[0;34m\u001b[0m\u001b[0m\n\u001b[1;32m    550\u001b[0m             \u001b[0;31m# Store the results in the output array\u001b[0m\u001b[0;34m\u001b[0m\u001b[0;34m\u001b[0m\u001b[0;34m\u001b[0m\u001b[0m\n",
      "\u001b[0;32m/usr/lib/python3.8/site-packages/scipy/optimize/_minimize.py\u001b[0m in \u001b[0;36mminimize\u001b[0;34m(fun, x0, args, method, jac, hess, hessp, bounds, constraints, tol, callback, options)\u001b[0m\n\u001b[1;32m    615\u001b[0m                                   **options)\n\u001b[1;32m    616\u001b[0m     \u001b[0;32melif\u001b[0m \u001b[0mmeth\u001b[0m \u001b[0;34m==\u001b[0m \u001b[0;34m'l-bfgs-b'\u001b[0m\u001b[0;34m:\u001b[0m\u001b[0;34m\u001b[0m\u001b[0;34m\u001b[0m\u001b[0m\n\u001b[0;32m--> 617\u001b[0;31m         return _minimize_lbfgsb(fun, x0, args, jac, bounds,\n\u001b[0m\u001b[1;32m    618\u001b[0m                                 callback=callback, **options)\n\u001b[1;32m    619\u001b[0m     \u001b[0;32melif\u001b[0m \u001b[0mmeth\u001b[0m \u001b[0;34m==\u001b[0m \u001b[0;34m'tnc'\u001b[0m\u001b[0;34m:\u001b[0m\u001b[0;34m\u001b[0m\u001b[0;34m\u001b[0m\u001b[0m\n",
      "\u001b[0;32m/usr/lib/python3.8/site-packages/scipy/optimize/lbfgsb.py\u001b[0m in \u001b[0;36m_minimize_lbfgsb\u001b[0;34m(fun, x0, args, jac, bounds, disp, maxcor, ftol, gtol, eps, maxfun, maxiter, iprint, callback, maxls, finite_diff_rel_step, **unknown_options)\u001b[0m\n\u001b[1;32m    296\u001b[0m     \u001b[0;31m# initial vector must lie within the bounds. Otherwise ScalarFunction and\u001b[0m\u001b[0;34m\u001b[0m\u001b[0;34m\u001b[0m\u001b[0;34m\u001b[0m\u001b[0m\n\u001b[1;32m    297\u001b[0m     \u001b[0;31m# approx_derivative will cause problems\u001b[0m\u001b[0;34m\u001b[0m\u001b[0;34m\u001b[0m\u001b[0;34m\u001b[0m\u001b[0m\n\u001b[0;32m--> 298\u001b[0;31m     \u001b[0mx0\u001b[0m \u001b[0;34m=\u001b[0m \u001b[0mnp\u001b[0m\u001b[0;34m.\u001b[0m\u001b[0mclip\u001b[0m\u001b[0;34m(\u001b[0m\u001b[0mx0\u001b[0m\u001b[0;34m,\u001b[0m \u001b[0mnew_bounds\u001b[0m\u001b[0;34m[\u001b[0m\u001b[0;36m0\u001b[0m\u001b[0;34m]\u001b[0m\u001b[0;34m,\u001b[0m \u001b[0mnew_bounds\u001b[0m\u001b[0;34m[\u001b[0m\u001b[0;36m1\u001b[0m\u001b[0;34m]\u001b[0m\u001b[0;34m)\u001b[0m\u001b[0;34m\u001b[0m\u001b[0;34m\u001b[0m\u001b[0m\n\u001b[0m\u001b[1;32m    299\u001b[0m \u001b[0;34m\u001b[0m\u001b[0m\n\u001b[1;32m    300\u001b[0m     \u001b[0;32mif\u001b[0m \u001b[0mdisp\u001b[0m \u001b[0;32mis\u001b[0m \u001b[0;32mnot\u001b[0m \u001b[0;32mNone\u001b[0m\u001b[0;34m:\u001b[0m\u001b[0;34m\u001b[0m\u001b[0;34m\u001b[0m\u001b[0m\n",
      "\u001b[0;32m<__array_function__ internals>\u001b[0m in \u001b[0;36mclip\u001b[0;34m(*args, **kwargs)\u001b[0m\n",
      "\u001b[0;32m/usr/lib/python3.8/site-packages/numpy/core/fromnumeric.py\u001b[0m in \u001b[0;36mclip\u001b[0;34m(a, a_min, a_max, out, **kwargs)\u001b[0m\n\u001b[1;32m   2095\u001b[0m \u001b[0;34m\u001b[0m\u001b[0m\n\u001b[1;32m   2096\u001b[0m     \"\"\"\n\u001b[0;32m-> 2097\u001b[0;31m     \u001b[0;32mreturn\u001b[0m \u001b[0m_wrapfunc\u001b[0m\u001b[0;34m(\u001b[0m\u001b[0ma\u001b[0m\u001b[0;34m,\u001b[0m \u001b[0;34m'clip'\u001b[0m\u001b[0;34m,\u001b[0m \u001b[0ma_min\u001b[0m\u001b[0;34m,\u001b[0m \u001b[0ma_max\u001b[0m\u001b[0;34m,\u001b[0m \u001b[0mout\u001b[0m\u001b[0;34m=\u001b[0m\u001b[0mout\u001b[0m\u001b[0;34m,\u001b[0m \u001b[0;34m**\u001b[0m\u001b[0mkwargs\u001b[0m\u001b[0;34m)\u001b[0m\u001b[0;34m\u001b[0m\u001b[0;34m\u001b[0m\u001b[0m\n\u001b[0m\u001b[1;32m   2098\u001b[0m \u001b[0;34m\u001b[0m\u001b[0m\n\u001b[1;32m   2099\u001b[0m \u001b[0;34m\u001b[0m\u001b[0m\n",
      "\u001b[0;32m/usr/lib/python3.8/site-packages/numpy/core/fromnumeric.py\u001b[0m in \u001b[0;36m_wrapfunc\u001b[0;34m(obj, method, *args, **kwds)\u001b[0m\n\u001b[1;32m     65\u001b[0m         \u001b[0;31m# Call _wrapit from within the except clause to ensure a potential\u001b[0m\u001b[0;34m\u001b[0m\u001b[0;34m\u001b[0m\u001b[0;34m\u001b[0m\u001b[0m\n\u001b[1;32m     66\u001b[0m         \u001b[0;31m# exception has a traceback chain.\u001b[0m\u001b[0;34m\u001b[0m\u001b[0;34m\u001b[0m\u001b[0;34m\u001b[0m\u001b[0m\n\u001b[0;32m---> 67\u001b[0;31m         \u001b[0;32mreturn\u001b[0m \u001b[0m_wrapit\u001b[0m\u001b[0;34m(\u001b[0m\u001b[0mobj\u001b[0m\u001b[0;34m,\u001b[0m \u001b[0mmethod\u001b[0m\u001b[0;34m,\u001b[0m \u001b[0;34m*\u001b[0m\u001b[0margs\u001b[0m\u001b[0;34m,\u001b[0m \u001b[0;34m**\u001b[0m\u001b[0mkwds\u001b[0m\u001b[0;34m)\u001b[0m\u001b[0;34m\u001b[0m\u001b[0;34m\u001b[0m\u001b[0m\n\u001b[0m\u001b[1;32m     68\u001b[0m \u001b[0;34m\u001b[0m\u001b[0m\n\u001b[1;32m     69\u001b[0m \u001b[0;34m\u001b[0m\u001b[0m\n",
      "\u001b[0;32m/usr/lib/python3.8/site-packages/numpy/core/fromnumeric.py\u001b[0m in \u001b[0;36m_wrapit\u001b[0;34m(obj, method, *args, **kwds)\u001b[0m\n\u001b[1;32m     42\u001b[0m     \u001b[0;32mexcept\u001b[0m \u001b[0mAttributeError\u001b[0m\u001b[0;34m:\u001b[0m\u001b[0;34m\u001b[0m\u001b[0;34m\u001b[0m\u001b[0m\n\u001b[1;32m     43\u001b[0m         \u001b[0mwrap\u001b[0m \u001b[0;34m=\u001b[0m \u001b[0;32mNone\u001b[0m\u001b[0;34m\u001b[0m\u001b[0;34m\u001b[0m\u001b[0m\n\u001b[0;32m---> 44\u001b[0;31m     \u001b[0mresult\u001b[0m \u001b[0;34m=\u001b[0m \u001b[0mgetattr\u001b[0m\u001b[0;34m(\u001b[0m\u001b[0masarray\u001b[0m\u001b[0;34m(\u001b[0m\u001b[0mobj\u001b[0m\u001b[0;34m)\u001b[0m\u001b[0;34m,\u001b[0m \u001b[0mmethod\u001b[0m\u001b[0;34m)\u001b[0m\u001b[0;34m(\u001b[0m\u001b[0;34m*\u001b[0m\u001b[0margs\u001b[0m\u001b[0;34m,\u001b[0m \u001b[0;34m**\u001b[0m\u001b[0mkwds\u001b[0m\u001b[0;34m)\u001b[0m\u001b[0;34m\u001b[0m\u001b[0;34m\u001b[0m\u001b[0m\n\u001b[0m\u001b[1;32m     45\u001b[0m     \u001b[0;32mif\u001b[0m \u001b[0mwrap\u001b[0m\u001b[0;34m:\u001b[0m\u001b[0;34m\u001b[0m\u001b[0;34m\u001b[0m\u001b[0m\n\u001b[1;32m     46\u001b[0m         \u001b[0;32mif\u001b[0m \u001b[0;32mnot\u001b[0m \u001b[0misinstance\u001b[0m\u001b[0;34m(\u001b[0m\u001b[0mresult\u001b[0m\u001b[0;34m,\u001b[0m \u001b[0mmu\u001b[0m\u001b[0;34m.\u001b[0m\u001b[0mndarray\u001b[0m\u001b[0;34m)\u001b[0m\u001b[0;34m:\u001b[0m\u001b[0;34m\u001b[0m\u001b[0;34m\u001b[0m\u001b[0m\n",
      "\u001b[0;32m/usr/lib/python3.8/site-packages/numpy/core/_methods.py\u001b[0m in \u001b[0;36m_clip\u001b[0;34m(a, min, max, out, casting, **kwargs)\u001b[0m\n\u001b[1;32m    138\u001b[0m             um.maximum, a, min, out=out, casting=casting, **kwargs)\n\u001b[1;32m    139\u001b[0m     \u001b[0;32melse\u001b[0m\u001b[0;34m:\u001b[0m\u001b[0;34m\u001b[0m\u001b[0;34m\u001b[0m\u001b[0m\n\u001b[0;32m--> 140\u001b[0;31m         return _clip_dep_invoke_with_casting(\n\u001b[0m\u001b[1;32m    141\u001b[0m             um.clip, a, min, max, out=out, casting=casting, **kwargs)\n\u001b[1;32m    142\u001b[0m \u001b[0;34m\u001b[0m\u001b[0m\n",
      "\u001b[0;32m/usr/lib/python3.8/site-packages/numpy/core/_methods.py\u001b[0m in \u001b[0;36m_clip_dep_invoke_with_casting\u001b[0;34m(ufunc, out, casting, *args, **kwargs)\u001b[0m\n\u001b[1;32m     92\u001b[0m     \u001b[0;31m# try to deal with broken casting rules\u001b[0m\u001b[0;34m\u001b[0m\u001b[0;34m\u001b[0m\u001b[0;34m\u001b[0m\u001b[0m\n\u001b[1;32m     93\u001b[0m     \u001b[0;32mtry\u001b[0m\u001b[0;34m:\u001b[0m\u001b[0;34m\u001b[0m\u001b[0;34m\u001b[0m\u001b[0m\n\u001b[0;32m---> 94\u001b[0;31m         \u001b[0;32mreturn\u001b[0m \u001b[0mufunc\u001b[0m\u001b[0;34m(\u001b[0m\u001b[0;34m*\u001b[0m\u001b[0margs\u001b[0m\u001b[0;34m,\u001b[0m \u001b[0mout\u001b[0m\u001b[0;34m=\u001b[0m\u001b[0mout\u001b[0m\u001b[0;34m,\u001b[0m \u001b[0;34m**\u001b[0m\u001b[0mkwargs\u001b[0m\u001b[0;34m)\u001b[0m\u001b[0;34m\u001b[0m\u001b[0;34m\u001b[0m\u001b[0m\n\u001b[0m\u001b[1;32m     95\u001b[0m     \u001b[0;32mexcept\u001b[0m \u001b[0m_exceptions\u001b[0m\u001b[0;34m.\u001b[0m\u001b[0m_UFuncOutputCastingError\u001b[0m \u001b[0;32mas\u001b[0m \u001b[0me\u001b[0m\u001b[0;34m:\u001b[0m\u001b[0;34m\u001b[0m\u001b[0;34m\u001b[0m\u001b[0m\n\u001b[1;32m     96\u001b[0m         \u001b[0;31m# Numpy 1.17.0, 2019-02-24\u001b[0m\u001b[0;34m\u001b[0m\u001b[0;34m\u001b[0m\u001b[0;34m\u001b[0m\u001b[0m\n",
      "\u001b[0;31mTypeError\u001b[0m: '>=' not supported between instances of 'tuple' and 'list'"
     ]
    }
   ],
   "source": [
    "# Run trials for a few different values of N. These settings should\n",
    "# exactly mimic your previous script\n",
    "thousand_seconds = (1000.0)/(24*3600.)\n",
    "llh_object.background_time_profile = uniform_profile.UniformProfile(56044.0912963, 56044.0912963+thousand_seconds)\n",
    "llh_object.signal_time_profile = llh_object.background_time_profile\n",
    "\n",
    "background_fits = llh_object.produce_n_trials(1000, test_ns=0.1)\n",
    "signal_16_fits = llh_object.produce_n_trials(1000, flux_norm=1e-16, test_ns=0.1)\n",
    "signal_15_fits = llh_object.produce_n_trials(1000, flux_norm=1e-15, test_ns=0.1)\n",
    "signal_14_fits = llh_object.produce_n_trials(1000, flux_norm=1e-14, test_ns=0.1)"
   ]
  },
  {
   "cell_type": "code",
   "execution_count": 11,
   "metadata": {},
   "outputs": [
    {
     "name": "stderr",
     "output_type": "stream",
     "text": [
      "/usr/lib/python3.8/site-packages/matplotlib/axes/_axes.py:6607: RuntimeWarning: All-NaN slice encountered\n",
      "  xmin = min(xmin, np.nanmin(xi))\n",
      "/usr/lib/python3.8/site-packages/matplotlib/axes/_axes.py:6608: RuntimeWarning: All-NaN slice encountered\n",
      "  xmax = max(xmax, np.nanmax(xi))\n"
     ]
    },
    {
     "ename": "NameError",
     "evalue": "name 'signal_16_fits' is not defined",
     "output_type": "error",
     "traceback": [
      "\u001b[0;31m---------------------------------------------------------------------------\u001b[0m",
      "\u001b[0;31mNameError\u001b[0m                                 Traceback (most recent call last)",
      "\u001b[0;32m<ipython-input-11-fa5e8aa3f039>\u001b[0m in \u001b[0;36m<module>\u001b[0;34m\u001b[0m\n\u001b[1;32m     12\u001b[0m         label = r'N = 0')\n\u001b[1;32m     13\u001b[0m \u001b[0;34m\u001b[0m\u001b[0m\n\u001b[0;32m---> 14\u001b[0;31m ax.hist(signal_16_fits['ts'],\n\u001b[0m\u001b[1;32m     15\u001b[0m         \u001b[0mbins\u001b[0m \u001b[0;34m=\u001b[0m \u001b[0mbins\u001b[0m\u001b[0;34m,\u001b[0m\u001b[0;34m\u001b[0m\u001b[0;34m\u001b[0m\u001b[0m\n\u001b[1;32m     16\u001b[0m         \u001b[0mweights\u001b[0m \u001b[0;34m=\u001b[0m \u001b[0mnp\u001b[0m\u001b[0;34m.\u001b[0m\u001b[0mones\u001b[0m\u001b[0;34m(\u001b[0m\u001b[0msignal_16_fits\u001b[0m\u001b[0;34m.\u001b[0m\u001b[0mshape\u001b[0m\u001b[0;34m[\u001b[0m\u001b[0;36m0\u001b[0m\u001b[0;34m]\u001b[0m\u001b[0;34m)\u001b[0m\u001b[0;34m/\u001b[0m\u001b[0mlen\u001b[0m\u001b[0;34m(\u001b[0m\u001b[0msignal_16_fits\u001b[0m\u001b[0;34m)\u001b[0m\u001b[0;34m,\u001b[0m\u001b[0;34m\u001b[0m\u001b[0;34m\u001b[0m\u001b[0m\n",
      "\u001b[0;31mNameError\u001b[0m: name 'signal_16_fits' is not defined"
     ]
    },
    {
     "data": {
      "image/png": "[encoded data removed]",
      "text/plain": [
       "<Figure size 720x432 with 1 Axes>"
      ]
     },
     "metadata": {
      "needs_background": "light"
     },
     "output_type": "display_data"
    }
   ],
   "source": [
    "# Plot the signal and background LLHs\n",
    "fig, ax = plt.subplots(figsize=(10,6))\n",
    "bins = np.linspace(0, 500, 50)\n",
    "\n",
    "ax.hist(background_fits['ts'],\n",
    "        bins = bins,\n",
    "        weights = np.ones(background_fits.shape[0])/len(background_fits),\n",
    "        histtype = 'step',\n",
    "        color = 'k',\n",
    "        linewidth = 3,\n",
    "        alpha=0.5,\n",
    "        label = r'N = 0')\n",
    "\n",
    "ax.hist(signal_16_fits['ts'],\n",
    "        bins = bins,\n",
    "        weights = np.ones(signal_16_fits.shape[0])/len(signal_16_fits),\n",
    "        histtype = 'step',\n",
    "        linewidth = 3,\n",
    "        alpha = 0.7,\n",
    "        label = r'N = $10^{-16}$')\n",
    "\n",
    "ax.hist(signal_15_fits['ts'],\n",
    "        bins = bins,\n",
    "        weights = np.ones(signal_15_fits.shape[0])/len(signal_15_fits),\n",
    "        histtype = 'step',\n",
    "        linewidth = 3,\n",
    "        alpha = 0.7,\n",
    "        label = r'N = $10^{-15}$')\n",
    "\n",
    "ax.hist(signal_14_fits['ts'],\n",
    "        bins = bins,\n",
    "        weights = np.ones(signal_14_fits.shape[0])/len(signal_14_fits),\n",
    "        histtype = 'step',\n",
    "        linewidth = 3,\n",
    "        alpha = 0.7,\n",
    "        label = r'N = $10^{-14}$')\n",
    "\n",
    "ax.legend(loc='upper right', fontsize=16,)\n",
    "\n",
    "ax.grid(alpha=0.25)\n",
    "ax.set_yscale('log')\n",
    "ax.set_xlabel('TS', fontsize=16)\n",
    "ax.set_ylabel('Fraction of Trials', fontsize=16)\n",
    "ax.tick_params(which='both', labelsize=16)"
   ]
  },
  {
   "cell_type": "code",
   "execution_count": 12,
   "metadata": {},
   "outputs": [
    {
     "name": "stderr",
     "output_type": "stream",
     "text": [
      "Running Trials (N=0.00e+00, gamma=-2.0): 100%|███████████████████████████████████████████████████████████████████████████████████████████████████████████████████████████████████████████████████████████████████████████████████████████████████████████████████████████████████████████████████████████████████████████████████████████████████████████████████████████████████████████████████████████████████████████████████████████████████████████████████████████████████████████████████████████████████████████████████████████████████████████████████████████████████████████████████████████████████████████████████████████████████████████████████████████████████████████████████████████████████████████████████████████████████████████████████████████████████████| 1000/1000 [00:00<00:00, 5646.48 trials/s]\n"
     ]
    },
    {
     "ename": "TypeError",
     "evalue": "produce_n_trials() got an unexpected keyword argument 'N'",
     "output_type": "error",
     "traceback": [
      "\u001b[0;31m---------------------------------------------------------------------------\u001b[0m",
      "\u001b[0;31mTypeError\u001b[0m                                 Traceback (most recent call last)",
      "\u001b[0;32m<ipython-input-12-14f3096da43d>\u001b[0m in \u001b[0;36m<module>\u001b[0;34m\u001b[0m\n\u001b[1;32m      8\u001b[0m \u001b[0;34m\u001b[0m\u001b[0m\n\u001b[1;32m      9\u001b[0m \u001b[0mbackground_fits\u001b[0m \u001b[0;34m=\u001b[0m \u001b[0mllh_object\u001b[0m\u001b[0;34m.\u001b[0m\u001b[0mproduce_n_trials\u001b[0m\u001b[0;34m(\u001b[0m\u001b[0;36m1000\u001b[0m\u001b[0;34m,\u001b[0m \u001b[0mtest_ns\u001b[0m \u001b[0;34m=\u001b[0m \u001b[0;36m0.1\u001b[0m\u001b[0;34m)\u001b[0m\u001b[0;34m\u001b[0m\u001b[0;34m\u001b[0m\u001b[0m\n\u001b[0;32m---> 10\u001b[0;31m \u001b[0msignal_16_fits\u001b[0m \u001b[0;34m=\u001b[0m \u001b[0mllh_object\u001b[0m\u001b[0;34m.\u001b[0m\u001b[0mproduce_n_trials\u001b[0m\u001b[0;34m(\u001b[0m\u001b[0;36m1000\u001b[0m\u001b[0;34m,\u001b[0m \u001b[0mN\u001b[0m\u001b[0;34m=\u001b[0m\u001b[0;36m1e-16\u001b[0m\u001b[0;34m,\u001b[0m \u001b[0mtest_ns\u001b[0m \u001b[0;34m=\u001b[0m \u001b[0;36m0.1\u001b[0m\u001b[0;34m)\u001b[0m\u001b[0;34m\u001b[0m\u001b[0;34m\u001b[0m\u001b[0m\n\u001b[0m\u001b[1;32m     11\u001b[0m \u001b[0msignal_15_fits\u001b[0m \u001b[0;34m=\u001b[0m \u001b[0mllh_object\u001b[0m\u001b[0;34m.\u001b[0m\u001b[0mproduce_n_trials\u001b[0m\u001b[0;34m(\u001b[0m\u001b[0;36m1000\u001b[0m\u001b[0;34m,\u001b[0m \u001b[0mN\u001b[0m\u001b[0;34m=\u001b[0m\u001b[0;36m1e-15\u001b[0m\u001b[0;34m,\u001b[0m \u001b[0mtest_ns\u001b[0m \u001b[0;34m=\u001b[0m \u001b[0;36m0.1\u001b[0m\u001b[0;34m)\u001b[0m\u001b[0;34m\u001b[0m\u001b[0;34m\u001b[0m\u001b[0m\n\u001b[1;32m     12\u001b[0m \u001b[0msignal_14_fits\u001b[0m \u001b[0;34m=\u001b[0m \u001b[0mllh_object\u001b[0m\u001b[0;34m.\u001b[0m\u001b[0mproduce_n_trials\u001b[0m\u001b[0;34m(\u001b[0m\u001b[0;36m1000\u001b[0m\u001b[0;34m,\u001b[0m \u001b[0mN\u001b[0m\u001b[0;34m=\u001b[0m\u001b[0;36m1e-14\u001b[0m\u001b[0;34m,\u001b[0m \u001b[0mtest_ns\u001b[0m \u001b[0;34m=\u001b[0m \u001b[0;36m0.1\u001b[0m\u001b[0;34m)\u001b[0m\u001b[0;34m\u001b[0m\u001b[0;34m\u001b[0m\u001b[0m\n",
      "\u001b[0;31mTypeError\u001b[0m: produce_n_trials() got an unexpected keyword argument 'N'"
     ]
    }
   ],
   "source": [
    "# Try it again, but using a gaussian signal this time.\n",
    "# WARNING: The gaussian time profile is kind of hacked\n",
    "# together and may not give the most reliable results.\n",
    "# Use with caution!\n",
    "thousand_seconds = (1000.0)/(24*3600.)\n",
    "llh_object.background_time_profile = uniform_profile.UniformProfile(56044.0912963, 56044.0912963+thousand_seconds)\n",
    "llh_object.signal_time_profile = gauss_profile.GaussProfile(56044.0912963 + thousand_seconds/2, thousand_seconds/10)\n",
    "\n",
    "background_fits = llh_object.produce_n_trials(1000, test_ns = 0.1)\n",
    "signal_16_fits = llh_object.produce_n_trials(1000, N=1e-16, test_ns = 0.1)\n",
    "signal_15_fits = llh_object.produce_n_trials(1000, N=1e-15, test_ns = 0.1)\n",
    "signal_14_fits = llh_object.produce_n_trials(1000, N=1e-14, test_ns = 0.1)"
   ]
  },
  {
   "cell_type": "code",
   "execution_count": 13,
   "metadata": {},
   "outputs": [
    {
     "name": "stderr",
     "output_type": "stream",
     "text": [
      "/usr/lib/python3.8/site-packages/matplotlib/axes/_axes.py:6607: RuntimeWarning: All-NaN slice encountered\n",
      "  xmin = min(xmin, np.nanmin(xi))\n",
      "/usr/lib/python3.8/site-packages/matplotlib/axes/_axes.py:6608: RuntimeWarning: All-NaN slice encountered\n",
      "  xmax = max(xmax, np.nanmax(xi))\n"
     ]
    },
    {
     "ename": "NameError",
     "evalue": "name 'signal_16_fits' is not defined",
     "output_type": "error",
     "traceback": [
      "\u001b[0;31m---------------------------------------------------------------------------\u001b[0m",
      "\u001b[0;31mNameError\u001b[0m                                 Traceback (most recent call last)",
      "\u001b[0;32m<ipython-input-13-fa5e8aa3f039>\u001b[0m in \u001b[0;36m<module>\u001b[0;34m\u001b[0m\n\u001b[1;32m     12\u001b[0m         label = r'N = 0')\n\u001b[1;32m     13\u001b[0m \u001b[0;34m\u001b[0m\u001b[0m\n\u001b[0;32m---> 14\u001b[0;31m ax.hist(signal_16_fits['ts'],\n\u001b[0m\u001b[1;32m     15\u001b[0m         \u001b[0mbins\u001b[0m \u001b[0;34m=\u001b[0m \u001b[0mbins\u001b[0m\u001b[0;34m,\u001b[0m\u001b[0;34m\u001b[0m\u001b[0;34m\u001b[0m\u001b[0m\n\u001b[1;32m     16\u001b[0m         \u001b[0mweights\u001b[0m \u001b[0;34m=\u001b[0m \u001b[0mnp\u001b[0m\u001b[0;34m.\u001b[0m\u001b[0mones\u001b[0m\u001b[0;34m(\u001b[0m\u001b[0msignal_16_fits\u001b[0m\u001b[0;34m.\u001b[0m\u001b[0mshape\u001b[0m\u001b[0;34m[\u001b[0m\u001b[0;36m0\u001b[0m\u001b[0;34m]\u001b[0m\u001b[0;34m)\u001b[0m\u001b[0;34m/\u001b[0m\u001b[0mlen\u001b[0m\u001b[0;34m(\u001b[0m\u001b[0msignal_16_fits\u001b[0m\u001b[0;34m)\u001b[0m\u001b[0;34m,\u001b[0m\u001b[0;34m\u001b[0m\u001b[0;34m\u001b[0m\u001b[0m\n",
      "\u001b[0;31mNameError\u001b[0m: name 'signal_16_fits' is not defined"
     ]
    },
    {
     "data": {
      "image/png": "[encoded data removed]",
      "text/plain": [
       "<Figure size 720x432 with 1 Axes>"
      ]
     },
     "metadata": {
      "needs_background": "light"
     },
     "output_type": "display_data"
    }
   ],
   "source": [
    "# Plot the signal and background LLHs\n",
    "fig, ax = plt.subplots(figsize=(10,6))\n",
    "bins = np.linspace(0, 500, 50)\n",
    "\n",
    "ax.hist(background_fits['ts'],\n",
    "        bins = bins,\n",
    "        weights = np.ones(background_fits.shape[0])/len(background_fits),\n",
    "        histtype = 'step',\n",
    "        color = 'k',\n",
    "        linewidth = 3,\n",
    "        alpha=0.5,\n",
    "        label = r'N = 0')\n",
    "\n",
    "ax.hist(signal_16_fits['ts'],\n",
    "        bins = bins,\n",
    "        weights = np.ones(signal_16_fits.shape[0])/len(signal_16_fits),\n",
    "        histtype = 'step',\n",
    "        linewidth = 3,\n",
    "        alpha = 0.7,\n",
    "        label = r'N = $10^{-16}$')\n",
    "\n",
    "ax.hist(signal_15_fits['ts'],\n",
    "        bins = bins,\n",
    "        weights = np.ones(signal_15_fits.shape[0])/len(signal_15_fits),\n",
    "        histtype = 'step',\n",
    "        linewidth = 3,\n",
    "        alpha = 0.7,\n",
    "        label = r'N = $10^{-15}$')\n",
    "\n",
    "ax.hist(signal_14_fits['ts'],\n",
    "        bins = bins,\n",
    "        weights = np.ones(signal_14_fits.shape[0])/len(signal_14_fits),\n",
    "        histtype = 'step',\n",
    "        linewidth = 3,\n",
    "        alpha = 0.7,\n",
    "        label = r'N = $10^{-14}$')\n",
    "\n",
    "ax.legend(loc='upper right', fontsize=16,)\n",
    "\n",
    "ax.grid(alpha=0.25)\n",
    "ax.set_yscale('log')\n",
    "ax.set_xlabel('TS', fontsize=16)\n",
    "ax.set_ylabel('Fraction of Trials', fontsize=16)\n",
    "ax.tick_params(which='both', labelsize=16)"
   ]
  },
  {
   "cell_type": "code",
   "execution_count": 16,
   "metadata": {},
   "outputs": [
    {
     "ename": "ValueError",
     "evalue": "Cannot take a larger sample than population when 'replace=False'",
     "output_type": "error",
     "traceback": [
      "\u001b[0;31m---------------------------------------------------------------------------\u001b[0m",
      "\u001b[0;31mValueError\u001b[0m                                Traceback (most recent call last)",
      "\u001b[0;32m<ipython-input-16-ba4dbce411dc>\u001b[0m in \u001b[0;36m<module>\u001b[0;34m\u001b[0m\n\u001b[1;32m     10\u001b[0m \u001b[0mllh_object\u001b[0m\u001b[0;34m.\u001b[0m\u001b[0msignal_time_profile\u001b[0m \u001b[0;34m=\u001b[0m \u001b[0mgauss_profile\u001b[0m\u001b[0;34m.\u001b[0m\u001b[0mGaussProfile\u001b[0m\u001b[0;34m(\u001b[0m\u001b[0;36m56044.0912963\u001b[0m \u001b[0;34m+\u001b[0m \u001b[0mthousand_seconds\u001b[0m\u001b[0;34m/\u001b[0m\u001b[0;36m2\u001b[0m\u001b[0;34m,\u001b[0m \u001b[0mthousand_seconds\u001b[0m\u001b[0;34m/\u001b[0m\u001b[0;36m10\u001b[0m\u001b[0;34m)\u001b[0m\u001b[0;34m\u001b[0m\u001b[0;34m\u001b[0m\u001b[0m\n\u001b[1;32m     11\u001b[0m \u001b[0;34m\u001b[0m\u001b[0m\n\u001b[0;32m---> 12\u001b[0;31m \u001b[0mtrial\u001b[0m \u001b[0;34m=\u001b[0m \u001b[0mllh_object\u001b[0m\u001b[0;34m.\u001b[0m\u001b[0mproduce_trial\u001b[0m\u001b[0;34m(\u001b[0m\u001b[0mflux_norm\u001b[0m\u001b[0;34m=\u001b[0m\u001b[0;36m1e-14\u001b[0m\u001b[0;34m)\u001b[0m\u001b[0;34m\u001b[0m\u001b[0;34m\u001b[0m\u001b[0m\n\u001b[0m",
      "\u001b[0;32m~/git/umd_icecube_analysis_tutorial/i3pubtools/llhs/ps_flare_llh.py\u001b[0m in \u001b[0;36mproduce_trial\u001b[0;34m(self, reduced_sim, flux_norm, gamma, sampling_width, random_seed, background_window)\u001b[0m\n\u001b[1;32m    463\u001b[0m \u001b[0;34m\u001b[0m\u001b[0m\n\u001b[1;32m    464\u001b[0m         \u001b[0;32mif\u001b[0m \u001b[0mflux_norm\u001b[0m \u001b[0;34m>\u001b[0m \u001b[0;36m0\u001b[0m\u001b[0;34m:\u001b[0m\u001b[0;34m\u001b[0m\u001b[0;34m\u001b[0m\u001b[0m\n\u001b[0;32m--> 465\u001b[0;31m             \u001b[0msignal\u001b[0m \u001b[0;34m=\u001b[0m \u001b[0mself\u001b[0m\u001b[0;34m.\u001b[0m\u001b[0m_inject_signal_events\u001b[0m\u001b[0;34m(\u001b[0m\u001b[0mreduced_sim\u001b[0m\u001b[0;34m)\u001b[0m\u001b[0;34m\u001b[0m\u001b[0;34m\u001b[0m\u001b[0m\n\u001b[0m\u001b[1;32m    466\u001b[0m         \u001b[0;32melse\u001b[0m\u001b[0;34m:\u001b[0m\u001b[0;34m\u001b[0m\u001b[0;34m\u001b[0m\u001b[0m\n\u001b[1;32m    467\u001b[0m             \u001b[0msignal\u001b[0m \u001b[0;34m=\u001b[0m \u001b[0mnp\u001b[0m\u001b[0;34m.\u001b[0m\u001b[0mempty\u001b[0m\u001b[0;34m(\u001b[0m\u001b[0;36m0\u001b[0m\u001b[0;34m,\u001b[0m \u001b[0mdtype\u001b[0m\u001b[0;34m=\u001b[0m\u001b[0mbackground\u001b[0m\u001b[0;34m.\u001b[0m\u001b[0mdtype\u001b[0m\u001b[0;34m)\u001b[0m\u001b[0;34m\u001b[0m\u001b[0;34m\u001b[0m\u001b[0m\n",
      "\u001b[0;32m~/git/umd_icecube_analysis_tutorial/i3pubtools/llhs/ps_flare_llh.py\u001b[0m in \u001b[0;36m_inject_signal_events\u001b[0;34m(self, reduced_sim)\u001b[0m\n\u001b[1;32m    399\u001b[0m \u001b[0;34m\u001b[0m\u001b[0m\n\u001b[1;32m    400\u001b[0m         \u001b[0mn_signal_observed\u001b[0m \u001b[0;34m=\u001b[0m \u001b[0mscipy\u001b[0m\u001b[0;34m.\u001b[0m\u001b[0mstats\u001b[0m\u001b[0;34m.\u001b[0m\u001b[0mpoisson\u001b[0m\u001b[0;34m.\u001b[0m\u001b[0mrvs\u001b[0m\u001b[0;34m(\u001b[0m\u001b[0mtotal\u001b[0m\u001b[0;34m)\u001b[0m\u001b[0;34m\u001b[0m\u001b[0;34m\u001b[0m\u001b[0m\n\u001b[0;32m--> 401\u001b[0;31m         signal = np.random.choice(reduced_sim, n_signal_observed,\n\u001b[0m\u001b[1;32m    402\u001b[0m                                   \u001b[0mp\u001b[0m \u001b[0;34m=\u001b[0m \u001b[0mreduced_sim\u001b[0m\u001b[0;34m[\u001b[0m\u001b[0;34m'weight'\u001b[0m\u001b[0;34m]\u001b[0m\u001b[0;34m/\u001b[0m\u001b[0mtotal\u001b[0m\u001b[0;34m,\u001b[0m\u001b[0;34m\u001b[0m\u001b[0;34m\u001b[0m\u001b[0m\n\u001b[1;32m    403\u001b[0m                                   replace = False).copy()\n",
      "\u001b[0;32mmtrand.pyx\u001b[0m in \u001b[0;36mnumpy.random.mtrand.RandomState.choice\u001b[0;34m()\u001b[0m\n",
      "\u001b[0;31mValueError\u001b[0m: Cannot take a larger sample than population when 'replace=False'"
     ]
    }
   ],
   "source": [
    "thousand_seconds = (50000.0)/(24*3600.)\n",
    "# means  = [56044.0912963 + thousand_seconds/5,56044.0912963 + thousand_seconds/3,\n",
    "#           56044.0912963 + thousand_seconds/4,56044.0912963 + thousand_seconds/5,\n",
    "#           56044.0912963 + 3*thousand_seconds/4]\n",
    "# sigmas = [thousand_seconds/10,thousand_seconds/11,\n",
    "#           thousand_seconds/8,thousand_seconds/5,\n",
    "#           thousand_seconds/20]\n",
    "llh_object.background_time_profile = uniform_profile.UniformProfile(56044.0912963, 56044.0912963+thousand_seconds)\n",
    "# llh_object.signal_time_profile = n_gauss_profile(means, sigmas)\n",
    "llh_object.signal_time_profile = gauss_profile.GaussProfile(56044.0912963 + thousand_seconds/2, thousand_seconds/10)\n",
    "\n",
    "trial = llh_object.produce_trial(flux_norm=1e-14)"
   ]
  },
  {
   "cell_type": "code",
   "execution_count": 17,
   "metadata": {},
   "outputs": [
    {
     "data": {
      "image/png": "[encoded data removed]",
      "text/plain": [
       "<Figure size 432x288 with 1 Axes>"
      ]
     },
     "metadata": {
      "needs_background": "light"
     },
     "output_type": "display_data"
    }
   ],
   "source": [
    "counts, bins, _ = plt.hist(trial['time'], bins = len(trial)//5)"
   ]
  },
  {
   "cell_type": "code",
   "execution_count": 18,
   "metadata": {},
   "outputs": [],
   "source": [
    "from sklearn.cluster import DBSCAN"
   ]
  },
  {
   "cell_type": "code",
   "execution_count": 19,
   "metadata": {},
   "outputs": [],
   "source": [
    "X = trial['time'].reshape(-1, 1)\n",
    "db = DBSCAN(eps=.01, min_samples=2).fit(X)\n",
    "core_samples_mask = np.zeros_like(db.labels_, dtype=bool)\n",
    "core_samples_mask[db.core_sample_indices_] = True"
   ]
  },
  {
   "cell_type": "code",
   "execution_count": 20,
   "metadata": {},
   "outputs": [],
   "source": [
    "labels = db.labels_\n",
    "unique_labels = set(labels)\n",
    "colors = [plt.cm.Spectral(each)\n",
    "          for each in np.linspace(0, 1, len(unique_labels))]"
   ]
  },
  {
   "cell_type": "code",
   "execution_count": 21,
   "metadata": {},
   "outputs": [
    {
     "data": {
      "image/png": "[encoded data removed]",
      "text/plain": [
       "<Figure size 432x288 with 1 Axes>"
      ]
     },
     "metadata": {
      "needs_background": "light"
     },
     "output_type": "display_data"
    }
   ],
   "source": [
    "for k, col in zip(unique_labels, colors):\n",
    "    class_member_mask = (labels == k)\n",
    "\n",
    "    xy = X[class_member_mask & core_samples_mask]\n",
    "    \n",
    "    plt.hist(xy, bins = bins)"
   ]
  },
  {
   "cell_type": "code",
   "execution_count": null,
   "metadata": {},
   "outputs": [],
   "source": []
  },
  {
   "cell_type": "code",
   "execution_count": null,
   "metadata": {},
   "outputs": [],
   "source": []
  }
 ],
 "metadata": {
  "kernelspec": {
   "display_name": "Python 3",
   "language": "python",
   "name": "python3"
  },
  "language_info": {
   "codemirror_mode": {
    "name": "ipython",
    "version": 3
   },
   "file_extension": ".py",
   "mimetype": "text/x-python",
   "name": "python",
   "nbconvert_exporter": "python",
   "pygments_lexer": "ipython3",
   "version": "3.8.3"
  }
 },
 "nbformat": 4,
 "nbformat_minor": 4
}
