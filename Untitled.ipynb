{
 "cells": [
  {
   "cell_type": "code",
   "execution_count": 1,
   "id": "6018a783",
   "metadata": {},
   "outputs": [],
   "source": [
    "class configmixin1:\n",
    "    @classmethod\n",
    "    def generate_config(cls) -> str:\n",
    "        config = super().generate_config()\n",
    "        config += \"config1\\n\"\n",
    "        return config\n",
    "    \n",
    "class configmixin2:\n",
    "    @classmethod\n",
    "    def generate_config(cls) -> str:\n",
    "        config = super().generate_config()\n",
    "        config += \"config2\\n\"\n",
    "        return config\n",
    "    \n",
    "class configmixin3:\n",
    "    @classmethod\n",
    "    def generate_config(cls) -> str:\n",
    "        config = super().generate_config()\n",
    "        config += \"config3\\n\"\n",
    "        return config\n",
    "    \n",
    "class mainconfig:\n",
    "    @classmethod\n",
    "    def generate_config(cls) -> str:\n",
    "        config = \"mainconfig\\n\"\n",
    "        return config\n",
    "    \n",
    "class customconfig(configmixin1, configmixin2, configmixin3, mainconfig):\n",
    "    pass"
   ]
  },
  {
   "cell_type": "code",
   "execution_count": 2,
   "id": "3e5d12c2",
   "metadata": {},
   "outputs": [
    {
     "name": "stdout",
     "output_type": "stream",
     "text": [
      "mainconfig\n",
      "config3\n",
      "config2\n",
      "config1\n",
      "\n"
     ]
    }
   ],
   "source": [
    "cc = customconfig.generate_config()\n",
    "print(cc)"
   ]
  },
  {
   "cell_type": "code",
   "execution_count": 4,
   "id": "7a767c04",
   "metadata": {},
   "outputs": [],
   "source": [
    "from mla import source_models as sm\n",
    "\n",
    "class CustomSourceModel(sm.TimeDependentMixin, sm.CutSimByDecMixin, sm.PowerLawSourceModel): pass"
   ]
  },
  {
   "cell_type": "code",
   "execution_count": 5,
   "id": "23014d57",
   "metadata": {},
   "outputs": [
    {
     "data": {
      "text/plain": [
       "{'gamma': -2,\n",
       " 'normalization_energy (GeV)': 100000.0,\n",
       " 'dec_band_width': 0.05235987755982989,\n",
       " 'time_profile': None}"
      ]
     },
     "execution_count": 5,
     "metadata": {},
     "output_type": "execute_result"
    }
   ],
   "source": [
    "CustomSourceModel.generate_config()"
   ]
  },
  {
   "cell_type": "code",
   "execution_count": 8,
   "id": "705d9105",
   "metadata": {},
   "outputs": [
    {
     "data": {
      "text/plain": [
       "array([4, 3, 3, 3])"
      ]
     },
     "execution_count": 8,
     "metadata": {},
     "output_type": "execute_result"
    }
   ],
   "source": []
  },
  {
   "cell_type": "code",
   "execution_count": null,
   "id": "ec0714b5",
   "metadata": {},
   "outputs": [],
   "source": []
  }
 ],
 "metadata": {
  "kernelspec": {
   "display_name": "Python 3 (ipykernel)",
   "language": "python",
   "name": "python3"
  },
  "language_info": {
   "codemirror_mode": {
    "name": "ipython",
    "version": 3
   },
   "file_extension": ".py",
   "mimetype": "text/x-python",
   "name": "python",
   "nbconvert_exporter": "python",
   "pygments_lexer": "ipython3",
   "version": "3.9.9"
  }
 },
 "nbformat": 4,
 "nbformat_minor": 5
}
